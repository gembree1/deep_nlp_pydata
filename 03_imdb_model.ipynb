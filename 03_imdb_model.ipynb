{
 "cells": [
  {
   "cell_type": "markdown",
   "metadata": {},
   "source": [
    "# Movie Review Sentiment Word Vector Performance\n",
    "This notebook uses word vectors to create a binary sentiment classification model.  The data for this example comes from [Andrew Maas](http://ai.stanford.edu/~amaas/data/sentiment/).  The word vectors come from Google or Stanford/Glove"
   ]
  },
  {
   "cell_type": "markdown",
   "metadata": {},
   "source": [
    "### Download Text Data"
   ]
  },
  {
   "cell_type": "code",
   "execution_count": 1,
   "metadata": {
    "collapsed": true
   },
   "outputs": [],
   "source": [
    "import os, urllib, tarfile"
   ]
  },
  {
   "cell_type": "code",
   "execution_count": 2,
   "metadata": {},
   "outputs": [
    {
     "name": "stdout",
     "output_type": "stream",
     "text": [
      "Tar file already extracted.\n"
     ]
    }
   ],
   "source": [
    "DATA_URL = 'http://ai.stanford.edu/~amaas/data/sentiment/aclImdb_v1.tar.gz'\n",
    "DATA_DIR = './data'\n",
    "\n",
    "if not os.path.exists(DATA_DIR):\n",
    "    os.makedirs(DATA_DIR)\n",
    "\n",
    "if not os.path.isfile(os.path.join(DATA_DIR,'movie_data.tar.gz')):\n",
    "    urllib.request.urlretrieve(DATA_URL, os.path.join(DATA_DIR,'movie_data.tar.gz'))\n",
    "else:\n",
    "    print(\"Data already downloaded.\")\n",
    "\n",
    "if os.path.isfile(os.path.join(DATA_DIR,'movie_data.tar.gz')) and not os.path.exists(os.path.join(DATA_DIR,'aclImdb')):\n",
    "    f = tarfile.open(os.path.join(DATA_DIR,'movie_data.tar.gz'))\n",
    "    f.extractall(path=DATA_DIR)\n",
    "    f.close()\n",
    "else:\n",
    "    print(\"Tar file already extracted.\")"
   ]
  },
  {
   "cell_type": "markdown",
   "metadata": {},
   "source": [
    "### Download Pretrained Embeddings\n",
    "* [Google News](https://code.google.com/archive/p/word2vec/): Download the GoogleNews-vectors-negative300.bin file and extract it to the local ./wordvectors directory\n",
    "* [Glove Vectors](https://nlp.stanford.edu/projects/glove/): Download any of the pre-trained word vectors and unzip into the local ./wordvectors directory\n",
    "* Other models and data can be found at the [Gensim github page](https://github.com/RaRe-Technologies/gensim-data)."
   ]
  },
  {
   "cell_type": "markdown",
   "metadata": {},
   "source": [
    "### Create Train/Test Dataframes"
   ]
  },
  {
   "cell_type": "code",
   "execution_count": 3,
   "metadata": {
    "collapsed": true
   },
   "outputs": [],
   "source": [
    "import numpy as np\n",
    "import pandas as pd"
   ]
  },
  {
   "cell_type": "code",
   "execution_count": 4,
   "metadata": {
    "collapsed": true
   },
   "outputs": [],
   "source": [
    "TRAIN_DATA_FOLDER = 'data/aclImdb/train/'\n",
    "TEST_DATA_FOLDER = 'data/aclImdb/test/'"
   ]
  },
  {
   "cell_type": "code",
   "execution_count": 5,
   "metadata": {},
   "outputs": [
    {
     "name": "stdout",
     "output_type": "stream",
     "text": [
      "(25000, 3)\n",
      "(25000, 3)\n"
     ]
    }
   ],
   "source": [
    "def create_dataframe_from_files(data_folder):\n",
    "    examples = list()\n",
    "    for d in ['pos','neg']:\n",
    "        for f in os.listdir(os.path.join(data_folder,d)):\n",
    "            _tmp = open(os.path.join(data_folder,d,f),'r', encoding='utf-8')\n",
    "            if d=='pos':\n",
    "                examples += [(_tmp.read(),f,1)]\n",
    "            else:\n",
    "                examples += [(_tmp.read(),f,0)]\n",
    "    df_tmp = pd.DataFrame(examples, columns=['text','file','target'])\n",
    "    df_tmp = df_tmp.sample(frac=1)\n",
    "    df_tmp = df_tmp.reset_index(drop=True)\n",
    "    return df_tmp\n",
    "                \n",
    "df_train = create_dataframe_from_files(TRAIN_DATA_FOLDER)\n",
    "df_test = create_dataframe_from_files(TEST_DATA_FOLDER)\n",
    "\n",
    "print(df_train.shape)\n",
    "print(df_test.shape)"
   ]
  },
  {
   "cell_type": "markdown",
   "metadata": {},
   "source": [
    "### Create Tokenizer"
   ]
  },
  {
   "cell_type": "code",
   "execution_count": 6,
   "metadata": {
    "collapsed": true
   },
   "outputs": [],
   "source": [
    "import spacy, re"
   ]
  },
  {
   "cell_type": "code",
   "execution_count": 13,
   "metadata": {
    "collapsed": true
   },
   "outputs": [],
   "source": [
    "nlp = spacy.load('en_core_web_sm')"
   ]
  },
  {
   "cell_type": "code",
   "execution_count": 46,
   "metadata": {
    "collapsed": true
   },
   "outputs": [],
   "source": [
    "def tokenize_review(review_text):\n",
    "    review_text = re.sub('[^A-Za-z0-9.?!\\', ]+', ' ', review_text)\n",
    "    d = nlp(review_text)\n",
    "    return [token.text.lower() for sentence in d.sents for token in sentence]"
   ]
  },
  {
   "cell_type": "code",
   "execution_count": 47,
   "metadata": {},
   "outputs": [
    {
     "data": {
      "text/plain": [
       "['writer',\n",
       " 'director',\n",
       " 'bart',\n",
       " 'sibrel',\n",
       " 'bases',\n",
       " 'his',\n",
       " 'work',\n",
       " 'here',\n",
       " 'around',\n",
       " 'a',\n",
       " 'can',\n",
       " 'of',\n",
       " 'film',\n",
       " 'that',\n",
       " 'he',\n",
       " 'says',\n",
       " 'was',\n",
       " 'mistakenly',\n",
       " 'sent',\n",
       " 'to',\n",
       " 'him',\n",
       " 'by',\n",
       " 'nasa',\n",
       " '.',\n",
       " 'he',\n",
       " 'says',\n",
       " 'it',\n",
       " 'shows',\n",
       " 'the',\n",
       " 'astronauts',\n",
       " 'faking',\n",
       " 'the',\n",
       " 'television',\n",
       " 'footage',\n",
       " 'of',\n",
       " 'their',\n",
       " 'trip',\n",
       " 'to',\n",
       " 'the',\n",
       " 'moon',\n",
       " 'by',\n",
       " 'employing',\n",
       " 'camera',\n",
       " 'tricks',\n",
       " '.',\n",
       " 'the',\n",
       " 'astronauts',\n",
       " 'were',\n",
       " 'in',\n",
       " 'low',\n",
       " 'earth',\n",
       " 'orbit',\n",
       " 'all',\n",
       " 'the',\n",
       " 'time',\n",
       " ',',\n",
       " 'and',\n",
       " 'editors',\n",
       " 'on',\n",
       " 'the',\n",
       " 'ground',\n",
       " 'composed',\n",
       " 'this',\n",
       " 'raw',\n",
       " 'footage',\n",
       " 'into',\n",
       " 'just',\n",
       " 'a',\n",
       " 'few',\n",
       " 'seconds',\n",
       " 'of',\n",
       " 'finished',\n",
       " 'film',\n",
       " '.',\n",
       " 'br',\n",
       " ' ',\n",
       " 'br',\n",
       " ' ',\n",
       " 'unfortunately',\n",
       " 'sibrel',\n",
       " \"'s\",\n",
       " 'research',\n",
       " 'is',\n",
       " 'so',\n",
       " 'slipshod',\n",
       " 'that',\n",
       " 'he',\n",
       " 'does',\n",
       " \"n't\",\n",
       " 'realize',\n",
       " 'his',\n",
       " ' ',\n",
       " 'backstage',\n",
       " ' ',\n",
       " 'footage',\n",
       " 'is',\n",
       " 'really',\n",
       " 'taken',\n",
       " 'in',\n",
       " 'large',\n",
       " 'part',\n",
       " 'from',\n",
       " 'the',\n",
       " '30',\n",
       " 'minute',\n",
       " 'live',\n",
       " 'telecast',\n",
       " ' ',\n",
       " 'also',\n",
       " 'on',\n",
       " 'that',\n",
       " 'reel',\n",
       " ' ',\n",
       " 'that',\n",
       " 'was',\n",
       " 'seen',\n",
       " 'by',\n",
       " 'millions',\n",
       " ',',\n",
       " 'not',\n",
       " 'hidden',\n",
       " 'away',\n",
       " 'in',\n",
       " 'nasa',\n",
       " 'vaults',\n",
       " 'as',\n",
       " 'he',\n",
       " 'implies',\n",
       " '.',\n",
       " 'and',\n",
       " 'we',\n",
       " 'have',\n",
       " 'to',\n",
       " 'wonder',\n",
       " 'why',\n",
       " 'sibrel',\n",
       " 'puts',\n",
       " 'his',\n",
       " 'own',\n",
       " 'conspiratorial',\n",
       " 'narration',\n",
       " 'over',\n",
       " 'the',\n",
       " 'astronauts',\n",
       " \"'\",\n",
       " 'audio',\n",
       " 'in',\n",
       " 'the',\n",
       " 'footage',\n",
       " ',',\n",
       " 'because',\n",
       " 'hearing',\n",
       " 'the',\n",
       " 'astronauts',\n",
       " 'in',\n",
       " 'their',\n",
       " 'own',\n",
       " 'words',\n",
       " 'clearly',\n",
       " 'spells',\n",
       " 'out',\n",
       " 'that',\n",
       " 'the',\n",
       " 'astronauts',\n",
       " 'were',\n",
       " 'just',\n",
       " 'testing',\n",
       " 'the',\n",
       " 'camera',\n",
       " ',',\n",
       " 'not',\n",
       " 'faking',\n",
       " 'footage',\n",
       " '.',\n",
       " 'br',\n",
       " ' ',\n",
       " 'br',\n",
       " ' ',\n",
       " 'finally',\n",
       " ',',\n",
       " 'anyone',\n",
       " 'can',\n",
       " 'see',\n",
       " 'the',\n",
       " 'raw',\n",
       " 'footage',\n",
       " 'for',\n",
       " 'themselves',\n",
       " 'without',\n",
       " 'having',\n",
       " 'to',\n",
       " 'buy',\n",
       " 'sibrel',\n",
       " \"'s\",\n",
       " 'hacked',\n",
       " 'up',\n",
       " 'version',\n",
       " 'of',\n",
       " 'it',\n",
       " '.',\n",
       " ' ',\n",
       " 'he',\n",
       " 'shows',\n",
       " 'you',\n",
       " 'more',\n",
       " 'of',\n",
       " 'the',\n",
       " 'zapruder',\n",
       " 'film',\n",
       " 'of',\n",
       " 'jfk',\n",
       " \"'s\",\n",
       " 'assassination',\n",
       " 'than',\n",
       " 'of',\n",
       " 'his',\n",
       " ' ',\n",
       " 'smoking',\n",
       " 'gun',\n",
       " '.',\n",
       " ' ',\n",
       " 'sibrel',\n",
       " 'thinks',\n",
       " 'he',\n",
       " \"'s\",\n",
       " 'the',\n",
       " 'only',\n",
       " 'one',\n",
       " 'who',\n",
       " \"'s\",\n",
       " 'seen',\n",
       " 'it',\n",
       " '.',\n",
       " 'what',\n",
       " \"'s\",\n",
       " 'more',\n",
       " 'revealing',\n",
       " 'is',\n",
       " 'the',\n",
       " 'clips',\n",
       " 'from',\n",
       " 'that',\n",
       " 'raw',\n",
       " 'footage',\n",
       " 'that',\n",
       " 'sibrel',\n",
       " 'chose',\n",
       " 'not',\n",
       " 'to',\n",
       " 'use',\n",
       " ',',\n",
       " 'such',\n",
       " 'as',\n",
       " 'those',\n",
       " 'clearly',\n",
       " 'showing',\n",
       " 'the',\n",
       " 'appropriately',\n",
       " 'distant',\n",
       " 'earth',\n",
       " 'being',\n",
       " 'eclipsed',\n",
       " 'by',\n",
       " 'the',\n",
       " 'window',\n",
       " 'frames',\n",
       " 'and',\n",
       " 'so',\n",
       " 'forth',\n",
       " ',',\n",
       " 'destroying',\n",
       " 'his',\n",
       " 'claim',\n",
       " 'that',\n",
       " 'mattes',\n",
       " 'and',\n",
       " 'transparencies',\n",
       " 'were',\n",
       " 'placed',\n",
       " 'in',\n",
       " 'the',\n",
       " 'spacecraft',\n",
       " 'windows',\n",
       " 'to',\n",
       " 'create',\n",
       " 'the',\n",
       " 'illusion',\n",
       " 'of',\n",
       " 'a',\n",
       " 'faraway',\n",
       " 'earth',\n",
       " '.',\n",
       " 'br',\n",
       " ' ',\n",
       " 'br',\n",
       " ' ',\n",
       " 'as',\n",
       " 'with',\n",
       " 'most',\n",
       " 'films',\n",
       " 'of',\n",
       " 'this',\n",
       " 'type',\n",
       " ',',\n",
       " 'sibrel',\n",
       " 'relies',\n",
       " 'on',\n",
       " 'innuendo',\n",
       " ',',\n",
       " 'inexpert',\n",
       " 'assumption',\n",
       " ',',\n",
       " 'misleading',\n",
       " 'commentary',\n",
       " ',',\n",
       " 'and',\n",
       " 'selective',\n",
       " 'quotation',\n",
       " 'to',\n",
       " 'manipulate',\n",
       " 'the',\n",
       " 'viewer',\n",
       " 'into',\n",
       " 'accepting',\n",
       " 'a',\n",
       " 'conclusion',\n",
       " 'for',\n",
       " 'which',\n",
       " 'there',\n",
       " 'is',\n",
       " 'not',\n",
       " 'a',\n",
       " 'shred',\n",
       " 'of',\n",
       " 'actual',\n",
       " 'evidence',\n",
       " '.']"
      ]
     },
     "execution_count": 47,
     "metadata": {},
     "output_type": "execute_result"
    }
   ],
   "source": [
    "tokenize_review(df_train['text'].loc[0])"
   ]
  },
  {
   "cell_type": "markdown",
   "metadata": {},
   "source": [
    "#### Alternative Faster, Simpler Tokenizer Option"
   ]
  },
  {
   "cell_type": "code",
   "execution_count": null,
   "metadata": {
    "collapsed": true
   },
   "outputs": [],
   "source": [
    "from keras.preprocessing import text, sequence"
   ]
  },
  {
   "cell_type": "code",
   "execution_count": null,
   "metadata": {
    "collapsed": true
   },
   "outputs": [],
   "source": [
    "tokenizer = text.Tokenizer(lower=True, split=' ')\n",
    "tokenizer.fit_on_texts(df_train['text'].apply(lambda x: x.replace(\"\\'\",\"\")).values)\n",
    "tokenized_sequence_train = tokenizer.texts_to_sequences(df_train['text'].apply(lambda x: x.replace(\"\\'\",\"\")).values)\n",
    "tokenized_sequence_test = tokenizer.texts_to_sequences(df_test['text'].apply(lambda x: x.replace(\"\\'\",\"\")).values)"
   ]
  },
  {
   "cell_type": "markdown",
   "metadata": {},
   "source": [
    "### Tokenize and Pad Text"
   ]
  },
  {
   "cell_type": "code",
   "execution_count": 5,
   "metadata": {},
   "outputs": [
    {
     "name": "stderr",
     "output_type": "stream",
     "text": [
      "Using TensorFlow backend.\n"
     ]
    }
   ],
   "source": [
    "from keras.preprocessing import text, sequence\n",
    "from collections import Counter"
   ]
  },
  {
   "cell_type": "code",
   "execution_count": 6,
   "metadata": {
    "collapsed": true
   },
   "outputs": [],
   "source": [
    "MAX_LEN = 200"
   ]
  },
  {
   "cell_type": "code",
   "execution_count": 49,
   "metadata": {
    "collapsed": true
   },
   "outputs": [],
   "source": [
    "df_train['tokenized_text'] = df_train['text'].apply(lambda x: tokenize_review(x))\n",
    "df_test['tokenized_text'] = df_test['text'].apply(lambda x: tokenize_review(x))"
   ]
  },
  {
   "cell_type": "code",
   "execution_count": 50,
   "metadata": {
    "collapsed": true
   },
   "outputs": [],
   "source": [
    "df_train.to_pickle('df_train.pkl')\n",
    "df_test.to_pickle('df_test.pkl')"
   ]
  },
  {
   "cell_type": "code",
   "execution_count": 7,
   "metadata": {
    "collapsed": true
   },
   "outputs": [],
   "source": [
    "df_train = pd.read_pickle('df_train.pkl')\n",
    "df_test = pd.read_pickle('df_test.pkl')"
   ]
  },
  {
   "cell_type": "code",
   "execution_count": 8,
   "metadata": {
    "collapsed": true
   },
   "outputs": [],
   "source": [
    "all_tokens = df_train['tokenized_text'].values"
   ]
  },
  {
   "cell_type": "code",
   "execution_count": 9,
   "metadata": {},
   "outputs": [
    {
     "name": "stdout",
     "output_type": "stream",
     "text": [
      "Vocab length: 77035\n"
     ]
    },
    {
     "data": {
      "text/plain": [
       "[('the', 336600),\n",
       " (',', 275749),\n",
       " ('.', 275389),\n",
       " (' ', 229497),\n",
       " ('and', 164100),\n",
       " ('a', 162748),\n",
       " ('of', 145856),\n",
       " ('to', 135714),\n",
       " ('is', 110498),\n",
       " ('br', 101872),\n",
       " ('it', 96337),\n",
       " ('in', 93954),\n",
       " ('i', 87180),\n",
       " ('this', 75946),\n",
       " ('that', 73612),\n",
       " (\"'s\", 62289),\n",
       " ('was', 50514),\n",
       " ('as', 46934),\n",
       " ('for', 44331),\n",
       " ('with', 44125),\n",
       " ('movie', 43987),\n",
       " ('but', 42573),\n",
       " ('film', 40140),\n",
       " ('you', 34210),\n",
       " ('on', 34199)]"
      ]
     },
     "execution_count": 9,
     "metadata": {},
     "output_type": "execute_result"
    }
   ],
   "source": [
    "vocab_count = freq = Counter(p for o in all_tokens for p in o)\n",
    "print('Vocab length: {}'.format(len(vocab_count)))\n",
    "vocab_count.most_common(25)"
   ]
  },
  {
   "cell_type": "code",
   "execution_count": 10,
   "metadata": {
    "collapsed": true
   },
   "outputs": [],
   "source": [
    "VOCAB_LIMIT = 100000\n",
    "VOCAB_FREQ_MIN = 2\n",
    "\n",
    "vocab_list = [o for o, c in vocab_count.most_common(VOCAB_LIMIT) if c > VOCAB_FREQ_MIN]\n",
    "vocab_list.insert(0, '<unk>')\n",
    "vocab_list.insert(0, '<pad>')\n",
    "int2word_hash = {i:w for i, w in enumerate(vocab_list)}\n",
    "word2int_hash = {v:k for k, v in int2word_hash.items()}"
   ]
  },
  {
   "cell_type": "code",
   "execution_count": 11,
   "metadata": {},
   "outputs": [
    {
     "data": {
      "text/plain": [
       "38212"
      ]
     },
     "execution_count": 11,
     "metadata": {},
     "output_type": "execute_result"
    }
   ],
   "source": [
    "len(int2word_hash)"
   ]
  },
  {
   "cell_type": "code",
   "execution_count": 12,
   "metadata": {
    "collapsed": true
   },
   "outputs": [],
   "source": [
    "tokenized_sequence_train = list()\n",
    "\n",
    "for item in df_train['tokenized_text'].values:\n",
    "    tokenized_sequence_train.append([word2int_hash.get(x,1) for x in item])"
   ]
  },
  {
   "cell_type": "code",
   "execution_count": 13,
   "metadata": {
    "collapsed": true
   },
   "outputs": [],
   "source": [
    "tokenized_sequence_test = list()\n",
    "\n",
    "for item in df_test['tokenized_text'].values:\n",
    "    tokenized_sequence_test.append([word2int_hash.get(x,1) for x in item])"
   ]
  },
  {
   "cell_type": "code",
   "execution_count": 14,
   "metadata": {
    "collapsed": true
   },
   "outputs": [],
   "source": [
    "np.random.seed(seed=42)\n",
    "train_index = np.random.choice(range(0,len(tokenized_sequence_train)), size=int(0.95*len(tokenized_sequence_train)), replace=False)\n",
    "val_index = np.setdiff1d(range(0, len(tokenized_sequence_train)), train_index)"
   ]
  },
  {
   "cell_type": "code",
   "execution_count": 15,
   "metadata": {},
   "outputs": [
    {
     "name": "stdout",
     "output_type": "stream",
     "text": [
      "(23750, 200)\n",
      "(1250, 200)\n",
      "(25000, 200)\n",
      "(23750, 2)\n",
      "(1250, 2)\n",
      "(25000, 2)\n"
     ]
    }
   ],
   "source": [
    "X = sequence.pad_sequences(tokenized_sequence_train, maxlen=MAX_LEN)\n",
    "X_train = X[train_index]\n",
    "X_val = X[val_index]\n",
    "X_test = sequence.pad_sequences(tokenized_sequence_test, maxlen=MAX_LEN)\n",
    "y = np.vstack(df_train['target'].apply(lambda x: np.array([0,1]) if x == 1 else np.array([1,0])).values)\n",
    "y_train = y[train_index]\n",
    "y_val = y[val_index]\n",
    "y_test = np.vstack(df_test['target'].apply(lambda x: np.array([0,1]) if x == 1 else np.array([1,0])).values)\n",
    "y_test_rand = np.vstack(df_test['target'].apply(lambda x: np.array([0,1]) if np.random.choice([0,1], p=[df_train['target'].mean(), 1-df_train['target'].mean()]) == 1 else np.array([1,0])).values)\n",
    "\n",
    "print(X_train.shape)\n",
    "print(X_val.shape)\n",
    "print(X_test.shape)\n",
    "print(y_train.shape)\n",
    "print(y_val.shape)\n",
    "print(y_test.shape)"
   ]
  },
  {
   "cell_type": "code",
   "execution_count": 16,
   "metadata": {
    "collapsed": true
   },
   "outputs": [],
   "source": [
    "np.save('X_train', X_train)\n",
    "np.save('X_val', X_val)\n",
    "np.save('X_test', X_test)\n",
    "np.save('y_train', y_train)\n",
    "np.save('y_val', y_val)\n",
    "np.save('y_test', y_test)"
   ]
  },
  {
   "cell_type": "markdown",
   "metadata": {},
   "source": [
    "### Load Word Vector Model"
   ]
  },
  {
   "cell_type": "code",
   "execution_count": 17,
   "metadata": {
    "collapsed": true
   },
   "outputs": [],
   "source": [
    "import gensim"
   ]
  },
  {
   "cell_type": "markdown",
   "metadata": {},
   "source": [
    "#### Load GoogleNews Vectors\n",
    "Loading the GoogleNews vectors as a model is straighforward when using the gensim library"
   ]
  },
  {
   "cell_type": "code",
   "execution_count": 18,
   "metadata": {
    "collapsed": true
   },
   "outputs": [],
   "source": [
    "if os.path.isfile('wordvectors/GoogleNews-vectors-negative300.bin'):\n",
    "    wv_model = gensim.models.KeyedVectors.load_word2vec_format('wordvectors/GoogleNews-vectors-negative300.bin', binary=True)\n",
    "else:\n",
    "    print('GoogleNews vectors not downloaded and extracted. Please see documentation above.')"
   ]
  },
  {
   "cell_type": "code",
   "execution_count": 19,
   "metadata": {},
   "outputs": [
    {
     "data": {
      "text/plain": [
       "3000000"
      ]
     },
     "execution_count": 19,
     "metadata": {},
     "output_type": "execute_result"
    }
   ],
   "source": [
    "len(wv_model.wv.vocab)"
   ]
  },
  {
   "cell_type": "code",
   "execution_count": 20,
   "metadata": {
    "scrolled": true
   },
   "outputs": [
    {
     "data": {
      "text/plain": [
       "array([-0.05419922,  0.01708984, -0.00527954,  0.33203125, -0.25      ,\n",
       "       -0.01397705, -0.15039062, -0.265625  ,  0.01647949,  0.3828125 ,\n",
       "       -0.03295898, -0.09716797, -0.16308594, -0.04443359,  0.00946045,\n",
       "        0.18457031,  0.03637695,  0.16601562,  0.36328125, -0.25585938,\n",
       "        0.375     ,  0.171875  ,  0.21386719, -0.19921875,  0.13085938,\n",
       "       -0.07275391, -0.02819824,  0.11621094,  0.15332031,  0.09082031,\n",
       "        0.06787109, -0.0300293 , -0.16894531, -0.20800781, -0.03710938,\n",
       "       -0.22753906,  0.26367188,  0.012146  ,  0.18359375,  0.31054688,\n",
       "       -0.10791016, -0.19140625,  0.21582031,  0.13183594, -0.03515625,\n",
       "        0.18554688, -0.30859375,  0.04785156, -0.10986328,  0.14355469,\n",
       "       -0.43554688, -0.0378418 ,  0.10839844,  0.140625  , -0.10595703,\n",
       "        0.26171875, -0.17089844,  0.39453125,  0.12597656, -0.27734375,\n",
       "       -0.28125   ,  0.14746094, -0.20996094,  0.02355957,  0.18457031,\n",
       "        0.00445557, -0.27929688, -0.03637695, -0.29296875,  0.19628906,\n",
       "        0.20703125,  0.2890625 , -0.20507812,  0.06787109, -0.43164062,\n",
       "       -0.10986328, -0.2578125 , -0.02331543,  0.11328125,  0.23144531,\n",
       "       -0.04418945,  0.10839844, -0.2890625 , -0.09521484, -0.10351562,\n",
       "       -0.0324707 ,  0.07763672, -0.13378906,  0.22949219,  0.06298828,\n",
       "        0.08349609,  0.02929688, -0.11474609,  0.00534058, -0.12988281,\n",
       "        0.02514648,  0.08789062,  0.24511719, -0.11474609, -0.296875  ,\n",
       "       -0.59375   , -0.29492188, -0.13378906,  0.27734375, -0.04174805,\n",
       "        0.11621094,  0.28320312,  0.00241089,  0.13867188, -0.00683594,\n",
       "       -0.30078125,  0.16210938,  0.01171875, -0.13867188,  0.48828125,\n",
       "        0.02880859,  0.02416992,  0.04736328,  0.05859375, -0.23828125,\n",
       "        0.02758789,  0.05981445, -0.03857422,  0.06933594,  0.14941406,\n",
       "       -0.10888672, -0.07324219,  0.08789062,  0.27148438,  0.06591797,\n",
       "       -0.37890625, -0.26171875, -0.13183594,  0.09570312, -0.3125    ,\n",
       "        0.10205078,  0.03063965,  0.23632812,  0.00582886,  0.27734375,\n",
       "        0.20507812, -0.17871094, -0.31445312, -0.01586914,  0.13964844,\n",
       "        0.13574219,  0.0390625 , -0.29296875,  0.234375  , -0.33984375,\n",
       "       -0.11816406,  0.10644531, -0.18457031, -0.02099609,  0.02563477,\n",
       "        0.25390625,  0.07275391,  0.13574219, -0.00138092, -0.2578125 ,\n",
       "       -0.2890625 ,  0.10107422,  0.19238281, -0.04882812,  0.27929688,\n",
       "       -0.3359375 , -0.07373047,  0.01879883, -0.10986328, -0.04614258,\n",
       "        0.15722656,  0.06689453, -0.03417969,  0.16308594,  0.08642578,\n",
       "        0.44726562,  0.02026367, -0.01977539,  0.07958984,  0.17773438,\n",
       "       -0.04370117, -0.00952148,  0.16503906,  0.17285156,  0.23144531,\n",
       "       -0.04272461,  0.02355957,  0.18359375, -0.41601562, -0.01745605,\n",
       "        0.16796875,  0.04736328,  0.14257812,  0.08496094,  0.33984375,\n",
       "        0.1484375 , -0.34375   , -0.14160156, -0.06835938, -0.14648438,\n",
       "       -0.02844238,  0.07421875, -0.07666016,  0.12695312,  0.05859375,\n",
       "       -0.07568359, -0.03344727,  0.23632812, -0.16308594,  0.16503906,\n",
       "        0.1484375 , -0.2421875 , -0.3515625 , -0.30664062,  0.00491333,\n",
       "        0.17675781,  0.46289062,  0.14257812, -0.25      , -0.25976562,\n",
       "        0.04370117,  0.34960938,  0.05957031,  0.07617188, -0.02868652,\n",
       "       -0.09667969, -0.01281738,  0.05859375, -0.22949219, -0.1953125 ,\n",
       "       -0.12207031,  0.20117188, -0.42382812,  0.06005859,  0.50390625,\n",
       "        0.20898438,  0.11230469, -0.06054688,  0.33203125,  0.07421875,\n",
       "       -0.05786133,  0.11083984, -0.06494141,  0.05639648,  0.01757812,\n",
       "        0.08398438,  0.13769531,  0.2578125 ,  0.16796875, -0.16894531,\n",
       "        0.01794434,  0.16015625,  0.26171875,  0.31640625, -0.24804688,\n",
       "        0.05371094, -0.0859375 ,  0.17089844, -0.39453125, -0.00156403,\n",
       "       -0.07324219, -0.04614258, -0.16210938, -0.15722656,  0.21289062,\n",
       "       -0.15820312,  0.04394531,  0.28515625,  0.01196289, -0.26953125,\n",
       "       -0.04370117,  0.37109375,  0.04663086, -0.19726562,  0.3046875 ,\n",
       "       -0.36523438, -0.23632812,  0.08056641, -0.04248047, -0.14648438,\n",
       "       -0.06225586, -0.0534668 , -0.05664062,  0.18945312,  0.37109375,\n",
       "       -0.22070312,  0.04638672,  0.02612305, -0.11474609,  0.265625  ,\n",
       "       -0.02453613,  0.11083984, -0.02514648, -0.12060547,  0.05297852,\n",
       "        0.07128906,  0.00063705, -0.36523438, -0.13769531, -0.12890625], dtype=float32)"
      ]
     },
     "execution_count": 20,
     "metadata": {},
     "output_type": "execute_result"
    }
   ],
   "source": [
    "wv_model.wv.word_vec('hello')"
   ]
  },
  {
   "cell_type": "code",
   "execution_count": 70,
   "metadata": {},
   "outputs": [
    {
     "data": {
      "text/plain": [
       "[('hi', 0.6548984050750732),\n",
       " ('goodbye', 0.639905571937561),\n",
       " ('howdy', 0.6310957074165344)]"
      ]
     },
     "execution_count": 70,
     "metadata": {},
     "output_type": "execute_result"
    }
   ],
   "source": [
    "wv_model.most_similar(positive=['hello'], topn=3)"
   ]
  },
  {
   "cell_type": "code",
   "execution_count": 71,
   "metadata": {},
   "outputs": [
    {
     "data": {
      "text/plain": [
       "[('globe', 0.6945997476577759),\n",
       " ('theworld', 0.6902236342430115),\n",
       " ('country', 0.5980385541915894)]"
      ]
     },
     "execution_count": 71,
     "metadata": {},
     "output_type": "execute_result"
    }
   ],
   "source": [
    "wv_model.most_similar(positive=['world'], topn=3)"
   ]
  },
  {
   "cell_type": "code",
   "execution_count": 72,
   "metadata": {},
   "outputs": [
    {
     "data": {
      "text/plain": [
       "[('Windy_City', 0.7112735509872437),\n",
       " ('Milwaukee', 0.6598065495491028),\n",
       " ('St._Louis', 0.6426857113838196),\n",
       " ('Peoria', 0.636687695980072),\n",
       " ('Naperville', 0.6306549310684204)]"
      ]
     },
     "execution_count": 72,
     "metadata": {},
     "output_type": "execute_result"
    }
   ],
   "source": [
    "wv_model.most_similar(positive=['Chicago'], topn=5)"
   ]
  },
  {
   "cell_type": "code",
   "execution_count": 65,
   "metadata": {},
   "outputs": [
    {
     "data": {
      "text/plain": [
       "[('film', 0.8676770925521851),\n",
       " ('movies', 0.8013108968734741),\n",
       " ('films', 0.7363011837005615),\n",
       " ('moive', 0.6830361485481262),\n",
       " ('Movie', 0.6693680286407471)]"
      ]
     },
     "execution_count": 65,
     "metadata": {},
     "output_type": "execute_result"
    }
   ],
   "source": [
    "wv_model.most_similar(positive=['movie'], topn=5)"
   ]
  },
  {
   "cell_type": "code",
   "execution_count": 73,
   "metadata": {},
   "outputs": [
    {
     "data": {
      "text/plain": [
       "[('queen', 0.7118192911148071)]"
      ]
     },
     "execution_count": 73,
     "metadata": {},
     "output_type": "execute_result"
    }
   ],
   "source": [
    "wv_model.most_similar(positive=['king','woman'], negative=['man'], topn=1)"
   ]
  },
  {
   "cell_type": "markdown",
   "metadata": {},
   "source": [
    "#### Convert and Load Glove Vectors\n",
    "Loading the Glove vectors using gensim takes one additional step to transform the txt file into the word2vec format; this is easily accomplished using the glove2word2vec script.  Glove vectors also come in various dimensions (50, 100, 200, 300), so you can pick the corresponding text file to load and covnvert based on need."
   ]
  },
  {
   "cell_type": "code",
   "execution_count": 19,
   "metadata": {
    "collapsed": true
   },
   "outputs": [],
   "source": [
    "from gensim.scripts.glove2word2vec import glove2word2vec"
   ]
  },
  {
   "cell_type": "code",
   "execution_count": 20,
   "metadata": {},
   "outputs": [
    {
     "name": "stdout",
     "output_type": "stream",
     "text": [
      "Converting: ./wordvectors/glove.6B.50d.txt\n",
      "Converting: ./wordvectors/glove.6B.100d.txt\n",
      "Converting: ./wordvectors/glove.6B.200d.txt\n",
      "Converting: ./wordvectors/glove.6B.300d.txt\n"
     ]
    }
   ],
   "source": [
    "glove_files = ['./wordvectors/glove.6B.50d.txt', './wordvectors/glove.6B.100d.txt', './wordvectors/glove.6B.200d.txt', './wordvectors/glove.6B.300d.txt']\n",
    "\n",
    "for f in glove_files:\n",
    "    print('Converting: {}'.format(f))\n",
    "    glove_file = f\n",
    "    tmp_file = f[:-4] + '.w2v'\n",
    "    glove2word2vec(glove_file, tmp_file)"
   ]
  },
  {
   "cell_type": "code",
   "execution_count": 21,
   "metadata": {
    "collapsed": true
   },
   "outputs": [],
   "source": [
    "if os.path.isfile('wordvectors/wordvectors/glove.6B.50d.w2v'):\n",
    "    wv_model = gensim.models.KeyedVectors.load_word2vec_format('wordvectors/glove.6B.50d.w2v')\n",
    "else:\n",
    "    print('Glove vectors not downloaded and converted. Please see documentation above.')"
   ]
  },
  {
   "cell_type": "code",
   "execution_count": 22,
   "metadata": {},
   "outputs": [
    {
     "data": {
      "text/plain": [
       "array([-0.38497001,  0.80092001,  0.064106  , -0.28354999, -0.026759  ,\n",
       "       -0.34531999, -0.64253002, -0.11729   , -0.33256999,  0.55242997,\n",
       "       -0.087813  ,  0.90350002,  0.47102001,  0.56656998,  0.69849998,\n",
       "       -0.35229   , -0.86541998,  0.90573001,  0.03576   , -0.071705  ,\n",
       "       -0.12327   ,  0.54922998,  0.47005001,  0.35572001,  1.26110005,\n",
       "       -0.67580998, -0.94983   ,  0.68665999,  0.38710001, -1.34920001,\n",
       "        0.63511997,  0.46416   , -0.48813999,  0.83827001, -0.92460001,\n",
       "       -0.33722001,  0.53741002, -1.06159997, -0.081403  , -0.67110997,\n",
       "        0.30923   , -0.39230001, -0.55001998, -0.68826997,  0.58048999,\n",
       "       -0.11626   ,  0.013139  , -0.57653999,  0.048833  ,  0.67203999], dtype=float32)"
      ]
     },
     "execution_count": 22,
     "metadata": {},
     "output_type": "execute_result"
    }
   ],
   "source": [
    "wv_model.wv.word_vec('hello')"
   ]
  },
  {
   "cell_type": "markdown",
   "metadata": {},
   "source": [
    "### Create Embedding Matrix"
   ]
  },
  {
   "cell_type": "markdown",
   "metadata": {},
   "source": [
    "We need to create a bank of word vectors that are associated with the integer hashes used in the tokenizer.  To do this we loop through the tokenizer vocabulary, and try to find the word in our word2vec model.  If it exists, we add the vector to an embedding matrix in the row corresponding to the integer has in the tokenizer.  If it does not exist, then we fill in that row with a random vector.  The end result is an embedding weights matrix that is of the shape (vocab_size + 1, word_embedding_size).  The additional row on the vocab is for index 0, which represents a special padding value."
   ]
  },
  {
   "cell_type": "code",
   "execution_count": 21,
   "metadata": {
    "collapsed": true
   },
   "outputs": [],
   "source": [
    "def create_embedding_matrix(wv_model, index_word_dict, max_len=None, verbose=False):\n",
    "    EMBED_SIZE = wv_model.vector_size\n",
    "    unknown_word_count = 0\n",
    "    unknown_word_list = list()\n",
    "    \n",
    "    def choose_embedded_vector(wv_model, word, unknown_word_count, verbose=verbose):\n",
    "        if word in wv_model.wv.vocab:\n",
    "            return wv_model.wv.word_vec(word), unknown_word_count\n",
    "        else:\n",
    "            if verbose:\n",
    "                unknown_word_list.append(word)\n",
    "            return np.random.uniform(low=-0.05, high=0.05, size=EMBED_SIZE), (unknown_word_count+1)\n",
    "\n",
    "    word_index_dict = {v:k for k, v in index_word_dict.items()}\n",
    "    num_words = max_len + 1 if max_len else len(index_word_dict) + 1\n",
    "\n",
    "\n",
    "    embedding_weights = np.zeros((num_words, EMBED_SIZE))\n",
    "    for word, index in word_index_dict.items():\n",
    "        if max_len:\n",
    "            if index <= max_len:\n",
    "                embedding_weights[index,:], unknown_word_count = choose_embedded_vector(wv_model, word, unknown_word_count, verbose=verbose)\n",
    "        else:\n",
    "            embedding_weights[index,:], unknown_word_count = choose_embedded_vector(wv_model, word, unknown_word_count, verbose=verbose)\n",
    "    \n",
    "    if verbose:\n",
    "        print('The size of the keras token vocab is: {}'.format(num_words))\n",
    "        print('The size of the word vector vocab is: {}'.format(EMBED_SIZE))\n",
    "        print('Embedding matrix shape: {}'.format(embedding_weights.shape))\n",
    "        print('Total amount of words not found in gensim word2vec model: {}'.format(unknown_word_count))\n",
    "        print('The words not found in gensim word2vec model: {}'.format(str(unknown_word_list)))\n",
    "        \n",
    "    \n",
    "    return embedding_weights"
   ]
  },
  {
   "cell_type": "code",
   "execution_count": 22,
   "metadata": {},
   "outputs": [
    {
     "name": "stdout",
     "output_type": "stream",
     "text": [
      "The size of the keras token vocab is: 38213\n",
      "The size of the word vector vocab is: 300\n",
      "Embedding matrix shape: (38213, 300)\n",
      "Total amount of words not found in gensim word2vec model: 7266\n",
      "The words not found in gensim word2vec model: ['<pad>', '<unk>', ',', '.', ' ', 'and', 'a', 'of', 'to', \"'s\", '!', '  ', \"'\", '?', '...', '10', '..', '   ', 'mr.', '20', '30', '80', 'dr.', '90', '15', '100', 'humour', '70', '50', '40', '11', 'favourite', '12', 'theatre', 'keaton', '80s', '70s', '60', 'tarzan', 'ms.', '13', 'welles', 'sinatra', 'i.e.', 'u.s.', '14', 'hitchcock', 'columbo', 'pacino', 'mrs.', 'lugosi', 'branagh', '25', '60s', '1950', '17', 'sandler', '1980', '2000', '1970', 'bettie', '2006', 'stanwyck', '16', 'brando', 'wwii', 'grey', 'matthau', '2001', '1950s', 'seagal', 'widmark', 'spielberg', 'elvira', '18', 'streisand', 'karloff', 'flynn', '24', 'walken', 'denzel', 'eastwood', '2005', 'colour', 'cusack', 'heston', 'mst3', 'ritter', '1990', 'j.', 'astaire', 'miike', '1970s', 'carrey', '2002', 'bakshi', 'kubrick', '1980s', 'brosnan', 'realise', 'cagney', '20th', 'falk', 'paulie', 'verhoeven', '45', '2004', '1930s', '2003', 'romero', 'eyre', 'e.g.', 'mildred', 'altman', 'fulci', 'beatty', '50s', 'voight', 'fonda', '2007', 'lemmon', '1996', 'palma', 'polanski', '90s', '1999', '1930', 'streep', '1960', 'uwe', 'niro', 'griffith', '    ', 'hartley', '1940', 'lumet', '35', 'macarthur', '1972', 'orson', 'bergman', 'christy', 'amitabh', 'carradine', 'paltrow', 'connery', 'timon', '1968', 'sirk', 'gundam', 'lundgren', '1983', '1960s', 'austen', 'st.', 'bacall', 'stallone', \"'em\", 'biko', '1973', 'carell', 'barrymore', 'antwone', 'belushi', 'othello', 'rukh', 'dolph', '13th', 'zizek', 'cassidy', 'whoopi', '1933', 'meryl', 'sabrina', 'damme', '1997', 'soderbergh', 'mclaglen', '1987', 'miyazaki', 'ramones', 'kurosawa', 'ustinov', '1984', '2008', 'deniro', '30s', 'tarantino', 'antonioni', '3000', '1971', 'malone', '1993', '1995', 'hawke', 'raines', 'palance', 'h.', 'basinger', 'foxx', 'kolchak', 'favour', '22', '19th', '1936', '1989', '1988', 'duvall', '1978', 'esther', 'behaviour', '40s', '1986', 'quaid', 'laurence', 'attenborough', 'realised', 'tierney', 'ratso', '1979', 'paxton', 'l.a.', 'bronson', 'gillian', 'preminger', 'kline', '1969', '1939', \"''\", 'fontaine', 'scorsese', 'hepburn', 'nicolas', 'gere', '19', 'zombi', '73', '1981', '1976', 'cushing', 'alvin', 'cassavetes', 'naschy', 'nolte', 'ebert', 'zane', 'loretta', '28', 'pickford', '1945', 'lukas', 'marlon', 'corman', 'timberlake', 'wendigo', 'mathieu', 'winchester', 'centre', 'audrey', 'g.', 'knightley', 'affleck', 'carlito', 'alexandre', '1991', 'goldsworthy', '1990s', 'fishburne', 'huston', 'errol', 'gilliam', '75', 'mcqueen', '1994', '1977', 'kazan', '1985', 'truman', 'goldblum', 'capote', '1974', '21st', 'masterson', 'ingrid', 'bsg', 'hackman', 'p.s.', \"o'hara\", 'beowulf', 'cecil', 'amrita', 'harlow', 'mabel', 'mitchum', 't.', '1959', 'soylent', 'troma', 'colours', 'kinnear', '1940s', 'cheadle', 'gypo', '1953', 'irene', 't.v.', 'thurman', '1982', 'harriet', '95', '1944', '21', 'zorro', 't.v', 'caron', '1975', 'hayworth', \"i'm\", 'quentin', '1998', '.the', 'axe', '99', 'minnelli', 'pegg', 'pumbaa', 'barbra', 'deanna', '1934', 'melvyn', 'hadley', 'gamera', 'fairbanks', 'fassbinder', 'juliette', 'busey', 'arquette', 'longoria', 'collette', 'niven', 'rowlands', \"'cause\", 'demille', 'clive', 'thelma', 'gielgud', 'sarandon', '23', 'chiba', 'sammo', 'dahmer', 'madsen', 'arkin', 'beckinsale', 'gershwin', '1967', 'iturbi', 'haines', 'colman', 'penelope', 'lucille', 'laputa', 'pfeiffer', '1992', 'dillinger', '200', '101', 'creasy', '1948', 'gwyneth', 'tomei', 'sondra', 'casablanca', 'godard', 'edith', 'northam', 'visconti', 'galactica', 'flavia', '300', 'wayans', 'loren', 'reiser', 'fellini', 'vonnegut', 'johansson', 'giovanna', 'dafoe', 'grendel', 'natali', '1943', 'characterisation', '1951', 'isabelle', 'blaise', 'feinstone', 'finney', 'gackt', 'coburn', 'rohmer', '1932', 'adele', 'silverman', 'ferrell', 'martino', 'kristofferson', 'massey', '1963', 'blandings', 'gino', '1955', 'favourites', 'jagger', 'brashear', 'bernsen', 'marisa', 'kells', 'gannon', 'cedric', 'rourke', 'realises', 'sholay', '27', 'bros.', '1958', '1000', 'garfield', 'luzhin', 'bonham', 'duchovny', 'govinda', 'vargas', 'guevara', 'dreyfuss', 'harron', 'takashi', 'segal', 'tashan', 'krueger', 'cancelled', '26', 'myrna', 'liotta', 'elsa', 'redford', 'caprica', 'bronte', 'lubitsch', '2009', 'gena', 'redgrave', '1946', 'faye', 'ealing', 'byron', 'kinski', 'mamet', 'depardieu', 'englund', 'gretchen', 'cheech', 'zelah', 'crowe', 'macmurray', 'programme', 'edmund', '7.5', 'gandolfini', 'theodore', 'seuss', \"o'neill\", '1966', 'dunst', 'blondell', 'vincenzo', 'vaughn', 'farrah', 'peckinpah', '1957', 'hanzo', 'myra', '1949', 'coppola', 'farnsworth', 'geoffrey', 'shatner', 'kareena', 'panahi', 'helena', '85', 'clarence', 'harilal', 'forsythe', 'dillon', 'fagin', 'arnie', 'glenda', 'kilmer', 'daria', 'fawcett', 'culkin', '1942', '1965', 'bogdanovich', 'theatres', 'keanu', '1920', 'judgement', 'midler', 'ewoks', 'warhols', 'malden', 'noam', 'sammi', 'cruella', 'kalifornia', 'floriane', 'ossessione', 'berenger', 'kusturica', 'simba', 'luthor', 'natasha', 'pertwee', 'muriel', 'rosenstrasse', 'kornbluth', 'mostel', 'dunne', 'mcdermott', '1964', 'a.k.a', '98', 'corbin', 'dukakis', 'azumi', 'sorvino', 'mcdowell', 'caruso', 'lanza', 'mastroianni', 'tsui', 'lansbury', 'granger', 'maugham', '1920s', 'rko', 'lorre', 'elmer', 'dickinson', 'keitel', 'izzard', 'kingsley', 'sloane', 'valerie', 'mattei', 'greenaway', 'doris', 'mcadams', 'agatha', '1938', 'sarne', 'sabu', 'sykes', 'rizzo', 'cortez', 'pavarotti', 'harlin', 'tolkien', \"t'aime\", '8.5', 'pasolini', 'dietrich', 'neeson', 'sematary', 'mcgavin', 'shakespearean', 'christensen', '1931', 'lommel', 'marjorie', 'cillian', \"o'toole\", 'delia', 'maguire', 'crenna', 'durbin', 'darius', 'dominick', 'aztec', 'korda', 'khouri', '1941', 'hedy', 'carface', 'mpaa', 'zabriskie', 'wwi', 'grady', 'deathstalker', 'seinfeld', 'morgana', 'duryea', 'danning', 'connolly', '48', 'batwoman', 'witherspoon', 'elisha', 'callahan', 'bruckheimer', 'benoit', 'jed', 'rainer', 'lamarr', 'corleone', 'viggo', 'jameson', 'hayward', 'bolivia', 'azaria', 'crouse', 'lotr', 'carole', 'askey', 'marlene', 'aiello', 'leia', 'levant', 'rhys', 'mcintire', 'hamill', '18th', 'macbeth', 'stoltz', \"o'sullivan\", 'travelling', '1935', 'foch', 'werner', 'lucio', 'argento', 'zatoichi', 'schumacher', '700', 'newcombe', 'btk', 'leopold', '1937', 'blaine', 'kriemhild', 'darkman', 'maclean', '1954', 'atwill', 'shue', '500', 'poppins', 'willem', 'eleanor', 'mortensen', 'renoir', 'marvellous', 'wallach', 'paperhouse', 'nielsen', '86', 'cambodia', 'townsend', 'tigerland', 'phyllis', '250', '150', 'kermit', 'honour', 'colourful', '1962', 'eustache', 'wray', 'costner', 'co.', 'sullavan', 'lithgow', 'hickock', 'gilligan', 'binoche', 'frye', 'mcbain', 'sybil', 'gertrude', 'jovi', 'trelkovsky', 'hilliard', 'coen', 'rathbone', 'bagdad', 'jaffar', 'currie', 'cassel', 'bava', 'winslet', 'roeg', 'celie', 'capshaw', '1956', 'aviv', 'hagar', 'zenia', 'bathsheba', 'weissmuller', 'manchu', 'neighbours', 'recognise', 'igor', 'lili', 'crispin', 'conroy', 'krell', 'fiennes', '1947', 'byrne', 'sheeta', 'pazu', 'hartman', 'mantegna', 'patton', 'tomlinson', 'mcgregor', 'steiner', 'alain', 'milland', 'rooker', '1952', 'gellar', 'lordi', 'wendt', '400', '64', 'turturro', 'dench', 'hackenstein', 'ripley', 'isabel', 'ernst', 'broderick', '77', 'devgan', '20s', '11th', 'mcshane', 'benet', 'savini', 'recognised', 'vinnie', 'raoul', 'humphrey', 'franchot', 'haim', 'pesci', 'newhart', 'seberg', 'depalma', 'cassandra', 'defence', 'fineman', 'selma', 'ronny', 'stowe', 'emil', 'swayze', 'labour', 'tng', 'emmanuelle', 'epps', 'swanson', 'ranma', 'morbius', 'yugoslavia', '88', 'luise', 'janeane', 'pimlico', 'perlman', 'gyllenhaal', 'chaney', 'tilly', '31', 'fricker', 'deluise', 'buscemi', 'dunaway', 'carlyle', 'mraovich', 'paine', 'shemp', 'ironside', '911', 'lorenzo', 'connelly', 'razzie', '180', 'costello', 'kaye', 'cleese', 'keira', 'saura', 'sydow', 'jaffe', 'glamour', 'lyle', 'varma', '1922', 'shawshank', 'culp', 'dressler', 'orwell', 'mendes', 'mordrid', 'abhay', 'andie', 'pryor', 'willard', 'geraldine', \"o'neal\", '65', 'gwynne', 'burstyn', 'pym', 'frodo', 'stratton', 'paresh', 'todesking', '01', 'rosanna', 'calibre', 'akira', 'sheedy', '1928', 'roscoe', '42', 'tristan', '84', 'reginald', 'robby', 'darryl', 'alamo', 'earp', 'iago', 'gazzara', 'dicaprio', 'devos', 'gandalf', 'wodehouse', 'aditya', 'parsifal', 'berkowitz', 'heflin', 'rajpal', 'schindler', 'romy', 'footlight', 'kelso', 'tintin', 'domergue', 'palermo', 'neill', 'lupino', 'buttgereit', 'elisabeth', 'kipling', 'favours', 'applegate', 'breckinridge', 'denholm', 'doolittle', 'delon', 'vincente', 'darkwolf', 'josie', 'bunuel', 'curtiz', 'lillian', 'd.w.', 'yuzna', 'wtc', 'kattan', 'vipul', 'blackadder', 'poirot', 'presley', 'stratten', 'strangelove', 'grable', 'milverton', 'hallam', 'audiard', 'scalise', 'raimi', 'bafta', 'rochon', 'kirkland', 'brigitte', 'maltin', 'veronika', 'janine', 'giamatti', 'akshaye', 'hermann', '71', 'jeanette', '10,000', '34', 'boman', 'irani', 'susannah', 'staden', 'truffaut', 'franz', 'xica', 'gump', 'peet', 'tautou', 'dibiase', 'moustache', 'anakin', 'mukhsin', 'bethany', 'jonestown', 'dreamworks', 'burtynsky', 'nadia', 'renny', 'rudolph', 'modine', 'gleason', 'bozz', 'grisby', 'mcnally', 'wyatt', 'weisz', 'guzman', 'hellman', 'dourif', 'judi', 'russel', 'ramon', 'molina', '79', '68', 'cybill', 'clifford', 'darlene', 'khanna', '29', 'francois', '89', '82', 'woronov', 'goebbels', 'tucci', 'dangerfield', 'stockwell', 'stifler', 'roddy', 'morita', 'centres', 'chikatilo', 'farrelly', 'strathairn', '47', 'heaton', 'constance', 'learnt', 'cromwell', 'weller', 'spoilt', 'veidt', 'savalas', 'bigelow', 'jayne', 'millard', 'chomsky', 'quincy', 'dien', 'rockwell', 'ringo', 'mcgovern', 'fahey', 'o.', 'jannings', 'oshii', 'noriko', 'hartnett', '54', 'boorman', 'bhandarkar', 'ferrer', '32', 'maclaine', 'theron', 'saget', 'transylvania', '43', '33', \"o'connor\", 'ricci', 'togar', 'cambodian', 'brisson', 'coltrane', 'erroll', 'kiefer', 'miklos', 'devito', '36', 'matuschek', 'desdemona', 'gosha', 'chrissy', 'budapest', 'h.g.', 'hasselhoff', 'kazaam', '76', 'cukor', 'morty', '1.5', 'rhonda', 'skagway', '00', '39', 'aragorn', 'finlay', 'oberon', 'hendrix', 'fanfan', 'corinne', 'leonora', 'demme', 'syberberg', 'soha', 'paquin', 'ringwald', 'spacek', 'scorcese', 'moriarty', 'lorna', '42nd', 'demonicus', 'marylee', 'schmid', 'connors', 'sarno', 'pabst', '97', '14th', 'louque', 'tyrone', 'alejandro', 'dooley', 'leachman', 'hauser', 'girlfight', \"d'angelo\", 'asano', 'stirba', 'greengrass', '96', 'helsing', 'krause', 'damien', 'zucker', 'dorff', 'cinemax', 'krige', 'tanya', 'neighbour', 'trancers', 'hardwicke', 'torrance', '.i', 'henson', 'mcclure', 'montrose', '83', 'astor', 'adolf', 'gauri', 'lerner', 'reda', 'mencia', 'andrei', 'garson', 'deol', 'brody', 'hundstage', 'ungar', '1961', 'marsha', 'elijah', 'woodard', 'popeye', 'krabb', 'warhol', 'bosworth', 'sylvester', 'michell', '360', 'helga', 'sheffer', 'silverstone', 'mccartney', 'morvern', 'babbage', 'nausicaa', '51', 'talespin', 'agnes', 'wilcox', '747', 'jafar', 'mulder', 'tassi', 'bjm', 'linklater', 'jeroen', 'tully', '90210', 'levinson', 'madeline', 'kudrow', 'jox', 'macgregor', 'siegfried', 'wentworth', 'huppert', 'trotta', 'ilona', 'hickok', 'matheson', 'tarkovsky', 'grier', 'gracie', 'purvis', 'mcintyre', 'x.', 'gen.', 'gummer', 'grieco', 'zentropa', 'sookie', 'coffy', 'dinocroc', 'petiot', '.it', 'bluth', 'carrell', 'railly', 'barjatya', '4.5', 'mindy', '55', 'crain', 'priyadarshan', 'mononoke', '1929', 'lapd', '93', 'sayuri', 'stahl', 'statham', 'serling', 'sympathise', 'baloo', 'centred', 'moreau', 'wahlberg', 'dumbland', 'gojoe', 'amelie', 'pakeezah', '007', 'hitokiri', '666', 'antwerp', 'ullman', \"d'amato\", 'anastasia', 'shefali', 'karisma', 'kovacs', 'flippen', 'monaghan', '102', 'custer', 'tourneur', 'sollett', 'rhine', 'yuma', 'pinjar', 'urmila', 'schlesinger', 'angelopoulos', 'miraglia', 'gigli', 'digicorp', 'hillyer', 'pyun', 'ivanna', 'flemming', 'beatrice', 'gammera', 'ferdie', 'g.i.', 'kitamura', 'burakov', 'raquel', 'fique', 'ackland', 'rvd', 'scheider', 'milligan', 'zuniga', 'benicio', 'alfre', 'pollak', 'radha', 'carnosaur', 'faris', 'duval', 'frechette', 'chahine', 'hobson', 'landon', 'labeouf', 'cloris', 'caleb', 'rawal', 'samhain', 'i.q.', '1914', 'halperin', 'sceptical', 'scola', 'fidel', 'wenders', 'mankiewicz', '17th', 'garofalo', 'fleischer', 'giovanni', 'roddenberry', 'mahoney', 'recognisable', 'ulrich', 'ramtha', 'tatum', '1,000', \"i've\", 'shapiro', 'browne', 'frazetta', 'tobias', 'hoechlin', 'iphigenia', '56', 'cecilia', 'schneebaum', 'gruner', 'pressburger', 'realising', 'walston', 'volckman', 'falco', 'geer', 'avalon', 'cartwright', 'burgade', 'heero', 'siodmak', 'macdowell', 'herbie', 'krabbe', 'pappas', 'pinkett', 'resnais', '5.1', 'vidor', 'detmers', 'guerrero', 'hemingway', 'mcconaughey', 'doodlebops', 'quigley', 'sibrel', 'sturges', '3.5', 'brynner', 'brodie', 'rgv', 'brewster', 'kasdan', 'otis', 'winfrey', '2.5', 'dric', 'youssef', 'sinclair', 'mccabe', 'melville', 'morricone', 'maude', 'olen', 'lorne', 'dimitri', 'whoville', 'lupin', '63', 'zadora', 'dario', 'lorenz', 'blier', 'jacobi', 'pendleton', 'olin', 'ingmar', 'alberto', 'flavour', 'unger', 'kralik', 'americanized', 'kharis', 'programmes', 'hewlett', 'k.', 'nagra', 'chewbacca', 'orked', 'nighy', 'nastassja', 'zanuck', 'klaus', 'babban', 'loomis', 'fuqua', 'honourable', 'everytown', 'tamblyn', 'andr', 'potts', 'bakula', 'bergen', 'winkler', 'bilko', 'herzog', 'eleniak', 'naudet', 'gymkata', '44', 'elinore', 'gotham', 'leila', 'piscopo', 'peralta', 'catalogue', 'hitchcockian', 'tetsuo', 'gould', 'boothe', 'schwartzman', 'paxinou', 'macaulay', 'danni', '1927', 'luciano', 'dermot', 'janeway', 'jacknife', 'sade', 'collora', 'tsing', 'seidl', 'marky', 'unisol', 'beckett', 'herschel', 'sctv', 'hayek', 'nimoy', 'mchugh', 'madhur', 'mckenzie', 'burnett', 'grisham', '1915', 'borzage', 'armand', 'tolstoy', 'brigham', 'sh!t', 'riker', '87', '.but', 'dreyfus', 'braga', '66', 'clausen', 'sooraj', 'miramax', 'stylised', 'woodward', 'antz', 'kellerman', 'hirsch', 'hearst', 'benkei', 'silvio', 'allende', 'harrelson', 'ziyi', 'oates', 'ozu', 'reinhold', 'siskel', 'wuhrer', 'blethyn', 'biehn', '49', 'rotj', 'endor', \"teal'c\", '10th', 'neff', 'hopalong', 'duffell', 'scatman', 'delpy', 'scully', 'candice', 'calhoun', 'verne', 'archibald', 'enrico', 'visiteurs', 'jansen', '1912', 'hulce', 'carmilla', 'airwolf', 'lewton', 'd.c.', 'macready', 'lanchester', '120', 'matlin', 'gladys', 'ringu', 'gaiman', 'spader', 'natalia', 'jeffery', 'janos', 'henri', 'patekar', 'nanette', 'morrissey', 'coulouris', 'lacklustre', 'stapleton', 'osbourne', 'drummond', 'yvaine', 'gilley', 'criticise', 'berkley', 'kessler', 'bedknobs', 'starfleet', 'quatermain', 'wcw', 'bfg', 'aykroyd', 'dolemite', 'pusser', 'bradbury', 'leguizamo', 'goines', 'miriam', 'ribisi', 'egon', 'mirren', 'adrienne', 'notting', 'coloured', 'carre', 'mcanally', 'shelton', 'cleopatra', '600', 'p.s', 'bosnia', 'crothers', 'tadanobu', 'eccleston', 'giancarlo', 'bront', 'kiera', 'borgnine', 'nypd', 'valette', 'ameche', 'amick', 'clovis', 'redfield', 'ds9', 'schildkraut', 'kutcher', 'noll', 'yaphet', 'kotto', 'sampson', 'preity', 'wegener', 'knowles', \"o'shea\", 'shintaro', 'izo', 'schrader', 'bernhard', 'se7en', '81', 'clampett', 'chawla', '140', 'instalment', '1800', 'finlayson', 'soutendijk', '110', 'talia', 'pleasance', 'johnnie', 'mckenna', 'mulholland', 'u.k.', 'whitaker', 'juhi', 'camille', 'eliza', 'kiley', 'cratchit', 'gardiner', 'ballantine', 'sheryl', 'karas', 'burman', 'lilith', 'carrere', 'hamiltons', 'zemeckis', 'bjork', 'almodovar', 'patric', 'dominique', 'mckay', 'springwood', 'hilda', 'u.s.a.', 'rajinikanth', 'collinwood', 'trebor', 'valentino', 'horton', 'aames', 'criticised', 'mamie', 'hera', 'suleiman', 'brolin', 'watanabe', 'beaton', 'annette', 'juarez', 'lanisha', 'mulroney', 'esposito', 'crockett', \"goa'uld\", 'knotts', 'cusak', '52', 'cortes', 'kristel', 'silberling', 'calamai', 'gunbuster', 'firode', 'armour', 'brigadoon', 'fetchit', 'macmahon', 'celestine', 'paget', 'colagrande', 'e.t.', 'lucienne', 'charlize', 'lyman', 'coulier', 'stamos', 'midkiff', '74', 'bettany', 'schygulla', 'oswald', 'quiroz', 'labute', 'jarmusch', 'ebenezer', 'channing', 'bassinger', 'imamura', 'traci', 'kulkarni', 'seann', 'sonja', 'giannini', '94', 'chabrol', 'goldwyn', 'atoz', 'ophelia', 'springsteen', '50,000', 'nietzsche', '05', 'rhoda', 'celebi', 'mallory', 'sigourney', 'pauly', 'eggar', 'gideon', 'mussolini', 'menzies', 'adama', 'mohanlal', '1924', 'duprez', 'ingram', 'kruger', 'kher', 'kothari', 'cassavettes', 'borowczyk', 'cronenberg', 'pyle', 'scrat', 'picard', 'cheyenne', 'gabriele', 'celia', 'momsen', 'lollobrigida', 'bolivian', 'tobey', 'hickam', 'nikhil', 'daninsky', 'roseanne', 'cosby', 'tchaikovsky', 'fetisov', 'poehler', 'dakar', 'jeanie', 'madge', 'lucile', 'gingold', 'beek', 'j.j.', 'mcguire', 'tmnt', 'ishwar', 'i.e', 'heder', 'schaech', '06', 'edmond', 'mortimer', 'reitman', 'civilisation', 'panzram', 'coccio', 'bouchet', 'pintilie', 'eraserhead', 'yentl', 'millie', 'belafonte', 'gough', 'mendez', 'putain', \"l'engle\", 'cartwrights', 'adrien', 'maslin', 'daniela', 'pereira', 'flik', 'gershon', 'plowright', 'lamberto', 'kabei', 'iberia', 'pikachu', 'flashman', 'marcy', 'grimm', 'kowalski', 'weismuller', 'organisation', '3.99', '37', 'marsden', 'gabriella', 'klaw', 'alastair', 'thewlis', 'sciamma', 'healy', 'corsaut', 'ennio', 'eburne', 'nekromantik', 'u.s', 'trejo', 'leisen', 'oakie', 'poitier', 'ulli', 'lynne', 'zeffirelli', '12th', 'ettore', 'britton', 'droppingly', 'kavner', 'luchino', 'erendira', 'apologise', 'stanton', 'rachael', 'lynchian', 'schepisi', 'shakespearian', 'geddes', 'adjani', 'korman', 'demunn', 'lawler', 'ahab', 'ishtar', 'dedlock', 'lesley', 'frederic', 'gabbar', \"i'll\", 'j.t.', 'nicolai', 'mcgraw', 'alok', 'anupam', '1800s', 'guetary', 'aidan', 'levine', 'mischa', 'auer', 'yoko', 'tribeca', 'boreanaz', 'gabrielle', 'tadashi', 'rogen', 'liev', 'raye', 'waldemar', 'mundae', 'lucci', 'eod', 'scuddamore', 'nibelungen', 'foree', 'margret', 'runyon', 'higgins', 'paolo', 'hannibal', 'yash', 'baio', 'sugiyama', 'rudolf', 'eglantine', 'cavanagh', 'winona', 'franka', 'potente', 'greenwich', 'n64', '78', 'barclay', 'neighbourhood', '2022', 'moorehead', 'odysseus', '53', 'rothrock', 'mcdoakes', 'margheriti', 'guadalcanal', 'baywatch', 'mikels', 'hasso', 'sg1', 'alfonso', 'olga', 'dola', 'damian', 'milius', 'pheri', 'freebird', 'yelnats', 'seaver', 'bram', 'lamour', 'zandalee', 'adamson', 'morpheus', 'broadbent', 'chavo', 'cleo', 'starsky', 'guttenberg', 'django', 'danelia', 'humourless', 'flashdance', '92', 'bouvier', 'minelli', 'myron', 'tramell', 'o.k', 'antoine', 'cotten', 'hammett', 'girotti', 'cuthbert', 'lumi', 'jarndyce', 'brinke', 'lafitte', 'loni', 'edna', 'shimizu', 'bressart', '2010', '5000', 'rainn', 'polarisdib', 'rideau', 'ismael', 'barbeau', 'realisation', 'horus', 'erich', 'munster', 'bradshaw', 'grodin', 'alcatraz', 'kristy', 'santiago', '1900', 'montand', 'hattie', 'wuthering', 'banderas', 'kober', 'jody', 'umeki', '72', 'royston', 'vasey', 'slavoj', 'greenstreet', 'vivien', 'o.k.', 'apollonia', 'matata', 'decameron', 'himalayas', 'prochnow', 'jekyll', 'voorhees', 'marius', 'siegel', 'woodhouse', 'parminder', 'vampyres', 'babette', '16th', 'waterston', 'sadie', 'rhode', 'killian', 'hiroshima', 'asimov', 'carlin', 'luigi', 'strindberg', 'aiden', 'adolph', 'urich', 'salma', 'winfield', 'offence', 'hecht', 'mcphillip', 'antonietta', 'selleck', 'rohm', 'massimo', 'mcadam', 'borden', 'dushku', 'gorshin', \"o'conor\", 'cacoyannis', 'euripides', 'attila', 'aimee', 'ceylon', 'pufnstuf', 'aardman', 'u.', 'kureishi', 'rippner', 'cameroon', 'venantini', 'fessenden', 'friel', 'marcello', 'aubrey', 'mckee', 'johny', '105', 'lemercier', 'lucien', 'kundry', 'minton', 'karin', 'libbed', 'katharine', 'vierde', 'moynahan', 'beals', 'suzy', 'emilia', 'nunsploitation', 'trenholm', 'giorgio', 'henner', 'anselmo', 'hayao', 'pumba', 'caton', 'vaccaro', 'samberg', '1890', 'gallico', 'poonam', '6.5', '07', '02', 'stroheim', 'estelle', 'riemann', 'newmar', 'pinchot', 'caligari', 'starz', 'bancroft', 'frankenheimer', 'riget', 'chandu', 'sternberg', 'maysles', 'tylo', 'kendrick', 'talos', 'jodorowsky', 'charis', 'uriah', 'ilias', 'lassick', 'hussey', 'lassalle', 'herge', 'balduin', 'bouzaglo', 'bischoff', 'wilhelm', 'dudikoff', 'serrault', 'stepin', 'mesmerising', 'dalmations', 'gainsbourg', 'o.c.', 'macgyver', 'aileen', 'sweetin', 'stitzer', 'geronimo', 'fellowes', 'aluminium', 'ralphie', 'bloch', 'montford', 'mcbride', 'osborne', 'bruhl', '38', 'atul', 'thinnes', '1925', 'organised', 'd.a.', 'maddox', 'filone', 'chasey', 'markham', 'tomba', 'nyqvist', 'isabella', 'elizondo', 'borel', '1.85', 'skye', 'rampling', '58', 'ishii', 'hideo', 'goyokin', 'tanaka', 'binks', 'nosferatu', 'florinda', \"k'sun\", \"snitch'd\", '.there', 'taft', 'starewicz', '57', 'beethoven', 'yves', 'dorfman', 'terence', 'heigl', 'gundams', 'eisenhower', \"t'pol\", 'kundera', 'hodder', 'gentileschi', 'vartan', 'cannavale', 'amityville', 'galipeau', 'cady', 'stormare', 'morley', \"o'neil\", 'schwimmer', 'heinlein', 'irishman', \"o'connell\", '1916', 'sagemiller', 'kyser', 'kitt', 'patronising', 'kabal', 'ulysses', 'malle', 'eisenberg', 'mccormack', 'viennese', 'colm', 'sorbonne', 'appleby', 'rajni', 'marlee', 'eisenstein', 'zp', 'bloodrayne', 'spacecamp', 'garry', 'tvm', 'tremaine', 'emraan', 'gujarati', 'hbk', 'evangelion', 'roberta', 'flanders', 'frewer', 'syriana', 'rumour', 'gorris', 'judson', 'isaacs', 'travelled', \"l'intrus\", 'dreamgirls', 'empathise', 'bosnian', 'bernadette', 'dalai', '08', 'frawley', 'muska', 'faust', 'eisner', 'capano', 'hardesty', 'rosarios', 'bartel', 'catalina', 'arbuckle', 'krista', 'tykwer', 'anansa', 'dabney', 'bolan', 'nandini', 'davy', 'bendix', 'emile', 'esai', 'harrold', 'francine', 'jewison', 'soapdish', 'geico', 'eytan', 'thursby', 'franciosa', 'wincott', 'bulgaria', 'hahk', 'nichole', 'tepper', 'robotech', 'bachman', 'noonan', 'caulfield', 'meloni', 'mcgrath', 'swinton', 'nemec', 'dobson', 'taoist', 'dorsey', 'straightheads', 'hanka', 'rosalba', 'neri', '46', 'hallen', 'dolores', 'leaud', 'summersisle', 'mayeda', 'lexi', 'fanshawe', 'biograph', 'sjoman', 'gracia', 'unisols', 'keyes', '999', 'tetsur', 'liliom', 'silverstein', 'tmtm', 'vadar', 'lustig', 'flaherty', '61', 'frakes', \"'bout\", 'forlani', 'mccallum', 'newbern', 'schnaas', 'lifshitz', 'greendale', '1,000,000', 'untergang', 'munsters', 'topher', 'floraine', 'justine', 'ceasar', 'rosalind', 'orbach', 'niemann', 'rosalie', 'p.j.', 'shohei', 'vittorio', 'sarafina', 'alienator', 'schizophreniac', \"i'd\", 'characterised', 'horne', 'bueller', 'rafiki', 'thesiger', 'mackendrick', 'arse', 'matsumoto', 'yiddish', 'pinter', 'narnia', 'gervais', 'valco', 'mariette', 'klara', 'blacksnake', 'thomerson', 'parkins', 'rutger', 'nunez', 'jonathon', 'mcdowall', 'annakin', 'larraz', 'rigg', 'winningham', 'atlantian', 'chabat', 'wachowski', 'mayfield', 'picasso', 'bilal', 'binnie', '1926', 'cb4', 'kapur', 'yonica', 'zechs', 'dewaere', 'henstridge', 'gleeson', 'pryce', 'antony', 'fawlty', 'belgrade', 'gwizdo', 'trnka', 'monique', '100,000', 'brimley', 'alda', 'calvet', 'pasdar', 'balanchine', 'agamemnon', 'mould', 'corin', 'miou', 'ducktales', 'berryman', 'lecter', 'gilmore', 'rudyard', 'lovell', 'rasuk', 'manfred', 'mazursky', 'darko', 'spaceballs', 'sergei', 'poir', '30th', 'sennett', 'inarritu', 'katey', 'apatow', 'rozsa', 'flemish', 'spectre', 'huggins', 'ekin', 'amenabar', 'borlenghi', 'driscoll', 'warburton', '1.50', 'syfy', 'addison', 'hingle', 'bolkan', 'rossellini', 'mcnamara', 'ginty', 'nablus', 'balkan', 'thornway', 'jarvis', 'schell', 'hickcock', 'moocow', 'margo', 'patinkin', 'hisaishi', 'gft', 'doone', 'forsyth', 'wuhl', 'koyaanisqatsi', 'svenson', 'randell', 'millar', 'tatooine', 'orwellian', 'strombel', 'ageing', 'lowery', 'milyang', '1917', 'ghibli', 'sikes', 'levitt', 'waldo', 'auschwitz', 'lahr', 'aneta', 'chamberlains', 'babs', 'dennehy', 'fangoria', 'ankush', 'sartain', 'latham', 'prizzi', 'elam', 'analyse', 'beavis', 'talbot', 'margaux', 'ernesto', 'drago', 'philipps', 'gollum', 'skerritt', '41', 'strickland', 'gosford', 'bynes', 'bulgarian', 'dogville', 'nabokov', 'jindabyne', 'moretti', 'kobayashi', 'bartram', \"o'hearn\", 'lynda', 'tollinger', 'udo', 'dutton', 'ziering', 'cabot', 'hornblower', 'arzenta', 'malcom', 'maddin', 'walthall', 'effie', 'tamerlane', 'broinowski', 'buford', 'speedman', 'dassin', 'poldi', 'gilberte', 'jermaine', 'cognac!!!!!i', 'inxs', 'querette', 'julien', 'ramu', 'prag', 'maetel', 'nwh', 'carlitos', 'friedkin', 'salazar', 'breckin', 'lebrun', 'mckinney', 'hammerstein', '1913', 'konkana', 'ciaran', 'embeth', 'davidtz', 'kargil', 'macchesney', 'winninger', 'b.j.', 'stig', 'ww1', 'fulfil', 'ferland', 'klingon', 'priscilla', 'modelling', 'madhuri', 'rapaport', 'karyn', 'stepford', 'slovenia', 'slade', 'brettschneider', 'ellington', '7.0', 'lembach', 'terrorising', 'gulpilil', 'lawton', 'e.g', '91', 'deodato', 'mozart', 'begley', 'labelled', 'garris', 'studi', 'elfman', '250,000', 'malefique', 'roeper', '99.9', 'helgeland', '30,000', 'daniella', 'ashanti', 'klugman', 'grayce', 'bizet', 'lenz', 'forster', 'valjean', 'madhubala', 'sabre', 'kenobi', 'palpatine', 'gromit', 'aoki', 'hoskins', 'langella', 'ninotchka', 'torrens', 'jobson', 'cubitt', 'dianne', 'erwin', 'sicilian', 'sabato', 'mowbray', 'frasier', 'sheldon', 'louella', '1900s', 'moag', 'malco', 'tomas', 'claudio', 'ricans', 'gillen', '67', '20,000', 'feroz', 'czechoslovakia', 'clouseau', 'garvin', 'b.s', 'farscape', 'fragasso', 'fudd', 'wilford', 'lohman', 'tronje', 'garber', 'drivas', 'bessie', 'slovenian', 'holbrook', 'nettie', 'hallie', 'livesey', 'zabalza', 'malkovich', 'belasco', 'bracco', 'marchand', 'imperioli', 'pantoliano', 'lacan', 'estes', 'sinise', 'wolfgang', 'armin', 'lelouch', 'hermione', 'perabo', '3,000', 'joaquin', 'bajpai', 'bloss', 'yvette', 'robinsons', 'malfatti', 'haneke', 'feyder', 'serpico', 'francesca', 'marilu', 'roxy', 'govind', 'cordell', 'montalban', 'tatsuhito', 'tuileries', 'faubourg', 'coulardeau', '16s', '2036', 'suchet', 'cleef', 'acknowledgement', 'gespenster', 'wilfred', 'sachar', 'kallio', 'iliad', 'ulein', 'eiffel', 'claudius', 'tambor', 'jennie', 'elmore', 'kleinman', 'timone', '1918', 'cassio', 'cliver', 'phillipe', 'maruschka', 'brimmer', 'guignol', 'josephine', 'chuckie', 'kanin', 'deneuve', \"o'leary\", 'sumpter', 'alistair', 'scarwid', 'yossi', 'pacula', 'mccormick', 'henriksen', 'conaway', 'rebane', 'montmartre', 'machaty', 'calvert', 'larson', 'amrohi', 'dumbrille', 'giuseppe', 'eartha', 'curley', 'monstervision', '1840', 'vosloo', 'proust', 'munkar', 'hazlehurst', 'hesseman', 'bowden', 'conchita', 'sauron', 'tilda', \"d'abo\", 'giardello', 'jeffs', 'colourless', 'makepeace', 'thade', 'szifron', 'peretti', 'luque', 'spanglish', 'claudette', 'tritter', 'tyrannus', 'clifton', 'smita', 'chazz', 'screweyes', 'delmar', '69', 'villaronga', 'markov', 'azteca', 'zhivago', '25th', 'matarazzo', 'numar', 'lugia', \"n'dour\", 'deveraux', 'lovelace', 'phillippe', 'siobhan', 'nabors', 'bakewell', 'technicolour', 'herg', 'candace', 'lovitz', 'greydon', 'velma', 'ghandi', 'pataki', 'matthias', 'plimpton', 'kershaw', 'michelangelo', '60,000', 'thornfield', 'mathis', 'jodelle', 'priestley', 'diger', '.this', 'chiaki', 'rupp', 'mst3k.', 'kirshner', 'toshiro', 'fairchild', 'brigante', '5,000', 'rambeau', '09', 'makhmalbaf', 'idrissa', 'r.g.', 'kilpatrick', 'umberto', 'mst3000', 'lowood', 'bannen', 'pompeo', 'ruggero', 'waldau', '4,000', 'sabella', 'morphin', 'saban', 'bhaiyyaji', 'yimou', 'luana', 'valseuses', 'rapp', 'shinjuku', 'halestorm', 'locataire', 'losey', 'frida', 'starbuck', 'stiers', 'hornby', 'fenway', 'halloran', 'laughton', 'robards', 'hollywoodized', 'ackroyd', 'ludlum', 'tokugawa', 'lyndon', 'hagan', 'auteuil', 'margot', 'hiralal', 'movie.i', 'dietrichson', 'coolio', 'graboids', 'bakersfield', 'ramgopal', 'bladerunner', 'torrence', 'zorak', 'pascow', 'bromwell', 'sushmita', 'cyd', 'charisse', 'steiger', 'janssen', '1921', 'dogme', 'montague', 'malick', 'z.', 'seftel', 'chandon', 'dratch', '1.33', 'cabell', 'jafri', 'grahame', 'cresta', 'dramatised', 'benito', 'ramis', '2.35', 'panavision', 'may.', '104', 'astin', 'chynna', 'rard', 'johanson', 'ashura', '5.8', 'mcenroe', 'shug', 'nuremberg', 'borat', 'thuggee', 'ciannelli', 'loesser', 'eggert', 'cybil', 'comstock', '2054', 'ashford', 'terrence', 'aladdin', 'etzel', 'ifans', 'lovecraft', 'antoinette', 'btas', 'dimaggio', 'trini', 'alvarado', 'littlefield', '200,000', 'murdock', 'ramone', 'elizabethan', 'minogue', 'ossie', 'tieh', 'waterdance', 'saks', 'mackenzie', 'lockhart', 'harryhausen', 'h.b.', 'ulises', 'virgil', 'barsi', 'macross', 'juanita', 'esha', 'barnaby', 'bardot', 'versailles', 'thames', 'tahiti', 'croatian', 'v.s', 'gadgetmobile', 'nihalani', 'tereza', 'charleton', 'vallee', 'salles', 'lachaise', 'kimble', 'gainax', 'crowley', 'kangwon', 'fabio', 'natassia', 'branaugh', 'leona', 'talalay', 'klondike', 'napolean', 'robeson', 'screwfly', 'katina', 'rosenlski', 'c3po', 'gunnar', 'sandino', 'laboured', 'haden', '1895', 'mccord', 'edwardian', 'goddard', 'fastway', 'schiavelli', 'niki', 'giada', 'mcteer', 'tbn', 'pavlov', 'buchfellner', 'akki', 'marlowe', 'pleasence', 'videostore', 'odin', 'alekos', 'livien', 'halleck', 'katja', 'fabian', 'ezra', 'ryker', 'dillman', 'ruiz', 'dugan', 'visayan', 'berkoff', 'apophis', 'brommel', 'catiii', 'cristy', 'jaq', 'malleson', 'kurtz', 'kida', 'nekron', 'basra', 'dreamt', 'canutt', 'bondarchuk', 'micheaux', 'sabina', 'murnau', 'jover', 'muccino', 'kemble', 'stettner', 'yamamoto', 'condon', 'nikita', 'wallis', 'nadji', 'marais', 'klingons', 'carnby', 'goodrich', 'meyerling', 'rostov', 'beale', 'hohl', 'mnm', 'amadeus', 'girardot', 'corsia', 'gossett', 'sevier', 'pernell', 'macek', 'jenifer', 'leatherface', 'belzer', 'kier', 'clarissa', 'ecclestone', 'corbet', 'caligula', 'kenyon', 'kornman', 'roedel', 'flannery', 'bergin', 'cheri', 'jeunet', 'mancuso', 't.rex', 'dashiell', 'jeffries', 'rutherford', 'wagnerian', 'mcdonnell', 'valientes', 'palme', 'sakamoto', 'takechi', 'amrish', 'woolsey', 'mariel', 'hennessy', 'sagal', 'kopins', 'rumours', 'sohail', 'sontee', 'kosugi', 'petersen', 'bragana', 'lmn', 'carax', 'letourneau', 'robotboy', 'ueto', 'shinae', 'boesman', 'genma', 'mcbeal', 'danvers', 'lamm', 'gades', 'madchen', 'cahn', 'salva', 'nyree', 'trampa', 'frollo', 'fraggle', 'sarsgaard', 'crystina', 'kaakha', 'kosleck', 'lodoss', 'moores', 'antonia', 'tremayne', 'thalberg', 'rubell', 'orla', 'trudi', 'b.b.c.', 'p.c.', 'bichir', 'piaf', 'spoorloos', 'christophe', 'desplechin', 'donlevy', 'stalingrad', 'harbour', 'vall', '108', 'gonz', 'rritu', 'decarlo', 'hutchinson', 'darrell', 'nanavati', 'kuriyama', 'kurtwood', 'haenel', 'ambersons', 'heathcliff', '2.50', 'strayer', 'woolrich', 'mridul', 'mandela', 'efx', 'rosco', 'janis', 'joplin', 'starlift', 'darkwing', 'kirstie', 'sabretooths', 'sequiturs', '135', 'zarabeth', 'yousef', 'telemundo', 'lasser', 'clift', 'entendre', 'dougray', 'katya', 'bille', 'shalhoub', 'ogden', 'annik', 'edelman', 'cathryn', 'gish', 'jurgen', 'pepi', 'melfi', 'anouska', 'cosette', 'eponine', 'farrel', 'hickox', 'leoni', 'martine', 'hersholt', 'ligabue', 'beaumont', 'sogo', 'estonia', 'estonian', 'hamlin', 'wymer', 'chambara', 'jacinto', 'dhawan', 'wyler', 'arlen', 'paedophilia', 'marcella', 'mork', 'oakley', 'pleasantville', 'egyptologist', 'cyril', 'favourable', 'mabuse', 'petto', 'francisca', 'fiedler', 'edwin', 'kasturba', 'narsimha', 'leonor', 'watling', '0.5', 'nathaniel', \"d'etre\", 'crawley', 'suspiria', 'cantillana', 'zeon', 'mcelhone', 'lamont', 'passworthy', 'romany', 'blalock', 'whisky', '62', 'licence', 'tarr', 'amores', 'borges', 'karishma', 'mcleod', 'ripner', 'nimh', 'kasem', 'seagals', '1.00', 'miko', 'bbc1', 'kinjite', 'uhf', 'rankin', 'morrisey', 'konvitz', 'garc', 'herrmann', 'langley', 'nikolai', 'waynes', 'izumo', '7.4', '15th', 'venantino', 'sanderson', 'yashraj', 'schroeder', 'lonnie', 'dorn', 'bostwick', 'well!.', 'lazerov', \"dosen't\", 'carmela', 'sirico', 'demeanour', 'tulipe', 'sartre', 'a.i.', 'megazone', 'mattox', 'b.i.g.', 'hutt', 'mcdiarmid', 'pyewacket', 'abrahams', 'kaley', 'jaco', 'dormael', 'chenoweth', '04', 'dicken', 'guillermo', 'payton', 'kato', 'nayland', 'gettysburg', 'madhavi', 'talbert', 'carmichael', 'hoyt', 'mcclurg', 'hellborn', 'douglass', 'greystoke', 'kapadia', 'krimi', 'spenny', 'silas', 'donnelly', 'bashki', 'shaquille', 'cheque', 'gilchrist', 'endeavour', 'moroder', 'annis', 'rashid', 'martel', '36th', 'gabel', 'subor', 'butterworth', 'delores', 'pialat', 'loulou', 'zapatti', 'sandu', 'jouvet', 'bernice', 'deepti', 'nunn', 'chomet', 'sewell', 'dauphine', '03', 'nuyoricans', 'leith', 'misha', 'marleen', 'savour', 'dickory', 'doren', 'trudy', 'needham', 'levene', 'altair', 'lta', 'eurotrash', 'dawkins', 'routh', 'rollo', 'heckerling', 'gilda', 'reisert', 'pransky', 'duvivier', 'dalmar', 'mitzi', 'catscratch', 'beban', 'lochlyn', 'herren', 'shadyac', 'zwick', 'completest', 'favourably', 'melle', '25,000', 'eikenberry', 'marolla', 'bohlen', 'margarethe', 'genova', 'cosimo', 'miyoshi', 'augusto', 'bachan', 'moronie', 'montano', 'panaghoy', 'ruffalo', 'arness', 'cantonese', '     ', 'glaser', 'daves', 'komizu', 'sissi', 'heyerdahl', 'riedelsheimer', 'sicily', 'hamm', 'kurasawa', 'malamud', 'helge', 'korsmo', 'mcallister', 'rawlins', 'shipman', 'gordone', 'somers', 'keggs', 'parlour', 'nakata', 'rushmore', 'dorie', 'beulah', 'bondi', 'bettina', 'sept.', 'kojak', 'bresson', 'belmondo', 'feore', 'holliman', 'boromir', 'gedde', 'debenning', 's.s.', 'vinson', 'hightower', 'niel', 'favoured', 'lillard', 'surtees', 'warfield', 'madagascar', 'benward', 'ghidorah', 'sutton', 'q.', 'n.y.', 'tanushree', 'wauters', 'horace', 'haskell', 'deschanel', 'spartacus', 'chyna', 'wardh', 'yamada', 'ethier', 'aiken', 'shinji', 'bjorlin', 'sisto', 'rocco', 'sabriye', 'corrine', 'scoggins', 'shyamalan', 'eastman', 'tessari', 'tachiguishi', 'bogarde', 'copperfield', 'sweid', 'castorini', 'nguyen', 'annabel', 'schaffer', 'divya', 'wilton', '1909', 'headly', 'busfield', '345', 'bufford', 'civilised', 'burnford', 'mellisa', 'harlan', 'magda', 'palminteri', 'gornick', 'kwouk', 'laroche', 'japp', '9.5', 'vigalondo', 'japs', 'norah', 'd.j.', 'farlan', 'hartmann', 'sukowa', 'sascha', 'thierry', 'asner', 'parnell', 'junkermann', 'mcandrew', 'kroko', 'aip', 'donlan', 'akane', 'amrapurkar', 'sadashiv', 'doghi', 'tagge', 'kristi', 'laudenbach', 'rataud', 'cornillac', 'mueller', 'duquenne', 'solvang', 'appolonia', 'kikuno', 'remer', 'alden', 'beales', 'zeenat', 'leibman', 'steckert', 'gautham', 'ittenbach', 'norliss', 'morand', 'yaara', 'kazuhiro', 'citizenx', 'annemarie', 'bogayevicz', 'sajani', 'tftc', 'silvestri', 'piedras', 'piovani', 'dreyer', '1898', 'wayan', 'fossey', 'ferrel', 'donaggio', 'sirtis', 'hrothgar', 'mccrea', 'm.c.', 'gert', 'graaff', 'selby', 'schweiger', 'wurb', 'magdalene', '.and', 'yeager', 'aquaman', 'novarro', 'meagre', 'elkaim', 'gilles', 'knef', 'keusch', 'yoakam', 'rappaport', 'halprin', 'foetus', 'rennie', 'prepon', 'pieuvres', 'blachere', 'zeus', 'kusama', 'jolson', 'mifune', 'raffin', 'yugoslav', 'mcguffin', 'lasalle', 'samira', 'ouedraogo', 'guinevere', 'gokbakar', 'fluegel', 'suzanna', 'tubbs', 'grapewin', 'hutson', 'fujiko', 'nikolaj', 'sigmund', 'aphrodite', 'cloudkicker', 'phibes', 'farley', 'vishal', 'rossitto', 'kristine', '1600', 'bertrand', 'vulcans', 'barbet', 'r.d.', 'haack', 'enos', '1860', 'shanao', 'macgraw', 'crandall', 'dolittle', 'foxworth', 'hallgren', 'this!.', 'speilberg', 'caitlin', 'traumatised', 'lynde', 'blyth', 'geller', 'godfrey', 'traveller', 'suzie', 'gainey', 'wolff', 'burbank', 'sedgwick', 'luca', 'pancho', 'dchen', 'clapton', 'summerslam', 'ilsa', 'nielson', 'javert', '10s', '7eventy', 'miryang', 'klowns', 'leif', 'copeland', 'tenchu', 'kader', 'haliday', 'pemberton', 'reece', 'goran', 'gianfranco', 'ondi', 'timoner', \"d'arc\", 'katharina', '2,000', '.she', 'lionsgate', 'vadis', 'melies', 'hallorann', 'jordi', 'pippi', 'dupont', 'sevigny', 'renner', 'corneau', 'ferrot', 'coleridge', 'roxanne', 'tati', 'fidani', 'turaqistan', 'keach', 'siv', 'arne', 'himmelen', 'krupa', 'bastille', 'damne', 'mameha', 'suess', 'fresnay', 'katzir', 'hoshi', 'beetlejuice', 'altaira', 'blore', 'matlock', 'belinda', 'philipe', 'mst3k', 'anisio', 'yankovic', 'schrieber', 'quasimodo', 'rowland', 'gazarra', 'larn', 'jordana', 'hanlon', 'toru', 'sagan', 'laramie', '1876', 'hanif', 'harlen', 'bertolucci', 'zavet', 'kazakos', 'uranus', 'mountbatten', 'barty', 'eriksson', '100th', 'cavanaugh', 'hayter', 'hordern', 'o.j.', 'quatermass', 'tarentino', '103', 'valentina', 'gummo', 'blythe', 'madigan', 'maupin', 'worshippers', 'coogan', 'xena', '.50', 'puzo', 'madhvi', 'konkona', 'zoolander', 'b.s.', 'weinstein', 'ellison', 'jacky', 'modelled', 'macchio', 'leatrice', 'stroh', 'f.r.a.t.', 'zandt', 'luj', 'susanna', 'ariauna', 'albright', 'shogo', 'fallwell', 'bbc2', 'harpo', 'bromfield', 'jory', 'trautman', 'klingsor', 'gurnemanz', 'pilate', '750', 'magruder', 'burkina', 'faso', 'kissinger', 'sondheim', 'hackett', 'paradiso', '1919', 'ahista', 'fulbright', 'saruman', 'cambell', \"ri'chard\", 'callan', '2000s', 'huggaland', 'mastrantonio', 'harker', 'pilger', 'harel', 'maupassant', \"lovin'\", 'noland', 'worshipping', 'thunderchild', 'fincher', 'woolf', 'martina', 'eduard', '107', 'katt', 'annabelle', 'balkans', 'steffen', 'bibbidi', 'bobbidi', 'celina', 'allyson', 'donen', 'aankhen', 'sumitra', \"o'hanlon\", 'pfieffer', 'courtland', 'bosley', 'pinocchio', 'arturo', 'lillie', 'lonette', 'aretha', 'golan', 'rickman', 'tybalt', 'ryecart', '800', 'ardh', 'byington', 'treize', 'r.i.p.', 'arletty', '112', 'maximilian', 'moovie', 'sylvain', 'victoires', 'monceau', 'martindale', 'yvelines', 'vlad', 'rendall', 'mariana', 'duane', 'drizella', 'huntingdon', 'tobin', 'moreira', 'marvellously', 'neagle', 'santoshi', 'denard', 'holroyd', 'gulfax', 'chadha', 'w.c.', 'retromedia', 'stolz', 'shipley', 'duggan', 'quais', 'atlantean', 'toho', 'spradling', 'polonius', 'dekker', 'sherwood', 'shaffer', 'gussie', 'entendres', 'sivan', 'fuelled', 'sadler', 'chianese', 'magoo', 'salome', 'rashomon', 'railsback', 'gianni', 'cinemagic', 'vh', 'elicot', 'barek', 'seeley', 'brice', \"o'brian\", 'turpin', '1902', 'presson', 'domini', 'ardolino', 'rumoured', 'withnail', 'adrianne', 'fante', 'joycelyn', 'hitoto', '00s', 'cervi', 'socky', 'browder', 'kazuo', '237', 'recognises', 'tuvok', 'polynesia', 'balzac', 'arabella', 'megha', 'shayan', 'takahashi', 'bromell', 'boz', 'aleck', 'gailard', 'heinz', 'scotsman', 'mcinnerny', 'flocker', 'mayberry', 'alphonse', 'yakima', 'lajos', 'p.g.', 'necronomicon', 'reynaud', 'brideless', 'zuckerman', 'calson', 'franciscus', 'penry', 'minot', 'colton', 'choule', 'garr', 'necroborgs', 'teletubbies', 'bixby', 'jethro', 'solino', 'daneliuc', 'legolas', 'greys', 'alisan', 'quantrill', 'frwl', 'larocca', 'barbarella', '4.99', \"d'etat\", 'ruge', 'utilised', 'toshi', '3.00', 'josef', 'keifer', 'novello', 'rochefort', 'sousa', 'hepton', 'koen', 'audrie', 'neenan', 'klux', 'simira', '160', 'rca', 'fenech', 'marthe', 'gubra', 'nilsson', 'bucharest', 'jariwala', 'mervyn', 'moranis', 'zomcon', 'charnier', 'spano', '5.2', 'part2', 'atlantians', 'friels', 'organisations', 'ufos', 'ghulam', 'dornhelm', 'donnison', 'jayhawkers', 'mamoru', 'zappa', 'alonzo', 'proog', 'zucco', 'czechs', 'chabon', 'reems', 'ohad', 'knoller', 'yelli', 'recognising', 'honours', 'arcati', 'haggerty', 'lv2', 'lv1', \"d'arcy\", 'valeria', 'medusan', '900', 'englebert', 'zinta', 'griswold', 'baraka', 'cile', 'ardelean', 'cheeta', 'fdr', 'fifi', 'bakhtiari', 'marner', 'kieron', 'andretti', \"d'or\", 'thiessen', 'bucktown', 'wilfully', 'chupke', 'laughlin', 'rainman', 'hiltz', 'maclachlan', 'pelletier', 'elektra', 'nazgul', 'letty', 'belaney', 'stormhold', 'nathalie', 'hebrews', 'faulkner', \"dell'orco\", 'jarada', 'baldrick', 'cheang', 'gilson', 'towelhead', 'holcomb', 'horstachio', 'haig', 'cocteau', 'bleeth', 'lebowski', 'janie', 'serb', 'cimarron', 'denison', 'coalwood', 'staunton', 'emanuelle', 'adeline', 'soweto', 'caracas', 'camazotz', 'bukowski', 'tasuiev', 'styne', 'johnsons', 'scorpione', 'shenar', 'kafka', 'superchick', 'zaroff', 'havilland', 'smithee', 'kurupt', 'rks', 'cuoco', 'rald', 'lungren', 'mi5', 'akhras', 'urbaniak', 'frownland', 'fffc', 'joslyn', 'spagnolo', 'narasimha', 'mimieux', 'chirila', 'healey', 'grieg', 'jacksons', 'fontana', 'kimiko', 'livingstone', 'cragg', 'ghosthouse', 'stockler', 'sentai', 'seachd', 'monson', 'hortense', 'zefferelli', 'aymeric', 'dwivedi', 'fardeen', 'harrer', 'kazihiro', 'halloway', 'mcnicol', 'slovik', 'weitz', 'oshin', 'bregana', 'asagoro', 'cybersix', 'klaang', 'cervera', '.all', 'succo', 'stefano', 'bonhoeffer', 'excalibur', 'unsavoury', 'starck', 'chandni', 'humphries', 'crocker', 'almeida', 'dsm', 'oyl', 'brecht', 'coote', 'gregson', 'beaute', 'frenchmen', 'welker', 'transylvanian', 'residenthazard.com', 'hobart', 'hildegard', 'darnell', 'linfield', 'remarque', 'francesco', 'frightworld', '4.4', 'zealander', 'hooten', 'weigang', 'cimino', 'kajol', 'sayori', 'acquart', 'bergdorf', 'galadriel', 'dostoyevsky', 'ratner', 'monteith', 'bateman', 'shae', 'milosevic', 'labourer', 'seaton', 'angkor', 'sahan', 'togan', 'hiroyuki', 'precode', 'hamptons', 'zellweger', 'mendel', 'saldana', 'spillane', 'paedophile', 'lowry', 'yoshinaga', 'oedipus', '117', 'andersen', 'heimlich', 'gottfried', 'diehl', 'ladykillers', 'brannagh', '8.1', 'conchata', 'adventists', 'epstein', 'stephan', 'meiji', 'takeshi', 'valli', '1408', 'enslin', '1910', 'pace!.', 'brideshead', 'yasujiro', 'darian', 'pirovitch', 'rosenberg', 'warbeck', 'fantine', 'cccc', 'nestor', 'considine', 'radiofreccia', 'dusenberry', 'hauer', 'judgemental', 'vigour', 'fett', 'czerny', 'bregovic', 'freleng', \"o'keeffe\", 'i.q', 'ramallo', 'spiralling', 'baltar', 'mallepa', '34th', 'pistilli', 'jackies', 'bianchi', 'diwani', 'myer', 'bassenger', 'brendon', 'mcmanus', 'stefania', 'anniston', 'pasadena', 'gcse', 'walerian', 'babyyeah', 'remick', 'lumley', 'antonella', 'aristotelian', 'sandrich', 'aida', 'peebles', 'linder', 'kerrigan', 'pocus', 'frieda', 'lenin', 'tippi', 'athena', 'ptsd', 'andress', 'luciana', 'thunderball', 'hennessey', 'mohandas', 'wilkes', 'glenrowan', 'gnatpole', 'f.p.1', 'maratonci', 'trce', 'pocasni', 'krug', 'teegra', 'francoise', '1873', 'dibley', 'wonderfalls', 'timm', 'margarete', 'gunther', 'alida', 'duelling', 'goodtimes', 'traudl', 'vorhees', 'kelada', 'alfie', 'tarrentino', 'sylvie', 'armistead', 'collete', 'mckellen', 'perla', 'lilia', 'plainsman', 'kandice', 'wickes', 'nra', 'dansu', 'olson', 'marte', 'earle', 'javier', 'bremer', 'santamarina', 'charo', 'rothschild', 'prospero', 'mulan', 'joanie', 'carnosaurs', 'waltons', 'landy', '1692', '3po', 'georgio', 'tanovic', 'genn', '12,000', 'plath', 'aruman', 'vereen', 'shiri', 'relena', 'hugsy', 'institutionalised', 'tisserand', 'ulmer', 'mongolia', 'najimy', 'gehrig', '1880', 'molla', 'albanian', 'hashmi', 'mahesh', 'lillith', 'stasi', 'burrough', \"o'keefe\", 'badalamenti', 'mullholland', 'pastore', 'lebrock', 'rainbeaux', 'napoli', 'fenwick', 'argentinean', 'mulva', 'phyllida', 'oav', 'rivendell', 'arnaz', 'croats', 'y.', 'velankar', 'carn', 'annabella', 'takia', 'coixet', 'cuar', 'castellitto', 'pigalle', 'melchior', 'nicol', 'nuyorican', 'valentinov', 'eastenders', 'corrigan', 'asgard', 'teodoro', 'sheehan', 'britons', 'cini', 'shumlin', 'druten', 'hensley', 'eaglebauer', 'saviour', 'cuaron', 'vcrs', 'kenji', 'bianlian', '6.99', 'ridgemont', 'waugh', 'hassie', 'castel', 'simonson', 'yanos', 'normand', 'ddt', 'angelique', 'zabriski', 'summarise', 'atwood', 'dpp', 'ishibashi', 'zomcom', 'lucian', 's.i.c.k.', '2.0', 'randle', 'ziegfeld', 'highsmith', 'gifford', 'dramatisation', 'selznick', 'kudisch', 'secombe', 'animatrix', 'norse', 'kennicut', 'howie', 'ralli', 'soso', 'achilleas', 'judgements', '1830', 'borge', 'liebman', 'rotterdam', 'lucinda', 'karns', 'elise', 'julianne', 'isaiah', 'michener', 'pinochet', 'mercurio', 'usines', 'headey', 'gh1215', 'boen', 'naish', 'moritz', 'boleyn', 'poole', 'gottschalk', 'haarman', 'burlinson', 'eadie', 'duchenne', 'veeru', 'coozeman', '350', 'kazakh', 'sarafian', 'sunways', 'diller', 'hyman', 'furie', '5.0', 'karzis', '4000', 'braugher', 'linney', '4.3', 'hoffmann', 'yoshida', 'roebuck', 'nevsky', 'alaskan', '7.3', 'giordano', '305', 'oklar', 'ewing', 'scarman', 'montenegro', 'deedee', 'emran', 'cristo', 'tgif', 'koltai', 'metcalfe', 'raimy', 'weinberg', 'hodges', 'yvan', 'attal', '713', 'macabra', 'lettieri', 'shecky', 'fitzpatrick', 'gustav', 's.w.a.t.', 'balrog', 'ubasti', 'bochco', 'natascha', 'paulsen', 'rushton', 'fedja', 'amati', 'rolf', 'naughton', 'cravens', 'bening', 'mangeshkar', 'conklin', 'gojira', 'lovejoy', 'birney', 'steinberg', 'rinaldi', 'jbl', 'jehovah', 'paraguay', 'etienne', 'starbase', 'talosians', 'houellebecq', 'dumroo', 'sharman', 'judah', 'xander', 'dkd', 'halicki', 'newell', 'popwell', 'gaffikin', 'haddonfield', 'kincaid', 'leiji', 'paulin', 'burwell', 'edwige', 'gastaldi', \"l'anglaise\", 'bayliss', 'kaplan', 'm.a.s.h.', 'bigalow', 'aisling', 'scrooged', 'chungking', '106', 'saskatchewan', 'kiel', 'munchausen', '1894', 'blanchett', 'gavras', 'kunis', 'fillmore', 'matondkar', 'faat', 'oskar', 'scacchi', 'mclaughlin', 'deth', 'nosey', 'alyson', 'machesney', 'watership', 'chewie', \"l'amour\", 'cujo', 'witney', 'cahulawassee', 'sweeny', 'rheostatics', 'trotti', 'moyer', 'avco', 'mauricio', 'shuddery', 'germanic', 'shugoro', 'quaien', \"d'onofrio\", 'kollos', 'thuy', 'cundieff', 'renard', 'roald', 'irak', 'glickenhaus', 'alyn', 'capone', 'verdon', 'nagurski', 'audie', 'butante', 'launius', 'malthe', 'jakub', 'konchalovsky', 'windman', 'compton', 'carpathian', 'aragami', 'ryuhei', 'lamia', 'taye', 'engrish', 'ashwar', 'lacanian', 'travellers', 'thumbtanic', 'zenda', 'olmos', 'zooey', 'foulkrod', 'mckidd', 'shaloub', 'hyser', 'aztecs', 'devlin', 'milford', 'trina', 'corregidor', 'divorc', 'ojibway', 'darkheart', 'cassini', 'charel', 'autry', 'm.r.', 'gadar', 'kunal', 'quintana', 'heinrich', 'korolev', 'j.p.', 'kruschen', 'meysels', 'falken', 'moonchild', 'eppes', 'puertorican', 'brophy', 'rayford', 'christmases', 'isobel', 'vigo', 'tetsuro', 'practise', 'pritam', 'therese', '1890s', 'bislane', \"'cos\", 'dcom', 'jule', \"o'herlihy\", 'sidaris', 'glenne', 'avigdor', 'hadass', 'anschel', 'uribe', 'mordor', 'bartlett', 'grossman', 'jacquet', 'khakee', 'rudi', 'gordan', 'ebsen', 'winstone', 'verneuil', 'eliot', \".don't\", 'jabez', 'kurasowa', 'neweyes', 'micawber', 'zola', 'muffat', 'yolande', 'alecia', 'onassis', 'zoey', 'haddad', 'kochak', 'drablow', 'goro', '116', 'z.i.t.', '1859', '5.5', 'ferrara', 'vern', 'armitage', 'schaffner', 'linderby', 'sergius', 'bauraki', 'mccall', 'jasbir', 'zaz', 'burgundians', 'radford', 'geisel', 'kyd', 'kimmy', 'daniell', 'vito', 'albeniz', 'murdstone', 'burgi', 'klute', 'turhan', 'elyse', 'hadleyville', 'dornwinkle', 'cardos', 'mazovia', 'bullwinkle', 'arliss', 'imelda', 'scapinelli', '109', 'hobbs', 'heorot', 'sarpeidon', 'roxbury', 'yakitate', 'baretta', 'yoshitsune', 'slesinger', 'shigeru', 'ge999', 'masako', 'hyrum', 'guthrie', 'spanjers', 'antonius', 'elli', 'brentwood', 'lagosi', 'fortier', 'cothk', 'parn', 'mensonges', 'pendelton', 'commender', 'assan', 'gainsbourgh', 'ryoko', 'tesis', 'mouton', 'gouald', 'ironsides', 'aito', 'shushui', 'alois', 'vampiros', 'fiorentino', 't.k.', 'maloni', 'terkovsky', 'childress', 'mulcahy', '5.3', 'adela', 'leire', 'octavia', '300,000', 'akins', 'wolske', 'organise', 'extase', 'riefenstahl', '1901', 'unrecognisable', 'terrorise', 'fermat', 'demian', 'joaquim', 'geraldo', 'ticotin', 'leeves', 'honoured', 'haun', '23rd', 'counsellor', 'escher', 'brasco', 'heywood', 'corby', 'conran', 'farris', 'rodentz', '33.1', 'bulgakov', 'mcavoy', 'guatemala', 'morteval', 'julissa', 'fothergill', 'emphasise', 'criticising', 'zombiez', 'hedley', 'nietzche', 'abrams', 'brigitta', 'loonatics', 'davinci', 'witchblade', 'etebari', '29th', 'enoch', 'tomlin', \"j'taime\", 'lagaan', '3.2', 'chazen', 'yugoslavian', 'belmore', 'tillman', '40,000', 'lombardi', 'gitai', 'manojlovic', 'stribor', 'nietzschean', 'l.q.', 'thalmus', 'rasulala', 'luva', 'callar', 'caddyshack', 'weide', 'smouldering', 'tiomkin', 'schramm', '1907', 'delany', 'marlow', '40th', 'mongol', 'bruckner', 'yeardley', 'columbian', 'hinglish', '1700', 'ziab', 'britains', 'dragonlord', 'bryson', \"make'em\", 'sebastien', 'jeremie', 'genghis', 'aslan', 'londoners', 'shintar', 'mt.', 'sasaki', 'mistry', 'showerman', 'kitano', '1910s', 'smmf', 'vladimir', 'nastasya', 'valcos', 'zimbalist', 'casomai', 'jorgen', 'bedi', 'dd5.1', 'brannigan', 'analyses', 'womanising', 'babaloo', 'borga', 'jannetty', 'zod', 'mustan', 'ashby', 'ganzel', 'j.j', 'bartleby', '1200', 'blackbriar', 'vosen', 'bobba', 'tallinn', 'mojave', 'klenhard', 'tatsuya', 'pressly', 'bacharach', 'lwr', 'mcclane', '.you', 'seaquest', 'friz', 'bhoomika', 'joachim', 'fuchsberger', 'seti', '7.6', 'lafont', 'beno', 'poelvoorde', 'powerpuff', 'brandauer', 'clancy', 'hedwig', 'algiers', 'h.r.', \"ya'ara\", 'baumer', 'micmac', 'humoured', 'kaufmann', 'arcand', 'georg', 'rivalled', 'ddlj', 'sonali', 'mcpherson', 'ewok', 'luft', 'boondock', 'davitz', 'immortel', 'margaretta', 'gustave', 'hulchul', 'filmfour', 'jaques', 'fulfilment', 'baftas', 'yasbeck', 'idris', 'varney', 'suliban', 'jolene', 'renying', 'wildside', 'samaire', 'vaugier', 'jole', 'birnley', 'macdougall', '1.4', 'karamchand', 'steenburgen', 'pretence', 'julianna', 'racheal', 'blackwell', 'northanger', 'stephenson', 'stephane', 'metzger', 'goldfinger', 'naudets', 'hindenburg', 'cheeni', 'wickerman', 'oslo', 'kruis', 'carrington', 'emeric', \"dodes'ka\", 'ikiru', 'tolbukhin', 'dereks', 'ruthie', 'pensacola', 'schieder', 'doughnut', 'pendragon', 'wilke', 'vilmos', 'zsigmond', 'tatiana', 'papamoschou', 'loeb', 'renyolds', '70ies', 'americanism', 'willoughby', 'whitlock', 'rickles', 'senegal', 'verducci', 'valenti', 'worshipped', 'decoteau', 'bernal', 'premutos', 'lecarr', 'hopcraft', 'm.o.', 'morell', 'pierrot', 'viy', 'dammes', 'charly', 'papua', '9.0', '8.7', 'blais', 'lumbly', 'frith', 'dobkin', 'moulded', 'logand', 'crichton', 'mathew', 'derri', 'denton', 'fabrizio', 'gulager', 'jobeth', 'vitti', 'emphasises', '59', 'akroyd', '5.9', 'dolan', 'klaws', 'lollo', 'riva', 'enrique', 'jarre', \"goin'\", 'katelin', 'j.d', 'romola', 'cloverfield', 'whitmore', 'bodrov', 'tanny', 'svendsen', 'mathau', 'nightwing', 'hamish', 'montmirail', \"70's\", 'groucho', 'cosmatos', 'cusacks', 'turandot', 'fillion', 'davison', 'mcinnes', 'himesh', 'danzig', 'parton', 'b.c.', 'delilah', 'gulliver', '.in', 'demongeot', 'jeffersons', 'blankman', '168', 'keene', 'bartley', 'donnacha', 'jorja', 'rajnikant', 'mmpr', '2.99', 'taryn', '50th', 'ogilvy', 'usmc', 'timbo', 'shannyn', 'parisien', 'renaldo', 'harling', 'zealanders', 'emmanuel', 'dailey', 'dewitt', 'bukater', 'sumatra', 'skinemax', 'summarises', 'ilene', 'ghajini', 'bhatt', 'jaitley', 'womaniser', 'mccort', 'mitali', 'johar', 'aatish', '10.00', 'nuremburg', 'spurlock', 'fearnet', 'glengarry', 'lavelle', '31st', 'halliburton', 'kellogg', 'kirin', 'desiree', '80,000', 'johnathon', '.he', 'counselling', 'tiffani', 'theissen', 'altamont', 'dresden', 'soliti', 'ignoti', '0080', 'one!.', 'kassovitz', 'dorian', 'sheeba', 'saire', 'luftwaffe', 'malika', 'giurgiu', '00pm', 'juhee', 'sirpa', 'oirish', 'moovies', 'suwa', 'ulliel', 'ludivine', 'sagnier', 'ardant', 'beslon', 'kramp', 'macneille', 'anoes', 'kumble', 'claudine', 'guyana', 'soninha', 'hubert', 'aronofsky', 'segel', 'stewarts', 'p.t.', 'futurama', 'materialise', 'trammell', 'gwar', 'englishmen', 'fransisco', 'capitalise', 'franky', 'ramsay', 'quine', 'sabine', 'wexler', 'arkush', 'hospitalised', 'fleetwood', 'khleo', 'ioan', 'gruffudd', '1880s', 'ballentine', 'bertie', 'dirks', 'faggot', 'stormriders', 'russels', 'eichmann', 'margolin', 'keefe', 'splendini', 'spence', 'hossein', 'winkelman', 'duchaussoy', 'deana', '2017', 'finnerty', 'carmella', 'kapture', 'squarepants', 'ancona', 'beverley', 'mopsy', 'quadrophenia', 'ephron', 'pepto', 'hyland', 'paredes', 'l.a', 'ryo', 'manville', 'herschell', 'schreiber', 'feldshuh', 'yojimbo', 'dickenson', 'maloney', 'schrage', 'samir', 'haynes', 'estevez', '1906', 'pepoire', 'glyn', 'totoro', 'nicholls', 'maxine', 'rosza', 'bnl', 'balki', 'dunham', 'alecky', 'jimenez', 'gayniggers', 'kleinfeld', 'langdon', 'coates', 'murvyn', 'semra', 'turan', 'gustad', 'verona', 'jurado', 'polay', 'categorised', 'feifel', 'shaye', 'manfredini', 'utilises', '1905', '74th', 'nakamura', 'salvador', 'hollander', 'ceausescu', 'cahiers', 'cartland', 'elina', '.45', 'duchovony', 'sensationalised', '146', 'dobb', 'vanhook', 'abydos', 'sgc', 'backula', 'deighton', 'sigrid', 'lucius', 'ishmael', 'mastrosimone', 'leisin', 'braselle', 'klever', 'superbabies', \"je'taime\", 'bartha', 'yelchin', 'felton', 'titus', 'alton', 'kaminska', 'swoozie', 'swinson', 'koechner', '7.2', '1861', 'missie', 'schmitz', 'lestrade', 'blanchard', 'macguffin', 'romulus', 'acapulco', 'kenner', 'winslow', 'topkapi', 'slingblade', 'mesmerised', 'blacksploitation', 'teffe', 'tripp', 'speer', 'belleville', 'mcchesney', '1,500', 'ironhead', '5.99', 'knott', 'lazarus', 'lonnrot', 'shortland', 'equalled', 'animaniacs', 'frankenhimer', 'falwell', 'rwanda', 'shanley', 'gozu', '30mins', 'federico', 'spiegel', 'acosta', 'archaeology', 'weighill', 'britian', 'hessler', 'drusse', 'kotex', 'alessandra', 'majkowski', 'murrow', 'marseilles', 'fishbourne', 'gregor', 'edgerton', '7.00', 'l.d.p.', '115', 'lovecraftian', 'medved', 'ringwraiths', 'fleisher', 'hefner', 'coronel', \"l'avventura\", 'huet', 'marivaux', 'c.s.', 'kadee', 'luxembourg', 'joby', 'umney', 'washburn', 'camus', 'clio', '9.50', 'paymer', 'redmon', 'wladyslaw', 'maddie', 'marci', 'kimmell', 'dollman', '5.6', '1896', 'filmaking', 'parinda', 'platt', 'galico', 'gabor', 'kinkade', 'j.c.', 'rateyourmusic.com', 'fedor8', 'schiff', 'c.i.a.', 'alaric', 'marnac', 'heidelberg', 'mayans', 'bilson', 'kolker', 'cavett', 'mpk', 'anjaane', 'boheme', 'adler', 'bennet', 'louisa', 'kagemusha', 'dalloway', 'verheyen', 'aeroplane', 'vres', 'stickney', 'sokurov', 'imrie', 'beccket', 'irvin', 'westley', 'rhames', 'sharifah', 'nykvist', 'pembleton', 'vicente', 'marta', 'yowsa', 'gorbunov', 'gerolmo', 'j.p', 'hollywoodland', 'carerra', 'killearn', 'keir', 'argyll', 'virgina', 'jeyaraj', 'corbucci', 'nyaako', 'semetary', 'couturie', 'remar', 'delbert', '1100', 'moroni', 'elwes', 'rennt', 'janel', 'henny', 'mandylor', 'timo', 'utilise', 'meiks', 'ulee', 'crewson', 'barbi', 'inoue', 'part1', 'zarchi', 'clouse', 'sarducci', 'kashakim', 'mclean', 'barrat', 'glimcher', 'voyna', 'duccio', 'carrol', 'higuchi', 'nargis', 'mikhail', 'moffat', 'galen', 'kovacks', 'florey', 'munson', 'austrians', 'jeeves', 'dussolier', '14a', 'michalka', 'hollywoods', 'tojo', 'raffy', 'satyricon', 'virtzer', 'blindpassasjer', 'frazee', 'brancovis', 'cammareri', 'tombes', 'hebetude', 'fraidy', 'u.n.c.l.e.', 'maury', 'vovochka', 'lybbert', 'wust', 'jiri', 'mcginley', 'masanori', '4.50', 'golino', 'reprised', 'strasberg', 'amagula', 'sridevi', 'ruka', 'janeiro', 'ayres', 'movie!.', 'incas', 'marienbad', 'cianelli', 'calitri', 'delroy', 'olyphant', 'rutledge', 'freya', 'liceman', 'walentin', 'bissonnette', 'mcelwee', 'dempster', 'wopat', 'fishburn', 'virginya', 'keehne', 'willaim', 'municipalians', \"l'age\", 'bogosian', 'petr', 'claremont', 'splendour', 'wittenborn', 'buaku', 'stroup', 'hoyo', 'savoured', 'margotta', 'rubik', 'splittingly', 'dieterle', 'lezlie', 'cellach', 'loder', 'c.r.a.z.y.', 'toole', 'machacek', 'neilsen', 'rosencrantz', 'wynorski', 'xtro', 'renfield', 'benefices', 'waggoner', 'kinka', 'samways', 'malcomson', 'dehner', 'j.b.', 'lenoir', 'buckley', 'ranvijay', 'anika', 'emmerich', 'hansel', 'rousseau', 'fdny', 'zerelda', 'kazumi', 'suba', 'hercule', 'argonne', 'yeaworth', 'setton', 'tristain', 'viktor', 'baranski', 'tusshar', 'bandini', 'obcession', '8.50', 'jordanian', 'mib', 'guillaume', 'yoakum', 'keisha', 'neighbouring', 'gallactica', 'wlaschiha', 't.j.', 'bekmambetov', 'pykes', 'howes', 'phillipines', 'serbedzija', 'soid', 'butthorn', 'monkees', 'blom', 'summerisle', 'srebrenica', 'stiffler', 'kabuto', 'eszterhas', 'mohicans', 'puertoricans', 'trintignant', 'giuliani', 'tulkinghorn', 'smallweed', 'wayland', 'grainger', 'lottie', 'q.e.d.', \"o'dell\", 'dumann', 'backus', 'longenecker', 'overman', 'whitfield', 'r2d2', 'dethman', 'dmd', 'riegert', 'tomanovich', 'carruthers', 'salka', 'followable', 'shusuke', 'kaneko', 'enamoured', 'potemkin', 'schofield', 'grunberg', 'smight', 'kafkaesque', 'naseeruddin', 'matographe', 'hotd', 'johannes', 'lemoine', 'spiventa', 'lyu', 'medeiros', 'jamestown', 'montagu', 'daggett', 'imanol', 'ashleigh', 'jayston', '750,000', 'bertille', 'bruneau', 'benji', 'aryeman', 'szwarc', 'amphibulos', 'boulting', 'siberling', 'burnstyn', 'lind', 'strickler', 'napton', 'suicune', 'partanna', 'indochine', 'carrillo', 'agonising', 'koteas', 'mannu', 'massude', 'keko', 'sichuan', 'ludwig', 'parkersburg', '7.8', 'reverand', 'adelle', 'knieval', 'hickland', 'hessling', 'goldoni', 'schmeeze', 'gwenneth', 'ardala', '206', 'bronstein', 'muldaur', 'borje', 'anka', 'gemser', 'bhamra', 'osric', 'bertin', 'timecop', 'rasputin', 'terrorised', 'perinal', 'mias', 'cort', 'franke', 'fozzie', 'vholes', 'landry', 'huac', 'pettyjohn', 'peppoire', 'ioana', 'pierpont', 'martinaud', 'gallien', 'trevethyn', 'shabana', 'azmi', 'kolchack', 'teddi', 'devane', 'boland', \"'nuff\", 'wippleman', 'mumtaz', 'nakadei', 'deerhunter', 'nosbusch', 'lovett', 'miikes', 'vogel', 'mstie', 'scepticism', 'shangai', 'l.l.', 'krisana', 'matiss', 'johnathan', 'supermarionation', 'getz', 'torme', 'mekum', 'marischka', 'ebts', 'rennes', 'raveena', 'algie', 'ziv', 'dbd', 'yoji', 'tomiche', 'yolanda', 'deathline', 'nieztsche', 'rosenman', 'jiggs', 'f.b.i.', 'artie', 'bugsy', 'ballesta', 'vampira', '6.6', 'ramala', 'gibney', 'watch!.', 'bleibtreu', 'metschurat', 'cardinale', 'nauvoo', 'o.j', 'freiberger', 'trueba', 'dufy', 'lautrec', 'bickford', 'landa', 'deerfield', 'ewell', 'offon', 'marti', 'swayzee', 'kellaway', 'harlock', 'destry', 'standa', 'crocky', 'amato', 'osment', 'lohde', 'dumont', 'inuit', 'bernarda', 'ohtar', 'deidre', 'tingwell', 'mariscal', 'nidia', 'heyman', 'wagnard', 's2rd', 'zeman', 'marylin', 'ekspres', 'nelkin', 'riah', 'hildebrand', 'u.s.s.', 'mtf', 'pacios', 'gordy', 'ormond', 'ranko', 'bozic', 'takeko', 'deedlit', 'filmirage', '4kids', 'hanfstaengl', 'cebuano', 'chans', 'sanguisuga', 'buzaglo', \"go'ould\", 'appollo', 'simonetta', 'broome', 'zapruder', 'm.o', 'cundey', 'laraine', 'moriarity', 'najwa', 'nimri', 'maricarmen', 'cinderellas', 'wadd', 'dehavilland', 'fortunetly', 'manfredi', 'quixote', '1863', 'baldwins', 'riped', 'karvan', 'stonehenge', 'beresford', 'pg13', 'hollyweird', 'kyrano', 'bobbi', 'hardgore', 'tamakwa', 'sitka', 'elga', 'megadeth', 'muco', 'cathie', 'd.v.d.', '.a', '.for', 'kinear', 'deknight', 'lusitania', 'koun', 'soraj', 'vishk', 'tait', '1847', 'ignatius', '12,000,000', 'garrigan', \"l'eclisse\", 'orkly', 'treebeard', '2200', 'enid', 'brutus', 'sawney', \"o'grady\", 'darrin', 'lockwood', 'clenteen', 'beart', 'addams', 'shikoku', 'hassett', '270', 'staten', 'barbour', '2.00', 'varela', 'garp', '2600', 'tomita', 'blaisdell', 'y.o', 'sharikov', 'rier', 'serbians', 'bosnians', 'quayle', 'dobie', 'horvitz', 'drexler', 'teesri', 'pergado', 'wisbar', 'rutkay', 'darlanne', 'tagawa', 'jiminy', 'deklerk', 's.a.', 'davalos', 'giancaspro', 'kimmel', 'macrae', 'swanberg', 'bosch', 'jayma', '38th', 'tanger', 'abm', 'guillame', 'hogbottom', 'tavernier', 'clouzot', 'silverlake', 'rockwood', 'smilodon', 'celebei', 'roderick', '1839', 'fictionalised', 'schroder', 'azkaban', 'magorian', 'revelled', 'irby', 'neul', 'dobermann', '138', 'mirrormask', 'poseidon', 'sardinia', 'lavigne', 'cousteau', 'around!.', 'amazing!.', 'it!.', 'naunton', 'navokov', 'tenuta', \"z'dar\", 'carribbean', 'robi', 'h.e.a.l.t.h.', 'indra', 'pyare', 'kyra', 'silvestro', 'sheiner', '.after', 'toulouse', 'cassanova', 'garafolo', '1h40', 'cecile', 'katona', 'ione', 'ludvig', 'rosanne', 'b.o.', 'kubricks', 'mcnealy', 'toulon', 'enjolras', 'thenardier', 'practising', 'carridine', 'deere', 'racquel', 'bombadier', 'shafeek', 'bhatti', 'americanised', 'daisuke', 'lymon', 'libbing', 'scofield', 'pressley', 'fibre', 'tessie', 'treadstone', 'movie.there', 'mathurin', 'jonker', 'kristina', 'eurohorror', 'nightfire', 'heep', 'astrid', 'shashonna', 'gatiss', 'shearsmith', 'mykelti', 'artimisia', 'kookoo', 'raposo', 'mingozzi', 'casares', 'klebold', 'epitomises', 'raphaelson', 'agusti', 'casamajor', 'r.i.p', 'pollan', 'hollister', 'tricia', 'convoyeurs', 'mortenson', 'mohabbatein', 'preiti', 'picturised', 'bertinelli', 'petronius', '1903', 'tunnelvision', 'hornophobia', 'unfavourable', 'durga', 'dharmendra', 'winsor', 'roque', 'vlissingen', 'tami', 'rowell', 'disneynature', 'japrisot', \"l'ami\", 'pufnstuff', 'stavros', 'wiest', 'greenquist', 'incredibles', 'gershwins', '0.1', 'bertram', 'kegan', 'gettaway', '163', 'blandick', 'carri', 'famke', 'kronos', 'alanis', 'morrisette', 'megalon', 'jorg', 'pinkerton', '1865', 'quillan', 'merkel', 'cinemaphotography', 'rajini', 'wehrmacht', 'merquise', 'niklas', 'olsson', 'mikael', 'lennart', 'elba', 'langford', 'tenko', 'dominica', 'jillian', 'ryunosuke', 'kamiki', 'lashelle', \"o'flaherty\", 'armoury', '24th', 'brannon', 'mcgreevey', 'mumy', 'hedren', 'johnstone', 'stoddard', 'a.e.', 'f.murray', 'consuelo', 'fedele', 'paluzzi', '.then', 'geli', 'margulies', 'esmond', 'rubens', 'analysing', 'watch?v', 'natividad', 'ackerman', 'castelnuovo', 'dumas', 'lustre', 'upn', 'nekhron', 'dragonheart', \"60's\", 'jost', 'flatley', 'norsk', 'norwegians', 'keats', 'dagon', 'ichikawa', 'willian', 'nirupa', 'octavian', 'sondre', 'finnegan', 'nitti', 'mehmet', 'whoppi', 'ctu', 'kohner', 'sodomizes', 'paley', 'redlitch', 'srbljanovic', 'hamil', 'clayface', 'rantzen', 'theodor', 'film.the', 'd.j', 'doggett', 'fiza', 'bremner', 'danube', 'daltrey', 'entwistle', 'r.c.', 'wilfrid', 'aylmer', 'gogol', 'eamonn', 'waxman', 'aimants', '.at', 'kreuger', 'tromaville', 'bayonne', 'reidelsheimer', 'trelkovski', 'karyo', 'ha!ha!ha', 'bbfc', 'colonised', 'samoans', 'heldar', 'chinnery', 'jarrell', 'sardo', 'numspa', 'iamaseal2', 'nyman', 'lakhan', 'publicised', 'toomey', 'skala', 'selden', 'meighan', 'voltron', 'fantastic!.', 'altagracia', 'brion', 'arnett', 'schoen', 'roquevert', 'pilar', 'daraar', 'arbaaz', 'bankol', 'giulia', 'hinkley', 'estela', 'sellars', 'arthurian', 'hippler', 'sisley', 'garai', 'dinosuars', 'aerobicide', 'bogdonovich', 'schiller', 'manhunter', 'blenheim', 'shriver', 'niels', 'matilda', 'keye', 'gravedancers', 'walther', 'duquesne', 'elmann', 'sergent', 'brull', 'tessa', 'putman', 'loreen', 'witchfinder', 'chagos', 'parsifals', 'bayreuth', 'kutter', 'benita', 'leadenly', 'danis', 'p.o.w.', 'uppance', '1892', 'willett', 'brickman', 'noin', 'khmer', 'cornwell', 'youngberry', 'colouring', 'bonesetter', 'yulin', 'umbopa', 'memama', 'arses', 'reif', 'regehr', 'larrazabal', 'rouen', 'purcell', 'aristide', 'southpark', 'piana', 'tlps', 'wnsd', 'winslett', 'hockley', 'tayback', 'arvanitis', 'homeric', 'telemachus', 'andalou', 'razdan', 'elka', 'steptoe', 'fari', 'malishu', 'kleist', 'snoodle', 'aetheist', 'wrestlemanias', 'hotz', 'frenais', 'stratham', 'asuka', 'himmler', 'armando', 'menotti', 'lineker', 'shilton', '1798', 'dasilva', \"1930's\", 'septimus', 'charlene', 'katakuris', 'roswell', 'rtl', 'valarie', 'donaldson', 'montesi', 'girard', 'brookmyre', 'nesbitt', 'gloster', 'cavegirl', 'mccomb', 'miyagi', 'goire', 'tlk', 'good!.', 'viciente', 'cristian', 'minimise', 'alahani', 'capulet', 'mercutio', 'obrow', 'krajina', 'izetbegovic', 'phipps', 'williamsburg', 'keeyes', 'napoleonic', 'farquhar', 'intenseness', 'cameroonian', 'jeanson', 'aumont', 'atmosph', 'talkiest', 'homerian', 'mazurki', '134', 'nobuhiro', 'gaspard', 'crosscoe', 'brandner', 'marybeth', 'cogan', 'lenore', 'sebastain', 'ilya', 'tandy', 'wildfell', 'heffer', 'lideo', 'kinsella', 'prancer', 'stanze', 'sebasti', 'mettler', 'sceptic', 'execrably', 'udia', 'alsanjak', '9.00', 'maronna', 'lintz', 'damascus', 'ferroukhi', 'lieh', 'chaliya', 'chandrasekhar', 'akshey', 'dupia', 'powaqqatsi', 'rajkumar', 'unrecognised', 'thugees', 'latifah', 'i.r.s.', 'broadhurst', 'qissi', 'citroen', 'lilli', 'coolne', 'theby', 'tewksbury', 'thuggees', 'cecily', 'bloodsurfing', 'aryans', 'weired', 'styx', 'vlady', 'mccoys', 'ripa', 'ugo', 'formulae', 'a.j.', 'kops', 'liebmann', 'm.d.', '4,5', 'hulkamaniacs', 'haku', 'volkoff', 'kushrenada', 'mcintosh', 'odessa', 'scrye', 'damita', 'oiran', 'hutchison', 'munroe', 'inagaki', 'clarksberg', 'kieth', 'haldane', 'hooverville', 'swerling', 'lindum', 'qe2', 'giacomo', 'pearlman', 'impaler', 'schubert', 'www.invocus.net', 'rhind', 'tutt', 'farceurs', 'umrao', 'mohnish', 'perrault', 'lilian', '0.02', 'monette', 'hendry', 'grandin', '30min', 'gomer', 'adoree', 'pringle', '1911', 'tunisia', 'bastedo', 'sharron', '30pm', '5.7', '15s', 'salkow', 'hotch', '1780s', 'baichwal', 'gaspar', 'rinna', 'engle', 'tantalising', 'brunhilda', 'penquin', 'marmont', 'botticelli', 'farentino', 'lerman', 'alvarez', 'eglimata', 'cohan', 'vitaphone', 'staller', 'macliammoir', 'tacones', 'lejanos', 'whig', 'ripstein', 'llosa', 'crowhaven', 'soze', 'rohinton', '7.50', 'cooley', 'hitlers', '183', 'nessun', 'nukem', 'doddsville', 'dugdale', 'tashlin', 'faustian', 'zapata', 'greenberg', 'lancelot', 'bronston', 'guzm', 'gruver', 'katsumi', 'miiko', 'baryshnikov', 'herzegovina', 'romanians', 'alisha', 'lumieres', 'maitland', 'sheri', 'carpathia', '25.00', 'locken', 'grauer', 'paoli', 'silberman', 'rodrigues', 'boerner', 'frazer', 'vala', 'sharyn', 'moffett', 'campell', 'accorsi', 'troi', 'chakotay', 'neelix', \"b'elanna\", 'mulgrew', 'pangborn', 'beurk', '131', 'britishness', 'blackbuster', 'dhiraj', 'reshammiya', 'yamaguchi', 'deran', 'corp.', 'audley', 'verna', 'heisenberg', 'fremantle', 'hymer', 'moreland', 'batali', 'kadar', 'materialises', 'emmerson', 'hickham', \"cgi'd\", 'scottie', 'rolfe', 'humma', 'shivam', 'dinotopia', 'vollins', 'cornelius', 'pruneface', 'remus', '571', 'silverado', 'mcfly', 'axton', 'chopin', 'hhe2', '12a', 'greyson', 'thomsett', 'i.t.v.', 'cosy', 'film.i', 'sartana', 'jeri', 'keneth', 'schwarzeneggar', 'elsie', 'pickwick', 'trouby', 'yuki', 'osiris', 'halliday', 'marshmorton', 'pasternak', 'doreen', 'sequiters', 'zelinas', 'conlin', 'goryuy', 'goonie', 'ashkenazi', 'kingsford', 'higgin', 'emilie', 'glynn', 'mccarthyism', \"o'callaghan\", 'snart', 'trekovsky', 'riviere', 'fulgencio', 'picchu', 'moskowitz', 'lindberg', 'svu', '607', 'kiesler', 'voigt', 'ratzo', 'laydu', 'geroge', 'parisians', 'arwen', 'avenet', 'crusoe', 'lefler', 'koolhoven', 'zaara', 'deewaar', 'quimby', 'madolyn', 'cassell', 'merton', 'ekland', 'mccloud', 'chrissie', 'einstien', 'iwo', 'dawsons', 'manawaka', 'broughton', 'modernised', 'mohd', \"d'oh\", 'aleisa', 'sotos', '.see', 'hayenga', 'rodman', 'flender', 'blog.myspace.com', 'locoformovies', 'theopolis', 'lightfoot', 'yuy', 'trowa', 'sheba', 'johannesburg', 'macleans', 'pierson', 'akosua', 'busia', 'roberson', 'fanu', 'fortinbras', 'paradorian', 'evita', 'don?t', 'elster', 'mabille', 'lancr', 'ingred', 'mormonism', 'sipus', 'marriott', 'santorini', 'christmastime', 'roslin', 'ajnabi', 'hssh', '1.99', 'weinbauer', 'cloney', 'wishman', 'dionna', 'zorie', 'masterpeice', '125', 'yawk', 'cherbourg', 'faison', 'carstone', 'albertson', 'lestat', 'mochcinno', 'velva', 'venezuelans', 'inskip', 'brackett', 'sheena', 'desplat', 'giullia', 'ziva', 'rodann', 'rajnikanth', 'vestron', 'iliopulos', 'ap3', 'picardo', 'rawanda', 'majidi', 'kael', 'saito', '26th', 'heggie', 'avonlea', 'sepet', 'aryana', 'naswip', 'quitte', 'secor', 'hebert', 'blasco', 'bukhanovsky', 'zantara', 'it?who', 'breslin', 'dingman', 'moira', 'steffania', 'tomasso', 'hlots', 'pumpkinhead', 'tallin', 'pimeduses', 'monika', 'thanatos', 'auggie', 'ciano', 'wusa', 'scandanavian', 'specialised', 'practised', '.44', 'hiram', 'nyatta', 'mignard', 'blankfield', 'tenberken', 'aguirre', 'hernando', 'sollace', 'lemuria', 'berardinelli', 'klaveno', 'souler', 'bffs', 'blitzstein', 'tropi', 'farrellys', 'daines', 'losch', 'persbrandt', 'chirin', 'rosenstein', 'fitzsimmons', 'goode', 'ferdy', 'yoshio', 'instalments', 'exploitational', 'horrorvision', 'marblehead', 'deltoro', 'isoyg', 'blakely', 'dreamquest', 'flintstones', 'griswalds', 'raskin', 'genderbender', 'ciar', 'thigpen', 'forsyte', 'hollywoodian', 'hurrah', 'vapoorize', 'aquarius', 'mickie', 'kawai', 'schaeffer', 'movie.the', 'urmilla', 'merkle', \"80's\", 'brommell', 'klemper', 'denys', 'cassevetes', 'redlich', 'moonraker', 'councellor', 'dedee', 'muncie', 'clarice', 'cgis', 'hagerthy', \"i'l\", 'suvari', 'bechstein', 'marcie', 'utilising', 'alix', 'velde', 'nastie', 'galindo', 'rnrhs', 'everly', 'blacula', 'hamlisch', 'zmed', 'catalunya', 'mesurier', 'farsi', 'luckett', 'diabo', 'zohar', 'lior', 'flds', 'bringsv', 'gimli', 'sintown', 'manticore', 'hodiak', 'orloff', 'pianiste', 'd.b.', 'p.o.s.', '232', 'ilse', 'tressa', 'meeks', 'noelle', 'estella', '47s', 'afrika', 'kasey', 'alejandra', 'xtian', 'aranoa', 'sarro', 'huffman', 'otami', 'belgians', 'd.v.d', 'religulous', 'thaddeus', 'cajuns', 'darro', 'berton', 'daisenso', 'songling', 'aicha', 'mongols', 'rublev', '1853', 'foabh', 'osmond', 'mclaglan', 'tremblay', 'phedon', 'papamichael', 'lamborghini', 'kanwar', 'centrepiece', 'jir', 'tremell', 'mcraney', 'longstreet', 'eastland', 'baise', 'schoedsack', 'kaajal', 'thorsen', 'heusen', 'poston', 'jafa', 'g.w.', 'soderberg', 'prunella', 'stadvec', 'shamroy', 'michal', 'bluto', 'antheil', 'roemheld', 'fennie', 'gaynor', 'seseme', 'pygmalion', 'bluntschli', 'unferth', 'corsaire', 'falcone', '4.00', 'stackhouse', 'lugacy', 'klum', 'lemay', 'paton', 'chapelle', 'powerglove', '90,000', 'jaque', 'valhalla', 'mintz', 'plasse', 'willona', 'corcoran', 'haara', 'bonaparte', 'rouveroy', 'parmistan', 'weixler', 'tenshu', 'heino', 'zimmermann', 'boswell', 'jessup', 'larner', 'theodorakis', 'odette', 'esoterics', 'synthesiser', '99p', 'maffia', 'maroney', 'deane', '15,000.00', 'ebeneezer', 'shrewsbury', 'corbetts', 'lebeau', 'levenstein', 'macedonian', 'klemperer', 'guildenstern', '1.5hrs', 'maughan', 'beane', 'heronimo', 'koppikar', 'ranjit', 'cfto', 'ctv', 'carolingians', 'beesley', 'zorba', 'tenney', 'kolya', 'jarryd', 'anubis', 'fenn', 'duchovney', 'gagnon', 'bataan', 'lainie', 'usaf', 'gretel', 'jgar', 'particolare', 'grinnage', 'sofaer', 'e.r.', 'hideaki', 'headley', 'monicelli', 'bombadil', 'miniver', 'cancelling', 'cathrine', 'randi', '1888', 'coscarelli', 'tachigui', 'yamadera', 'lakewood', 'smitrovich', 'aribert', 'zinn', 'prussia', 'oct.', 'grenier', 'schnitzler', 'augusten', 'macliamm', 'mcgoohan', 'gershuni', 'linaker', 'necroborg', 'crapness', 'demond', 'gwyne', 'synchronised', 'nickleby', 'giaconda', 'ishai', 'mimzy', 'gandhiji', 'flemyng', 'henrietta', 'templeton', 'yugi', 'yami', 'khemu', 'hollywoodish', 'brennen', 'jerilderie', 'levens', 'leatherfaces', 'shenzi', 'poulain', 'remi', 'gagarin', 'munnabhai', 'nibelungenlied', 'canfield', 'poolman', 'nimitz', 'kotero', 'pitzalis', 'schlatter', 'bowm', 'arby', 'c.a.', 'sympathising', 'dhavan', 'yasmine', 'wopr', 'shiraki', 'legros', 'outkast', 'endeavours', 'creasey', 'unassured', 'dobbs', 'lydon', 'speakman', '1820', 'wellesian', 'patrica', '28th', 'milhalovitch', 'swann', 'lenzi', 'naura', 'riead', 'knb', 'gurinder', 'choisy', 'seydou', 'mizer', \"l'arc\", 'zira', 'supermans', 'puroo', \"o'daniel\", 'wolfen', 'baudelaire', 'f.u.', 'chiklis', 'hoyts', 'natica', 'kiyoshi', 'jaglom', 'ardour', 'f16', 'viertel', 'ragland', 'oblowitz', 'roundtree', 'leclerc', 'coombs', '9.8', '70th', 'persepolis', 'komomo', '1824', 'perrine', 'jumanji', 'ophuls', 'lisbeth', 'hummel', 'jillson', 'geordies', 'carrigan', 'bhave', 'nazareth', 'frisco', 'teagan', 'vipco', 'gawi', 'freccia', 'wtc1', 'irit', 'thalman', 'alyce', \"o'hurley\", '27th', 'roseaux', 'auscrit', 'monahan', 'duning', 'carfax', 'it.i', 'halley', 'delmer', 'zano', '1,5', 'tonti', 'toler', 'bhumika', 'gurns', 'jeannot', 'cheapjack', 'charecters', 'pecos', 'helin', 'macauley', 'algerian', 'tawnee', 'deadeningly', 'loman', 'rumiko', 'saotome', 'paxson', 'petzold', 'mclagen', 'neikov', 'mesopotamia', 'panamanian', '10x', 'princesse', 'alwina', 'bisset', 'sandoval', 'trant', 'karla', 'anjos', 'zsa', 'diahann', 'rachels', 'ayats', 'speredakos', 'everingham', 'haldeman', 'odile', '1881', 'genji', 'gojo', 'lelia', 'lampidorra', 'lampidorrans', 'tristram', 'bii', 'lucianna', 'aldolpho', 'cardella', 'kacey', 'dullea', 'hoyos', '1846', 'gonzalo', 'jonesy', 'elke', 'croat', 'kipps', 'crythin', 'vilgot', 'nyu', 'rivero', 'shepis', 'whitelaw', 'weems', 'marv', 'kove', 'smap', 'rutina', 'rivi', 'ryosuke', 'rouncewell', 'salvatore', 'budd', 'irr', 'versible', 'doran', 'searcy', 'megyn', '128', 'cannell', '147', 'popistasu', 'youngblood', 'jerzy', 'premchand', 'minerva', 'urecal', 'antonin', 'imzadi', 'plagiarised', 'tosha', 'erikkson', 'haje', 'nomolos', 'temuco', 'urf', 'uschi', 'matewan', 'assante', 'mysterio', 'ciro', 's.i.c.k', 'pileggi', '5.4', 'rydell', '49th', 'tuskan', 'huiti', 'guilgud', 'ramotswe', 'makutsi', 'cornette', 'tatanka', \"goaul'd\", 'kensington', 'japenese', 'farr', 'bellucci', '90mins', 'gogh', 'hendrick', 'haese', 'paull', 'steckler', 'caprio', 'whitehall', 'rimi', 'mccann', 'gibbler', 'reguera', 'scotts', 'barnum', 'hollis', '2.6', 'kraakman', 'johanna', 'diabolique', '2012', 'daisey', 'yoshimura', 'nancherrow', 'toola', 'stanislavsky', 'mitb', '4.0', 'guinn', 'ventresca', 'bochner', 'supranatural', 'oldboy', 'berle', 'fresson', 'greenman', 'kaminsky', 'liszt', 'wkrp', '8.75', '275', 'tenenbaums', 'englishwoman', 'anhalt', 'britcoms', 'bi1', 'sandell', 'berlinale', 'winstons', 'calloway', 'bojangles', 'rifkin', 'tarquin', 'sheilah', 'pascoe', 'whelan', 'oppenheimer', 'tsiang', 'zhuangzhuang', 'lanter', 'ortolani', 'einon', 'niz', 'bayldon', 'bresslaw', 'hawtrey', 'enya', 'walbrook', 'geena', 'schwarzenberg', 'rner', 'gottowt', 'stellan', 'seeber', 'seidelman', 'chimayo', 'mymovies', 'list?l', 'signorelli', '6000', 'olaf', 'jims', 'anarene', 'bhodi', 'esmeralda', 'phoebus', 'waterford', 'cassi', 'hawes', 'boomslang', 'aquafresh', 'steinmann', 'bridgers', 'nogales', 'samwise', 'xico', 'silvestre', 'parolini', 'earley', 'fatih', 'genevieve', 'clytemnestra', 'rowlf', '451', 'pepin', 'cazal', 'decca', 'bilcock', 'gorcey', 'stuttgart', 'cambpell', 'anjelica', 'ragneks', 'excorcist', 'phoenixville', 'horts', 'machu', 'polanksi', 'clarks', 'erbe', '1836', '1850s', 'sen.', 'pardu', 'dogtown', 'condieff', 'lansford', \"o'byrne\", 'kady', 'ondrej', 'zdenek', 'packard', 'enix', 'lemorande', 'thuggie', 'muckerji', 'guevarra', 'algy', 'fatone', 'calrissian', 'andreeff', 'gaira', 'zeb', 'pinnochio', 'quartermain', 'omirus', 'hamdi', 'macallum', 'jutta', 'lampe', 'schade', 'svea', 'hallan', \"d'orleans\", 'bernson', 'ferula', '00am', 'ludlow', 'moliere', 'aramaic', 'inslee', 'tulkinhorn', 'hagerty', 'broklynese', 'ghidrah', 'zb3', 'salgueiro', 'yamasato', 'atenborough', 'linz', 'kazzam', 'taos', 'forbrydelsens', 'barris', 'internalised', 'goodwin', 'sandrine', 'kiberlain', 'mehra', 'shashi', 'devgun', 'northfield', 'platte', 'isoyc', 'ipoyg', 'aod', 'eidos', 'hilbrand', 'buckner', 'undertext', 'newgrounds', '136', 'nibelungs', 'hauptmann', 'sat1', 'capomezza', 'funney', 'tamiyo', 'kusakari', 'desilva', '6.8', 'viren', 'sahay', 'c.g.i.', 'bellerophon', 'voerhoven', 'sothern', 'diamantino', '100.000', 'iritf', 'albans', 'mindf', 'rodolfo', 'zemen', 'onegin', 'great!.', 'kels', 'zacharias', 'anaesthetic', 'francen', 'carthage', 'yonekura', 'leto', 'ocron', 'eeeb', 'boultings', 'pekinpah', 'hardcastle', 'pochath', 'deville', 'katsopolis', 'gladstone', 'beamont', 'sarlacc', 'callarn', 'harbou', 'seville', 'holywell', '10.7', 'lakehurst', 'takenaka', 'frain', 'dardano', 'sacchetti', 'annamarie', 'digisoft', 'oberoi', 'superegos', 'krisak', 'griswolds', 'beringer', 'rfd', 'masiela', 'lusha', 'dehumanising', 'mihic', 'wurlitzer', 'andoheb', 'hessians', 'yali', 'tsh', 'dzundza', 'konchalovksy', 'armourae', 'crisanti', 'sorbo', 'bucke', 'tywker', 'waldermar', 'lucaitis', 'bogdonavich', 'vanne', 'zizola', 'mirai', 'shayne', 'congorilla', 'slitheen', 'wheezer', 'estev', 'whishaw', 'jenni', 'gojitmal', 'lecarre', 'renn', 'itier', 'tendres', 'cousines', 'infierno', 'jaemin', 'sumin', 'mockage', 'sione', 'raghavan', 'slovenians', 'vukovar', 'magalh', 'lmotp', 'msb', '10,000.00', 'hemlich']\n"
     ]
    }
   ],
   "source": [
    "embedding_weights = create_embedding_matrix(wv_model, int2word_hash, verbose=True)"
   ]
  },
  {
   "cell_type": "markdown",
   "metadata": {},
   "source": [
    "### Generate Model Architecture"
   ]
  },
  {
   "cell_type": "code",
   "execution_count": 23,
   "metadata": {
    "collapsed": true
   },
   "outputs": [],
   "source": [
    "from keras.models import Model, load_model\n",
    "from keras.layers import Input, Embedding, GlobalMaxPool1D, GlobalAvgPool1D, Dense, Dropout, Conv1D, concatenate, LSTM, Bidirectional, BatchNormalization, Layer\n",
    "from keras.regularizers import l2\n",
    "from keras import initializers, regularizers, constraints\n",
    "from keras.callbacks import EarlyStopping, ModelCheckpoint\n",
    "from keras.optimizers import SGD, Adam\n",
    "from keras import backend as K"
   ]
  },
  {
   "cell_type": "code",
   "execution_count": 142,
   "metadata": {
    "collapsed": true
   },
   "outputs": [],
   "source": [
    "EMBED_SIZE = wv_model.vector_size\n",
    "N_CLASSES = y_train.shape[1]\n",
    "MAX_FEATURES = embedding_weights.shape[0]\n",
    "HIDDEN_LAYER_SIZE = 128\n",
    "CONV_FILTER_SIZE = 128\n",
    "CONV_KERNEL_SIZE = 3\n",
    "LSTM_HIDDEN_SIZE = 64\n",
    "\n",
    "\n",
    "def create_model(MAX_LEN, MAX_FEATURES, EMBED_SIZE, HIDDEN_LAYER_SIZE, N_CLASSES, embedding_weights=None,\n",
    "                 embedding_trainable=False, global_max_avg = 'max', learning_rate=0.0001):\n",
    "    input_sequence = Input(shape=(MAX_LEN, ))\n",
    "    \n",
    "    x = Embedding(input_dim=MAX_FEATURES, output_dim=EMBED_SIZE, mask_zero=False, weights=[embedding_weights],\n",
    "                  trainable=embedding_trainable)(input_sequence)\n",
    "    x = Dropout(0.5)(x)\n",
    "    c1 = Conv1D(CONV_FILTER_SIZE, CONV_KERNEL_SIZE, padding='same', activation='relu')(x)\n",
    "    c2 = Conv1D(CONV_FILTER_SIZE, 5, padding='same', activation='relu')(x)\n",
    "    x = concatenate([c1,c2])\n",
    "    x = Bidirectional(LSTM(LSTM_HIDDEN_SIZE, return_sequences=True))(x)\n",
    "    x = AttentionWithContext()(x)\n",
    "    x = Dense(HIDDEN_LAYER_SIZE, activation='relu')(x)\n",
    "    prediction = Dense(N_CLASSES, activation='softmax')(x)\n",
    "    \n",
    "    opt = Adam(lr=learning_rate)\n",
    "    \n",
    "    model = Model(inputs=input_sequence, outputs=prediction)\n",
    "    model.compile(loss='categorical_crossentropy',\n",
    "                  optimizer=opt,\n",
    "                  metrics=['accuracy'])\n",
    "\n",
    "    return model"
   ]
  },
  {
   "cell_type": "code",
   "execution_count": 143,
   "metadata": {
    "collapsed": true
   },
   "outputs": [],
   "source": [
    "model = create_model(MAX_LEN, MAX_FEATURES, EMBED_SIZE, HIDDEN_LAYER_SIZE, N_CLASSES,\n",
    "                     embedding_weights=embedding_weights, embedding_trainable=False, global_max_avg = 'max', \n",
    "                     learning_rate=0.001)"
   ]
  },
  {
   "cell_type": "code",
   "execution_count": 144,
   "metadata": {},
   "outputs": [
    {
     "name": "stdout",
     "output_type": "stream",
     "text": [
      "__________________________________________________________________________________________________\n",
      "Layer (type)                    Output Shape         Param #     Connected to                     \n",
      "==================================================================================================\n",
      "input_16 (InputLayer)           (None, 200)          0                                            \n",
      "__________________________________________________________________________________________________\n",
      "embedding_16 (Embedding)        (None, 200, 300)     11463900    input_16[0][0]                   \n",
      "__________________________________________________________________________________________________\n",
      "dropout_9 (Dropout)             (None, 200, 300)     0           embedding_16[0][0]               \n",
      "__________________________________________________________________________________________________\n",
      "conv1d_34 (Conv1D)              (None, 200, 128)     115328      dropout_9[0][0]                  \n",
      "__________________________________________________________________________________________________\n",
      "conv1d_35 (Conv1D)              (None, 200, 128)     192128      dropout_9[0][0]                  \n",
      "__________________________________________________________________________________________________\n",
      "concatenate_11 (Concatenate)    (None, 200, 256)     0           conv1d_34[0][0]                  \n",
      "                                                                 conv1d_35[0][0]                  \n",
      "__________________________________________________________________________________________________\n",
      "global_max_pooling1d_12 (Global (None, 256)          0           concatenate_11[0][0]             \n",
      "__________________________________________________________________________________________________\n",
      "dense_27 (Dense)                (None, 128)          32896       global_max_pooling1d_12[0][0]    \n",
      "__________________________________________________________________________________________________\n",
      "dense_28 (Dense)                (None, 2)            258         dense_27[0][0]                   \n",
      "==================================================================================================\n",
      "Total params: 11,804,510\n",
      "Trainable params: 340,610\n",
      "Non-trainable params: 11,463,900\n",
      "__________________________________________________________________________________________________\n"
     ]
    }
   ],
   "source": [
    "model.summary()"
   ]
  },
  {
   "cell_type": "markdown",
   "metadata": {},
   "source": [
    "### Train Model"
   ]
  },
  {
   "cell_type": "code",
   "execution_count": 145,
   "metadata": {
    "collapsed": true
   },
   "outputs": [],
   "source": [
    "from sklearn.metrics import classification_report, precision_recall_fscore_support, roc_auc_score"
   ]
  },
  {
   "cell_type": "code",
   "execution_count": 146,
   "metadata": {
    "collapsed": true
   },
   "outputs": [],
   "source": [
    "BATCH_SIZE = 2048\n",
    "EPOCHS = 300\n",
    "FILE_PATH = \"models/keras_model_weights.hdf5\"\n",
    "checkpoint = ModelCheckpoint(FILE_PATH, monitor='val_loss', verbose=1, save_best_only=True, mode='min')\n",
    "early = EarlyStopping(monitor=\"val_loss\", mode=\"min\", patience=10)\n",
    "callbacks_list = [checkpoint, early]"
   ]
  },
  {
   "cell_type": "code",
   "execution_count": 147,
   "metadata": {
    "scrolled": false
   },
   "outputs": [
    {
     "name": "stdout",
     "output_type": "stream",
     "text": [
      "Train on 23750 samples, validate on 1250 samples\n",
      "Epoch 1/300\n",
      "22528/23750 [===========================>..] - ETA: 0s - loss: 0.7314 - acc: 0.5198\n",
      "Epoch 00001: val_loss improved from inf to 0.66857, saving model to models/keras_model_weights.hdf5\n",
      "23750/23750 [==============================] - 4s 163us/step - loss: 0.7286 - acc: 0.5203 - val_loss: 0.6686 - val_acc: 0.5256\n",
      "Epoch 2/300\n",
      "22528/23750 [===========================>..] - ETA: 0s - loss: 0.6369 - acc: 0.6627\n",
      "Epoch 00002: val_loss improved from 0.66857 to 0.58840, saving model to models/keras_model_weights.hdf5\n",
      "23750/23750 [==============================] - 2s 78us/step - loss: 0.6351 - acc: 0.6667 - val_loss: 0.5884 - val_acc: 0.7424\n",
      "Epoch 3/300\n",
      "22528/23750 [===========================>..] - ETA: 0s - loss: 0.5675 - acc: 0.7545\n",
      "Epoch 00003: val_loss improved from 0.58840 to 0.50546, saving model to models/keras_model_weights.hdf5\n",
      "23750/23750 [==============================] - 2s 78us/step - loss: 0.5655 - acc: 0.7553 - val_loss: 0.5055 - val_acc: 0.7976\n",
      "Epoch 4/300\n",
      "22528/23750 [===========================>..] - ETA: 0s - loss: 0.4821 - acc: 0.7985\n",
      "Epoch 00004: val_loss improved from 0.50546 to 0.42147, saving model to models/keras_model_weights.hdf5\n",
      "23750/23750 [==============================] - 2s 78us/step - loss: 0.4804 - acc: 0.7991 - val_loss: 0.4215 - val_acc: 0.8208\n",
      "Epoch 5/300\n",
      "22528/23750 [===========================>..] - ETA: 0s - loss: 0.4042 - acc: 0.8282\n",
      "Epoch 00005: val_loss improved from 0.42147 to 0.38244, saving model to models/keras_model_weights.hdf5\n",
      "23750/23750 [==============================] - 2s 78us/step - loss: 0.4031 - acc: 0.8282 - val_loss: 0.3824 - val_acc: 0.8288\n",
      "Epoch 6/300\n",
      "22528/23750 [===========================>..] - ETA: 0s - loss: 0.3670 - acc: 0.8393\n",
      "Epoch 00006: val_loss improved from 0.38244 to 0.36389, saving model to models/keras_model_weights.hdf5\n",
      "23750/23750 [==============================] - 2s 78us/step - loss: 0.3660 - acc: 0.8394 - val_loss: 0.3639 - val_acc: 0.8328\n",
      "Epoch 7/300\n",
      "22528/23750 [===========================>..] - ETA: 0s - loss: 0.3505 - acc: 0.8458\n",
      "Epoch 00007: val_loss improved from 0.36389 to 0.34668, saving model to models/keras_model_weights.hdf5\n",
      "23750/23750 [==============================] - 2s 79us/step - loss: 0.3491 - acc: 0.8472 - val_loss: 0.3467 - val_acc: 0.8432\n",
      "Epoch 8/300\n",
      "22528/23750 [===========================>..] - ETA: 0s - loss: 0.3335 - acc: 0.8561\n",
      "Epoch 00008: val_loss improved from 0.34668 to 0.33202, saving model to models/keras_model_weights.hdf5\n",
      "23750/23750 [==============================] - 2s 78us/step - loss: 0.3338 - acc: 0.8562 - val_loss: 0.3320 - val_acc: 0.8528\n",
      "Epoch 9/300\n",
      "22528/23750 [===========================>..] - ETA: 0s - loss: 0.3242 - acc: 0.8604\n",
      "Epoch 00009: val_loss did not improve\n",
      "23750/23750 [==============================] - 2s 75us/step - loss: 0.3230 - acc: 0.8611 - val_loss: 0.3326 - val_acc: 0.8560\n",
      "Epoch 10/300\n",
      "22528/23750 [===========================>..] - ETA: 0s - loss: 0.3190 - acc: 0.8620\n",
      "Epoch 00010: val_loss improved from 0.33202 to 0.31717, saving model to models/keras_model_weights.hdf5\n",
      "23750/23750 [==============================] - 2s 79us/step - loss: 0.3176 - acc: 0.8629 - val_loss: 0.3172 - val_acc: 0.8632\n",
      "Epoch 11/300\n",
      "22528/23750 [===========================>..] - ETA: 0s - loss: 0.3031 - acc: 0.8727\n",
      "Epoch 00011: val_loss improved from 0.31717 to 0.31540, saving model to models/keras_model_weights.hdf5\n",
      "23750/23750 [==============================] - 2s 78us/step - loss: 0.3039 - acc: 0.8724 - val_loss: 0.3154 - val_acc: 0.8608\n",
      "Epoch 12/300\n",
      "22528/23750 [===========================>..] - ETA: 0s - loss: 0.2989 - acc: 0.8747\n",
      "Epoch 00012: val_loss improved from 0.31540 to 0.30818, saving model to models/keras_model_weights.hdf5\n",
      "23750/23750 [==============================] - 2s 79us/step - loss: 0.2973 - acc: 0.8758 - val_loss: 0.3082 - val_acc: 0.8704\n",
      "Epoch 13/300\n",
      "22528/23750 [===========================>..] - ETA: 0s - loss: 0.2838 - acc: 0.8810\n",
      "Epoch 00013: val_loss improved from 0.30818 to 0.30644, saving model to models/keras_model_weights.hdf5\n",
      "23750/23750 [==============================] - 2s 79us/step - loss: 0.2857 - acc: 0.8804 - val_loss: 0.3064 - val_acc: 0.8688\n",
      "Epoch 14/300\n",
      "22528/23750 [===========================>..] - ETA: 0s - loss: 0.2761 - acc: 0.8858\n",
      "Epoch 00014: val_loss improved from 0.30644 to 0.30043, saving model to models/keras_model_weights.hdf5\n",
      "23750/23750 [==============================] - 2s 78us/step - loss: 0.2770 - acc: 0.8854 - val_loss: 0.3004 - val_acc: 0.8736\n",
      "Epoch 15/300\n",
      "22528/23750 [===========================>..] - ETA: 0s - loss: 0.2680 - acc: 0.8897\n",
      "Epoch 00015: val_loss improved from 0.30043 to 0.29888, saving model to models/keras_model_weights.hdf5\n",
      "23750/23750 [==============================] - 2s 78us/step - loss: 0.2672 - acc: 0.8903 - val_loss: 0.2989 - val_acc: 0.8728\n",
      "Epoch 16/300\n",
      "22528/23750 [===========================>..] - ETA: 0s - loss: 0.2620 - acc: 0.8916\n",
      "Epoch 00016: val_loss improved from 0.29888 to 0.29517, saving model to models/keras_model_weights.hdf5\n",
      "23750/23750 [==============================] - 2s 78us/step - loss: 0.2626 - acc: 0.8923 - val_loss: 0.2952 - val_acc: 0.8752\n",
      "Epoch 17/300\n",
      "22528/23750 [===========================>..] - ETA: 0s - loss: 0.2543 - acc: 0.8958\n",
      "Epoch 00017: val_loss improved from 0.29517 to 0.29194, saving model to models/keras_model_weights.hdf5\n",
      "23750/23750 [==============================] - 2s 80us/step - loss: 0.2541 - acc: 0.8958 - val_loss: 0.2919 - val_acc: 0.8728\n",
      "Epoch 18/300\n",
      "22528/23750 [===========================>..] - ETA: 0s - loss: 0.2440 - acc: 0.9027\n",
      "Epoch 00018: val_loss did not improve\n",
      "23750/23750 [==============================] - 2s 75us/step - loss: 0.2444 - acc: 0.9024 - val_loss: 0.2924 - val_acc: 0.8792\n",
      "Epoch 19/300\n",
      "22528/23750 [===========================>..] - ETA: 0s - loss: 0.2369 - acc: 0.9046\n",
      "Epoch 00019: val_loss improved from 0.29194 to 0.28629, saving model to models/keras_model_weights.hdf5\n",
      "23750/23750 [==============================] - 2s 79us/step - loss: 0.2367 - acc: 0.9045 - val_loss: 0.2863 - val_acc: 0.8816\n",
      "Epoch 20/300\n",
      "22528/23750 [===========================>..] - ETA: 0s - loss: 0.2289 - acc: 0.9089\n",
      "Epoch 00020: val_loss improved from 0.28629 to 0.28417, saving model to models/keras_model_weights.hdf5\n",
      "23750/23750 [==============================] - 2s 79us/step - loss: 0.2286 - acc: 0.9093 - val_loss: 0.2842 - val_acc: 0.8832\n",
      "Epoch 21/300\n",
      "22528/23750 [===========================>..] - ETA: 0s - loss: 0.2221 - acc: 0.9125\n",
      "Epoch 00021: val_loss improved from 0.28417 to 0.28336, saving model to models/keras_model_weights.hdf5\n",
      "23750/23750 [==============================] - 2s 79us/step - loss: 0.2227 - acc: 0.9123 - val_loss: 0.2834 - val_acc: 0.8808\n",
      "Epoch 22/300\n",
      "22528/23750 [===========================>..] - ETA: 0s - loss: 0.2131 - acc: 0.9166\n",
      "Epoch 00022: val_loss did not improve\n",
      "23750/23750 [==============================] - 2s 75us/step - loss: 0.2134 - acc: 0.9165 - val_loss: 0.2936 - val_acc: 0.8792\n",
      "Epoch 23/300\n",
      "22528/23750 [===========================>..] - ETA: 0s - loss: 0.2066 - acc: 0.9174\n",
      "Epoch 00023: val_loss improved from 0.28336 to 0.28142, saving model to models/keras_model_weights.hdf5\n",
      "23750/23750 [==============================] - 2s 79us/step - loss: 0.2064 - acc: 0.9176 - val_loss: 0.2814 - val_acc: 0.8800\n",
      "Epoch 24/300\n",
      "22528/23750 [===========================>..] - ETA: 0s - loss: 0.1959 - acc: 0.9241\n",
      "Epoch 00024: val_loss did not improve\n",
      "23750/23750 [==============================] - 2s 75us/step - loss: 0.1962 - acc: 0.9240 - val_loss: 0.2825 - val_acc: 0.8800\n",
      "Epoch 25/300\n",
      "22528/23750 [===========================>..] - ETA: 0s - loss: 0.1897 - acc: 0.9257\n",
      "Epoch 00025: val_loss did not improve\n",
      "23750/23750 [==============================] - 2s 75us/step - loss: 0.1901 - acc: 0.9254 - val_loss: 0.2850 - val_acc: 0.8816\n",
      "Epoch 26/300\n",
      "22528/23750 [===========================>..] - ETA: 0s - loss: 0.1856 - acc: 0.9286\n",
      "Epoch 00026: val_loss improved from 0.28142 to 0.27923, saving model to models/keras_model_weights.hdf5\n",
      "23750/23750 [==============================] - 2s 79us/step - loss: 0.1851 - acc: 0.9289 - val_loss: 0.2792 - val_acc: 0.8840\n"
     ]
    },
    {
     "name": "stdout",
     "output_type": "stream",
     "text": [
      "Epoch 27/300\n",
      "22528/23750 [===========================>..] - ETA: 0s - loss: 0.1739 - acc: 0.9339\n",
      "Epoch 00027: val_loss did not improve\n",
      "23750/23750 [==============================] - 2s 76us/step - loss: 0.1737 - acc: 0.9339 - val_loss: 0.2807 - val_acc: 0.8824\n",
      "Epoch 28/300\n",
      "22528/23750 [===========================>..] - ETA: 0s - loss: 0.1681 - acc: 0.9360\n",
      "Epoch 00028: val_loss did not improve\n",
      "23750/23750 [==============================] - 2s 76us/step - loss: 0.1674 - acc: 0.9367 - val_loss: 0.2903 - val_acc: 0.8768\n",
      "Epoch 29/300\n",
      "22528/23750 [===========================>..] - ETA: 0s - loss: 0.1597 - acc: 0.9389\n",
      "Epoch 00029: val_loss did not improve\n",
      "23750/23750 [==============================] - 2s 76us/step - loss: 0.1602 - acc: 0.9383 - val_loss: 0.2807 - val_acc: 0.8856\n",
      "Epoch 30/300\n",
      "22528/23750 [===========================>..] - ETA: 0s - loss: 0.1566 - acc: 0.9413\n",
      "Epoch 00030: val_loss did not improve\n",
      "23750/23750 [==============================] - 2s 76us/step - loss: 0.1568 - acc: 0.9409 - val_loss: 0.2903 - val_acc: 0.8872\n",
      "Epoch 31/300\n",
      "22528/23750 [===========================>..] - ETA: 0s - loss: 0.1517 - acc: 0.9430\n",
      "Epoch 00031: val_loss did not improve\n",
      "23750/23750 [==============================] - 2s 76us/step - loss: 0.1517 - acc: 0.9429 - val_loss: 0.3062 - val_acc: 0.8760\n",
      "Epoch 32/300\n",
      "22528/23750 [===========================>..] - ETA: 0s - loss: 0.1399 - acc: 0.9498\n",
      "Epoch 00032: val_loss did not improve\n",
      "23750/23750 [==============================] - 2s 77us/step - loss: 0.1399 - acc: 0.9499 - val_loss: 0.2904 - val_acc: 0.8824\n",
      "Epoch 33/300\n",
      "22528/23750 [===========================>..] - ETA: 0s - loss: 0.1323 - acc: 0.9515\n",
      "Epoch 00033: val_loss did not improve\n",
      "23750/23750 [==============================] - 2s 77us/step - loss: 0.1328 - acc: 0.9513 - val_loss: 0.2991 - val_acc: 0.8808\n",
      "Epoch 34/300\n",
      "22528/23750 [===========================>..] - ETA: 0s - loss: 0.1291 - acc: 0.9540\n",
      "Epoch 00034: val_loss did not improve\n",
      "23750/23750 [==============================] - 2s 77us/step - loss: 0.1292 - acc: 0.9537 - val_loss: 0.2954 - val_acc: 0.8864\n",
      "Epoch 35/300\n",
      "22528/23750 [===========================>..] - ETA: 0s - loss: 0.1213 - acc: 0.9557\n",
      "Epoch 00035: val_loss did not improve\n",
      "23750/23750 [==============================] - 2s 77us/step - loss: 0.1209 - acc: 0.9557 - val_loss: 0.3053 - val_acc: 0.8768\n",
      "Epoch 36/300\n",
      "22528/23750 [===========================>..] - ETA: 0s - loss: 0.1267 - acc: 0.9534\n",
      "Epoch 00036: val_loss did not improve\n",
      "23750/23750 [==============================] - 2s 76us/step - loss: 0.1279 - acc: 0.9526 - val_loss: 0.3018 - val_acc: 0.8912\n"
     ]
    },
    {
     "data": {
      "text/plain": [
       "<keras.callbacks.History at 0x7fe2cfaf1390>"
      ]
     },
     "execution_count": 147,
     "metadata": {},
     "output_type": "execute_result"
    }
   ],
   "source": [
    "model.fit(X_train, y_train,\n",
    "          batch_size=BATCH_SIZE,\n",
    "          epochs=EPOCHS,\n",
    "          validation_data=[X_val, y_val],\n",
    "          callbacks=callbacks_list)"
   ]
  },
  {
   "cell_type": "code",
   "execution_count": 148,
   "metadata": {
    "collapsed": true
   },
   "outputs": [],
   "source": [
    "model = load_model(FILE_PATH, custom_objects={'AttentionWithContext':AttentionWithContext})\n",
    "y_hat = model.predict(X_test)\n",
    "y_hat = y_hat[:,1] "
   ]
  },
  {
   "cell_type": "code",
   "execution_count": 149,
   "metadata": {},
   "outputs": [
    {
     "name": "stdout",
     "output_type": "stream",
     "text": [
      "             precision    recall  f1-score   support\n",
      "\n",
      "          0       0.90      0.88      0.89     12500\n",
      "          1       0.89      0.90      0.89     12500\n",
      "\n",
      "avg / total       0.89      0.89      0.89     25000\n",
      "\n"
     ]
    }
   ],
   "source": [
    "print(classification_report(y_test[:,1], y_hat > 0.5))"
   ]
  },
  {
   "cell_type": "code",
   "execution_count": 150,
   "metadata": {},
   "outputs": [
    {
     "name": "stdout",
     "output_type": "stream",
     "text": [
      "(array([ 0.89763588,  0.88566701]), array([ 0.88392,  0.8992 ]), array([ 0.89072514,  0.8923822 ]), array([12500, 12500])) 0.958906416\n"
     ]
    }
   ],
   "source": [
    "scores = precision_recall_fscore_support(y_test[:,1], y_hat > 0.5)\n",
    "roc = roc_auc_score(y_test[:,1], y_hat)\n",
    "print(scores, roc)"
   ]
  },
  {
   "cell_type": "markdown",
   "metadata": {},
   "source": [
    "### Custom Attention Layer\n",
    "\n",
    "This is a custom Keras layer for Attention on an LSTM.  It's adapted from a gist by [cbaziotis](https://gist.github.com/cbaziotis/6428df359af27d58078ca5ed9792bd6d), and designed to create a single feature vector from a seqeuence.  You'll have to load this cell before you can use the AttentionWithContext layer in the model."
   ]
  },
  {
   "cell_type": "code",
   "execution_count": null,
   "metadata": {
    "collapsed": true
   },
   "outputs": [],
   "source": [
    "def dot_product(x, kernel):\n",
    "    \"\"\"\n",
    "    Wrapper for dot product operation, in order to be compatible with both\n",
    "    Theano and Tensorflow\n",
    "    Args:\n",
    "        x (): input\n",
    "        kernel (): weights\n",
    "    Returns:\n",
    "    \"\"\"\n",
    "    if K.backend() == 'tensorflow':\n",
    "        return K.squeeze(K.dot(x, K.expand_dims(kernel)), axis=-1)\n",
    "    else:\n",
    "        return K.dot(x, kernel)\n",
    "    \n",
    "\n",
    "class AttentionWithContext(Layer):\n",
    "    \"\"\"\n",
    "    Attention operation, with a context/query vector, for temporal data.\n",
    "    Supports Masking.\n",
    "    Follows the work of Yang et al. [https://www.cs.cmu.edu/~diyiy/docs/naacl16.pdf]\n",
    "    \"Hierarchical Attention Networks for Document Classification\"\n",
    "    by using a context vector to assist the attention\n",
    "    # Input shape\n",
    "        3D tensor with shape: `(samples, steps, features)`.\n",
    "    # Output shape\n",
    "        2D tensor with shape: `(samples, features)`.\n",
    "\n",
    "    How to use:\n",
    "    Just put it on top of an RNN Layer (GRU/LSTM/SimpleRNN) with return_sequences=True.\n",
    "    The dimensions are inferred based on the output shape of the RNN.\n",
    "\n",
    "    Note: The layer has been tested with Keras 2.0.6\n",
    "\n",
    "    Example:\n",
    "        model.add(LSTM(64, return_sequences=True))\n",
    "        model.add(AttentionWithContext())\n",
    "        # next add a Dense layer (for classification/regression) or whatever...\n",
    "    \"\"\"\n",
    "\n",
    "    def __init__(self,\n",
    "                 W_regularizer=None, u_regularizer=None, b_regularizer=None,\n",
    "                 W_constraint=None, u_constraint=None, b_constraint=None,\n",
    "                 bias=True, **kwargs):\n",
    "\n",
    "        self.supports_masking = True\n",
    "        self.init = initializers.get('glorot_uniform')\n",
    "\n",
    "        self.W_regularizer = regularizers.get(W_regularizer)\n",
    "        self.u_regularizer = regularizers.get(u_regularizer)\n",
    "        self.b_regularizer = regularizers.get(b_regularizer)\n",
    "\n",
    "        self.W_constraint = constraints.get(W_constraint)\n",
    "        self.u_constraint = constraints.get(u_constraint)\n",
    "        self.b_constraint = constraints.get(b_constraint)\n",
    "\n",
    "        self.bias = bias\n",
    "        super(AttentionWithContext, self).__init__(**kwargs)\n",
    "\n",
    "    def build(self, input_shape):\n",
    "        assert len(input_shape) == 3\n",
    "\n",
    "        self.W = self.add_weight((input_shape[-1], input_shape[-1],),\n",
    "                                 initializer=self.init,\n",
    "                                 name='{}_W'.format(self.name),\n",
    "                                 regularizer=self.W_regularizer,\n",
    "                                 constraint=self.W_constraint)\n",
    "        if self.bias:\n",
    "            self.b = self.add_weight((input_shape[-1],),\n",
    "                                     initializer='zero',\n",
    "                                     name='{}_b'.format(self.name),\n",
    "                                     regularizer=self.b_regularizer,\n",
    "                                     constraint=self.b_constraint)\n",
    "\n",
    "        self.u = self.add_weight((input_shape[-1],),\n",
    "                                 initializer=self.init,\n",
    "                                 name='{}_u'.format(self.name),\n",
    "                                 regularizer=self.u_regularizer,\n",
    "                                 constraint=self.u_constraint)\n",
    "\n",
    "        super(AttentionWithContext, self).build(input_shape)\n",
    "\n",
    "    def compute_mask(self, input, input_mask=None):\n",
    "        # do not pass the mask to the next layers\n",
    "        return None\n",
    "\n",
    "    def call(self, x, mask=None):\n",
    "        uit = dot_product(x, self.W)\n",
    "\n",
    "        if self.bias:\n",
    "            uit += self.b\n",
    "\n",
    "        uit = K.tanh(uit)\n",
    "        ait = dot_product(uit, self.u)\n",
    "\n",
    "        a = K.exp(ait)\n",
    "\n",
    "        # apply mask after the exp. will be re-normalized next\n",
    "        if mask is not None:\n",
    "            # Cast the mask to floatX to avoid float64 upcasting in theano\n",
    "            a *= K.cast(mask, K.floatx())\n",
    "\n",
    "        # in some cases especially in the early stages of training the sum may be almost zero\n",
    "        # and this results in NaN's. A workaround is to add a very small positive number ε to the sum.\n",
    "        # a /= K.cast(K.sum(a, axis=1, keepdims=True), K.floatx())\n",
    "        a /= K.cast(K.sum(a, axis=1, keepdims=True) + K.epsilon(), K.floatx())\n",
    "\n",
    "        a = K.expand_dims(a)\n",
    "        weighted_input = x * a\n",
    "        return K.sum(weighted_input, axis=1)\n",
    "\n",
    "    def compute_output_shape(self, input_shape):\n",
    "        return input_shape[0], input_shape[-1]"
   ]
  }
 ],
 "metadata": {
  "kernelspec": {
   "display_name": "Python 3",
   "language": "python",
   "name": "python3"
  },
  "language_info": {
   "codemirror_mode": {
    "name": "ipython",
    "version": 3
   },
   "file_extension": ".py",
   "mimetype": "text/x-python",
   "name": "python",
   "nbconvert_exporter": "python",
   "pygments_lexer": "ipython3",
   "version": "3.6.3"
  }
 },
 "nbformat": 4,
 "nbformat_minor": 2
}
