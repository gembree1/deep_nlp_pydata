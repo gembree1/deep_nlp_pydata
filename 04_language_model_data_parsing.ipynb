{
 "cells": [
  {
   "cell_type": "markdown",
   "metadata": {},
   "source": [
    "# Language Model Data Parsing\n",
    "This notebook does some of the heavy lifting needed to transform our source data into something we can use for a language model.  Since Amazon's review data for movies and TV are too big to keep in memory, we want to write everything to disk and then read it on demand when we are training our model later on.\n",
    "\n",
    "We also create custom word vectors using the gensim library, so that we have embeddings tuned to our domain, and also all of the important vocabulary will have an associated word vector. "
   ]
  },
  {
   "cell_type": "markdown",
   "metadata": {},
   "source": [
    "### Tokenize and Save Amazon and IMDB Reviews to Disk"
   ]
  },
  {
   "cell_type": "code",
   "execution_count": null,
   "metadata": {
    "collapsed": true
   },
   "outputs": [],
   "source": [
    "import re, json, os\n",
    "import numpy as np\n",
    "import pandas as pd"
   ]
  },
  {
   "cell_type": "code",
   "execution_count": 58,
   "metadata": {
    "collapsed": true
   },
   "outputs": [],
   "source": [
    "def tokenize_review(review_text):\n",
    "    review_text = re.sub('[^A-Za-z0-9.?!\\',-/ ]+', '', review_text)\n",
    "    review_text = review_text.replace('.', ' . ').replace(',', ' , ').replace('-', ' - ').replace('/', ' / ').replace('!', ' ! ').replace('?', ' ? ').replace('\\'s', ' \\'s ').lower()\n",
    "    review_text = ['<sos>'] + review_text.split(' ') + ['<eos>']\n",
    "    review_text = [x for x in review_text if len(x) > 0]\n",
    "    return review_text"
   ]
  },
  {
   "cell_type": "code",
   "execution_count": 59,
   "metadata": {
    "scrolled": true
   },
   "outputs": [
    {
     "name": "stdout",
     "output_type": "stream",
     "text": [
      "Completed: 10000\n",
      "Completed: 20000\n",
      "Completed: 30000\n",
      "Completed: 40000\n",
      "Completed: 50000\n",
      "Completed: 60000\n",
      "Completed: 70000\n",
      "Completed: 80000\n",
      "Completed: 90000\n",
      "Completed: 100000\n",
      "Completed: 110000\n",
      "Completed: 120000\n",
      "Completed: 130000\n",
      "Completed: 140000\n",
      "Completed: 150000\n",
      "Completed: 160000\n",
      "Completed: 170000\n",
      "Completed: 180000\n",
      "Completed: 190000\n",
      "Completed: 200000\n",
      "Completed: 210000\n",
      "Completed: 220000\n",
      "Completed: 230000\n",
      "Completed: 240000\n",
      "Completed: 250000\n",
      "Completed: 260000\n",
      "Completed: 270000\n",
      "Completed: 280000\n",
      "Completed: 290000\n",
      "Completed: 300000\n",
      "Completed: 310000\n",
      "Completed: 320000\n",
      "Completed: 330000\n",
      "Completed: 340000\n",
      "Completed: 350000\n",
      "Completed: 360000\n",
      "Completed: 370000\n",
      "Completed: 380000\n",
      "Completed: 390000\n",
      "Completed: 400000\n",
      "Completed: 410000\n",
      "Completed: 420000\n",
      "Completed: 430000\n",
      "Completed: 440000\n",
      "Completed: 450000\n",
      "Completed: 460000\n",
      "Completed: 470000\n",
      "Completed: 480000\n",
      "Completed: 490000\n",
      "Completed: 500000\n",
      "Completed: 510000\n",
      "Completed: 520000\n",
      "Completed: 530000\n",
      "Completed: 540000\n",
      "Completed: 550000\n",
      "Completed: 560000\n",
      "Completed: 570000\n",
      "Completed: 580000\n",
      "Completed: 590000\n",
      "Completed: 600000\n",
      "Completed: 610000\n",
      "Completed: 620000\n",
      "Completed: 630000\n",
      "Completed: 640000\n",
      "Completed: 650000\n",
      "Completed: 660000\n",
      "Completed: 670000\n",
      "Completed: 680000\n",
      "Completed: 690000\n",
      "Completed: 700000\n",
      "Completed: 710000\n",
      "Completed: 720000\n",
      "Completed: 730000\n",
      "Completed: 740000\n",
      "Completed: 750000\n",
      "Completed: 760000\n",
      "Completed: 770000\n",
      "Completed: 780000\n",
      "Completed: 790000\n",
      "Completed: 800000\n",
      "Completed: 810000\n",
      "Completed: 820000\n",
      "Completed: 830000\n",
      "Completed: 840000\n",
      "Completed: 850000\n",
      "Completed: 860000\n",
      "Completed: 870000\n",
      "Completed: 880000\n",
      "Completed: 890000\n",
      "Completed: 900000\n",
      "Completed: 910000\n",
      "Completed: 920000\n",
      "Completed: 930000\n",
      "Completed: 940000\n",
      "Completed: 950000\n",
      "Completed: 960000\n",
      "Completed: 970000\n",
      "Completed: 980000\n",
      "Completed: 990000\n",
      "Completed: 1000000\n",
      "Completed: 1010000\n",
      "Completed: 1020000\n",
      "Completed: 1030000\n",
      "Completed: 1040000\n",
      "Completed: 1050000\n",
      "Completed: 1060000\n",
      "Completed: 1070000\n",
      "Completed: 1080000\n",
      "Completed: 1090000\n",
      "Completed: 1100000\n",
      "Completed: 1110000\n",
      "Completed: 1120000\n",
      "Completed: 1130000\n",
      "Completed: 1140000\n",
      "Completed: 1150000\n",
      "Completed: 1160000\n",
      "Completed: 1170000\n",
      "Completed: 1180000\n",
      "Completed: 1190000\n",
      "Completed: 1200000\n",
      "Completed: 1210000\n",
      "Completed: 1220000\n",
      "Completed: 1230000\n",
      "Completed: 1240000\n",
      "Completed: 1250000\n",
      "Completed: 1260000\n",
      "Completed: 1270000\n",
      "Completed: 1280000\n",
      "Completed: 1290000\n",
      "Completed: 1300000\n",
      "Completed: 1310000\n",
      "Completed: 1320000\n",
      "Completed: 1330000\n",
      "Completed: 1340000\n",
      "Completed: 1350000\n",
      "Completed: 1360000\n",
      "Completed: 1370000\n",
      "Completed: 1380000\n",
      "Completed: 1390000\n",
      "Completed: 1400000\n",
      "Completed: 1410000\n",
      "Completed: 1420000\n",
      "Completed: 1430000\n",
      "Completed: 1440000\n",
      "Completed: 1450000\n",
      "Completed: 1460000\n",
      "Completed: 1470000\n",
      "Completed: 1480000\n",
      "Completed: 1490000\n",
      "Completed: 1500000\n",
      "Completed: 1510000\n",
      "Completed: 1520000\n",
      "Completed: 1530000\n",
      "Completed: 1540000\n",
      "Completed: 1550000\n",
      "Completed: 1560000\n",
      "Completed: 1570000\n",
      "Completed: 1580000\n",
      "Completed: 1590000\n",
      "Completed: 1600000\n",
      "Completed: 1610000\n",
      "Completed: 1620000\n",
      "Completed: 1630000\n",
      "Completed: 1640000\n",
      "Completed: 1650000\n",
      "Completed: 1660000\n",
      "Completed: 1670000\n",
      "Completed: 1680000\n",
      "Completed: 1690000\n"
     ]
    }
   ],
   "source": [
    "with open('data/amazon/Movies_and_TV_5.json', 'r') as in_file:\n",
    "    with open('data/amazon/movie_review_tokenized.json', 'a') as out_file:\n",
    "        completed_reviews = 0\n",
    "        for line in in_file:\n",
    "            review = ast.literal_eval(line)\n",
    "            review['reviewTextTokenized'] = tokenize_review(review.get('reviewText', ''))\n",
    "            review['summaryTokenized'] = tokenize_review(review.get('summary', ''))\n",
    "            json.dump(review, out_file)\n",
    "            out_file.write('\\n')\n",
    "            completed_reviews += 1\n",
    "            if completed_reviews % 10000 == 0:\n",
    "                print('Completed: {}'.format(completed_reviews))"
   ]
  },
  {
   "cell_type": "code",
   "execution_count": 17,
   "metadata": {
    "collapsed": true
   },
   "outputs": [],
   "source": [
    "TRAIN_DATA_FOLDER = 'data/aclImdb/train/'\n",
    "TEST_DATA_FOLDER = 'data/aclImdb/test/'"
   ]
  },
  {
   "cell_type": "code",
   "execution_count": 21,
   "metadata": {},
   "outputs": [
    {
     "name": "stdout",
     "output_type": "stream",
     "text": [
      "(25000, 3)\n",
      "(25000, 3)\n"
     ]
    }
   ],
   "source": [
    "def create_dataframe_from_files(data_folder):\n",
    "    examples = list()\n",
    "    for d in ['pos','neg']:\n",
    "        for f in os.listdir(os.path.join(data_folder,d)):\n",
    "            _tmp = open(os.path.join(data_folder,d,f),'r', encoding='utf-8')\n",
    "            if d=='pos':\n",
    "                examples += [(_tmp.read(),f,1)]\n",
    "            else:\n",
    "                examples += [(_tmp.read(),f,0)]\n",
    "    df_tmp = pd.DataFrame(examples, columns=['text','file','target'])\n",
    "    df_tmp = df_tmp.sample(frac=1)\n",
    "    df_tmp = df_tmp.reset_index(drop=True)\n",
    "    return df_tmp\n",
    "                \n",
    "df_train = create_dataframe_from_files(TRAIN_DATA_FOLDER)\n",
    "df_test = create_dataframe_from_files(TEST_DATA_FOLDER)\n",
    "\n",
    "print(df_train.shape)\n",
    "print(df_test.shape)"
   ]
  },
  {
   "cell_type": "code",
   "execution_count": 22,
   "metadata": {
    "collapsed": true
   },
   "outputs": [],
   "source": [
    "examples = list()\n",
    "\n",
    "for f in os.listdir(os.path.join(TRAIN_DATA_FOLDER,'unsup')):\n",
    "    _tmp = open(os.path.join(TRAIN_DATA_FOLDER,'unsup',f),'r', encoding='utf-8')\n",
    "    examples += [_tmp.read()]\n",
    "df_unsup = pd.DataFrame(examples, columns=['text'])\n",
    "df_unsup = df_unsup.sample(frac=1)\n",
    "df_unsup = df_unsup.reset_index(drop=True)"
   ]
  },
  {
   "cell_type": "code",
   "execution_count": 23,
   "metadata": {},
   "outputs": [
    {
     "data": {
      "text/plain": [
       "(50000, 1)"
      ]
     },
     "execution_count": 23,
     "metadata": {},
     "output_type": "execute_result"
    }
   ],
   "source": [
    "df_unsup.shape"
   ]
  },
  {
   "cell_type": "code",
   "execution_count": 24,
   "metadata": {
    "collapsed": true
   },
   "outputs": [],
   "source": [
    "imdb_text_data = df_train['text'].tolist() + df_test['text'].tolist() + df_unsup['text'].tolist() "
   ]
  },
  {
   "cell_type": "code",
   "execution_count": 25,
   "metadata": {},
   "outputs": [
    {
     "data": {
      "text/plain": [
       "100000"
      ]
     },
     "execution_count": 25,
     "metadata": {},
     "output_type": "execute_result"
    }
   ],
   "source": [
    "len(imdb_text_data)"
   ]
  },
  {
   "cell_type": "code",
   "execution_count": 60,
   "metadata": {},
   "outputs": [
    {
     "name": "stdout",
     "output_type": "stream",
     "text": [
      "Completed: 10000\n",
      "Completed: 20000\n",
      "Completed: 30000\n",
      "Completed: 40000\n",
      "Completed: 50000\n",
      "Completed: 60000\n",
      "Completed: 70000\n",
      "Completed: 80000\n",
      "Completed: 90000\n",
      "Completed: 100000\n"
     ]
    }
   ],
   "source": [
    "with open('data/aclImdb/movie_text_tokenized.json', 'a') as out_file:\n",
    "    completed_reviews = 0\n",
    "    for line in imdb_text_data:\n",
    "        review = {'reviewText':line}\n",
    "        review['reviewTextTokenized'] = tokenize_review(review.get('reviewText', ''))\n",
    "        json.dump(review, out_file)\n",
    "        out_file.write('\\n')\n",
    "        completed_reviews += 1\n",
    "        if completed_reviews % 10000 == 0:\n",
    "            print('Completed: {}'.format(completed_reviews))"
   ]
  },
  {
   "cell_type": "code",
   "execution_count": 61,
   "metadata": {
    "scrolled": true
   },
   "outputs": [
    {
     "name": "stdout",
     "output_type": "stream",
     "text": [
      "Completed: 10000\n",
      "Completed: 20000\n",
      "Completed: 30000\n",
      "Completed: 40000\n",
      "Completed: 50000\n",
      "Completed: 60000\n",
      "Completed: 70000\n",
      "Completed: 80000\n",
      "Completed: 90000\n",
      "Completed: 100000\n",
      "Completed: 110000\n",
      "Completed: 120000\n",
      "Completed: 130000\n",
      "Completed: 140000\n",
      "Completed: 150000\n",
      "Completed: 160000\n",
      "Completed: 170000\n",
      "Completed: 180000\n",
      "Completed: 190000\n",
      "Completed: 200000\n",
      "Completed: 210000\n",
      "Completed: 220000\n",
      "Completed: 230000\n",
      "Completed: 240000\n",
      "Completed: 250000\n",
      "Completed: 260000\n",
      "Completed: 270000\n",
      "Completed: 280000\n",
      "Completed: 290000\n",
      "Completed: 300000\n",
      "Completed: 310000\n",
      "Completed: 320000\n",
      "Completed: 330000\n",
      "Completed: 340000\n",
      "Completed: 350000\n",
      "Completed: 360000\n",
      "Completed: 370000\n",
      "Completed: 380000\n",
      "Completed: 390000\n",
      "Completed: 400000\n",
      "Completed: 410000\n",
      "Completed: 420000\n",
      "Completed: 430000\n",
      "Completed: 440000\n",
      "Completed: 450000\n",
      "Completed: 460000\n",
      "Completed: 470000\n",
      "Completed: 480000\n",
      "Completed: 490000\n",
      "Completed: 500000\n",
      "Completed: 510000\n",
      "Completed: 520000\n",
      "Completed: 530000\n",
      "Completed: 540000\n",
      "Completed: 550000\n",
      "Completed: 560000\n",
      "Completed: 570000\n",
      "Completed: 580000\n",
      "Completed: 590000\n",
      "Completed: 600000\n",
      "Completed: 610000\n",
      "Completed: 620000\n",
      "Completed: 630000\n",
      "Completed: 640000\n",
      "Completed: 650000\n",
      "Completed: 660000\n",
      "Completed: 670000\n",
      "Completed: 680000\n",
      "Completed: 690000\n",
      "Completed: 700000\n",
      "Completed: 710000\n",
      "Completed: 720000\n",
      "Completed: 730000\n",
      "Completed: 740000\n",
      "Completed: 750000\n",
      "Completed: 760000\n",
      "Completed: 770000\n",
      "Completed: 780000\n",
      "Completed: 790000\n",
      "Completed: 800000\n",
      "Completed: 810000\n",
      "Completed: 820000\n",
      "Completed: 830000\n",
      "Completed: 840000\n",
      "Completed: 850000\n",
      "Completed: 860000\n",
      "Completed: 870000\n",
      "Completed: 880000\n",
      "Completed: 890000\n",
      "Completed: 900000\n",
      "Completed: 910000\n",
      "Completed: 920000\n",
      "Completed: 930000\n",
      "Completed: 940000\n",
      "Completed: 950000\n",
      "Completed: 960000\n",
      "Completed: 970000\n",
      "Completed: 980000\n",
      "Completed: 990000\n",
      "Completed: 1000000\n",
      "Completed: 1010000\n",
      "Completed: 1020000\n",
      "Completed: 1030000\n",
      "Completed: 1040000\n",
      "Completed: 1050000\n",
      "Completed: 1060000\n",
      "Completed: 1070000\n",
      "Completed: 1080000\n",
      "Completed: 1090000\n",
      "Completed: 1100000\n",
      "Completed: 1110000\n",
      "Completed: 1120000\n",
      "Completed: 1130000\n",
      "Completed: 1140000\n",
      "Completed: 1150000\n",
      "Completed: 1160000\n",
      "Completed: 1170000\n",
      "Completed: 1180000\n",
      "Completed: 1190000\n",
      "Completed: 1200000\n",
      "Completed: 1210000\n",
      "Completed: 1220000\n",
      "Completed: 1230000\n",
      "Completed: 1240000\n",
      "Completed: 1250000\n",
      "Completed: 1260000\n",
      "Completed: 1270000\n",
      "Completed: 1280000\n",
      "Completed: 1290000\n",
      "Completed: 1300000\n",
      "Completed: 1310000\n",
      "Completed: 1320000\n",
      "Completed: 1330000\n",
      "Completed: 1340000\n",
      "Completed: 1350000\n",
      "Completed: 1360000\n",
      "Completed: 1370000\n",
      "Completed: 1380000\n",
      "Completed: 1390000\n",
      "Completed: 1400000\n",
      "Completed: 1410000\n",
      "Completed: 1420000\n",
      "Completed: 1430000\n",
      "Completed: 1440000\n",
      "Completed: 1450000\n",
      "Completed: 1460000\n",
      "Completed: 1470000\n",
      "Completed: 1480000\n",
      "Completed: 1490000\n",
      "Completed: 1500000\n",
      "Completed: 1510000\n",
      "Completed: 1520000\n",
      "Completed: 1530000\n",
      "Completed: 1540000\n",
      "Completed: 1550000\n",
      "Completed: 1560000\n",
      "Completed: 1570000\n",
      "Completed: 1580000\n",
      "Completed: 1590000\n",
      "Completed: 1600000\n",
      "Completed: 1610000\n",
      "Completed: 1620000\n",
      "Completed: 1630000\n",
      "Completed: 1640000\n",
      "Completed: 1650000\n",
      "Completed: 1660000\n",
      "Completed: 1670000\n",
      "Completed: 1680000\n",
      "Completed: 1690000\n"
     ]
    }
   ],
   "source": [
    "with open('data/amazon/movie_review_tokenized.json', 'r') as in_file:\n",
    "    with open('data/all_data.json', 'a') as out_file:\n",
    "        completed_reviews = 0\n",
    "        for line in in_file:\n",
    "            review = ast.literal_eval(line)\n",
    "            tmp = {'text':review.get('reviewTextTokenized','')}\n",
    "            json.dump(tmp, out_file)\n",
    "            out_file.write('\\n')\n",
    "            tmp = {'text':review.get('summaryTokenized','')}\n",
    "            json.dump(tmp, out_file)\n",
    "            out_file.write('\\n')\n",
    "            completed_reviews += 1\n",
    "            if completed_reviews % 10000 == 0:\n",
    "                print('Completed: {}'.format(completed_reviews))"
   ]
  },
  {
   "cell_type": "code",
   "execution_count": 62,
   "metadata": {},
   "outputs": [
    {
     "name": "stdout",
     "output_type": "stream",
     "text": [
      "Completed: 10000\n",
      "Completed: 20000\n",
      "Completed: 30000\n",
      "Completed: 40000\n",
      "Completed: 50000\n",
      "Completed: 60000\n",
      "Completed: 70000\n",
      "Completed: 80000\n",
      "Completed: 90000\n",
      "Completed: 100000\n"
     ]
    }
   ],
   "source": [
    "with open('data/aclImdb/movie_text_tokenized.json', 'r') as in_file:\n",
    "    with open('data/all_data.json', 'a') as out_file:\n",
    "        completed_reviews = 0\n",
    "        for line in in_file:\n",
    "            review = ast.literal_eval(line)\n",
    "            tmp = {'text':review.get('reviewTextTokenized','')}\n",
    "            json.dump(tmp, out_file)\n",
    "            out_file.write('\\n')\n",
    "            completed_reviews += 1\n",
    "            if completed_reviews % 10000 == 0:\n",
    "                print('Completed: {}'.format(completed_reviews))"
   ]
  },
  {
   "cell_type": "code",
   "execution_count": 63,
   "metadata": {},
   "outputs": [
    {
     "name": "stdout",
     "output_type": "stream",
     "text": [
      "{\"text\": [\"<sos>\", \"this\", \"is\", \"a\", \"charming\", \"version\", \"of\", \"the\", \"classic\", \"dicken\", \"'s\", \"tale\", \".\", \"henry\", \"winkler\", \"makes\", \"a\", \"good\", \"showing\", \"as\", \"the\", \"scrooge\", \"character\", \".\", \"even\", \"though\", \"you\", \"know\", \"what\", \"will\", \"happen\", \"this\", \"version\", \"has\", \"enough\", \"of\", \"a\", \"change\", \"to\", \"make\", \"it\", \"better\", \"that\", \"average\", \".\", \"if\", \"you\", \"love\", \"a\", \"christmas\", \"carol\", \"in\", \"any\", \"version\", \",\", \"then\", \"you\", \"will\", \"love\", \"this\", \".\", \"<eos>\"]}\r\n",
      "{\"text\": [\"<sos>\", \"good\", \"version\", \"of\", \"a\", \"classic\", \"<eos>\"]}\r\n",
      "{\"text\": [\"<sos>\", \"it\", \"was\", \"good\", \"but\", \"not\", \"as\", \"emotionally\", \"moving\", \"as\", \"the\", \"the\", \"christmas\", \"carol\", \"by\", \"dickens\", \"i\", \"like\", \"christmas\", \"movies\", \"that\", \"make\", \"me\", \"sigh\", \"<eos>\"]}\r\n",
      "{\"text\": [\"<sos>\", \"good\", \"but\", \"not\", \"as\", \"moving\", \"<eos>\"]}\r\n",
      "{\"text\": [\"<sos>\", \"don't\", \"get\", \"me\", \"wrong\", \",\", \"winkler\", \"is\", \"a\", \"wonderful\", \"character\", \"actor\", \"and\", \"i\", \"would\", \"rate\", \"95\", \"of\", \"his\", \"performances\", \"as\", \"b\", \"or\", \"a\", \",\", \"however\", \",\", \"he\", \"was\", \"not\", \"very\", \"convincing\", \"in\", \"the\", \"starring\", \"role\", \"of\", \"34an\", \"american\", \"christmas\", \"carol\", \".\", \"34\", \"i'd\", \"give\", \"it\", \"a\", \"c\", \"or\", \"c\", \"at\", \"best\", \".\", \"ayyyyy\", \"!\", \"<eos>\"]}\r\n",
      "{\"text\": [\"<sos>\", \"winkler\", \"'s\", \"performance\", \"was\", \"ok\", \"at\", \"best\", \"!\", \"<eos>\"]}\r\n",
      "{\"text\": [\"<sos>\", \"henry\", \"winkler\", \"is\", \"very\", \"good\", \"in\", \"this\", \"twist\", \"on\", \"the\", \"classic\", \"story\", \".\", \"not\", \"a\", \"conventional\", \"remake\", \",\", \"but\", \"a\", \"version\", \"of\", \"the\", \"story\", \"set\", \"in\", \"early\", \"america\", \".\", \"give\", \"it\", \"a\", \"try\", \".\", \"<eos>\"]}\r\n",
      "{\"text\": [\"<sos>\", \"it\", \"'s\", \"an\", \"enjoyable\", \"twist\", \"on\", \"the\", \"classic\", \"story\", \"<eos>\"]}\r\n",
      "{\"text\": [\"<sos>\", \"this\", \"is\", \"one\", \"of\", \"the\", \"best\", \"scrooge\", \"movies\", \"out\", \".\", \"henry\", \"winkler\", \"outdoes\", \"himself\", \".\", \"the\", \"casting\", \"is\", \"excellent\", \"and\", \"the\", \"music\", \"and\", \"theme\", \"old\", \"but\", \"very\", \"relevant\", \".\", \"<eos>\"]}\r\n",
      "{\"text\": [\"<sos>\", \"best\", \"scrooge\", \"yet\", \"<eos>\"]}\r\n",
      "{\"text\": [\"<sos>\", \"this\", \"has\", \"been\", \"a\", \"favorite\", \"movie\", \"of\", \"mine\", \"for\", \"a\", \"long\", \"time\", \".\", \"henry\", \"winkler\", \"is\", \"great\", \"as\", \"a\", \"modern\", \"day\", \"scrooge\", \".\", \"there\", \"are\", \"many\", \"movies\", \"giving\", \"a\", \"new\", \"twist\", \"to\", \"dickens\", \",\", \"but\", \"this\", \"one\", \"is\", \"true\", \"to\", \"the\", \"original\", \"story\", \".\", \"it\", \"is\", \"set\", \"during\", \"the\", \"depression\", \".\", \"<eos>\"]}\r\n",
      "{\"text\": [\"<sos>\", \"dickens\", \"updated\", \".\", \"<eos>\"]}\r\n",
      "{\"text\": [\"<sos>\", \"this\", \"is\", \"the\", \"american\", \"adaptation\", \"of\", \"the\", \"charles\", \"dickens'\", \"classic\", \".\", \"it\", \"is\", \"interesting\", \"that\", \"in\", \"the\", \"movie\", \"the\", \"main\", \"character\", \"is\", \"seen\", \"ripping\", \"the\", \"pages\", \"out\", \"of\", \"a\", \"collector\", \"'s\", \"item\", \"book\", \"of\", \"a\", \"christmas\", \"carol\", \".\", \"henry\", \"winkler\", \"gives\", \"an\", \"outstanding\", \"performance\", \"as\", \"benedict\", \"slade\", \",\", \"a\", \"loan\", \"officer\", \"who\", \"reclaims\", \"valued\", \"possessions\", \"of\", \"those\", \"unable\", \"to\", \"make\", \"late\", \"payments\", \"on\", \"christmas\", \"eve\", \".\", \"his\", \"visit\", \"by\", \"the\", \"spirits\", \",\", \"the\", \"life\", \"in\", \"the\", \"orphanage\", \"and\", \"how\", \"one\", \"man\", \"helped\", \"him\", \",\", \"leads\", \"to\", \"a\", \"very\", \"sentimental\", \"ending\", \".\", \"it\", \"would\", \"have\", \"been\", \"good\", \"if\", \"the\", \"images\", \"could\", \"be\", \"enhanced\", \"for\", \"better\", \"viewing\", \".\", \"this\", \"originally\", \"was\", \"a\", \"'made\", \"-\", \"for\", \"-\", \"tv'\", \"program\", \"and\", \"is\", \"presented\", \"complete\", \"with\", \"the\", \"fade\", \"-\", \"outs\", \"for\", \"the\", \"commercial\", \"breaks\", \".\", \"david\", \"wayne\", \"gives\", \"a\", \"great\", \"performance\", \"as\", \"the\", \"book\", \"owner\", \"as\", \"well\", \"as\", \"christmases\", \"past\", \".\", \"<eos>\"]}\r\n",
      "{\"text\": [\"<sos>\", \"a\", \"must\", \"-\", \"have\", \"for\", \"any\", \"video\", \"christmas\", \"collection\", \"!\", \"!\", \"<eos>\"]}\r\n",
      "{\"text\": [\"<sos>\", \"glad\", \"that\", \"this\", \"american\", \"classic\", \"came\", \"out\", \"on\", \"dvd\", \".\", \"i\", \"have\", \"been\", \"waiting\", \"for\", \"it\", \"for\", \"a\", \"long\", \"time\", \".\", \"i\", \"haven't\", \"seen\", \"this\", \"production\", \"since\", \"it\", \"came\", \"out\", \"years\", \"ago\", \".\", \"plus\", \"it\", \"'s\", \"better\", \"than\", \"some\", \"hallmark\", \"holiday\", \"movies\", \".\", \"<eos>\"]}\r\n",
      "{\"text\": [\"<sos>\", \"an\", \"american\", \"christmas\", \"carol\", \"<eos>\"]}\r\n",
      "{\"text\": [\"<sos>\", \"a\", \"good\", \"christmas\", \"carol\", \"dhenry\", \"winkler\", \"one\", \"during\", \"the\", \"depression\", \".\", \"henry\", \"winkler\", \"does\", \"a\", \"good\", \"job\", \".\", \"a\", \"classic\", \"film\", \"i\", \"recommend\", \"for\", \"all\", \"ages\", \".\", \"<eos>\"]}\r\n",
      "{\"text\": [\"<sos>\", \"an\", \"american\", \"christmas\", \"carol\", \"<eos>\"]}\r\n",
      "{\"text\": [\"<sos>\", \"how\", \"a\", \"bitter\", \"old\", \"man\", \"comes\", \"to\", \"know\", \"the\", \"true\", \"meaning\", \"of\", \"christmas\", \".\", \"realizing\", \"to\", \"late\", \"his\", \"lost\", \"love\", \"and\", \"life\", \".\", \"<eos>\"]}\r\n",
      "{\"text\": [\"<sos>\", \"fantastic\", \"!\", \"<eos>\"]}\r\n",
      "{\"text\": [\"<sos>\", \"the\", \"small\", \"historic\", \"canadian\", \"town\", \"of\", \"elora\", \",\", \"with\", \"its\", \"many\", \"century\", \"-\", \"old\", \"buildings\", \",\", \"is\", \"the\", \"perfect\", \"setting\", \"for\", \"this\", \"story\", \",\", \"set\", \"in\", \"the\", \"early\", \"1900\", \"'s\", \".\", \"bringing\", \"the\", \"story\", \"to\", \"20th\", \"century\", \"america\", \"allows\", \"the\", \"story\", \"to\", \"incorporate\", \"situations\", \"americans\", \"can\", \"more\", \"easily\", \"with\", \".\", \"henry\", \"winkler\", \"does\", \"a\", \"great\", \"job\", \"of\", \"recreating\", \"the\", \"scrooge\", \"character\", \",\", \"and\", \"the\", \"supporting\", \"cast\", \"are\", \"no\", \"less\", \"admirable\", \".\", \"this\", \"is\", \"an\", \"annual\", \"34must\", \"watch34\", \"story\", \"for\", \"me\", \".\", \"<eos>\"]}\r\n",
      "{\"text\": [\"<sos>\", \"outstanding\", \"concept\", \",\", \"and\", \"performances\", \"<eos>\"]}\r\n",
      "{\"text\": [\"<sos>\", \"even\", \"though\", \"i\", \"don't\", \"care\", \"for\", \"henry\", \"winklers\", \"acting\", \"i\", \"liked\", \"this\", \"movie\", \"it\", \"fit\", \"him\", \"real\", \"good\", \"thanksdale\", \"<eos>\"]}\r\n",
      "{\"text\": [\"<sos>\", \"good\", \"version\", \"<eos>\"]}\r\n",
      "{\"text\": [\"<sos>\", \"my\", \"wife\", \"told\", \"me\", \"of\", \"this\", \"movie\", \"in\", \"which\", \"henry\", \"winkler\", \"stars\", \"shows\", \"he\", \"can\", \"act\", \"in\", \"this\", \"different\", \"version\", \"of\", \"a\", \"chrismas\", \"carol\", \".\", \"<eos>\"]}\r\n",
      "{\"text\": [\"<sos>\", \"christmas\", \"<eos>\"]}\r\n",
      "{\"text\": [\"<sos>\", \"the\", \"first\", \"time\", \"i\", \"saw\", \"34an\", \"american\", \"christmas\", \"carol34\", \"i\", \"immediately\", \"fell\", \"in\", \"love\", \"with\", \"it\", \".\", \"i\", \"didn't\", \"grow\", \"up\", \"during\", \"the\", \"great\", \"depression\", \"but\", \"my\", \"father\", \"did\", \"and\", \"he\", \"told\", \"stories\", \"that\", \"made\", \"it\", \"real\", \"for\", \"me\", \".\", \"this\", \"re\", \"-\", \"imagination\", \"of\", \"an\", \"americanized\", \"scrooge\", \"during\", \"the\", \"depression\", \"is\", \"wonderful\", \".\", \"the\", \"story\", \",\", \"acting\", \",\", \"directing\", \",\", \"camera\", \"work\", \",\", \"costumes\", \",\", \"sets\", \",\", \"locations\", \",\", \"music\", \",\", \"and\", \"all\", \"production\", \"values\", \"are\", \"great\", \".\", \"i\", \"have\", \"always\", \"enjoyed\", \"henry\", \"winkler\", \"as\", \"an\", \"actor\", \",\", \"but\", \"i\", \"think\", \"this\", \"is\", \"by\", \"far\", \"one\", \"of\", \"his\", \"best\", \"if\", \"not\", \"the\", \"best\", \"performance\", \"of\", \"his\", \"career\", \"to\", \"date\", \".\", \"i\", \"highly\", \"recommend\", \"it\", \"for\", \"the\", \"whole\", \"family\", \".\", \"ca\", \"luster\", \"<eos>\"]}\r\n",
      "{\"text\": [\"<sos>\", \"an\", \"american\", \"christmas\", \"carol\", \"<eos>\"]}\r\n",
      "{\"text\": [\"<sos>\", \"set\", \"in\", \"the\", \"usa\", \"about\", \"the\", \"time\", \"of\", \"the\", \"depression\", \"it\", \"is\", \"an\", \"update\", \"of\", \"that\", \"old\", \"familiar\", \"story\", \"of\", \"redemption\", \".\", \"the\", \"story\", \"is\", \"classic\", \"and\", \"this\", \"one\", \"is\", \"as\", \"good\", \"as\", \"all\", \"the\", \"rest\", \".\", \"henry\", \"winkler\", \"is\", \"good\", \"in\", \"this\", \"role\", \".\", \"<eos>\"]}\r\n",
      "{\"text\": [\"<sos>\", \"it\", \"'s\", \"a\", \"christmas\", \"carol\", \"<eos>\"]}\r\n",
      "{\"text\": [\"<sos>\", \"i\", \"really\", \"enjoy\", \"all\", \"the\", \"34christmas\", \"carol\", \"-\", \"scrooge34\", \"movies\", \".\", \"i\", \"own\", \"all\", \"the\", \"ones\", \"i\", \"know\", \"about\", \"and\", \"watch\", \"them\", \"each\", \"year\", \".\", \"i\", \"want\", \"to\", \"add\", \"this\", \"one\", \"to\", \"my\", \"collection\", \"as\", \"it\", \"is\", \"a\", \"different\", \"take\", \"on\", \"the\", \"traditional\", \"ones\", \".\", \"<eos>\"]}\r\n",
      "{\"text\": [\"<sos>\", \"a\", \"familiar\", \"classic\", \"in\", \"a\", \"different\", \"way\", \"<eos>\"]}\r\n",
      "{\"text\": [\"<sos>\", \"this\", \"is\", \"a\", \"wonderful\", \"movie\", \".\", \"it\", \"stay\", \"faithful\", \"to\", \"a\", \"christmas\", \"carol\", \",\", \"but\", \"it\", \"very\", \"american\", \".\", \"a\", \"fun\", \"movie\", \"for\", \"one\", \"and\", \"all\", \".\", \"<eos>\"]}\r\n",
      "{\"text\": [\"<sos>\", \"great\", \"christmas\", \"movie\", \"for\", \"the\", \"family\", \"<eos>\"]}\r\n",
      "{\"text\": [\"<sos>\", \"anorher\", \"good\", \"movie\", \"for\", \"holiday\", \"watchers\", \".\", \".\", \"a\", \"little\", \"twist\", \"from\", \"the\", \"ordinary\", \"scrooge\", \"movie\", \".\", \"enjoyable\", \".\", \"what\", \"couldn't\", \"you\", \"like\", \"from\", \"the\", \"fons\", \".\", \"<eos>\"]}\r\n",
      "{\"text\": [\"<sos>\", \"the\", \"fonz\", \"does\", \"scrooge\", \"<eos>\"]}\r\n",
      "{\"text\": [\"<sos>\", \"henry\", \"winkler\", \"played\", \"a\", \"great\", \"part\", \"as\", \"scrooge\", \".\", \"it\", \"gave\", \"yet\", \"another\", \"twist\", \"to\", \"all\", \"the\", \"christmas\", \"carols\", \"of\", \"the\", \"past\", \".\", \"<eos>\"]}\r\n",
      "{\"text\": [\"<sos>\", \"an\", \"american\", \"christmas\", \"carol\", \"<eos>\"]}\r\n",
      "{\"text\": [\"<sos>\", \"ignore\", \"some\", \"of\", \"the\", \"more\", \"negative\", \"reviews\", \"on\", \"here\", \".\", \"this\", \"made\", \"for\", \"tv\", \"movie\", \"really\", \"touches\", \"me\", \"every\", \"time\", \"i\", \"watch\", \"it\", \"which\", \"is\", \"every\", \"christmas\", \".\", \"the\", \"acting\", \"is\", \"splendid\", \"and\", \"the\", \"story\", \"is\", \"well\", \"written\", \".\", \"it\", \"is\", \"suitable\", \"for\", \"the\", \"entire\", \"family\", \"and\", \"it\", \"gives\", \"a\", \"good\", \"picture\", \"of\", \"the\", \"depression\", \"era\", \"of\", \"our\", \"country\", \".\", \"<eos>\"]}\r\n",
      "{\"text\": [\"<sos>\", \"one\", \"of\", \"my\", \"favorite\", \"christmas\", \"movies\", \"!\", \"<eos>\"]}\r\n",
      "{\"text\": [\"<sos>\", \"we\", \"began\", \"watching\", \"this\", \"video\", \",\", \"but\", \"stopped\", \"it\", \"a\", \"short\", \"way\", \"into\", \"it\", \"when\", \"we\", \"realized\", \"this\", \"was\", \"not\", \"what\", \"we\", \"had\", \"hoped\", \"for\", \".\", \"it\", \"was\", \"too\", \"contrived\", \"and\", \"predictable\", \".\", \"<eos>\"]}\r\n",
      "{\"text\": [\"<sos>\", \"an\", \"american\", \"christmas\", \"carol\", \"<eos>\"]}\r\n",
      "{\"text\": [\"<sos>\", \"it\", \"seems\", \"like\", \"just\", \"about\", \"everybody\", \"has\", \"made\", \"a\", \"christmas\", \"carol\", \"movie\", \".\", \"this\", \"one\", \"is\", \"the\", \"best\", \"by\", \"far\", \"!\", \"it\", \"seems\", \"more\", \"realistic\", \"than\", \"all\", \"the\", \"others\", \"and\", \"the\", \"time\", \"period\", \"seems\", \"to\", \"be\", \"perfect\", \".\", \"the\", \"acting\", \"is\", \"also\", \"far\", \"better\", \"than\", \"any\", \"of\", \"the\", \"others\", \"i've\", \"seen\", \"my\", \"opinion\", \".\", \"<eos>\"]}\r\n",
      "{\"text\": [\"<sos>\", \"the\", \"best\", \"christmas\", \"carol\", \"story\", \"<eos>\"]}\r\n",
      "{\"text\": [\"<sos>\", \"i\", \"must\", \"confess\", \"to\", \"being\", \"a\", \"bit\", \"of\", \"a\", \"coinsure\", \"of\", \"dickens'\", \"classic\", \"tale\", \".\", \"i\", \"have\", \"many\", \"versions\", \"of\", \"it\", \"and\", \"always\", \"love\", \"seeing\", \"the\", \"various\", \"interpretations\", \"offered\", \".\", \"this\", \"one\", \",\", \"however\", \",\", \"continues\", \"to\", \"be\", \"one\", \"of\", \"my\", \"all\", \"time\", \"favorites\", \".\", \"the\", \"change\", \"of\", \"setting\", \"forces\", \"the\", \"film\", \"to\", \"explain\", \"elements\", \"of\", \"the\", \"book\", \"that\", \"most\", \"films\", \"overlook\", \"because\", \"they\", \"assume\", \"you're\", \"already\", \"familiar\", \"with\", \"the\", \"story\", \".\", \"examples\", \"of\", \"this\", \"include\", \"how\", \"scrooge\", \"slade\", \"in\", \"the\", \"film\", \"could\", \"be\", \"so\", \"mean\", \"and\", \"yet\", \"think\", \"himself\", \"a\", \"just\", \"man\", \",\", \"also\", \"the\", \"reason\", \"the\", \"ghost\", \"of\", \"his\", \"dead\", \"partner\", \"is\", \"miserable\", \"not\", \"understanding\", \"the\", \"need\", \"to\", \"do\", \"good\", \"until\", \"he\", \"has\", \"lost\", \"the\", \"power\", \".\", \"add\", \"to\", \"this\", \"the\", \"wonderful\", \"performances\", \"by\", \"winkler\", \"et\", \"al\", \"and\", \"you've\", \"got\", \"an\", \"absolutely\", \"classic\", \"film\", \".\", \"in\", \"my\", \"opinion\", \",\", \"this\", \"version\", \"of\", \"dickens'\", \"story\", \"is\", \"closer\", \"to\", \"the\", \"original\", \"spirit\", \"of\", \"his\", \"work\", \"than\", \"many\", \"less\", \"derivative\", \"versions\", \".\", \"the\", \"material\", \"is\", \"handled\", \"with\", \"reverence\", \"and\", \"respect\", \"and\", \"it\", \"shows\", \",\", \"the\", \"settings\", \"and\", \"characters\", \"are\", \"well\", \"conceived\", \",\", \"and\", \"the\", \"look\", \"of\", \"the\", \"film\", \"is\", \"faithful\", \"to\", \"the\", \"period\", \".\", \"all\", \"in\", \"all\", \"an\", \"excellent\", \"holiday\", \"piece\", \"well\", \"worth\", \"the\", \"money\", \".\", \"<eos>\"]}\r\n",
      "{\"text\": [\"<sos>\", \"change\", \"can\", \"be\", \"good\", \"<eos>\"]}\r\n",
      "{\"text\": [\"<sos>\", \"this\", \"is\", \"charles\", \"dickens'\", \"classic\", \"christmas\", \"carol\", \"with\", \"an\", \"american\", \"twist\", \".\", \"this\", \"version\", \"does\", \"a\", \"nice\", \"job\", \"of\", \"capturing\", \"the\", \"consequences\", \"of\", \"history\", \"and\", \"one\", \"'s\", \"personal\", \"role\", \"in\", \"it\", \".\", \"it\", \"provides\", \"a\", \"sobering\", \"view\", \"of\", \"the\", \"main\", \"character\", \"'s\", \"choices\", \",\", \"just\", \"as\", \"the\", \"original\", \",\", \"34a\", \"christmas\", \"carol\", \",\", \"34\", \"did\", \"but\", \"this\", \"version\", \"also\", \"shows\", \"how\", \"one\", \"man\", \"'s\", \"choices\", \"affect\", \"those\", \"around\", \"him\", \".\", \"i\", \"recommend\", \"this\", \"film\", \"to\", \"anyone\", \"who\", \"collects\", \"different\", \"versions\", \"of\", \",\", \"34a\", \"christmas\", \"carol\", \".\", \"34\", \"<eos>\"]}\r\n",
      "{\"text\": [\"<sos>\", \"a\", \"worthy\", \"version\", \"of\", \"a\", \"christmas\", \"carol\", \"<eos>\"]}\r\n",
      "{\"text\": [\"<sos>\", \"i\", \"can't\", \"believe\", \"how\", \"long\", \"it\", \"took\", \"34them34\", \"to\", \"get\", \"this\", \"wonderful\", \"christmas\", \"show\", \"on\", \"dvd\", \".\", \"it\", \"'s\", \"a\", \"modern\", \"1930s\", \"america\", \"twist\", \"on\", \"charles\", \"dickens'\", \"classic\", \"tale\", \".\", \"winkler\", \"makes\", \"me\", \"hate\", \"his\", \"character\", \"as\", \"much\", \"as\", \"alister\", \"sim\", \"did\", \"in\", \"his\", \"portrayal\", \"of\", \"scrooge\", \"in\", \"the\", \"1951\", \"production\", \".\", \"certainly\", \"one\", \"for\", \"your\", \"visual\", \"library\", \".\", \"<eos>\"]}\r\n",
      "{\"text\": [\"<sos>\", \"it\", \"'s\", \"about\", \"time\", \".\", \".\", \".\", \"<eos>\"]}\r\n",
      "{\"text\": [\"<sos>\", \"henry\", \"winkler\", \"is\", \"a\", \"fine\", \"actor\", \"and\", \"this\", \"version\", \"of\", \"the\", \"famous\", \"story\", \"is\", \"proof\", \"positive\", \".\", \"he\", \"does\", \"and\", \"excellent\", \"job\", \"as\", \"ebeneezer\", \"scrooge\", \".\", \"the\", \"story\", \",\", \"of\", \"course\", \",\", \"is\", \"the\", \"same\", \"as\", \"the\", \"other\", \"versions\", \",\", \"but\", \"each\", \"remake\", \"brings\", \"a\", \"different\", \"interpretation\", \"by\", \"the\", \"actors\", \"and\", \"writers\", \".\", \"this\", \"one\", \"is\", \"fun\", \"and\", \"easy\", \"to\", \"watch\", \".\", \"a\", \"fine\", \"family\", \"film\", \".\", \"<eos>\"]}\r\n",
      "{\"text\": [\"<sos>\", \"fonzie\", \"as\", \"scrooge\", \"<eos>\"]}\r\n",
      "{\"text\": [\"<sos>\", \"a\", \"brilliant\", \"adaptation\", \"of\", \"dickson\", \"'s\", \"classic\", \"set\", \"in\", \"early\", \"20th\", \"century\", \"new\", \"england\", \".\", \"well\", \"written\", \"and\", \"well\", \"acted\", \",\", \"henry\", \"winkler\", \"shines\", \"as\", \"a\", \"young\", \"entrepreneur\", \"who\", \"is\", \"more\", \"interested\", \"in\", \"wealth\", \"and\", \"progress\", \"than\", \"romance\", \"and\", \"family\", \",\", \"until\", \".\", \".\", \".\", \"i\", \"don't\", \"want\", \"to\", \"give\", \"it\", \"away\", \".\", \"trust\", \"me\", \".\", \"you'll\", \"love\", \"it\", \".\", \"<eos>\"]}\r\n",
      "{\"text\": [\"<sos>\", \"brilliant\", \"adaptation\", \"<eos>\"]}\r\n",
      "{\"text\": [\"<sos>\", \"a\", \"great\", \"acting\", \"job\", \"by\", \"henry\", \"winkler\", \".\", \"i\", \"saw\", \"this\", \"many\", \"years\", \"ago\", \"and\", \"it'll\", \"always\", \"be\", \"a\", \"christmas\", \"favorite\", \".\", \"<eos>\"]}\r\n",
      "{\"text\": [\"<sos>\", \"henry\", \"winkler\", \"as\", \"a\", \"modern\", \"-\", \"day\", \"scrooge\", \"<eos>\"]}\r\n",
      "{\"text\": [\"<sos>\", \"henry\", \"winkler\", \"stars\", \"in\", \"this\", \"remake\", \"of\", \"the\", \"classic\", \"tale\", \"of\", \"scrooge\", \".\", \"this\", \"one\", \"is\", \"set\", \"in\", \"post\", \"-\", \"depression\", \"era\", \"america\", \"and\", \"is\", \"oneof\", \"the\", \"best\", \"i've\", \"ever\", \"seen\", \".\", \"winkler\", \"is\", \"equally\", \"at\", \"ease\", \"as\", \"a\", \"young\", \"man\", \"with\", \"a\", \"girlfriend\", \"or\", \"an\", \"old\", \"man\", \"with\", \"an\", \"attitude\", \".\", \"i\", \"watch\", \"this\", \"every\", \"christmas\", \"and\", \"was\", \"delighted\", \"to\", \"discover\", \"it\", \"on\", \"dvd\", \".\", \"you'll\", \"love\", \"it\", \"!\", \"<eos>\"]}\r\n",
      "{\"text\": [\"<sos>\", \"another\", \"great\", \"christmas\", \"classic\", \"<eos>\"]}\r\n",
      "{\"text\": [\"<sos>\", \"the\", \"title\", \"says\", \"it\", \"all\", \"-\", \"this\", \"is\", \"a\", \"christmas\", \"carol\", \"re\", \"-\", \"done\", \".\", \"henery\", \"winkler\", \"play\", \"the\", \"part\", \"of\", \"scrooge\", \"in\", \"this\", \"american\", \"version\", \"of\", \"the\", \"timeless\", \"classic\", \"it\", \"is\", \"well\", \"worth\", \"the\", \"investment\", \"if\", \"you\", \"are\", \"a\", \"collector\", \"of\", \"the\", \"christmas\", \"carol\", \"stories\", \".\", \"<eos>\"]}\r\n",
      "{\"text\": [\"<sos>\", \"christmas\", \"carol\", \"redone\", \"<eos>\"]}\r\n",
      "{\"text\": [\"<sos>\", \"henry\", \"winkler\", \"does\", \"an\", \"amazing\", \"job\", \"as\", \"scrooge\", \"in\", \"this\", \"tale\", \",\", \"he\", \"is\", \"an\", \"awesome\", \"actor\", \",\", \"i\", \"really\", \"like\", \"sitting\", \"down\", \"to\", \"watch\", \"this\", \"movie\", \"on\", \"a\", \"cold\", \"night\", \".\", \"<eos>\"]}\r\n",
      "{\"text\": [\"<sos>\", \"christmas\", \"scrooge\", \"<eos>\"]}\r\n",
      "{\"text\": [\"<sos>\", \"an\", \"updated\", \"version\", \"of\", \"a\", \"christmas\", \"carol\", \"that\", \"doesn't\", \"lose\", \"any\", \"of\", \"the\", \"important\", \"stuff\", \".\", \"great\", \"movie\", \"for\", \"the\", \"family\", \".\", \"<eos>\"]}\r\n",
      "{\"text\": [\"<sos>\", \"new\", \"take\", \"on\", \"an\", \"old\", \"tale\", \"<eos>\"]}\r\n",
      "{\"text\": [\"<sos>\", \"most\", \"of\", \"us\", \"remember\", \"henry\", \"winkler\", \"in\", \"the\", \"role\", \"of\", \"arthur\", \"the\", \"fonz\", \"fonzarelli\", \"on\", \"happy\", \"days\", \".\", \"i\", \"took\", \"a\", \"chance\", \"on\", \"this\", \".\", \"he\", \"'s\", \"an\", \"even\", \"better\", \"actor\", \"than\", \"i\", \"remember\", \".\", \"the\", \"story\", \"is\", \"set\", \"during\", \"the\", \"depression\", \".\", \"henry\", \"'s\", \"character\", \"reposesses\", \"furniture\", \"rented\", \"from\", \"him\", \"by\", \"various\", \"poor\", \"families\", \".\", \"instead\", \"of\", \"ghosts\", \",\", \"he\", \"has\", \"visions\", \"involving\", \"the\", \"people\", \"he\", \"'s\", \"left\", \"destitute\", \".\", \"not\", \"sappy\", \"like\", \"some\", \"christmas\", \"carol\", \"renditions\", \"are\", \".\", \"i\", \"was\", \"favorably\", \"impressed\", \"by\", \"the\", \"story\", \"as\", \"well\", \"as\", \"the\", \"acting\", \".\", \"gerard\", \"parks\", \"doc\", \"from\", \"fraggle\", \"rock\", \"was\", \"also\", \"in\", \"it\", \",\", \"as\", \"was\", \"a\", \"young\", \"dorian\", \"harewood\", \".\", \"a\", \"nice\", \"addition\", \"to\", \"my\", \"christmas\", \"carol\", \"collection\", \".\", \"<eos>\"]}\r\n",
      "{\"text\": [\"<sos>\", \"another\", \"side\", \"of\", \"henry\", \"<eos>\"]}\r\n",
      "{\"text\": [\"<sos>\", \"henry\", \"winkler\", \"is\", \"excellent\", \".\", \"the\", \"only\", \"thing\", \"i\", \"have\", \"to\", \"say\", \"is\", \",\", \"there\", \"was\", \"too\", \"much\", \"time\", \"spent\", \"on\", \"his\", \"christmas\", \"past\", \".\", \"i\", \"got\", \"bored\", \"with\", \"it\", \".\", \"otherwise\", \",\", \"it\", \"was\", \"good\", \"and\", \"worth\", \"the\", \"money\", \".\", \"<eos>\"]}\r\n",
      "{\"text\": [\"<sos>\", \"excellent\", \"!\", \"<eos>\"]}\r\n",
      "{\"text\": [\"<sos>\", \"when\", \"this\", \"first\", \"aired\", \"in\", \"1979\", \",\", \"i\", \"enjoyed\", \"it\", \"so\", \"much\", \"i\", \"clean\", \"forgot\", \"it\", \"was\", \"quota\", \"christmas\", \"carolquot\", \".\", \"i\", \"wanted\", \"to\", \"see\", \"it\", \"over\", \"and\", \"over\", \"again\", \"thoughout\", \"the\", \"year\", \".\", \"when\", \"i\", \"finally\", \"got\", \"a\", \"copy\", \"on\", \"vhs\", \",\", \"i\", \"got\", \"that\", \"wish\", \".\", \"now\", \"i\", \"finally\", \"got\", \"the\", \"dvd\", \"copy\", \"and\", \"am\", \"i\", \"glad\", \".\", \"to\", \"see\", \"henry\", \"winkler\", \"as\", \"the\", \"best\", \"scrooge\", \"or\", \"variation\", \"on\", \"him\", \"since\", \"alistair\", \"sim\", \"in\", \"the\", \"1951\", \"version\", \"now\", \"on\", \"dvd\", \"is\", \"a\", \"treat\", \"for\", \"the\", \"gods\", \".\", \"although\", \"i\", \"have\", \"both\", \"the\", \"1984\", \"and\", \"1999\", \"made\", \"for\", \"television\", \"films\", \"made\", \"with\", \"george\", \"scott\", \"and\", \"patrick\", \"stewart\", \"on\", \"dvd\", \",\", \"this\", \"version\", \"was\", \"the\", \"first\", \"attempt\", \"to\", \"bring\", \"the\", \"classic\", \"dickens\", \"tale\", \"to\", \"the\", \"small\", \"screen\", \".\", \"it\", \"is\", \"as\", \"just\", \"as\", \"enjoyable\", \"today\", \"as\", \"it\", \"was\", \"20\", \"plus\", \"years\", \"ago\", \",\", \"and\", \"this\", \"way\", \"it\", \"will\", \"live\", \"forever\", \".\", \"get\", \"it\", \"now\", \"and\", \"on\", \"disc\", \"before\", \"it\", \"gets\", \"away\", \".\", \"<eos>\"]}\r\n",
      "{\"text\": [\"<sos>\", \"a\", \"christmas\", \"carol\", \"to\", \"be\", \"remembered\", \"<eos>\"]}\r\n",
      "{\"text\": [\"<sos>\", \"winkler\", \"does\", \"a\", \"little\", \"over\", \"-\", \"the\", \"-\", \"top\", \"in\", \"his\", \"role\", \"as\", \"the\", \"scrooge\", \"character\", \"and\", \"the\", \"production\", \"values\", \"leave\", \"somewhat\", \"more\", \"to\", \"be\", \"desired\", \"but\", \"all\", \"-\", \"in\", \"-\", \"all\", \"a\", \"nice\", \"rendition\", \"for\", \"holiday\", \"viewing\", \".\", \"<eos>\"]}\r\n",
      "{\"text\": [\"<sos>\", \"dated\", \"tv\", \"flic\", \"<eos>\"]}\r\n",
      "{\"text\": [\"<sos>\", \"henry\", \"winkler\", \"makes\", \"this\", \"delightfull\", \"dickens\", \"variant\", \"a\", \"treasure\", \"of\", \"its\", \"own\", \".\", \"in\", \"blu\", \"ray\", \"now\", \"-\", \"yes\", \"!\", \"this\", \"great\", \"actor\", \"has\", \"always\", \"been\", \"a\", \"welcome\", \"see\", \".\", \"<eos>\"]}\r\n",
      "{\"text\": [\"<sos>\", \"not\", \"merely\", \"an\", \"american\", \"spin\", \"-\", \"off\", \"<eos>\"]}\r\n",
      "{\"text\": [\"<sos>\", \"this\", \"is\", \"a\", \"timeless\", \"classic\", \"which\", \"shows\", \"that\", \"those\", \"people\", \"from\", \"the\", \"depression\", \"era\", \"experienced\", \"a\", \"lot\", \"of\", \"what\", \"might\", \"have\", \"taken\", \"place\", \"in\", \"england\", \"during\", \"the\", \"time\", \"of\", \"dickens\", \".\", \"<eos>\"]}\r\n",
      "{\"text\": [\"<sos>\", \"a\", \"classic\", \"<eos>\"]}\r\n",
      "{\"text\": [\"<sos>\", \"i\", \"liked\", \"mr\", \"winklers\", \"pertrayal\", \"of\", \"a\", \"depression\", \"error\", \"ebineser\", \".\", \"he\", \"played\", \"the\", \"part\", \"of\", \"promising\", \",\", \"driven\", \"young\", \"man\", \",\", \"to\", \"unmoraled\", \"business\", \"man\", \",\", \"to\", \"kind\", \"hearted\", \"senior\", \"citizen\", \"quite\", \"well\", \".\", \"it\", \"was\", \"not\", \"a\", \"big\", \"holywood\", \"production\", \".\", \"but\", \"for\", \"a\", \"made\", \"for\", \"tv\", \"movie\", \"it\", \"was\", \"quite\", \"good\", \".\", \"<eos>\"]}\r\n",
      "{\"text\": [\"<sos>\", \"good\", \"job\", \"henry\", \"<eos>\"]}\r\n",
      "{\"text\": [\"<sos>\", \"i\", \"have\", \"always\", \"loved\", \"this\", \"rendition\", \"of\", \"a\", \"christmas\", \"carol\", \"with\", \"it\", \"'s\", \"american\", \"twist\", \".\", \"i\", \"had\", \"it\", \"on\", \"vhs\", \"but\", \"finally\", \"gave\", \"up\", \"my\", \"player\", \"for\", \"a\", \"dvd\", \"player\", \".\", \"previously\", \"only\", \"bootlegged\", \"copies\", \"were\", \"available\", \".\", \"i\", \"was\", \"very\", \"happy\", \"to\", \"find\", \"it\", \"recently\", \"produced\", \"on\", \"dvd\", \"/\", \"bluray\", \".\", \"it\", \"is\", \"a\", \"great\", \"holiday\", \"movie\", \".\", \"<eos>\"]}\r\n",
      "{\"text\": [\"<sos>\", \"glad\", \"it\", \"'s\", \"finally\", \"out\", \"on\", \"dvd\", \"/\", \"bluray\", \"<eos>\"]}\r\n",
      "{\"text\": [\"<sos>\", \"he\", \"did\", \"a\", \"great\", \"job\", \"as\", \"a\", \"scrooge\", \"type\", \"character\", \".\", \"i\", \"truly\", \"enjoyed\", \"this\", \"film\", \".\", \"i\", \"liked\", \"him\", \"from\", \"the\", \"happy\", \"days\", \"show\", \".\", \"<eos>\"]}\r\n",
      "{\"text\": [\"<sos>\", \"love\", \"henry\", \"winkler\", \"<eos>\"]}\r\n",
      "{\"text\": [\"<sos>\", \"this\", \"was\", \"one\", \"of\", \"my\", \"favorite\", \"holiday\", \"movies\", \"as\", \"a\", \"kid\", \".\", \"although\", \"it\", \"is\", \"tailored\", \"after\", \"charles\", \"dickens\", \"8220christmas\", \"carol8221\", \",\", \"this\", \"movie\", \"has\", \"some\", \"distinct\", \"differences\", \"which\", \"actually\", \"make\", \"it\", \"stand\", \"on\", \"its\", \"own\", \"merit\", \".\", \"i\", \"love\", \"the\", \"regular\", \"story\", \"of\", \"christmas\", \"carol\", \",\", \"but\", \"this\", \"is\", \"refreshingly\", \"different\", \"and\", \"a\", \"must\", \"see\", \".\", \"<eos>\"]}\r\n",
      "{\"text\": [\"<sos>\", \"an\", \"american\", \"christmas\", \"carol\", \"<eos>\"]}\r\n",
      "{\"text\": [\"<sos>\", \"this\", \"movie\", \"stars\", \"henry\", \"winkler\", \".\", \"an\", \"enjoyable\", \"christmas\", \"tale\", \".\", \"he\", \"was\", \"superb\", \"in\", \"this\", \"role\", \".\", \"a\", \"twist\", \"on\", \"the\", \"old\", \"34scrooge34\", \".\", \"<eos>\"]}\r\n",
      "{\"text\": [\"<sos>\", \"an\", \"american\", \"christmas\", \"carol\", \"<eos>\"]}\r\n",
      "{\"text\": [\"<sos>\", \"i\", \"got\", \"this\", \"for\", \"a\", \"person\", \"who\", \"has\", \"it\", \"on\", \"vhs\", \"and\", \"needed\", \"it\", \"replaced\", \".\", \"they\", \"wanted\", \"to\", \"keep\", \"it\", \"in\", \"there\", \"collection\", \".\", \"thank\", \"you\", \"for\", \"the\", \"promptness\", \"of\", \"receiving\", \"it\", \".\", \"<eos>\"]}\r\n",
      "{\"text\": [\"<sos>\", \"an\", \"american\", \"christmas\", \"carol\", \"<eos>\"]}\r\n",
      "{\"text\": [\"<sos>\", \"trying\", \"to\", \"make\", \"dickens\", \"relevant\", \"again\", \",\", \"this\", \"dresses\", \"him\", \"up\", \"in\", \"american\", \"hard\", \"times\", \"and\", \"values\", \".\", \"winkler\", \"is\", \"always\", \"a\", \"pleasure\", \"to\", \"watch\", \".\", \"i\", \"don't\", \"know\", \",\", \"however\", \",\", \"how\", \"winkler\", \"would\", \"have\", \"dickens\", \"speak\", \"if\", \"set\", \"in\", \"post\", \"-\", \"2007\", \"american\", \",\", \"though\", \".\", \"<eos>\"]}\r\n",
      "{\"text\": [\"<sos>\", \"nicely\", \"done\", \"re\", \"-\", \"placement\", \"of\", \"dicken\", \"'s\", \"classic\", \"in\", \"an\", \"american\", \"setting\", \"<eos>\"]}\r\n",
      "{\"text\": [\"<sos>\", \"i\", \"watched\", \"this\", \"when\", \"it\", \"came\", \"out\", \"on\", \"tv\", \"way\", \"back\", \"when\", \",\", \"and\", \"i\", \"have\", \"looked\", \"for\", \"it\", \"ever\", \"since\", \".\", \"i\", \"was\", \"so\", \"shocked\", \"when\", \"i\", \"saw\", \"it\", \"on\", \"here\", \"and\", \"i\", \"just\", \"had\", \"to\", \"have\", \"it\", \".\", \"watch\", \"this\", \",\", \"it\", \"is\", \"great\", \"!\", \"!\", \"<eos>\"]}\r\n",
      "{\"text\": [\"<sos>\", \"an\", \"outstanding\", \"movie\", \"<eos>\"]}\r\n",
      "{\"text\": [\"<sos>\", \"my\", \"wife\", \"and\", \"i\", \"grew\", \"up\", \"in\", \"new\", \"hampshire\", \"where\", \"this\", \"version\", \"takes\", \"place\", \"so\", \"we\", \"can\", \"easily\", \"relate\", \"to\", \"the\", \"characters\", \"and\", \"setting\", \".\", \"asside\", \"from\", \"this\", \",\", \"we\", \"both\", \"really\", \"like\", \"this\", \"version\", \"because\", \"it\", \"places\", \"the\", \"story\", \"in\", \"a\", \"more\", \"comfortable\", \"setting\", \"in\", \"general\", \"early\", \"america\", \"versus\", \"england\", \".\", \"both\", \"spins\", \"are\", \"great\", \",\", \"this\", \"just\", \"adds\", \"to\", \"an\", \"already\", \"powerful\", \"christmas\", \"message\", \".\", \"<eos>\"]}\r\n",
      "{\"text\": [\"<sos>\", \"a\", \"refreshing\", \"twist\", \"on\", \"a\", \"holiday\", \"classic\", \"<eos>\"]}\r\n",
      "{\"text\": [\"<sos>\", \"this\", \"is\", \"a\", \"first\", \"for\", \"me\", \",\", \"i\", \"didn't\", \"like\", \"this\", \"movie\", \"and\", \"i\", \"think\", \"i\", \"only\", \"had\", \"it\", \"on\", \"for\", \"about\", \"20\", \"minutes\", \".\", \"acting\", \"just\", \"wasn't\", \"there\", \".\", \"<eos>\"]}\r\n",
      "{\"text\": [\"<sos>\", \"not\", \"my\", \"favorite\", \"<eos>\"]}\r\n",
      "{\"text\": [\"<sos>\", \"henry\", \"winkler\", \"is\", \"one\", \"of\", \"my\", \"favorite\", \"actors\", \"of\", \"all\", \"time\", \".\", \"he\", \"is\", \"wonderful\", \"in\", \"an\", \"american\", \"christmas\", \"carol\", \"!\", \"this\", \"is\", \"another\", \"movie\", \"that\", \"has\", \"not\", \"been\", \"shown\", \"at\", \"christmas\", \"in\", \"the\", \"last\", \"few\", \"years\", \",\", \"but\", \"should\", \"be\", \".\", \"so\", \"glad\", \"that\", \"i\", \"could\", \"get\", \"it\", \"for\", \"my\", \"collection\", \"of\", \"favorite\", \"christmas\", \"movies\", \".\", \"<eos>\"]}\r\n",
      "{\"text\": [\"<sos>\", \"a\", \"classic\", \"<eos>\"]}\r\n",
      "{\"text\": [\"<sos>\", \"henry\", \"winkler\", \"does\", \"a\", \"great\", \"acting\", \"job\", \"as\", \"he\", \"protrays\", \"34mr\", \".\", \"scrooge\", \".\", \"34\", \"here\", \"again\", \"one\", \"the\", \"whole\", \"family\", \"can\", \"enjoy\", \"!\", \"<eos>\"]}\r\n",
      "{\"text\": [\"<sos>\", \"finnally\", \"a\", \"version\", \"for\", \"america\", \"!\", \"<eos>\"]}\r\n",
      "{\"text\": [\"<sos>\", \"i\", \"loved\", \"this\", \"film\", \"when\", \"it\", \"was\", \"on\", \"tv\", \"when\", \"i\", \"was\", \"in\", \"high\", \"school\", \"seeing\", \"it\", \"on\", \"dvd\", \"was\", \"an\", \"enjoyable\", \"experience\", \",\", \"but\", \"i\", \"found\", \"an\", \"annoying\", \"problem\", \"in\", \"continuity\", \"winkler\", \"'s\", \"character\", \"seems\", \"to\", \"be\", \"growing\", \"up\", \"in\", \"the\", \"1890s\", \",\", \"which\", \"is\", \"fine\", \",\", \"but\", \"at\", \"one\", \"point\", \"we\", \"see\", \"him\", \"at\", \"a\", \"wwi\", \"war\", \"bond\", \"rally\", \",\", \"and\", \"he\", \"seems\", \"to\", \"be\", \"in\", \"his\", \"early\", \"-\", \"thirties\", \".\", \"yet\", \"just\", \"fifteen\", \"years\", \"later\", \",\", \"during\", \"the\", \"great\", \"depression\", \",\", \"he\", \"'s\", \"a\", \"very\", \"old\", \"man\", \".\", \"so\", \"what\", \"'s\", \"the\", \"deal\", \"?\", \"it\", \"seems\", \"as\", \"if\", \"the\", \"film\", \"'s\", \"producers\", \"just\", \"happened\", \"to\", \"have\", \"a\", \"few\", \"wwi\", \"-\", \"era\", \"cars\", \"and\", \"costumes\", \"and\", \"posters\", \"hanging\", \"around\", \",\", \"so\", \"they\", \"decided\", \"to\", \"twist\", \"time\", \"around\", \"to\", \"fit\", \"the\", \"props\", \".\", \"it\", \"doesn't\", \"make\", \"a\", \"whole\", \"lot\", \"of\", \"sense\", \"for\", \"winkler\", \"'s\", \"character\", \"to\", \"be\", \"a\", \"young\", \"boy\", \"in\", \"what\", \"seems\", \"to\", \"be\", \"the\", \"early\", \"-\", \"industrial\", \"revolution\", \",\", \"then\", \"a\", \"young\", \"man\", \"during\", \"wwi\", \",\", \"then\", \"a\", \"very\", \"old\", \"man\", \"during\", \"the\", \"depression\", \".\", \"very\", \"odd\", \".\", \"i\", \"have\", \"to\", \"believe\", \"that\", \"if\", \"they\", \"hadn't\", \"had\", \"some\", \"wwi\", \"posters\", \"and\", \"banners\", \"and\", \"cars\", \"available\", \",\", \"they\", \"would\", \"have\", \"cut\", \"out\", \"the\", \"war\", \"bond\", \"rally\", \"part\", \"and\", \"kept\", \"the\", \"continuity\", \"intact\", \".\", \"when\", \"slade\", \"sees\", \"his\", \"gravestone\", \",\", \"it\", \"appears\", \"that\", \"he\", \"was\", \"born\", \"in\", \"1876\", \"-\", \"which\", \"would\", \"make\", \"him\", \"just\", \"over\", \"forty\", \"in\", \"the\", \"war\", \"bond\", \"scene\", \",\", \"and\", \"in\", \"his\", \"mid\", \"-\", \"fifties\", \"in\", \"1933\", \",\", \"when\", \"the\", \"film\", \"is\", \"supposed\", \"to\", \"be\", \"taking\", \"place\", \".\", \"maybe\", \"it\", \"'s\", \"because\", \"i'm\", \"a\", \"history\", \"teacher\", \",\", \"but\", \"this\", \"part\", \"always\", \"bugged\", \"me\", \".\", \"maybe\", \"they\", \"should\", \"have\", \"had\", \"everyone\", \"excited\", \"about\", \"the\", \"spanish\", \"american\", \"war\", \"of\", \"1898\", \"-\", \"that\", \"would\", \"have\", \"made\", \"a\", \"lot\", \"more\", \"sense\", \",\", \"but\", \"they\", \"would\", \"have\", \"had\", \"to\", \"save\", \"the\", \"scenes\", \"with\", \"the\", \"cars\", \"for\", \"later\", \".\", \"they\", \"could\", \"have\", \"placed\", \"the\", \"first\", \"scene\", \"at\", \"the\", \"end\", \"of\", \"the\", \"civil\", \"war\", \"that\", \"would\", \"have\", \"allowed\", \"for\", \"some\", \"nice\", \"props\", \",\", \"making\", \"his\", \"age\", \"in\", \"1933\", \"more\", \"believable\", \".\", \"oh\", \"well\", \",\", \"great\", \"movie\", \".\", \"<eos>\"]}\r\n",
      "{\"text\": [\"<sos>\", \"fun\", \",\", \"but\", \"odd\", \"continuity\", \"problems\", \"<eos>\"]}\r\n",
      "{\"text\": [\"<sos>\", \"this\", \"is\", \"one\", \"of\", \"my\", \"favorites\", \".\", \".\", \".\", \"i\", \"was\", \"very\", \"happy\", \"to\", \"see\", \"it\", \"on\", \"this\", \"site\", \".\", \"henry\", \"winkler\", \"played\", \"this\", \"part\", \"well\", \".\", \"<eos>\"]}\r\n",
      "{\"text\": [\"<sos>\", \"joycemarie58\", \"<eos>\"]}\r\n",
      "{\"text\": [\"<sos>\", \"henry\", \"winkler\", \"plays\", \"a\", \"great\", \"part\", \"in\", \"this\", \"movie\", \",\", \"brings\", \"it\", \"to\", \"life\", \"!\", \"good\", \"modern\", \"version\", \"of\", \"scrooge\", \"!\", \"don't\", \"miss\", \"this\", \"classic\", \"<eos>\"]}\r\n",
      "{\"text\": [\"<sos>\", \"great\", \"story\", \"<eos>\"]}\r\n",
      "{\"text\": [\"<sos>\", \"it\", \"didn't\", \"grab\", \"our\", \"attention\", \"enough\", \"to\", \"finish\", \"it\", \".\", \"it\", \"was\", \"probably\", \"okay\", \"if\", \"it\", \"was\", \"the\", \"first\", \"christmas\", \"movie\", \"you\", \"watched\", \"this\", \"season\", \".\", \"<eos>\"]}\r\n",
      "{\"text\": [\"<sos>\", \"didn't\", \"finish\", \"watching\", \"it\", \"<eos>\"]}\r\n",
      "{\"text\": [\"<sos>\", \"henry\", \"winkler\", \"is\", \"the\", \"one\", \"of\", \"the\", \"best\", \"scrooge\", \"i've\", \"seen\", \"!\", \"we\", \"see\", \"a\", \"lot\", \"of\", \"scrooge\", \"movies\", \"this\", \"was\", \"a\", \"breath\", \"of\", \"fresh\", \"air\", \".\", \"<eos>\"]}\r\n",
      "{\"text\": [\"<sos>\", \"i\", \"really\", \"likes\", \"henry\", \"winkler\", \"in\", \"this\", \"adaptation\", \"of\", \"scrooge\", \"!\", \"<eos>\"]}\r\n",
      "{\"text\": [\"<sos>\", \"this\", \"is\", \"one\", \"of\", \"my\", \"favorite\", \"versions\", \"of\", \"the\", \"scrooge\", \"story\", \"but\", \"they\", \"never\", \"show\", \"it\", \"now\", \"i\", \"can\", \"watch\", \"when\", \"i\", \"want\", \"to\", \"<eos>\"]}\r\n",
      "{\"text\": [\"<sos>\", \"this\", \"is\", \"one\", \"of\", \"my\", \"favorite\", \"but\", \"they\", \"never\", \"show\", \"it\", \"<eos>\"]}\r\n",
      "{\"text\": [\"<sos>\", \"how\", \"coincidental\", \"that\", \"this\", \"program\", \",\", \"aired\", \"by\", \"abc\", \"in\", \"1979\", \",\", \"is\", \"set\", \"in\", \"the\", \"usa\", \"during\", \"the\", \"depression\", \"era\", \"and\", \"here\", \"we\", \"are\", \"30\", \"years\", \"later\", \",\", \"in\", \"2009\", \",\", \"experiencing\", \"an\", \"economic\", \"malaise\", \"of\", \"our\", \"own\", \"!\", \"i\", \"remember\", \"having\", \"seen\", \"this\", \"on\", \"tv\", \"but\", \"viewing\", \"it\", \"again\", \"now\", \"on\", \"dvd\", \"made\", \"me\", \"realize\", \"that\", \"i'd\", \"forgotten\", \"about\", \"how\", \"downright\", \"mean\", \"and\", \"cold\", \"-\", \"hearted\", \"henry\", \"winkler\", \"'s\", \"character\", \",\", \"benedict\", \"slade\", \",\", \"really\", \"is\", \"!\", \"!\", \"!\", \"politically\", \"-\", \"correct\", \"viewing\", \"in\", \"the\", \"21st\", \"century\", \"has\", \"really\", \"insulated\", \"from\", \"harsh\", \"emotions\", \"such\", \"as\", \"those\", \"portrayed\", \"by\", \"mr\", \".\", \"winkler\", \".\", \"the\", \"production\", \"has\", \"that\", \"70\", \"'s\", \"look\", \"to\", \"it\", \"but\", \"it\", \"is\", \"well\", \"done\", \"and\", \"the\", \"actors\", \"and\", \"actresses\", \"all\", \"bring\", \"an\", \"unpolished\", \"genuine\", \"-\", \"ness\", \"to\", \"their\", \"parts\", \".\", \"being\", \"a\", \"fan\", \"of\", \"a\", \"christmas\", \"carol\", \"by\", \"charles\", \"dickens\", \",\", \"i\", \"am\", \"pleased\", \"to\", \"have\", \"this\", \"rendition\", \"alongside\", \"other\", \"classic\", \"versions\", \"as\", \"well\", \"as\", \"the\", \"1984\", \"ibm\", \"production\", \".\", \"<eos>\"]}\r\n",
      "{\"text\": [\"<sos>\", \"relevant\", \"!\", \"!\", \"!\", \"<eos>\"]}\r\n",
      "{\"text\": [\"<sos>\", \"great\", \"american\", \"versions\", \"of\", \"the\", \"dickens\", \"'s\", \"classic\", \".\", \"enjoyed\", \"it\", \"very\", \"much\", \"this\", \"video\", \"is\", \"worth\", \"buying\", \".\", \"it\", \"has\", \"a\", \"modern\", \"view\", \"of\", \"a\", \"34christmas\", \"carol34\", \".\", \"<eos>\"]}\r\n",
      "{\"text\": [\"<sos>\", \"wonderful\", \"<eos>\"]}\r\n",
      "{\"text\": [\"<sos>\", \"henry\", \"winkler\", \"proves\", \"his\", \"acting\", \"ability\", \"in\", \"this\", \"american\", \"version\", \"of\", \"the\", \"dickens\", \"classic\", \".\", \"one\", \"will\", \"actually\", \"forget\", \"that\", \"he\", \"was\", \"'the\", \"fonz'\", \"and\", \"will\", \"be\", \"amazed\", \"at\", \"his\", \"transformation\", \"from\", \"nice\", \"guy\", \"to\", \"mean\", \"guy\", \"back\", \"to\", \"nice\", \"guy\", \".\", \"the\", \"general\", \"feel\", \"of\", \"this\", \"movie\", \",\", \"though\", \",\", \"is\", \"grey\", \".\", \"that\", \"'s\", \"the\", \"best\", \"way\", \"to\", \"describe\", \"it\", \".\", \"but\", \"then\", \",\", \"it\", \"was\", \"a\", \"bleak\", \"grey\", \"time\", \"in\", \"american\", \"history\", \",\", \"with\", \"the\", \"great\", \"depression\", \"and\", \"all\", \".\", \"when\", \"dickens\", \"originally\", \"wrote\", \"the\", \"book\", \",\", \"it\", \"was\", \"a\", \"grey\", \"time\", \"in\", \"england\", \"'s\", \"history\", \"as\", \"well\", \",\", \"so\", \"the\", \"subdued\", \"feeling\", \"one\", \"gets\", \"while\", \"watching\", \"this\", \"'modern'\", \"version\", \"fits\", \"in\", \"well\", \"with\", \"the\", \"spirit\", \"of\", \"the\", \"original\", \"story\", \".\", \"a\", \"nice\", \"twist\", \"sorry\", \",\", \"oliver\", \"!\", \"to\", \"a\", \"true\", \"classic\", \".\", \"by\", \"the\", \"way\", \",\", \"for\", \"my\", \"money\", \",\", \"the\", \"finest\", \"original\", \"version\", \"out\", \"there\", \"is\", \"the\", \"george\", \"c\", \".\", \"scott\", \"version\", \"followed\", \"closely\", \"by\", \"alistair\", \"sim\", \".\", \"<eos>\"]}\r\n",
      "{\"text\": [\"<sos>\", \"grey\", \"<eos>\"]}\r\n",
      "{\"text\": [\"<sos>\", \"this\", \"is\", \"a\", \"version\", \"of\", \"a\", \"christmas\", \"carol\", \",\", \"that\", \"most\", \"haven't\", \"seen\", \".\", \"it\", \"is\", \"done\", \"well\", \"and\", \"henry\", \"winkler\", \"plays\", \"a\", \"perfect\", \"scrooge\", \".\", \"i\", \"love\", \"it\", \"!\", \"<eos>\"]}\r\n",
      "{\"text\": [\"<sos>\", \"over\", \"looked\", \"version\", \"of\", \"the\", \"classic\", \"tale\", \"<eos>\"]}\r\n",
      "{\"text\": [\"<sos>\", \"although\", \"my\", \"husband\", \"prefers\", \"the\", \"original\", \"christmas\", \"carol\", \",\", \"he\", \"does\", \"like\", \"this\", \"as\", \"well\", \".\", \"i\", \"love\", \"it\", \".\", \"henry\", \"winkler\", \"is\", \"very\", \"good\", \"in\", \"this\", \"movie\", \".\", \"a\", \"nice\", \"change\", \"from\", \"the\", \"original\", \"christmas\", \"carol\", \"movies\", \".\", \"<eos>\"]}\r\n",
      "{\"text\": [\"<sos>\", \"still\", \"love\", \"it\", \"<eos>\"]}\r\n",
      "{\"text\": [\"<sos>\", \"this\", \"is\", \"my\", \"favorite\", \"christmas\", \"carol\", \"movie\", \".\", \"i\", \"have\", \"waited\", \"for\", \"it\", \"to\", \"come\", \"out\", \",\", \"and\", \"when\", \"i\", \"finally\", \"looked\", \"it\", \"up\", \"again\", \",\", \"i\", \"bought\", \"it\", \"!\", \"<eos>\"]}\r\n",
      "{\"text\": [\"<sos>\", \"favorite\", \"<eos>\"]}\r\n",
      "{\"text\": [\"<sos>\", \"i\", \"have\", \"always\", \"enjoyed\", \"this\", \"movie\", \".\", \"i\", \"had\", \"it\", \"on\", \"dvd\", \"but\", \"wanted\", \"it\", \"on\", \"blue\", \"ray\", \"and\", \"the\", \"quality\", \"is\", \"excellent\", \".\", \"i\", \"have\", \"no\", \"complaints\", \"and\", \"am\", \"very\", \"pleased\", \"to\", \"buy\", \"from\", \"amazon\", \".\", \"<eos>\"]}\r\n"
     ]
    }
   ],
   "source": [
    "!head -n 125 data/all_data.json"
   ]
  },
  {
   "cell_type": "markdown",
   "metadata": {},
   "source": [
    "### Create Word Vectors"
   ]
  },
  {
   "cell_type": "code",
   "execution_count": 64,
   "metadata": {
    "collapsed": true
   },
   "outputs": [],
   "source": [
    "from gensim.models import Word2Vec\n",
    "import multiprocessing, json"
   ]
  },
  {
   "cell_type": "code",
   "execution_count": 65,
   "metadata": {
    "collapsed": true
   },
   "outputs": [],
   "source": [
    "class TokenizedSentences(object):\n",
    "    def __init__(self, filename):\n",
    "        self.filename = filename\n",
    " \n",
    "    def __iter__(self):\n",
    "        for line in open(self.filename, 'r'):\n",
    "            review = json.loads(line)\n",
    "            tokens = review.get('text',[])\n",
    "            yield tokens"
   ]
  },
  {
   "cell_type": "code",
   "execution_count": 66,
   "metadata": {},
   "outputs": [
    {
     "name": "stdout",
     "output_type": "stream",
     "text": [
      "Number of workers: 11\n"
     ]
    }
   ],
   "source": [
    "N_WORKERS = (multiprocessing.cpu_count() - 1)\n",
    "print('Number of workers: '+ str(N_WORKERS))"
   ]
  },
  {
   "cell_type": "code",
   "execution_count": 67,
   "metadata": {
    "collapsed": true
   },
   "outputs": [],
   "source": [
    "s = TokenizedSentences('data/all_data.json')"
   ]
  },
  {
   "cell_type": "code",
   "execution_count": 68,
   "metadata": {
    "collapsed": true
   },
   "outputs": [],
   "source": [
    "EMBED_SIZE = 192\n",
    "w2v_model = Word2Vec(sentences=s,\n",
    "                     size=EMBED_SIZE,\n",
    "                     window=9,\n",
    "                     min_count=4,\n",
    "                     sample=0.001,\n",
    "                     seed=42,\n",
    "                     workers=N_WORKERS,\n",
    "                     sg=0,\n",
    "                     hs=0,\n",
    "                     negative=7,\n",
    "                     iter=15\n",
    "            )"
   ]
  },
  {
   "cell_type": "code",
   "execution_count": 69,
   "metadata": {},
   "outputs": [
    {
     "data": {
      "text/plain": [
       "250136"
      ]
     },
     "execution_count": 69,
     "metadata": {},
     "output_type": "execute_result"
    }
   ],
   "source": [
    "len(w2v_model.wv.vocab)"
   ]
  },
  {
   "cell_type": "code",
   "execution_count": 73,
   "metadata": {},
   "outputs": [
    {
     "data": {
      "text/plain": [
       "[('film', 0.8554957509040833),\n",
       " ('flick', 0.7618805170059204),\n",
       " ('sequel', 0.544894814491272),\n",
       " ('movies', 0.542639434337616),\n",
       " ('it', 0.5421469807624817),\n",
       " ('storyline', 0.5206243395805359),\n",
       " ('anime', 0.5040236115455627),\n",
       " ('ppv', 0.5023794174194336),\n",
       " ('story', 0.4962218403816223),\n",
       " ('series', 0.47777867317199707)]"
      ]
     },
     "execution_count": 73,
     "metadata": {},
     "output_type": "execute_result"
    }
   ],
   "source": [
    "w2v_model.most_similar(positive=['movie'])"
   ]
  },
  {
   "cell_type": "code",
   "execution_count": 74,
   "metadata": {},
   "outputs": [
    {
     "data": {
      "text/plain": [
       "[('tv', 0.9101788401603699),\n",
       " ('televison', 0.825933575630188),\n",
       " ('televsion', 0.7536742687225342),\n",
       " ('pbs', 0.7485703229904175),\n",
       " ('hbo', 0.719831645488739),\n",
       " ('abc', 0.6930111646652222),\n",
       " ('nbc', 0.687646746635437),\n",
       " ('network', 0.6467430591583252),\n",
       " ('tnt', 0.6417787075042725),\n",
       " ('showtime', 0.6372470855712891)]"
      ]
     },
     "execution_count": 74,
     "metadata": {},
     "output_type": "execute_result"
    }
   ],
   "source": [
    "w2v_model.most_similar(positive=['television'])"
   ]
  },
  {
   "cell_type": "code",
   "execution_count": 70,
   "metadata": {},
   "outputs": [
    {
     "data": {
      "text/plain": [
       "[('queen', 0.6551686525344849),\n",
       " ('princess', 0.5688230991363525),\n",
       " ('bekassy', 0.5557050704956055),\n",
       " ('endelman', 0.5515807867050171),\n",
       " ('empress', 0.5449009537696838),\n",
       " ('churchett', 0.5369232296943665),\n",
       " ('prince', 0.5355309844017029),\n",
       " ('moyer', 0.5312000513076782),\n",
       " ('victoria', 0.5283535718917847),\n",
       " ('kingish', 0.5273270606994629)]"
      ]
     },
     "execution_count": 70,
     "metadata": {},
     "output_type": "execute_result"
    }
   ],
   "source": [
    "w2v_model.most_similar(positive=['king','woman'], negative=['man'])"
   ]
  },
  {
   "cell_type": "code",
   "execution_count": 75,
   "metadata": {
    "collapsed": true
   },
   "outputs": [],
   "source": [
    "w2v_model.save('data/w2v_192_language_model_tokens_')"
   ]
  },
  {
   "cell_type": "markdown",
   "metadata": {},
   "source": [
    "### Create Integer to Word Map"
   ]
  },
  {
   "cell_type": "code",
   "execution_count": null,
   "metadata": {
    "collapsed": true
   },
   "outputs": [],
   "source": [
    "import os, json, pickle\n",
    "from collections import Counter"
   ]
  },
  {
   "cell_type": "code",
   "execution_count": null,
   "metadata": {
    "collapsed": true
   },
   "outputs": [],
   "source": [
    "vocab_count = Counter(p for o in tokens for p in o)\n",
    "print('Vocab length: {}'.format(len(vocab_count)))\n",
    "vocab_count.most_common(25)"
   ]
  },
  {
   "cell_type": "code",
   "execution_count": null,
   "metadata": {
    "collapsed": true
   },
   "outputs": [],
   "source": [
    "with open('vocab_count.pkl', 'wb') as f:\n",
    "    pickle.dump(vocab_count, f, pickle.HIGHEST_PROTOCOL)"
   ]
  },
  {
   "cell_type": "code",
   "execution_count": null,
   "metadata": {
    "collapsed": true
   },
   "outputs": [],
   "source": [
    "int2word = {i:x[0] for i, x in enumerate(vocab_count.most_common())}"
   ]
  },
  {
   "cell_type": "code",
   "execution_count": null,
   "metadata": {
    "collapsed": true
   },
   "outputs": [],
   "source": [
    "with open('int2word.pkl', 'wb') as f:\n",
    "    pickle.dump(int2word, f, pickle.HIGHEST_PROTOCOL)"
   ]
  }
 ],
 "metadata": {
  "kernelspec": {
   "display_name": "Python 3",
   "language": "python",
   "name": "python3"
  },
  "language_info": {
   "codemirror_mode": {
    "name": "ipython",
    "version": 3
   },
   "file_extension": ".py",
   "mimetype": "text/x-python",
   "name": "python",
   "nbconvert_exporter": "python",
   "pygments_lexer": "ipython3",
   "version": "3.6.3"
  }
 },
 "nbformat": 4,
 "nbformat_minor": 2
}
