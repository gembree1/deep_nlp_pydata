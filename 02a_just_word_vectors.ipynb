{
 "cells": [
  {
   "cell_type": "markdown",
   "metadata": {},
   "source": [
    "# Movie Review Sentiment Word Vector Performance\n",
    "This notebook uses word vectors to create a binary sentiment classification model.  The data for this example comes from [Andrew Maas](http://ai.stanford.edu/~amaas/data/sentiment/).  The word vectors come from Google or Stanford/Glove.\n",
    "\n",
    "In this notebook we show the power of pre-trained word embeddings, and build a model that just uses the Keras Embedding layer.  There are some experiments towards the end showing how different word vector lengths perform, and also a section showing how models with small data tend to just memorize key words rather than generalize to \"good\" embeddings."
   ]
  },
  {
   "cell_type": "markdown",
   "metadata": {},
   "source": [
    "### Download Text Data"
   ]
  },
  {
   "cell_type": "code",
   "execution_count": 1,
   "metadata": {
    "collapsed": true
   },
   "outputs": [],
   "source": [
    "import os, urllib, tarfile"
   ]
  },
  {
   "cell_type": "code",
   "execution_count": 2,
   "metadata": {},
   "outputs": [
    {
     "name": "stdout",
     "output_type": "stream",
     "text": [
      "Data already downloaded.\n",
      "Tar file already extracted.\n"
     ]
    }
   ],
   "source": [
    "DATA_URL = 'http://ai.stanford.edu/~amaas/data/sentiment/aclImdb_v1.tar.gz'\n",
    "DATA_DIR = './data'\n",
    "\n",
    "if not os.path.exists(DATA_DIR):\n",
    "    os.makedirs(DATA_DIR)\n",
    "\n",
    "if not os.path.isfile(os.path.join(DATA_DIR,'movie_data.tar.gz')):\n",
    "    urllib.request.urlretrieve(DATA_URL, os.path.join(DATA_DIR,'movie_data.tar.gz'))\n",
    "else:\n",
    "    print(\"Data already downloaded.\")\n",
    "\n",
    "if os.path.isfile(os.path.join(DATA_DIR,'movie_data.tar.gz')) and not os.path.exists(os.path.join(DATA_DIR,'aclImdb')):\n",
    "    f = tarfile.open(os.path.join(DATA_DIR,'movie_data.tar.gz'))\n",
    "    f.extractall(path=DATA_DIR)\n",
    "    f.close()\n",
    "else:\n",
    "    print(\"Tar file already extracted.\")"
   ]
  },
  {
   "cell_type": "markdown",
   "metadata": {},
   "source": [
    "### Download Pretrained Embeddings\n",
    "* [Google News](https://code.google.com/archive/p/word2vec/): Download the GoogleNews-vectors-negative300.bin file and extract it to the local ./wordvectors directory\n",
    "* [Glove Vectors](https://nlp.stanford.edu/projects/glove/): Download any of the pre-trained word vectors and unzip into the local ./wordvectors directory\n",
    "* Other models and data can be found at the [Gensim github page](https://github.com/RaRe-Technologies/gensim-data)."
   ]
  },
  {
   "cell_type": "markdown",
   "metadata": {},
   "source": [
    "### Create Train/Test Dataframes"
   ]
  },
  {
   "cell_type": "code",
   "execution_count": 2,
   "metadata": {
    "collapsed": true
   },
   "outputs": [],
   "source": [
    "import numpy as np\n",
    "import pandas as pd"
   ]
  },
  {
   "cell_type": "code",
   "execution_count": 3,
   "metadata": {
    "collapsed": true
   },
   "outputs": [],
   "source": [
    "TRAIN_DATA_FOLDER = 'data/aclImdb/train/'\n",
    "TEST_DATA_FOLDER = 'data/aclImdb/test/'"
   ]
  },
  {
   "cell_type": "code",
   "execution_count": 5,
   "metadata": {},
   "outputs": [
    {
     "name": "stdout",
     "output_type": "stream",
     "text": [
      "(25000, 3)\n",
      "(25000, 3)\n"
     ]
    }
   ],
   "source": [
    "def create_dataframe_from_files(data_folder):\n",
    "    examples = list()\n",
    "    for d in ['pos','neg']:\n",
    "        for f in os.listdir(os.path.join(data_folder,d)):\n",
    "            _tmp = open(os.path.join(data_folder,d,f),'r', encoding='utf-8')\n",
    "            if d=='pos':\n",
    "                examples += [(_tmp.read(),f,1)]\n",
    "            else:\n",
    "                examples += [(_tmp.read(),f,0)]\n",
    "    df_tmp = pd.DataFrame(examples, columns=['text','file','target'])\n",
    "    df_tmp = df_tmp.sample(frac=1)\n",
    "    df_tmp = df_tmp.reset_index(drop=True)\n",
    "    return df_tmp\n",
    "                \n",
    "df_train = create_dataframe_from_files(TRAIN_DATA_FOLDER)\n",
    "df_test = create_dataframe_from_files(TEST_DATA_FOLDER)\n",
    "\n",
    "print(df_train.shape)\n",
    "print(df_test.shape)"
   ]
  },
  {
   "cell_type": "markdown",
   "metadata": {},
   "source": [
    "### Create Tokenizer\n",
    "\n",
    "In this case we use the [Spacy](https://spacy.io/) library to help tokenize our movie reviews.  Spacy is a great NLP tool, and can be customized to a great extent.  However, it tends to be slower than simple regex and splitting tokenizers, so you should experiment with both."
   ]
  },
  {
   "cell_type": "code",
   "execution_count": 4,
   "metadata": {
    "collapsed": true
   },
   "outputs": [],
   "source": [
    "import spacy, re"
   ]
  },
  {
   "cell_type": "code",
   "execution_count": 13,
   "metadata": {
    "collapsed": true
   },
   "outputs": [],
   "source": [
    "nlp = spacy.load('en_core_web_sm')"
   ]
  },
  {
   "cell_type": "code",
   "execution_count": 46,
   "metadata": {
    "collapsed": true
   },
   "outputs": [],
   "source": [
    "def tokenize_review(review_text):\n",
    "    review_text = re.sub('[^A-Za-z0-9.?!\\', ]+', ' ', review_text)\n",
    "    d = nlp(review_text)\n",
    "    return [token.text.lower() for sentence in d.sents for token in sentence]"
   ]
  },
  {
   "cell_type": "code",
   "execution_count": 47,
   "metadata": {},
   "outputs": [
    {
     "data": {
      "text/plain": [
       "['writer',\n",
       " 'director',\n",
       " 'bart',\n",
       " 'sibrel',\n",
       " 'bases',\n",
       " 'his',\n",
       " 'work',\n",
       " 'here',\n",
       " 'around',\n",
       " 'a',\n",
       " 'can',\n",
       " 'of',\n",
       " 'film',\n",
       " 'that',\n",
       " 'he',\n",
       " 'says',\n",
       " 'was',\n",
       " 'mistakenly',\n",
       " 'sent',\n",
       " 'to',\n",
       " 'him',\n",
       " 'by',\n",
       " 'nasa',\n",
       " '.',\n",
       " 'he',\n",
       " 'says',\n",
       " 'it',\n",
       " 'shows',\n",
       " 'the',\n",
       " 'astronauts',\n",
       " 'faking',\n",
       " 'the',\n",
       " 'television',\n",
       " 'footage',\n",
       " 'of',\n",
       " 'their',\n",
       " 'trip',\n",
       " 'to',\n",
       " 'the',\n",
       " 'moon',\n",
       " 'by',\n",
       " 'employing',\n",
       " 'camera',\n",
       " 'tricks',\n",
       " '.',\n",
       " 'the',\n",
       " 'astronauts',\n",
       " 'were',\n",
       " 'in',\n",
       " 'low',\n",
       " 'earth',\n",
       " 'orbit',\n",
       " 'all',\n",
       " 'the',\n",
       " 'time',\n",
       " ',',\n",
       " 'and',\n",
       " 'editors',\n",
       " 'on',\n",
       " 'the',\n",
       " 'ground',\n",
       " 'composed',\n",
       " 'this',\n",
       " 'raw',\n",
       " 'footage',\n",
       " 'into',\n",
       " 'just',\n",
       " 'a',\n",
       " 'few',\n",
       " 'seconds',\n",
       " 'of',\n",
       " 'finished',\n",
       " 'film',\n",
       " '.',\n",
       " 'br',\n",
       " ' ',\n",
       " 'br',\n",
       " ' ',\n",
       " 'unfortunately',\n",
       " 'sibrel',\n",
       " \"'s\",\n",
       " 'research',\n",
       " 'is',\n",
       " 'so',\n",
       " 'slipshod',\n",
       " 'that',\n",
       " 'he',\n",
       " 'does',\n",
       " \"n't\",\n",
       " 'realize',\n",
       " 'his',\n",
       " ' ',\n",
       " 'backstage',\n",
       " ' ',\n",
       " 'footage',\n",
       " 'is',\n",
       " 'really',\n",
       " 'taken',\n",
       " 'in',\n",
       " 'large',\n",
       " 'part',\n",
       " 'from',\n",
       " 'the',\n",
       " '30',\n",
       " 'minute',\n",
       " 'live',\n",
       " 'telecast',\n",
       " ' ',\n",
       " 'also',\n",
       " 'on',\n",
       " 'that',\n",
       " 'reel',\n",
       " ' ',\n",
       " 'that',\n",
       " 'was',\n",
       " 'seen',\n",
       " 'by',\n",
       " 'millions',\n",
       " ',',\n",
       " 'not',\n",
       " 'hidden',\n",
       " 'away',\n",
       " 'in',\n",
       " 'nasa',\n",
       " 'vaults',\n",
       " 'as',\n",
       " 'he',\n",
       " 'implies',\n",
       " '.',\n",
       " 'and',\n",
       " 'we',\n",
       " 'have',\n",
       " 'to',\n",
       " 'wonder',\n",
       " 'why',\n",
       " 'sibrel',\n",
       " 'puts',\n",
       " 'his',\n",
       " 'own',\n",
       " 'conspiratorial',\n",
       " 'narration',\n",
       " 'over',\n",
       " 'the',\n",
       " 'astronauts',\n",
       " \"'\",\n",
       " 'audio',\n",
       " 'in',\n",
       " 'the',\n",
       " 'footage',\n",
       " ',',\n",
       " 'because',\n",
       " 'hearing',\n",
       " 'the',\n",
       " 'astronauts',\n",
       " 'in',\n",
       " 'their',\n",
       " 'own',\n",
       " 'words',\n",
       " 'clearly',\n",
       " 'spells',\n",
       " 'out',\n",
       " 'that',\n",
       " 'the',\n",
       " 'astronauts',\n",
       " 'were',\n",
       " 'just',\n",
       " 'testing',\n",
       " 'the',\n",
       " 'camera',\n",
       " ',',\n",
       " 'not',\n",
       " 'faking',\n",
       " 'footage',\n",
       " '.',\n",
       " 'br',\n",
       " ' ',\n",
       " 'br',\n",
       " ' ',\n",
       " 'finally',\n",
       " ',',\n",
       " 'anyone',\n",
       " 'can',\n",
       " 'see',\n",
       " 'the',\n",
       " 'raw',\n",
       " 'footage',\n",
       " 'for',\n",
       " 'themselves',\n",
       " 'without',\n",
       " 'having',\n",
       " 'to',\n",
       " 'buy',\n",
       " 'sibrel',\n",
       " \"'s\",\n",
       " 'hacked',\n",
       " 'up',\n",
       " 'version',\n",
       " 'of',\n",
       " 'it',\n",
       " '.',\n",
       " ' ',\n",
       " 'he',\n",
       " 'shows',\n",
       " 'you',\n",
       " 'more',\n",
       " 'of',\n",
       " 'the',\n",
       " 'zapruder',\n",
       " 'film',\n",
       " 'of',\n",
       " 'jfk',\n",
       " \"'s\",\n",
       " 'assassination',\n",
       " 'than',\n",
       " 'of',\n",
       " 'his',\n",
       " ' ',\n",
       " 'smoking',\n",
       " 'gun',\n",
       " '.',\n",
       " ' ',\n",
       " 'sibrel',\n",
       " 'thinks',\n",
       " 'he',\n",
       " \"'s\",\n",
       " 'the',\n",
       " 'only',\n",
       " 'one',\n",
       " 'who',\n",
       " \"'s\",\n",
       " 'seen',\n",
       " 'it',\n",
       " '.',\n",
       " 'what',\n",
       " \"'s\",\n",
       " 'more',\n",
       " 'revealing',\n",
       " 'is',\n",
       " 'the',\n",
       " 'clips',\n",
       " 'from',\n",
       " 'that',\n",
       " 'raw',\n",
       " 'footage',\n",
       " 'that',\n",
       " 'sibrel',\n",
       " 'chose',\n",
       " 'not',\n",
       " 'to',\n",
       " 'use',\n",
       " ',',\n",
       " 'such',\n",
       " 'as',\n",
       " 'those',\n",
       " 'clearly',\n",
       " 'showing',\n",
       " 'the',\n",
       " 'appropriately',\n",
       " 'distant',\n",
       " 'earth',\n",
       " 'being',\n",
       " 'eclipsed',\n",
       " 'by',\n",
       " 'the',\n",
       " 'window',\n",
       " 'frames',\n",
       " 'and',\n",
       " 'so',\n",
       " 'forth',\n",
       " ',',\n",
       " 'destroying',\n",
       " 'his',\n",
       " 'claim',\n",
       " 'that',\n",
       " 'mattes',\n",
       " 'and',\n",
       " 'transparencies',\n",
       " 'were',\n",
       " 'placed',\n",
       " 'in',\n",
       " 'the',\n",
       " 'spacecraft',\n",
       " 'windows',\n",
       " 'to',\n",
       " 'create',\n",
       " 'the',\n",
       " 'illusion',\n",
       " 'of',\n",
       " 'a',\n",
       " 'faraway',\n",
       " 'earth',\n",
       " '.',\n",
       " 'br',\n",
       " ' ',\n",
       " 'br',\n",
       " ' ',\n",
       " 'as',\n",
       " 'with',\n",
       " 'most',\n",
       " 'films',\n",
       " 'of',\n",
       " 'this',\n",
       " 'type',\n",
       " ',',\n",
       " 'sibrel',\n",
       " 'relies',\n",
       " 'on',\n",
       " 'innuendo',\n",
       " ',',\n",
       " 'inexpert',\n",
       " 'assumption',\n",
       " ',',\n",
       " 'misleading',\n",
       " 'commentary',\n",
       " ',',\n",
       " 'and',\n",
       " 'selective',\n",
       " 'quotation',\n",
       " 'to',\n",
       " 'manipulate',\n",
       " 'the',\n",
       " 'viewer',\n",
       " 'into',\n",
       " 'accepting',\n",
       " 'a',\n",
       " 'conclusion',\n",
       " 'for',\n",
       " 'which',\n",
       " 'there',\n",
       " 'is',\n",
       " 'not',\n",
       " 'a',\n",
       " 'shred',\n",
       " 'of',\n",
       " 'actual',\n",
       " 'evidence',\n",
       " '.']"
      ]
     },
     "execution_count": 47,
     "metadata": {},
     "output_type": "execute_result"
    }
   ],
   "source": [
    "tokenize_review(df_train['text'].loc[0])"
   ]
  },
  {
   "cell_type": "markdown",
   "metadata": {},
   "source": [
    "#### Alternative Faster, Simpler Tokenizer Option\n",
    "If you use this it will overwrite the cells above, but it is much faster since you're not using Spacy to parse the text."
   ]
  },
  {
   "cell_type": "code",
   "execution_count": null,
   "metadata": {
    "collapsed": true
   },
   "outputs": [],
   "source": [
    "from keras.preprocessing import text, sequence"
   ]
  },
  {
   "cell_type": "code",
   "execution_count": null,
   "metadata": {
    "collapsed": true
   },
   "outputs": [],
   "source": [
    "tokenizer = text.Tokenizer(lower=True, split=' ')\n",
    "tokenizer.fit_on_texts(df_train['text'].apply(lambda x: x.replace(\"\\'\",\"\")).values)\n",
    "tokenized_sequence_train = tokenizer.texts_to_sequences(df_train['text'].apply(lambda x: x.replace(\"\\'\",\"\")).values)\n",
    "tokenized_sequence_test = tokenizer.texts_to_sequences(df_test['text'].apply(lambda x: x.replace(\"\\'\",\"\")).values)"
   ]
  },
  {
   "cell_type": "markdown",
   "metadata": {},
   "source": [
    "### Tokenize and Pad Text"
   ]
  },
  {
   "cell_type": "code",
   "execution_count": 8,
   "metadata": {},
   "outputs": [
    {
     "name": "stderr",
     "output_type": "stream",
     "text": [
      "Using TensorFlow backend.\n"
     ]
    }
   ],
   "source": [
    "from keras.preprocessing import text, sequence\n",
    "from collections import Counter"
   ]
  },
  {
   "cell_type": "code",
   "execution_count": 6,
   "metadata": {
    "collapsed": true
   },
   "outputs": [],
   "source": [
    "MAX_LEN = 200"
   ]
  },
  {
   "cell_type": "code",
   "execution_count": 49,
   "metadata": {
    "collapsed": true
   },
   "outputs": [],
   "source": [
    "df_train['tokenized_text'] = df_train['text'].apply(lambda x: tokenize_review(x))\n",
    "df_test['tokenized_text'] = df_test['text'].apply(lambda x: tokenize_review(x))"
   ]
  },
  {
   "cell_type": "code",
   "execution_count": 50,
   "metadata": {
    "collapsed": true
   },
   "outputs": [],
   "source": [
    "df_train.to_pickle('df_train.pkl')\n",
    "df_test.to_pickle('df_test.pkl')"
   ]
  },
  {
   "cell_type": "code",
   "execution_count": 7,
   "metadata": {
    "collapsed": true
   },
   "outputs": [],
   "source": [
    "df_train = pd.read_pickle('df_train.pkl')\n",
    "df_test = pd.read_pickle('df_test.pkl')"
   ]
  },
  {
   "cell_type": "code",
   "execution_count": 9,
   "metadata": {
    "collapsed": true
   },
   "outputs": [],
   "source": [
    "all_tokens = df_train['tokenized_text'].values"
   ]
  },
  {
   "cell_type": "code",
   "execution_count": 10,
   "metadata": {},
   "outputs": [
    {
     "name": "stdout",
     "output_type": "stream",
     "text": [
      "Vocab length: 77035\n"
     ]
    },
    {
     "data": {
      "text/plain": [
       "[('the', 336600),\n",
       " (',', 275749),\n",
       " ('.', 275389),\n",
       " (' ', 229497),\n",
       " ('and', 164100),\n",
       " ('a', 162748),\n",
       " ('of', 145856),\n",
       " ('to', 135714),\n",
       " ('is', 110498),\n",
       " ('br', 101872),\n",
       " ('it', 96337),\n",
       " ('in', 93954),\n",
       " ('i', 87180),\n",
       " ('this', 75946),\n",
       " ('that', 73612),\n",
       " (\"'s\", 62289),\n",
       " ('was', 50514),\n",
       " ('as', 46934),\n",
       " ('for', 44331),\n",
       " ('with', 44125),\n",
       " ('movie', 43987),\n",
       " ('but', 42573),\n",
       " ('film', 40140),\n",
       " ('you', 34210),\n",
       " ('on', 34199)]"
      ]
     },
     "execution_count": 10,
     "metadata": {},
     "output_type": "execute_result"
    }
   ],
   "source": [
    "vocab_count = freq = Counter(p for o in all_tokens for p in o)\n",
    "print('Vocab length: {}'.format(len(vocab_count)))\n",
    "vocab_count.most_common(25)"
   ]
  },
  {
   "cell_type": "code",
   "execution_count": 11,
   "metadata": {
    "collapsed": true
   },
   "outputs": [],
   "source": [
    "VOCAB_LIMIT = 100000\n",
    "VOCAB_FREQ_MIN = 2\n",
    "\n",
    "vocab_list = [o for o, c in vocab_count.most_common(VOCAB_LIMIT) if c > VOCAB_FREQ_MIN]\n",
    "vocab_list.insert(0, '<unk>')\n",
    "vocab_list.insert(0, '<pad>')\n",
    "int2word_hash = {i:w for i, w in enumerate(vocab_list)}\n",
    "word2int_hash = {v:k for k, v in int2word_hash.items()}"
   ]
  },
  {
   "cell_type": "code",
   "execution_count": 12,
   "metadata": {},
   "outputs": [
    {
     "data": {
      "text/plain": [
       "38212"
      ]
     },
     "execution_count": 12,
     "metadata": {},
     "output_type": "execute_result"
    }
   ],
   "source": [
    "len(int2word_hash)"
   ]
  },
  {
   "cell_type": "code",
   "execution_count": 13,
   "metadata": {
    "collapsed": true
   },
   "outputs": [],
   "source": [
    "tokenized_sequence_train = list()\n",
    "\n",
    "for item in df_train['tokenized_text'].values:\n",
    "    tokenized_sequence_train.append([word2int_hash.get(x,1) for x in item])"
   ]
  },
  {
   "cell_type": "code",
   "execution_count": 14,
   "metadata": {
    "collapsed": true
   },
   "outputs": [],
   "source": [
    "tokenized_sequence_test = list()\n",
    "\n",
    "for item in df_test['tokenized_text'].values:\n",
    "    tokenized_sequence_test.append([word2int_hash.get(x,1) for x in item])"
   ]
  },
  {
   "cell_type": "code",
   "execution_count": 16,
   "metadata": {
    "collapsed": true
   },
   "outputs": [],
   "source": [
    "np.random.seed(seed=42)\n",
    "train_index = np.random.choice(range(0,len(tokenized_sequence_train)), size=int(0.95*len(tokenized_sequence_train)), replace=False)\n",
    "val_index = np.setdiff1d(range(0, len(tokenized_sequence_train)), train_index)"
   ]
  },
  {
   "cell_type": "code",
   "execution_count": 17,
   "metadata": {},
   "outputs": [
    {
     "name": "stdout",
     "output_type": "stream",
     "text": [
      "(23750, 200)\n",
      "(1250, 200)\n",
      "(25000, 200)\n",
      "(23750, 2)\n",
      "(1250, 2)\n",
      "(25000, 2)\n"
     ]
    }
   ],
   "source": [
    "X = sequence.pad_sequences(tokenized_sequence_train, maxlen=MAX_LEN)\n",
    "X_train = X[train_index]\n",
    "X_val = X[val_index]\n",
    "X_test = sequence.pad_sequences(tokenized_sequence_test, maxlen=MAX_LEN)\n",
    "y = np.vstack(df_train['target'].apply(lambda x: np.array([0,1]) if x == 1 else np.array([1,0])).values)\n",
    "y_train = y[train_index]\n",
    "y_val = y[val_index]\n",
    "y_test = np.vstack(df_test['target'].apply(lambda x: np.array([0,1]) if x == 1 else np.array([1,0])).values)\n",
    "y_test_rand = np.vstack(df_test['target'].apply(lambda x: np.array([0,1]) if np.random.choice([0,1], p=[df_train['target'].mean(), 1-df_train['target'].mean()]) == 1 else np.array([1,0])).values)\n",
    "\n",
    "print(X_train.shape)\n",
    "print(X_val.shape)\n",
    "print(X_test.shape)\n",
    "print(y_train.shape)\n",
    "print(y_val.shape)\n",
    "print(y_test.shape)"
   ]
  },
  {
   "cell_type": "code",
   "execution_count": 127,
   "metadata": {
    "collapsed": true
   },
   "outputs": [],
   "source": [
    "np.save('X_train', X_train)\n",
    "np.save('X_val', X_val)\n",
    "np.save('X_test', X_test)\n",
    "np.save('y_train', y_train)\n",
    "np.save('y_val', y_val)\n",
    "np.save('y_test', y_test)"
   ]
  },
  {
   "cell_type": "markdown",
   "metadata": {},
   "source": [
    "### Load Word Vector Model"
   ]
  },
  {
   "cell_type": "code",
   "execution_count": 18,
   "metadata": {
    "collapsed": true
   },
   "outputs": [],
   "source": [
    "import gensim"
   ]
  },
  {
   "cell_type": "markdown",
   "metadata": {},
   "source": [
    "#### Load GoogleNews Vectors\n",
    "Loading the GoogleNews vectors as a model is straighforward when using the gensim library"
   ]
  },
  {
   "cell_type": "code",
   "execution_count": 19,
   "metadata": {
    "collapsed": true
   },
   "outputs": [],
   "source": [
    "if os.path.isfile('wordvectors/GoogleNews-vectors-negative300.bin'):\n",
    "    wv_model = gensim.models.KeyedVectors.load_word2vec_format('wordvectors/GoogleNews-vectors-negative300.bin', binary=True)\n",
    "else:\n",
    "    print('GoogleNews vectors not downloaded and extracted. Please see documentation above.')"
   ]
  },
  {
   "cell_type": "code",
   "execution_count": 20,
   "metadata": {},
   "outputs": [
    {
     "data": {
      "text/plain": [
       "3000000"
      ]
     },
     "execution_count": 20,
     "metadata": {},
     "output_type": "execute_result"
    }
   ],
   "source": [
    "len(wv_model.wv.vocab)"
   ]
  },
  {
   "cell_type": "code",
   "execution_count": 27,
   "metadata": {
    "scrolled": true
   },
   "outputs": [
    {
     "data": {
      "text/plain": [
       "array([-0.05419922,  0.01708984, -0.00527954,  0.33203125, -0.25      ,\n",
       "       -0.01397705, -0.15039062, -0.265625  ,  0.01647949,  0.3828125 ,\n",
       "       -0.03295898, -0.09716797, -0.16308594, -0.04443359,  0.00946045,\n",
       "        0.18457031,  0.03637695,  0.16601562,  0.36328125, -0.25585938,\n",
       "        0.375     ,  0.171875  ,  0.21386719, -0.19921875,  0.13085938,\n",
       "       -0.07275391, -0.02819824,  0.11621094,  0.15332031,  0.09082031,\n",
       "        0.06787109, -0.0300293 , -0.16894531, -0.20800781, -0.03710938,\n",
       "       -0.22753906,  0.26367188,  0.012146  ,  0.18359375,  0.31054688,\n",
       "       -0.10791016, -0.19140625,  0.21582031,  0.13183594, -0.03515625,\n",
       "        0.18554688, -0.30859375,  0.04785156, -0.10986328,  0.14355469,\n",
       "       -0.43554688, -0.0378418 ,  0.10839844,  0.140625  , -0.10595703,\n",
       "        0.26171875, -0.17089844,  0.39453125,  0.12597656, -0.27734375,\n",
       "       -0.28125   ,  0.14746094, -0.20996094,  0.02355957,  0.18457031,\n",
       "        0.00445557, -0.27929688, -0.03637695, -0.29296875,  0.19628906,\n",
       "        0.20703125,  0.2890625 , -0.20507812,  0.06787109, -0.43164062,\n",
       "       -0.10986328, -0.2578125 , -0.02331543,  0.11328125,  0.23144531,\n",
       "       -0.04418945,  0.10839844, -0.2890625 , -0.09521484, -0.10351562,\n",
       "       -0.0324707 ,  0.07763672, -0.13378906,  0.22949219,  0.06298828,\n",
       "        0.08349609,  0.02929688, -0.11474609,  0.00534058, -0.12988281,\n",
       "        0.02514648,  0.08789062,  0.24511719, -0.11474609, -0.296875  ,\n",
       "       -0.59375   , -0.29492188, -0.13378906,  0.27734375, -0.04174805,\n",
       "        0.11621094,  0.28320312,  0.00241089,  0.13867188, -0.00683594,\n",
       "       -0.30078125,  0.16210938,  0.01171875, -0.13867188,  0.48828125,\n",
       "        0.02880859,  0.02416992,  0.04736328,  0.05859375, -0.23828125,\n",
       "        0.02758789,  0.05981445, -0.03857422,  0.06933594,  0.14941406,\n",
       "       -0.10888672, -0.07324219,  0.08789062,  0.27148438,  0.06591797,\n",
       "       -0.37890625, -0.26171875, -0.13183594,  0.09570312, -0.3125    ,\n",
       "        0.10205078,  0.03063965,  0.23632812,  0.00582886,  0.27734375,\n",
       "        0.20507812, -0.17871094, -0.31445312, -0.01586914,  0.13964844,\n",
       "        0.13574219,  0.0390625 , -0.29296875,  0.234375  , -0.33984375,\n",
       "       -0.11816406,  0.10644531, -0.18457031, -0.02099609,  0.02563477,\n",
       "        0.25390625,  0.07275391,  0.13574219, -0.00138092, -0.2578125 ,\n",
       "       -0.2890625 ,  0.10107422,  0.19238281, -0.04882812,  0.27929688,\n",
       "       -0.3359375 , -0.07373047,  0.01879883, -0.10986328, -0.04614258,\n",
       "        0.15722656,  0.06689453, -0.03417969,  0.16308594,  0.08642578,\n",
       "        0.44726562,  0.02026367, -0.01977539,  0.07958984,  0.17773438,\n",
       "       -0.04370117, -0.00952148,  0.16503906,  0.17285156,  0.23144531,\n",
       "       -0.04272461,  0.02355957,  0.18359375, -0.41601562, -0.01745605,\n",
       "        0.16796875,  0.04736328,  0.14257812,  0.08496094,  0.33984375,\n",
       "        0.1484375 , -0.34375   , -0.14160156, -0.06835938, -0.14648438,\n",
       "       -0.02844238,  0.07421875, -0.07666016,  0.12695312,  0.05859375,\n",
       "       -0.07568359, -0.03344727,  0.23632812, -0.16308594,  0.16503906,\n",
       "        0.1484375 , -0.2421875 , -0.3515625 , -0.30664062,  0.00491333,\n",
       "        0.17675781,  0.46289062,  0.14257812, -0.25      , -0.25976562,\n",
       "        0.04370117,  0.34960938,  0.05957031,  0.07617188, -0.02868652,\n",
       "       -0.09667969, -0.01281738,  0.05859375, -0.22949219, -0.1953125 ,\n",
       "       -0.12207031,  0.20117188, -0.42382812,  0.06005859,  0.50390625,\n",
       "        0.20898438,  0.11230469, -0.06054688,  0.33203125,  0.07421875,\n",
       "       -0.05786133,  0.11083984, -0.06494141,  0.05639648,  0.01757812,\n",
       "        0.08398438,  0.13769531,  0.2578125 ,  0.16796875, -0.16894531,\n",
       "        0.01794434,  0.16015625,  0.26171875,  0.31640625, -0.24804688,\n",
       "        0.05371094, -0.0859375 ,  0.17089844, -0.39453125, -0.00156403,\n",
       "       -0.07324219, -0.04614258, -0.16210938, -0.15722656,  0.21289062,\n",
       "       -0.15820312,  0.04394531,  0.28515625,  0.01196289, -0.26953125,\n",
       "       -0.04370117,  0.37109375,  0.04663086, -0.19726562,  0.3046875 ,\n",
       "       -0.36523438, -0.23632812,  0.08056641, -0.04248047, -0.14648438,\n",
       "       -0.06225586, -0.0534668 , -0.05664062,  0.18945312,  0.37109375,\n",
       "       -0.22070312,  0.04638672,  0.02612305, -0.11474609,  0.265625  ,\n",
       "       -0.02453613,  0.11083984, -0.02514648, -0.12060547,  0.05297852,\n",
       "        0.07128906,  0.00063705, -0.36523438, -0.13769531, -0.12890625], dtype=float32)"
      ]
     },
     "execution_count": 27,
     "metadata": {},
     "output_type": "execute_result"
    }
   ],
   "source": [
    "wv_model.wv.word_vec('hello')"
   ]
  },
  {
   "cell_type": "code",
   "execution_count": 28,
   "metadata": {},
   "outputs": [
    {
     "data": {
      "text/plain": [
       "[('hi', 0.6548984050750732),\n",
       " ('goodbye', 0.639905571937561),\n",
       " ('howdy', 0.6310957074165344),\n",
       " ('goodnight', 0.5920578241348267),\n",
       " ('greeting', 0.5855877995491028)]"
      ]
     },
     "execution_count": 28,
     "metadata": {},
     "output_type": "execute_result"
    }
   ],
   "source": [
    "wv_model.most_similar(positive=['hello'], topn=5)"
   ]
  },
  {
   "cell_type": "code",
   "execution_count": 29,
   "metadata": {},
   "outputs": [
    {
     "data": {
      "text/plain": [
       "[('globe', 0.6945997476577759),\n",
       " ('theworld', 0.6902236342430115),\n",
       " ('country', 0.5980385541915894)]"
      ]
     },
     "execution_count": 29,
     "metadata": {},
     "output_type": "execute_result"
    }
   ],
   "source": [
    "wv_model.most_similar(positive=['world'], topn=3)"
   ]
  },
  {
   "cell_type": "code",
   "execution_count": 30,
   "metadata": {},
   "outputs": [
    {
     "data": {
      "text/plain": [
       "[('Windy_City', 0.7112735509872437),\n",
       " ('Milwaukee', 0.6598065495491028),\n",
       " ('St._Louis', 0.6426857113838196),\n",
       " ('Peoria', 0.636687695980072),\n",
       " ('Naperville', 0.6306549310684204)]"
      ]
     },
     "execution_count": 30,
     "metadata": {},
     "output_type": "execute_result"
    }
   ],
   "source": [
    "wv_model.most_similar(positive=['Chicago'], topn=5)"
   ]
  },
  {
   "cell_type": "code",
   "execution_count": 31,
   "metadata": {},
   "outputs": [
    {
     "data": {
      "text/plain": [
       "[('film', 0.8676770925521851),\n",
       " ('movies', 0.8013108968734741),\n",
       " ('films', 0.7363011837005615),\n",
       " ('moive', 0.6830361485481262),\n",
       " ('Movie', 0.6693680286407471)]"
      ]
     },
     "execution_count": 31,
     "metadata": {},
     "output_type": "execute_result"
    }
   ],
   "source": [
    "wv_model.most_similar(positive=['movie'], topn=5)"
   ]
  },
  {
   "cell_type": "code",
   "execution_count": 32,
   "metadata": {},
   "outputs": [
    {
     "data": {
      "text/plain": [
       "[('E.Sadler_###-###', 0.30724528431892395),\n",
       " ('J.McMurray_###-###', 0.30484992265701294),\n",
       " ('Ky.Busch_##-###', 0.3011851906776428),\n",
       " ('M.Kenseth_###-###', 0.28676384687423706),\n",
       " ('G.Biffle_###-###', 0.28024229407310486)]"
      ]
     },
     "execution_count": 32,
     "metadata": {},
     "output_type": "execute_result"
    }
   ],
   "source": [
    "wv_model.most_similar(negative=['movie'], topn=5)"
   ]
  },
  {
   "cell_type": "code",
   "execution_count": 26,
   "metadata": {},
   "outputs": [
    {
     "data": {
      "text/plain": [
       "[('queen', 0.7118192911148071)]"
      ]
     },
     "execution_count": 26,
     "metadata": {},
     "output_type": "execute_result"
    }
   ],
   "source": [
    "wv_model.most_similar(positive=['king','woman'], negative=['man'], topn=1)"
   ]
  },
  {
   "cell_type": "markdown",
   "metadata": {},
   "source": [
    "#### Convert and Load Glove Vectors\n",
    "Loading the Glove vectors using gensim takes one additional step to transform the txt file into the word2vec format; this is easily accomplished using the glove2word2vec script.  Glove vectors also come in various dimensions (50, 100, 200, 300), so you can pick the corresponding text file to load and covnvert based on need."
   ]
  },
  {
   "cell_type": "code",
   "execution_count": 19,
   "metadata": {
    "collapsed": true
   },
   "outputs": [],
   "source": [
    "from gensim.scripts.glove2word2vec import glove2word2vec"
   ]
  },
  {
   "cell_type": "code",
   "execution_count": 20,
   "metadata": {},
   "outputs": [
    {
     "name": "stdout",
     "output_type": "stream",
     "text": [
      "Converting: ./wordvectors/glove.6B.50d.txt\n",
      "Converting: ./wordvectors/glove.6B.100d.txt\n",
      "Converting: ./wordvectors/glove.6B.200d.txt\n",
      "Converting: ./wordvectors/glove.6B.300d.txt\n"
     ]
    }
   ],
   "source": [
    "glove_files = ['./wordvectors/glove.6B.50d.txt', './wordvectors/glove.6B.100d.txt', './wordvectors/glove.6B.200d.txt', './wordvectors/glove.6B.300d.txt']\n",
    "\n",
    "for f in glove_files:\n",
    "    print('Converting: {}'.format(f))\n",
    "    glove_file = f\n",
    "    tmp_file = f[:-4] + '.w2v'\n",
    "    glove2word2vec(glove_file, tmp_file)"
   ]
  },
  {
   "cell_type": "code",
   "execution_count": 21,
   "metadata": {
    "collapsed": true
   },
   "outputs": [],
   "source": [
    "if os.path.isfile('wordvectors/wordvectors/glove.6B.50d.w2v'):\n",
    "    wv_model = gensim.models.KeyedVectors.load_word2vec_format('wordvectors/glove.6B.50d.w2v')\n",
    "else:\n",
    "    print('Glove vectors not downloaded and converted. Please see documentation above.')"
   ]
  },
  {
   "cell_type": "code",
   "execution_count": 22,
   "metadata": {},
   "outputs": [
    {
     "data": {
      "text/plain": [
       "array([-0.38497001,  0.80092001,  0.064106  , -0.28354999, -0.026759  ,\n",
       "       -0.34531999, -0.64253002, -0.11729   , -0.33256999,  0.55242997,\n",
       "       -0.087813  ,  0.90350002,  0.47102001,  0.56656998,  0.69849998,\n",
       "       -0.35229   , -0.86541998,  0.90573001,  0.03576   , -0.071705  ,\n",
       "       -0.12327   ,  0.54922998,  0.47005001,  0.35572001,  1.26110005,\n",
       "       -0.67580998, -0.94983   ,  0.68665999,  0.38710001, -1.34920001,\n",
       "        0.63511997,  0.46416   , -0.48813999,  0.83827001, -0.92460001,\n",
       "       -0.33722001,  0.53741002, -1.06159997, -0.081403  , -0.67110997,\n",
       "        0.30923   , -0.39230001, -0.55001998, -0.68826997,  0.58048999,\n",
       "       -0.11626   ,  0.013139  , -0.57653999,  0.048833  ,  0.67203999], dtype=float32)"
      ]
     },
     "execution_count": 22,
     "metadata": {},
     "output_type": "execute_result"
    }
   ],
   "source": [
    "wv_model.wv.word_vec('hello')"
   ]
  },
  {
   "cell_type": "markdown",
   "metadata": {},
   "source": [
    "### Create Embedding Matrix"
   ]
  },
  {
   "cell_type": "markdown",
   "metadata": {},
   "source": [
    "We need to create a bank of word vectors that are associated with the integer hashes used in the tokenizer.  To do this we loop through the tokenizer vocabulary, and try to find the word in our word2vec model.  If it exists, we add the vector to an embedding matrix in the row corresponding to the integer has in the tokenizer.  If it does not exist, then we fill in that row with a random vector.  The end result is an embedding weights matrix that is of the shape (vocab_size + 1, word_embedding_size).  The additional row on the vocab is for index 0, which represents a special padding value."
   ]
  },
  {
   "cell_type": "code",
   "execution_count": 76,
   "metadata": {
    "collapsed": true
   },
   "outputs": [],
   "source": [
    "def create_embedding_matrix(wv_model, index_word_dict, max_len=None, verbose=False):\n",
    "    EMBED_SIZE = wv_model.vector_size\n",
    "    unknown_word_count = 0\n",
    "    unknown_word_list = list()\n",
    "    \n",
    "    def choose_embedded_vector(wv_model, word, unknown_word_count, verbose=verbose):\n",
    "        if word in wv_model.wv.vocab:\n",
    "            return wv_model.wv.word_vec(word), unknown_word_count\n",
    "        else:\n",
    "            if verbose:\n",
    "                unknown_word_list.append(word)\n",
    "            return np.random.uniform(low=-0.05, high=0.05, size=EMBED_SIZE), (unknown_word_count+1)\n",
    "\n",
    "    word_index_dict = {v:k for k, v in index_word_dict.items()}\n",
    "    num_words = max_len + 1 if max_len else len(index_word_dict) + 1\n",
    "\n",
    "\n",
    "    embedding_weights = np.zeros((num_words, EMBED_SIZE))\n",
    "    for word, index in word_index_dict.items():\n",
    "        if max_len:\n",
    "            if index <= max_len:\n",
    "                embedding_weights[index,:], unknown_word_count = choose_embedded_vector(wv_model, word, unknown_word_count, verbose=verbose)\n",
    "        else:\n",
    "            embedding_weights[index,:], unknown_word_count = choose_embedded_vector(wv_model, word, unknown_word_count, verbose=verbose)\n",
    "    \n",
    "    if verbose:\n",
    "        print('The size of the keras token vocab is: {}'.format(num_words))\n",
    "        print('The size of the word vector vocab is: {}'.format(EMBED_SIZE))\n",
    "        print('Embedding matrix shape: {}'.format(embedding_weights.shape))\n",
    "        print('Total amount of words not found in gensim word2vec model: {}'.format(unknown_word_count))\n",
    "        print('The words not found in gensim word2vec model: {}'.format(str(unknown_word_list)))\n",
    "        \n",
    "    \n",
    "    return embedding_weights"
   ]
  },
  {
   "cell_type": "code",
   "execution_count": 77,
   "metadata": {},
   "outputs": [
    {
     "name": "stdout",
     "output_type": "stream",
     "text": [
      "The size of the keras token vocab is: 38213\n",
      "The size of the word vector vocab is: 300\n",
      "Embedding matrix shape: (38213, 300)\n",
      "Total amount of words not found in gensim word2vec model: 7266\n",
      "The words not found in gensim word2vec model: ['<pad>', '<unk>', ',', '.', ' ', 'and', 'a', 'of', 'to', \"'s\", '!', '  ', \"'\", '?', '...', '10', '..', '   ', 'mr.', '20', '30', '80', 'dr.', '90', '15', '100', 'humour', '70', '50', '40', '11', 'favourite', '12', 'theatre', 'keaton', '80s', '70s', '60', 'tarzan', 'ms.', '13', 'welles', 'sinatra', 'i.e.', 'u.s.', '14', 'hitchcock', 'columbo', 'pacino', 'mrs.', 'lugosi', 'branagh', '25', '60s', '1950', '17', 'sandler', '1980', '2000', '1970', 'bettie', '2006', 'stanwyck', '16', 'brando', 'wwii', 'grey', 'matthau', '2001', '1950s', 'seagal', 'widmark', 'spielberg', 'elvira', '18', 'streisand', 'karloff', 'flynn', '24', 'walken', 'denzel', 'eastwood', '2005', 'colour', 'cusack', 'heston', 'mst3', 'ritter', '1990', 'j.', 'astaire', 'miike', '1970s', 'carrey', '2002', 'bakshi', 'kubrick', '1980s', 'brosnan', 'realise', 'cagney', '20th', 'falk', 'paulie', 'verhoeven', '45', '2004', '1930s', '2003', 'romero', 'eyre', 'e.g.', 'mildred', 'altman', 'fulci', 'beatty', '50s', 'voight', 'fonda', '2007', 'lemmon', '1996', 'palma', 'polanski', '90s', '1999', '1930', 'streep', '1960', 'uwe', 'niro', 'griffith', '    ', 'hartley', '1940', 'lumet', '35', 'macarthur', '1972', 'orson', 'bergman', 'christy', 'amitabh', 'carradine', 'paltrow', 'connery', 'timon', '1968', 'sirk', 'gundam', 'lundgren', '1983', '1960s', 'austen', 'st.', 'bacall', 'stallone', \"'em\", 'biko', '1973', 'carell', 'barrymore', 'antwone', 'belushi', 'othello', 'rukh', 'dolph', '13th', 'zizek', 'cassidy', 'whoopi', '1933', 'meryl', 'sabrina', 'damme', '1997', 'soderbergh', 'mclaglen', '1987', 'miyazaki', 'ramones', 'kurosawa', 'ustinov', '1984', '2008', 'deniro', '30s', 'tarantino', 'antonioni', '3000', '1971', 'malone', '1993', '1995', 'hawke', 'raines', 'palance', 'h.', 'basinger', 'foxx', 'kolchak', 'favour', '22', '19th', '1936', '1989', '1988', 'duvall', '1978', 'esther', 'behaviour', '40s', '1986', 'quaid', 'laurence', 'attenborough', 'realised', 'tierney', 'ratso', '1979', 'paxton', 'l.a.', 'bronson', 'gillian', 'preminger', 'kline', '1969', '1939', \"''\", 'fontaine', 'scorsese', 'hepburn', 'nicolas', 'gere', '19', 'zombi', '73', '1981', '1976', 'cushing', 'alvin', 'cassavetes', 'naschy', 'nolte', 'ebert', 'zane', 'loretta', '28', 'pickford', '1945', 'lukas', 'marlon', 'corman', 'timberlake', 'wendigo', 'mathieu', 'winchester', 'centre', 'audrey', 'g.', 'knightley', 'affleck', 'carlito', 'alexandre', '1991', 'goldsworthy', '1990s', 'fishburne', 'huston', 'errol', 'gilliam', '75', 'mcqueen', '1994', '1977', 'kazan', '1985', 'truman', 'goldblum', 'capote', '1974', '21st', 'masterson', 'ingrid', 'bsg', 'hackman', 'p.s.', \"o'hara\", 'beowulf', 'cecil', 'amrita', 'harlow', 'mabel', 'mitchum', 't.', '1959', 'soylent', 'troma', 'colours', 'kinnear', '1940s', 'cheadle', 'gypo', '1953', 'irene', 't.v.', 'thurman', '1982', 'harriet', '95', '1944', '21', 'zorro', 't.v', 'caron', '1975', 'hayworth', \"i'm\", 'quentin', '1998', '.the', 'axe', '99', 'minnelli', 'pegg', 'pumbaa', 'barbra', 'deanna', '1934', 'melvyn', 'hadley', 'gamera', 'fairbanks', 'fassbinder', 'juliette', 'busey', 'arquette', 'longoria', 'collette', 'niven', 'rowlands', \"'cause\", 'demille', 'clive', 'thelma', 'gielgud', 'sarandon', '23', 'chiba', 'sammo', 'dahmer', 'madsen', 'arkin', 'beckinsale', 'gershwin', '1967', 'iturbi', 'haines', 'colman', 'penelope', 'lucille', 'laputa', 'pfeiffer', '1992', 'dillinger', '200', '101', 'creasy', '1948', 'gwyneth', 'tomei', 'sondra', 'casablanca', 'godard', 'edith', 'northam', 'visconti', 'galactica', 'flavia', '300', 'wayans', 'loren', 'reiser', 'fellini', 'vonnegut', 'johansson', 'giovanna', 'dafoe', 'grendel', 'natali', '1943', 'characterisation', '1951', 'isabelle', 'blaise', 'feinstone', 'finney', 'gackt', 'coburn', 'rohmer', '1932', 'adele', 'silverman', 'ferrell', 'martino', 'kristofferson', 'massey', '1963', 'blandings', 'gino', '1955', 'favourites', 'jagger', 'brashear', 'bernsen', 'marisa', 'kells', 'gannon', 'cedric', 'rourke', 'realises', 'sholay', '27', 'bros.', '1958', '1000', 'garfield', 'luzhin', 'bonham', 'duchovny', 'govinda', 'vargas', 'guevara', 'dreyfuss', 'harron', 'takashi', 'segal', 'tashan', 'krueger', 'cancelled', '26', 'myrna', 'liotta', 'elsa', 'redford', 'caprica', 'bronte', 'lubitsch', '2009', 'gena', 'redgrave', '1946', 'faye', 'ealing', 'byron', 'kinski', 'mamet', 'depardieu', 'englund', 'gretchen', 'cheech', 'zelah', 'crowe', 'macmurray', 'programme', 'edmund', '7.5', 'gandolfini', 'theodore', 'seuss', \"o'neill\", '1966', 'dunst', 'blondell', 'vincenzo', 'vaughn', 'farrah', 'peckinpah', '1957', 'hanzo', 'myra', '1949', 'coppola', 'farnsworth', 'geoffrey', 'shatner', 'kareena', 'panahi', 'helena', '85', 'clarence', 'harilal', 'forsythe', 'dillon', 'fagin', 'arnie', 'glenda', 'kilmer', 'daria', 'fawcett', 'culkin', '1942', '1965', 'bogdanovich', 'theatres', 'keanu', '1920', 'judgement', 'midler', 'ewoks', 'warhols', 'malden', 'noam', 'sammi', 'cruella', 'kalifornia', 'floriane', 'ossessione', 'berenger', 'kusturica', 'simba', 'luthor', 'natasha', 'pertwee', 'muriel', 'rosenstrasse', 'kornbluth', 'mostel', 'dunne', 'mcdermott', '1964', 'a.k.a', '98', 'corbin', 'dukakis', 'azumi', 'sorvino', 'mcdowell', 'caruso', 'lanza', 'mastroianni', 'tsui', 'lansbury', 'granger', 'maugham', '1920s', 'rko', 'lorre', 'elmer', 'dickinson', 'keitel', 'izzard', 'kingsley', 'sloane', 'valerie', 'mattei', 'greenaway', 'doris', 'mcadams', 'agatha', '1938', 'sarne', 'sabu', 'sykes', 'rizzo', 'cortez', 'pavarotti', 'harlin', 'tolkien', \"t'aime\", '8.5', 'pasolini', 'dietrich', 'neeson', 'sematary', 'mcgavin', 'shakespearean', 'christensen', '1931', 'lommel', 'marjorie', 'cillian', \"o'toole\", 'delia', 'maguire', 'crenna', 'durbin', 'darius', 'dominick', 'aztec', 'korda', 'khouri', '1941', 'hedy', 'carface', 'mpaa', 'zabriskie', 'wwi', 'grady', 'deathstalker', 'seinfeld', 'morgana', 'duryea', 'danning', 'connolly', '48', 'batwoman', 'witherspoon', 'elisha', 'callahan', 'bruckheimer', 'benoit', 'jed', 'rainer', 'lamarr', 'corleone', 'viggo', 'jameson', 'hayward', 'bolivia', 'azaria', 'crouse', 'lotr', 'carole', 'askey', 'marlene', 'aiello', 'leia', 'levant', 'rhys', 'mcintire', 'hamill', '18th', 'macbeth', 'stoltz', \"o'sullivan\", 'travelling', '1935', 'foch', 'werner', 'lucio', 'argento', 'zatoichi', 'schumacher', '700', 'newcombe', 'btk', 'leopold', '1937', 'blaine', 'kriemhild', 'darkman', 'maclean', '1954', 'atwill', 'shue', '500', 'poppins', 'willem', 'eleanor', 'mortensen', 'renoir', 'marvellous', 'wallach', 'paperhouse', 'nielsen', '86', 'cambodia', 'townsend', 'tigerland', 'phyllis', '250', '150', 'kermit', 'honour', 'colourful', '1962', 'eustache', 'wray', 'costner', 'co.', 'sullavan', 'lithgow', 'hickock', 'gilligan', 'binoche', 'frye', 'mcbain', 'sybil', 'gertrude', 'jovi', 'trelkovsky', 'hilliard', 'coen', 'rathbone', 'bagdad', 'jaffar', 'currie', 'cassel', 'bava', 'winslet', 'roeg', 'celie', 'capshaw', '1956', 'aviv', 'hagar', 'zenia', 'bathsheba', 'weissmuller', 'manchu', 'neighbours', 'recognise', 'igor', 'lili', 'crispin', 'conroy', 'krell', 'fiennes', '1947', 'byrne', 'sheeta', 'pazu', 'hartman', 'mantegna', 'patton', 'tomlinson', 'mcgregor', 'steiner', 'alain', 'milland', 'rooker', '1952', 'gellar', 'lordi', 'wendt', '400', '64', 'turturro', 'dench', 'hackenstein', 'ripley', 'isabel', 'ernst', 'broderick', '77', 'devgan', '20s', '11th', 'mcshane', 'benet', 'savini', 'recognised', 'vinnie', 'raoul', 'humphrey', 'franchot', 'haim', 'pesci', 'newhart', 'seberg', 'depalma', 'cassandra', 'defence', 'fineman', 'selma', 'ronny', 'stowe', 'emil', 'swayze', 'labour', 'tng', 'emmanuelle', 'epps', 'swanson', 'ranma', 'morbius', 'yugoslavia', '88', 'luise', 'janeane', 'pimlico', 'perlman', 'gyllenhaal', 'chaney', 'tilly', '31', 'fricker', 'deluise', 'buscemi', 'dunaway', 'carlyle', 'mraovich', 'paine', 'shemp', 'ironside', '911', 'lorenzo', 'connelly', 'razzie', '180', 'costello', 'kaye', 'cleese', 'keira', 'saura', 'sydow', 'jaffe', 'glamour', 'lyle', 'varma', '1922', 'shawshank', 'culp', 'dressler', 'orwell', 'mendes', 'mordrid', 'abhay', 'andie', 'pryor', 'willard', 'geraldine', \"o'neal\", '65', 'gwynne', 'burstyn', 'pym', 'frodo', 'stratton', 'paresh', 'todesking', '01', 'rosanna', 'calibre', 'akira', 'sheedy', '1928', 'roscoe', '42', 'tristan', '84', 'reginald', 'robby', 'darryl', 'alamo', 'earp', 'iago', 'gazzara', 'dicaprio', 'devos', 'gandalf', 'wodehouse', 'aditya', 'parsifal', 'berkowitz', 'heflin', 'rajpal', 'schindler', 'romy', 'footlight', 'kelso', 'tintin', 'domergue', 'palermo', 'neill', 'lupino', 'buttgereit', 'elisabeth', 'kipling', 'favours', 'applegate', 'breckinridge', 'denholm', 'doolittle', 'delon', 'vincente', 'darkwolf', 'josie', 'bunuel', 'curtiz', 'lillian', 'd.w.', 'yuzna', 'wtc', 'kattan', 'vipul', 'blackadder', 'poirot', 'presley', 'stratten', 'strangelove', 'grable', 'milverton', 'hallam', 'audiard', 'scalise', 'raimi', 'bafta', 'rochon', 'kirkland', 'brigitte', 'maltin', 'veronika', 'janine', 'giamatti', 'akshaye', 'hermann', '71', 'jeanette', '10,000', '34', 'boman', 'irani', 'susannah', 'staden', 'truffaut', 'franz', 'xica', 'gump', 'peet', 'tautou', 'dibiase', 'moustache', 'anakin', 'mukhsin', 'bethany', 'jonestown', 'dreamworks', 'burtynsky', 'nadia', 'renny', 'rudolph', 'modine', 'gleason', 'bozz', 'grisby', 'mcnally', 'wyatt', 'weisz', 'guzman', 'hellman', 'dourif', 'judi', 'russel', 'ramon', 'molina', '79', '68', 'cybill', 'clifford', 'darlene', 'khanna', '29', 'francois', '89', '82', 'woronov', 'goebbels', 'tucci', 'dangerfield', 'stockwell', 'stifler', 'roddy', 'morita', 'centres', 'chikatilo', 'farrelly', 'strathairn', '47', 'heaton', 'constance', 'learnt', 'cromwell', 'weller', 'spoilt', 'veidt', 'savalas', 'bigelow', 'jayne', 'millard', 'chomsky', 'quincy', 'dien', 'rockwell', 'ringo', 'mcgovern', 'fahey', 'o.', 'jannings', 'oshii', 'noriko', 'hartnett', '54', 'boorman', 'bhandarkar', 'ferrer', '32', 'maclaine', 'theron', 'saget', 'transylvania', '43', '33', \"o'connor\", 'ricci', 'togar', 'cambodian', 'brisson', 'coltrane', 'erroll', 'kiefer', 'miklos', 'devito', '36', 'matuschek', 'desdemona', 'gosha', 'chrissy', 'budapest', 'h.g.', 'hasselhoff', 'kazaam', '76', 'cukor', 'morty', '1.5', 'rhonda', 'skagway', '00', '39', 'aragorn', 'finlay', 'oberon', 'hendrix', 'fanfan', 'corinne', 'leonora', 'demme', 'syberberg', 'soha', 'paquin', 'ringwald', 'spacek', 'scorcese', 'moriarty', 'lorna', '42nd', 'demonicus', 'marylee', 'schmid', 'connors', 'sarno', 'pabst', '97', '14th', 'louque', 'tyrone', 'alejandro', 'dooley', 'leachman', 'hauser', 'girlfight', \"d'angelo\", 'asano', 'stirba', 'greengrass', '96', 'helsing', 'krause', 'damien', 'zucker', 'dorff', 'cinemax', 'krige', 'tanya', 'neighbour', 'trancers', 'hardwicke', 'torrance', '.i', 'henson', 'mcclure', 'montrose', '83', 'astor', 'adolf', 'gauri', 'lerner', 'reda', 'mencia', 'andrei', 'garson', 'deol', 'brody', 'hundstage', 'ungar', '1961', 'marsha', 'elijah', 'woodard', 'popeye', 'krabb', 'warhol', 'bosworth', 'sylvester', 'michell', '360', 'helga', 'sheffer', 'silverstone', 'mccartney', 'morvern', 'babbage', 'nausicaa', '51', 'talespin', 'agnes', 'wilcox', '747', 'jafar', 'mulder', 'tassi', 'bjm', 'linklater', 'jeroen', 'tully', '90210', 'levinson', 'madeline', 'kudrow', 'jox', 'macgregor', 'siegfried', 'wentworth', 'huppert', 'trotta', 'ilona', 'hickok', 'matheson', 'tarkovsky', 'grier', 'gracie', 'purvis', 'mcintyre', 'x.', 'gen.', 'gummer', 'grieco', 'zentropa', 'sookie', 'coffy', 'dinocroc', 'petiot', '.it', 'bluth', 'carrell', 'railly', 'barjatya', '4.5', 'mindy', '55', 'crain', 'priyadarshan', 'mononoke', '1929', 'lapd', '93', 'sayuri', 'stahl', 'statham', 'serling', 'sympathise', 'baloo', 'centred', 'moreau', 'wahlberg', 'dumbland', 'gojoe', 'amelie', 'pakeezah', '007', 'hitokiri', '666', 'antwerp', 'ullman', \"d'amato\", 'anastasia', 'shefali', 'karisma', 'kovacs', 'flippen', 'monaghan', '102', 'custer', 'tourneur', 'sollett', 'rhine', 'yuma', 'pinjar', 'urmila', 'schlesinger', 'angelopoulos', 'miraglia', 'gigli', 'digicorp', 'hillyer', 'pyun', 'ivanna', 'flemming', 'beatrice', 'gammera', 'ferdie', 'g.i.', 'kitamura', 'burakov', 'raquel', 'fique', 'ackland', 'rvd', 'scheider', 'milligan', 'zuniga', 'benicio', 'alfre', 'pollak', 'radha', 'carnosaur', 'faris', 'duval', 'frechette', 'chahine', 'hobson', 'landon', 'labeouf', 'cloris', 'caleb', 'rawal', 'samhain', 'i.q.', '1914', 'halperin', 'sceptical', 'scola', 'fidel', 'wenders', 'mankiewicz', '17th', 'garofalo', 'fleischer', 'giovanni', 'roddenberry', 'mahoney', 'recognisable', 'ulrich', 'ramtha', 'tatum', '1,000', \"i've\", 'shapiro', 'browne', 'frazetta', 'tobias', 'hoechlin', 'iphigenia', '56', 'cecilia', 'schneebaum', 'gruner', 'pressburger', 'realising', 'walston', 'volckman', 'falco', 'geer', 'avalon', 'cartwright', 'burgade', 'heero', 'siodmak', 'macdowell', 'herbie', 'krabbe', 'pappas', 'pinkett', 'resnais', '5.1', 'vidor', 'detmers', 'guerrero', 'hemingway', 'mcconaughey', 'doodlebops', 'quigley', 'sibrel', 'sturges', '3.5', 'brynner', 'brodie', 'rgv', 'brewster', 'kasdan', 'otis', 'winfrey', '2.5', 'dric', 'youssef', 'sinclair', 'mccabe', 'melville', 'morricone', 'maude', 'olen', 'lorne', 'dimitri', 'whoville', 'lupin', '63', 'zadora', 'dario', 'lorenz', 'blier', 'jacobi', 'pendleton', 'olin', 'ingmar', 'alberto', 'flavour', 'unger', 'kralik', 'americanized', 'kharis', 'programmes', 'hewlett', 'k.', 'nagra', 'chewbacca', 'orked', 'nighy', 'nastassja', 'zanuck', 'klaus', 'babban', 'loomis', 'fuqua', 'honourable', 'everytown', 'tamblyn', 'andr', 'potts', 'bakula', 'bergen', 'winkler', 'bilko', 'herzog', 'eleniak', 'naudet', 'gymkata', '44', 'elinore', 'gotham', 'leila', 'piscopo', 'peralta', 'catalogue', 'hitchcockian', 'tetsuo', 'gould', 'boothe', 'schwartzman', 'paxinou', 'macaulay', 'danni', '1927', 'luciano', 'dermot', 'janeway', 'jacknife', 'sade', 'collora', 'tsing', 'seidl', 'marky', 'unisol', 'beckett', 'herschel', 'sctv', 'hayek', 'nimoy', 'mchugh', 'madhur', 'mckenzie', 'burnett', 'grisham', '1915', 'borzage', 'armand', 'tolstoy', 'brigham', 'sh!t', 'riker', '87', '.but', 'dreyfus', 'braga', '66', 'clausen', 'sooraj', 'miramax', 'stylised', 'woodward', 'antz', 'kellerman', 'hirsch', 'hearst', 'benkei', 'silvio', 'allende', 'harrelson', 'ziyi', 'oates', 'ozu', 'reinhold', 'siskel', 'wuhrer', 'blethyn', 'biehn', '49', 'rotj', 'endor', \"teal'c\", '10th', 'neff', 'hopalong', 'duffell', 'scatman', 'delpy', 'scully', 'candice', 'calhoun', 'verne', 'archibald', 'enrico', 'visiteurs', 'jansen', '1912', 'hulce', 'carmilla', 'airwolf', 'lewton', 'd.c.', 'macready', 'lanchester', '120', 'matlin', 'gladys', 'ringu', 'gaiman', 'spader', 'natalia', 'jeffery', 'janos', 'henri', 'patekar', 'nanette', 'morrissey', 'coulouris', 'lacklustre', 'stapleton', 'osbourne', 'drummond', 'yvaine', 'gilley', 'criticise', 'berkley', 'kessler', 'bedknobs', 'starfleet', 'quatermain', 'wcw', 'bfg', 'aykroyd', 'dolemite', 'pusser', 'bradbury', 'leguizamo', 'goines', 'miriam', 'ribisi', 'egon', 'mirren', 'adrienne', 'notting', 'coloured', 'carre', 'mcanally', 'shelton', 'cleopatra', '600', 'p.s', 'bosnia', 'crothers', 'tadanobu', 'eccleston', 'giancarlo', 'bront', 'kiera', 'borgnine', 'nypd', 'valette', 'ameche', 'amick', 'clovis', 'redfield', 'ds9', 'schildkraut', 'kutcher', 'noll', 'yaphet', 'kotto', 'sampson', 'preity', 'wegener', 'knowles', \"o'shea\", 'shintaro', 'izo', 'schrader', 'bernhard', 'se7en', '81', 'clampett', 'chawla', '140', 'instalment', '1800', 'finlayson', 'soutendijk', '110', 'talia', 'pleasance', 'johnnie', 'mckenna', 'mulholland', 'u.k.', 'whitaker', 'juhi', 'camille', 'eliza', 'kiley', 'cratchit', 'gardiner', 'ballantine', 'sheryl', 'karas', 'burman', 'lilith', 'carrere', 'hamiltons', 'zemeckis', 'bjork', 'almodovar', 'patric', 'dominique', 'mckay', 'springwood', 'hilda', 'u.s.a.', 'rajinikanth', 'collinwood', 'trebor', 'valentino', 'horton', 'aames', 'criticised', 'mamie', 'hera', 'suleiman', 'brolin', 'watanabe', 'beaton', 'annette', 'juarez', 'lanisha', 'mulroney', 'esposito', 'crockett', \"goa'uld\", 'knotts', 'cusak', '52', 'cortes', 'kristel', 'silberling', 'calamai', 'gunbuster', 'firode', 'armour', 'brigadoon', 'fetchit', 'macmahon', 'celestine', 'paget', 'colagrande', 'e.t.', 'lucienne', 'charlize', 'lyman', 'coulier', 'stamos', 'midkiff', '74', 'bettany', 'schygulla', 'oswald', 'quiroz', 'labute', 'jarmusch', 'ebenezer', 'channing', 'bassinger', 'imamura', 'traci', 'kulkarni', 'seann', 'sonja', 'giannini', '94', 'chabrol', 'goldwyn', 'atoz', 'ophelia', 'springsteen', '50,000', 'nietzsche', '05', 'rhoda', 'celebi', 'mallory', 'sigourney', 'pauly', 'eggar', 'gideon', 'mussolini', 'menzies', 'adama', 'mohanlal', '1924', 'duprez', 'ingram', 'kruger', 'kher', 'kothari', 'cassavettes', 'borowczyk', 'cronenberg', 'pyle', 'scrat', 'picard', 'cheyenne', 'gabriele', 'celia', 'momsen', 'lollobrigida', 'bolivian', 'tobey', 'hickam', 'nikhil', 'daninsky', 'roseanne', 'cosby', 'tchaikovsky', 'fetisov', 'poehler', 'dakar', 'jeanie', 'madge', 'lucile', 'gingold', 'beek', 'j.j.', 'mcguire', 'tmnt', 'ishwar', 'i.e', 'heder', 'schaech', '06', 'edmond', 'mortimer', 'reitman', 'civilisation', 'panzram', 'coccio', 'bouchet', 'pintilie', 'eraserhead', 'yentl', 'millie', 'belafonte', 'gough', 'mendez', 'putain', \"l'engle\", 'cartwrights', 'adrien', 'maslin', 'daniela', 'pereira', 'flik', 'gershon', 'plowright', 'lamberto', 'kabei', 'iberia', 'pikachu', 'flashman', 'marcy', 'grimm', 'kowalski', 'weismuller', 'organisation', '3.99', '37', 'marsden', 'gabriella', 'klaw', 'alastair', 'thewlis', 'sciamma', 'healy', 'corsaut', 'ennio', 'eburne', 'nekromantik', 'u.s', 'trejo', 'leisen', 'oakie', 'poitier', 'ulli', 'lynne', 'zeffirelli', '12th', 'ettore', 'britton', 'droppingly', 'kavner', 'luchino', 'erendira', 'apologise', 'stanton', 'rachael', 'lynchian', 'schepisi', 'shakespearian', 'geddes', 'adjani', 'korman', 'demunn', 'lawler', 'ahab', 'ishtar', 'dedlock', 'lesley', 'frederic', 'gabbar', \"i'll\", 'j.t.', 'nicolai', 'mcgraw', 'alok', 'anupam', '1800s', 'guetary', 'aidan', 'levine', 'mischa', 'auer', 'yoko', 'tribeca', 'boreanaz', 'gabrielle', 'tadashi', 'rogen', 'liev', 'raye', 'waldemar', 'mundae', 'lucci', 'eod', 'scuddamore', 'nibelungen', 'foree', 'margret', 'runyon', 'higgins', 'paolo', 'hannibal', 'yash', 'baio', 'sugiyama', 'rudolf', 'eglantine', 'cavanagh', 'winona', 'franka', 'potente', 'greenwich', 'n64', '78', 'barclay', 'neighbourhood', '2022', 'moorehead', 'odysseus', '53', 'rothrock', 'mcdoakes', 'margheriti', 'guadalcanal', 'baywatch', 'mikels', 'hasso', 'sg1', 'alfonso', 'olga', 'dola', 'damian', 'milius', 'pheri', 'freebird', 'yelnats', 'seaver', 'bram', 'lamour', 'zandalee', 'adamson', 'morpheus', 'broadbent', 'chavo', 'cleo', 'starsky', 'guttenberg', 'django', 'danelia', 'humourless', 'flashdance', '92', 'bouvier', 'minelli', 'myron', 'tramell', 'o.k', 'antoine', 'cotten', 'hammett', 'girotti', 'cuthbert', 'lumi', 'jarndyce', 'brinke', 'lafitte', 'loni', 'edna', 'shimizu', 'bressart', '2010', '5000', 'rainn', 'polarisdib', 'rideau', 'ismael', 'barbeau', 'realisation', 'horus', 'erich', 'munster', 'bradshaw', 'grodin', 'alcatraz', 'kristy', 'santiago', '1900', 'montand', 'hattie', 'wuthering', 'banderas', 'kober', 'jody', 'umeki', '72', 'royston', 'vasey', 'slavoj', 'greenstreet', 'vivien', 'o.k.', 'apollonia', 'matata', 'decameron', 'himalayas', 'prochnow', 'jekyll', 'voorhees', 'marius', 'siegel', 'woodhouse', 'parminder', 'vampyres', 'babette', '16th', 'waterston', 'sadie', 'rhode', 'killian', 'hiroshima', 'asimov', 'carlin', 'luigi', 'strindberg', 'aiden', 'adolph', 'urich', 'salma', 'winfield', 'offence', 'hecht', 'mcphillip', 'antonietta', 'selleck', 'rohm', 'massimo', 'mcadam', 'borden', 'dushku', 'gorshin', \"o'conor\", 'cacoyannis', 'euripides', 'attila', 'aimee', 'ceylon', 'pufnstuf', 'aardman', 'u.', 'kureishi', 'rippner', 'cameroon', 'venantini', 'fessenden', 'friel', 'marcello', 'aubrey', 'mckee', 'johny', '105', 'lemercier', 'lucien', 'kundry', 'minton', 'karin', 'libbed', 'katharine', 'vierde', 'moynahan', 'beals', 'suzy', 'emilia', 'nunsploitation', 'trenholm', 'giorgio', 'henner', 'anselmo', 'hayao', 'pumba', 'caton', 'vaccaro', 'samberg', '1890', 'gallico', 'poonam', '6.5', '07', '02', 'stroheim', 'estelle', 'riemann', 'newmar', 'pinchot', 'caligari', 'starz', 'bancroft', 'frankenheimer', 'riget', 'chandu', 'sternberg', 'maysles', 'tylo', 'kendrick', 'talos', 'jodorowsky', 'charis', 'uriah', 'ilias', 'lassick', 'hussey', 'lassalle', 'herge', 'balduin', 'bouzaglo', 'bischoff', 'wilhelm', 'dudikoff', 'serrault', 'stepin', 'mesmerising', 'dalmations', 'gainsbourg', 'o.c.', 'macgyver', 'aileen', 'sweetin', 'stitzer', 'geronimo', 'fellowes', 'aluminium', 'ralphie', 'bloch', 'montford', 'mcbride', 'osborne', 'bruhl', '38', 'atul', 'thinnes', '1925', 'organised', 'd.a.', 'maddox', 'filone', 'chasey', 'markham', 'tomba', 'nyqvist', 'isabella', 'elizondo', 'borel', '1.85', 'skye', 'rampling', '58', 'ishii', 'hideo', 'goyokin', 'tanaka', 'binks', 'nosferatu', 'florinda', \"k'sun\", \"snitch'd\", '.there', 'taft', 'starewicz', '57', 'beethoven', 'yves', 'dorfman', 'terence', 'heigl', 'gundams', 'eisenhower', \"t'pol\", 'kundera', 'hodder', 'gentileschi', 'vartan', 'cannavale', 'amityville', 'galipeau', 'cady', 'stormare', 'morley', \"o'neil\", 'schwimmer', 'heinlein', 'irishman', \"o'connell\", '1916', 'sagemiller', 'kyser', 'kitt', 'patronising', 'kabal', 'ulysses', 'malle', 'eisenberg', 'mccormack', 'viennese', 'colm', 'sorbonne', 'appleby', 'rajni', 'marlee', 'eisenstein', 'zp', 'bloodrayne', 'spacecamp', 'garry', 'tvm', 'tremaine', 'emraan', 'gujarati', 'hbk', 'evangelion', 'roberta', 'flanders', 'frewer', 'syriana', 'rumour', 'gorris', 'judson', 'isaacs', 'travelled', \"l'intrus\", 'dreamgirls', 'empathise', 'bosnian', 'bernadette', 'dalai', '08', 'frawley', 'muska', 'faust', 'eisner', 'capano', 'hardesty', 'rosarios', 'bartel', 'catalina', 'arbuckle', 'krista', 'tykwer', 'anansa', 'dabney', 'bolan', 'nandini', 'davy', 'bendix', 'emile', 'esai', 'harrold', 'francine', 'jewison', 'soapdish', 'geico', 'eytan', 'thursby', 'franciosa', 'wincott', 'bulgaria', 'hahk', 'nichole', 'tepper', 'robotech', 'bachman', 'noonan', 'caulfield', 'meloni', 'mcgrath', 'swinton', 'nemec', 'dobson', 'taoist', 'dorsey', 'straightheads', 'hanka', 'rosalba', 'neri', '46', 'hallen', 'dolores', 'leaud', 'summersisle', 'mayeda', 'lexi', 'fanshawe', 'biograph', 'sjoman', 'gracia', 'unisols', 'keyes', '999', 'tetsur', 'liliom', 'silverstein', 'tmtm', 'vadar', 'lustig', 'flaherty', '61', 'frakes', \"'bout\", 'forlani', 'mccallum', 'newbern', 'schnaas', 'lifshitz', 'greendale', '1,000,000', 'untergang', 'munsters', 'topher', 'floraine', 'justine', 'ceasar', 'rosalind', 'orbach', 'niemann', 'rosalie', 'p.j.', 'shohei', 'vittorio', 'sarafina', 'alienator', 'schizophreniac', \"i'd\", 'characterised', 'horne', 'bueller', 'rafiki', 'thesiger', 'mackendrick', 'arse', 'matsumoto', 'yiddish', 'pinter', 'narnia', 'gervais', 'valco', 'mariette', 'klara', 'blacksnake', 'thomerson', 'parkins', 'rutger', 'nunez', 'jonathon', 'mcdowall', 'annakin', 'larraz', 'rigg', 'winningham', 'atlantian', 'chabat', 'wachowski', 'mayfield', 'picasso', 'bilal', 'binnie', '1926', 'cb4', 'kapur', 'yonica', 'zechs', 'dewaere', 'henstridge', 'gleeson', 'pryce', 'antony', 'fawlty', 'belgrade', 'gwizdo', 'trnka', 'monique', '100,000', 'brimley', 'alda', 'calvet', 'pasdar', 'balanchine', 'agamemnon', 'mould', 'corin', 'miou', 'ducktales', 'berryman', 'lecter', 'gilmore', 'rudyard', 'lovell', 'rasuk', 'manfred', 'mazursky', 'darko', 'spaceballs', 'sergei', 'poir', '30th', 'sennett', 'inarritu', 'katey', 'apatow', 'rozsa', 'flemish', 'spectre', 'huggins', 'ekin', 'amenabar', 'borlenghi', 'driscoll', 'warburton', '1.50', 'syfy', 'addison', 'hingle', 'bolkan', 'rossellini', 'mcnamara', 'ginty', 'nablus', 'balkan', 'thornway', 'jarvis', 'schell', 'hickcock', 'moocow', 'margo', 'patinkin', 'hisaishi', 'gft', 'doone', 'forsyth', 'wuhl', 'koyaanisqatsi', 'svenson', 'randell', 'millar', 'tatooine', 'orwellian', 'strombel', 'ageing', 'lowery', 'milyang', '1917', 'ghibli', 'sikes', 'levitt', 'waldo', 'auschwitz', 'lahr', 'aneta', 'chamberlains', 'babs', 'dennehy', 'fangoria', 'ankush', 'sartain', 'latham', 'prizzi', 'elam', 'analyse', 'beavis', 'talbot', 'margaux', 'ernesto', 'drago', 'philipps', 'gollum', 'skerritt', '41', 'strickland', 'gosford', 'bynes', 'bulgarian', 'dogville', 'nabokov', 'jindabyne', 'moretti', 'kobayashi', 'bartram', \"o'hearn\", 'lynda', 'tollinger', 'udo', 'dutton', 'ziering', 'cabot', 'hornblower', 'arzenta', 'malcom', 'maddin', 'walthall', 'effie', 'tamerlane', 'broinowski', 'buford', 'speedman', 'dassin', 'poldi', 'gilberte', 'jermaine', 'cognac!!!!!i', 'inxs', 'querette', 'julien', 'ramu', 'prag', 'maetel', 'nwh', 'carlitos', 'friedkin', 'salazar', 'breckin', 'lebrun', 'mckinney', 'hammerstein', '1913', 'konkana', 'ciaran', 'embeth', 'davidtz', 'kargil', 'macchesney', 'winninger', 'b.j.', 'stig', 'ww1', 'fulfil', 'ferland', 'klingon', 'priscilla', 'modelling', 'madhuri', 'rapaport', 'karyn', 'stepford', 'slovenia', 'slade', 'brettschneider', 'ellington', '7.0', 'lembach', 'terrorising', 'gulpilil', 'lawton', 'e.g', '91', 'deodato', 'mozart', 'begley', 'labelled', 'garris', 'studi', 'elfman', '250,000', 'malefique', 'roeper', '99.9', 'helgeland', '30,000', 'daniella', 'ashanti', 'klugman', 'grayce', 'bizet', 'lenz', 'forster', 'valjean', 'madhubala', 'sabre', 'kenobi', 'palpatine', 'gromit', 'aoki', 'hoskins', 'langella', 'ninotchka', 'torrens', 'jobson', 'cubitt', 'dianne', 'erwin', 'sicilian', 'sabato', 'mowbray', 'frasier', 'sheldon', 'louella', '1900s', 'moag', 'malco', 'tomas', 'claudio', 'ricans', 'gillen', '67', '20,000', 'feroz', 'czechoslovakia', 'clouseau', 'garvin', 'b.s', 'farscape', 'fragasso', 'fudd', 'wilford', 'lohman', 'tronje', 'garber', 'drivas', 'bessie', 'slovenian', 'holbrook', 'nettie', 'hallie', 'livesey', 'zabalza', 'malkovich', 'belasco', 'bracco', 'marchand', 'imperioli', 'pantoliano', 'lacan', 'estes', 'sinise', 'wolfgang', 'armin', 'lelouch', 'hermione', 'perabo', '3,000', 'joaquin', 'bajpai', 'bloss', 'yvette', 'robinsons', 'malfatti', 'haneke', 'feyder', 'serpico', 'francesca', 'marilu', 'roxy', 'govind', 'cordell', 'montalban', 'tatsuhito', 'tuileries', 'faubourg', 'coulardeau', '16s', '2036', 'suchet', 'cleef', 'acknowledgement', 'gespenster', 'wilfred', 'sachar', 'kallio', 'iliad', 'ulein', 'eiffel', 'claudius', 'tambor', 'jennie', 'elmore', 'kleinman', 'timone', '1918', 'cassio', 'cliver', 'phillipe', 'maruschka', 'brimmer', 'guignol', 'josephine', 'chuckie', 'kanin', 'deneuve', \"o'leary\", 'sumpter', 'alistair', 'scarwid', 'yossi', 'pacula', 'mccormick', 'henriksen', 'conaway', 'rebane', 'montmartre', 'machaty', 'calvert', 'larson', 'amrohi', 'dumbrille', 'giuseppe', 'eartha', 'curley', 'monstervision', '1840', 'vosloo', 'proust', 'munkar', 'hazlehurst', 'hesseman', 'bowden', 'conchita', 'sauron', 'tilda', \"d'abo\", 'giardello', 'jeffs', 'colourless', 'makepeace', 'thade', 'szifron', 'peretti', 'luque', 'spanglish', 'claudette', 'tritter', 'tyrannus', 'clifton', 'smita', 'chazz', 'screweyes', 'delmar', '69', 'villaronga', 'markov', 'azteca', 'zhivago', '25th', 'matarazzo', 'numar', 'lugia', \"n'dour\", 'deveraux', 'lovelace', 'phillippe', 'siobhan', 'nabors', 'bakewell', 'technicolour', 'herg', 'candace', 'lovitz', 'greydon', 'velma', 'ghandi', 'pataki', 'matthias', 'plimpton', 'kershaw', 'michelangelo', '60,000', 'thornfield', 'mathis', 'jodelle', 'priestley', 'diger', '.this', 'chiaki', 'rupp', 'mst3k.', 'kirshner', 'toshiro', 'fairchild', 'brigante', '5,000', 'rambeau', '09', 'makhmalbaf', 'idrissa', 'r.g.', 'kilpatrick', 'umberto', 'mst3000', 'lowood', 'bannen', 'pompeo', 'ruggero', 'waldau', '4,000', 'sabella', 'morphin', 'saban', 'bhaiyyaji', 'yimou', 'luana', 'valseuses', 'rapp', 'shinjuku', 'halestorm', 'locataire', 'losey', 'frida', 'starbuck', 'stiers', 'hornby', 'fenway', 'halloran', 'laughton', 'robards', 'hollywoodized', 'ackroyd', 'ludlum', 'tokugawa', 'lyndon', 'hagan', 'auteuil', 'margot', 'hiralal', 'movie.i', 'dietrichson', 'coolio', 'graboids', 'bakersfield', 'ramgopal', 'bladerunner', 'torrence', 'zorak', 'pascow', 'bromwell', 'sushmita', 'cyd', 'charisse', 'steiger', 'janssen', '1921', 'dogme', 'montague', 'malick', 'z.', 'seftel', 'chandon', 'dratch', '1.33', 'cabell', 'jafri', 'grahame', 'cresta', 'dramatised', 'benito', 'ramis', '2.35', 'panavision', 'may.', '104', 'astin', 'chynna', 'rard', 'johanson', 'ashura', '5.8', 'mcenroe', 'shug', 'nuremberg', 'borat', 'thuggee', 'ciannelli', 'loesser', 'eggert', 'cybil', 'comstock', '2054', 'ashford', 'terrence', 'aladdin', 'etzel', 'ifans', 'lovecraft', 'antoinette', 'btas', 'dimaggio', 'trini', 'alvarado', 'littlefield', '200,000', 'murdock', 'ramone', 'elizabethan', 'minogue', 'ossie', 'tieh', 'waterdance', 'saks', 'mackenzie', 'lockhart', 'harryhausen', 'h.b.', 'ulises', 'virgil', 'barsi', 'macross', 'juanita', 'esha', 'barnaby', 'bardot', 'versailles', 'thames', 'tahiti', 'croatian', 'v.s', 'gadgetmobile', 'nihalani', 'tereza', 'charleton', 'vallee', 'salles', 'lachaise', 'kimble', 'gainax', 'crowley', 'kangwon', 'fabio', 'natassia', 'branaugh', 'leona', 'talalay', 'klondike', 'napolean', 'robeson', 'screwfly', 'katina', 'rosenlski', 'c3po', 'gunnar', 'sandino', 'laboured', 'haden', '1895', 'mccord', 'edwardian', 'goddard', 'fastway', 'schiavelli', 'niki', 'giada', 'mcteer', 'tbn', 'pavlov', 'buchfellner', 'akki', 'marlowe', 'pleasence', 'videostore', 'odin', 'alekos', 'livien', 'halleck', 'katja', 'fabian', 'ezra', 'ryker', 'dillman', 'ruiz', 'dugan', 'visayan', 'berkoff', 'apophis', 'brommel', 'catiii', 'cristy', 'jaq', 'malleson', 'kurtz', 'kida', 'nekron', 'basra', 'dreamt', 'canutt', 'bondarchuk', 'micheaux', 'sabina', 'murnau', 'jover', 'muccino', 'kemble', 'stettner', 'yamamoto', 'condon', 'nikita', 'wallis', 'nadji', 'marais', 'klingons', 'carnby', 'goodrich', 'meyerling', 'rostov', 'beale', 'hohl', 'mnm', 'amadeus', 'girardot', 'corsia', 'gossett', 'sevier', 'pernell', 'macek', 'jenifer', 'leatherface', 'belzer', 'kier', 'clarissa', 'ecclestone', 'corbet', 'caligula', 'kenyon', 'kornman', 'roedel', 'flannery', 'bergin', 'cheri', 'jeunet', 'mancuso', 't.rex', 'dashiell', 'jeffries', 'rutherford', 'wagnerian', 'mcdonnell', 'valientes', 'palme', 'sakamoto', 'takechi', 'amrish', 'woolsey', 'mariel', 'hennessy', 'sagal', 'kopins', 'rumours', 'sohail', 'sontee', 'kosugi', 'petersen', 'bragana', 'lmn', 'carax', 'letourneau', 'robotboy', 'ueto', 'shinae', 'boesman', 'genma', 'mcbeal', 'danvers', 'lamm', 'gades', 'madchen', 'cahn', 'salva', 'nyree', 'trampa', 'frollo', 'fraggle', 'sarsgaard', 'crystina', 'kaakha', 'kosleck', 'lodoss', 'moores', 'antonia', 'tremayne', 'thalberg', 'rubell', 'orla', 'trudi', 'b.b.c.', 'p.c.', 'bichir', 'piaf', 'spoorloos', 'christophe', 'desplechin', 'donlevy', 'stalingrad', 'harbour', 'vall', '108', 'gonz', 'rritu', 'decarlo', 'hutchinson', 'darrell', 'nanavati', 'kuriyama', 'kurtwood', 'haenel', 'ambersons', 'heathcliff', '2.50', 'strayer', 'woolrich', 'mridul', 'mandela', 'efx', 'rosco', 'janis', 'joplin', 'starlift', 'darkwing', 'kirstie', 'sabretooths', 'sequiturs', '135', 'zarabeth', 'yousef', 'telemundo', 'lasser', 'clift', 'entendre', 'dougray', 'katya', 'bille', 'shalhoub', 'ogden', 'annik', 'edelman', 'cathryn', 'gish', 'jurgen', 'pepi', 'melfi', 'anouska', 'cosette', 'eponine', 'farrel', 'hickox', 'leoni', 'martine', 'hersholt', 'ligabue', 'beaumont', 'sogo', 'estonia', 'estonian', 'hamlin', 'wymer', 'chambara', 'jacinto', 'dhawan', 'wyler', 'arlen', 'paedophilia', 'marcella', 'mork', 'oakley', 'pleasantville', 'egyptologist', 'cyril', 'favourable', 'mabuse', 'petto', 'francisca', 'fiedler', 'edwin', 'kasturba', 'narsimha', 'leonor', 'watling', '0.5', 'nathaniel', \"d'etre\", 'crawley', 'suspiria', 'cantillana', 'zeon', 'mcelhone', 'lamont', 'passworthy', 'romany', 'blalock', 'whisky', '62', 'licence', 'tarr', 'amores', 'borges', 'karishma', 'mcleod', 'ripner', 'nimh', 'kasem', 'seagals', '1.00', 'miko', 'bbc1', 'kinjite', 'uhf', 'rankin', 'morrisey', 'konvitz', 'garc', 'herrmann', 'langley', 'nikolai', 'waynes', 'izumo', '7.4', '15th', 'venantino', 'sanderson', 'yashraj', 'schroeder', 'lonnie', 'dorn', 'bostwick', 'well!.', 'lazerov', \"dosen't\", 'carmela', 'sirico', 'demeanour', 'tulipe', 'sartre', 'a.i.', 'megazone', 'mattox', 'b.i.g.', 'hutt', 'mcdiarmid', 'pyewacket', 'abrahams', 'kaley', 'jaco', 'dormael', 'chenoweth', '04', 'dicken', 'guillermo', 'payton', 'kato', 'nayland', 'gettysburg', 'madhavi', 'talbert', 'carmichael', 'hoyt', 'mcclurg', 'hellborn', 'douglass', 'greystoke', 'kapadia', 'krimi', 'spenny', 'silas', 'donnelly', 'bashki', 'shaquille', 'cheque', 'gilchrist', 'endeavour', 'moroder', 'annis', 'rashid', 'martel', '36th', 'gabel', 'subor', 'butterworth', 'delores', 'pialat', 'loulou', 'zapatti', 'sandu', 'jouvet', 'bernice', 'deepti', 'nunn', 'chomet', 'sewell', 'dauphine', '03', 'nuyoricans', 'leith', 'misha', 'marleen', 'savour', 'dickory', 'doren', 'trudy', 'needham', 'levene', 'altair', 'lta', 'eurotrash', 'dawkins', 'routh', 'rollo', 'heckerling', 'gilda', 'reisert', 'pransky', 'duvivier', 'dalmar', 'mitzi', 'catscratch', 'beban', 'lochlyn', 'herren', 'shadyac', 'zwick', 'completest', 'favourably', 'melle', '25,000', 'eikenberry', 'marolla', 'bohlen', 'margarethe', 'genova', 'cosimo', 'miyoshi', 'augusto', 'bachan', 'moronie', 'montano', 'panaghoy', 'ruffalo', 'arness', 'cantonese', '     ', 'glaser', 'daves', 'komizu', 'sissi', 'heyerdahl', 'riedelsheimer', 'sicily', 'hamm', 'kurasawa', 'malamud', 'helge', 'korsmo', 'mcallister', 'rawlins', 'shipman', 'gordone', 'somers', 'keggs', 'parlour', 'nakata', 'rushmore', 'dorie', 'beulah', 'bondi', 'bettina', 'sept.', 'kojak', 'bresson', 'belmondo', 'feore', 'holliman', 'boromir', 'gedde', 'debenning', 's.s.', 'vinson', 'hightower', 'niel', 'favoured', 'lillard', 'surtees', 'warfield', 'madagascar', 'benward', 'ghidorah', 'sutton', 'q.', 'n.y.', 'tanushree', 'wauters', 'horace', 'haskell', 'deschanel', 'spartacus', 'chyna', 'wardh', 'yamada', 'ethier', 'aiken', 'shinji', 'bjorlin', 'sisto', 'rocco', 'sabriye', 'corrine', 'scoggins', 'shyamalan', 'eastman', 'tessari', 'tachiguishi', 'bogarde', 'copperfield', 'sweid', 'castorini', 'nguyen', 'annabel', 'schaffer', 'divya', 'wilton', '1909', 'headly', 'busfield', '345', 'bufford', 'civilised', 'burnford', 'mellisa', 'harlan', 'magda', 'palminteri', 'gornick', 'kwouk', 'laroche', 'japp', '9.5', 'vigalondo', 'japs', 'norah', 'd.j.', 'farlan', 'hartmann', 'sukowa', 'sascha', 'thierry', 'asner', 'parnell', 'junkermann', 'mcandrew', 'kroko', 'aip', 'donlan', 'akane', 'amrapurkar', 'sadashiv', 'doghi', 'tagge', 'kristi', 'laudenbach', 'rataud', 'cornillac', 'mueller', 'duquenne', 'solvang', 'appolonia', 'kikuno', 'remer', 'alden', 'beales', 'zeenat', 'leibman', 'steckert', 'gautham', 'ittenbach', 'norliss', 'morand', 'yaara', 'kazuhiro', 'citizenx', 'annemarie', 'bogayevicz', 'sajani', 'tftc', 'silvestri', 'piedras', 'piovani', 'dreyer', '1898', 'wayan', 'fossey', 'ferrel', 'donaggio', 'sirtis', 'hrothgar', 'mccrea', 'm.c.', 'gert', 'graaff', 'selby', 'schweiger', 'wurb', 'magdalene', '.and', 'yeager', 'aquaman', 'novarro', 'meagre', 'elkaim', 'gilles', 'knef', 'keusch', 'yoakam', 'rappaport', 'halprin', 'foetus', 'rennie', 'prepon', 'pieuvres', 'blachere', 'zeus', 'kusama', 'jolson', 'mifune', 'raffin', 'yugoslav', 'mcguffin', 'lasalle', 'samira', 'ouedraogo', 'guinevere', 'gokbakar', 'fluegel', 'suzanna', 'tubbs', 'grapewin', 'hutson', 'fujiko', 'nikolaj', 'sigmund', 'aphrodite', 'cloudkicker', 'phibes', 'farley', 'vishal', 'rossitto', 'kristine', '1600', 'bertrand', 'vulcans', 'barbet', 'r.d.', 'haack', 'enos', '1860', 'shanao', 'macgraw', 'crandall', 'dolittle', 'foxworth', 'hallgren', 'this!.', 'speilberg', 'caitlin', 'traumatised', 'lynde', 'blyth', 'geller', 'godfrey', 'traveller', 'suzie', 'gainey', 'wolff', 'burbank', 'sedgwick', 'luca', 'pancho', 'dchen', 'clapton', 'summerslam', 'ilsa', 'nielson', 'javert', '10s', '7eventy', 'miryang', 'klowns', 'leif', 'copeland', 'tenchu', 'kader', 'haliday', 'pemberton', 'reece', 'goran', 'gianfranco', 'ondi', 'timoner', \"d'arc\", 'katharina', '2,000', '.she', 'lionsgate', 'vadis', 'melies', 'hallorann', 'jordi', 'pippi', 'dupont', 'sevigny', 'renner', 'corneau', 'ferrot', 'coleridge', 'roxanne', 'tati', 'fidani', 'turaqistan', 'keach', 'siv', 'arne', 'himmelen', 'krupa', 'bastille', 'damne', 'mameha', 'suess', 'fresnay', 'katzir', 'hoshi', 'beetlejuice', 'altaira', 'blore', 'matlock', 'belinda', 'philipe', 'mst3k', 'anisio', 'yankovic', 'schrieber', 'quasimodo', 'rowland', 'gazarra', 'larn', 'jordana', 'hanlon', 'toru', 'sagan', 'laramie', '1876', 'hanif', 'harlen', 'bertolucci', 'zavet', 'kazakos', 'uranus', 'mountbatten', 'barty', 'eriksson', '100th', 'cavanaugh', 'hayter', 'hordern', 'o.j.', 'quatermass', 'tarentino', '103', 'valentina', 'gummo', 'blythe', 'madigan', 'maupin', 'worshippers', 'coogan', 'xena', '.50', 'puzo', 'madhvi', 'konkona', 'zoolander', 'b.s.', 'weinstein', 'ellison', 'jacky', 'modelled', 'macchio', 'leatrice', 'stroh', 'f.r.a.t.', 'zandt', 'luj', 'susanna', 'ariauna', 'albright', 'shogo', 'fallwell', 'bbc2', 'harpo', 'bromfield', 'jory', 'trautman', 'klingsor', 'gurnemanz', 'pilate', '750', 'magruder', 'burkina', 'faso', 'kissinger', 'sondheim', 'hackett', 'paradiso', '1919', 'ahista', 'fulbright', 'saruman', 'cambell', \"ri'chard\", 'callan', '2000s', 'huggaland', 'mastrantonio', 'harker', 'pilger', 'harel', 'maupassant', \"lovin'\", 'noland', 'worshipping', 'thunderchild', 'fincher', 'woolf', 'martina', 'eduard', '107', 'katt', 'annabelle', 'balkans', 'steffen', 'bibbidi', 'bobbidi', 'celina', 'allyson', 'donen', 'aankhen', 'sumitra', \"o'hanlon\", 'pfieffer', 'courtland', 'bosley', 'pinocchio', 'arturo', 'lillie', 'lonette', 'aretha', 'golan', 'rickman', 'tybalt', 'ryecart', '800', 'ardh', 'byington', 'treize', 'r.i.p.', 'arletty', '112', 'maximilian', 'moovie', 'sylvain', 'victoires', 'monceau', 'martindale', 'yvelines', 'vlad', 'rendall', 'mariana', 'duane', 'drizella', 'huntingdon', 'tobin', 'moreira', 'marvellously', 'neagle', 'santoshi', 'denard', 'holroyd', 'gulfax', 'chadha', 'w.c.', 'retromedia', 'stolz', 'shipley', 'duggan', 'quais', 'atlantean', 'toho', 'spradling', 'polonius', 'dekker', 'sherwood', 'shaffer', 'gussie', 'entendres', 'sivan', 'fuelled', 'sadler', 'chianese', 'magoo', 'salome', 'rashomon', 'railsback', 'gianni', 'cinemagic', 'vh', 'elicot', 'barek', 'seeley', 'brice', \"o'brian\", 'turpin', '1902', 'presson', 'domini', 'ardolino', 'rumoured', 'withnail', 'adrianne', 'fante', 'joycelyn', 'hitoto', '00s', 'cervi', 'socky', 'browder', 'kazuo', '237', 'recognises', 'tuvok', 'polynesia', 'balzac', 'arabella', 'megha', 'shayan', 'takahashi', 'bromell', 'boz', 'aleck', 'gailard', 'heinz', 'scotsman', 'mcinnerny', 'flocker', 'mayberry', 'alphonse', 'yakima', 'lajos', 'p.g.', 'necronomicon', 'reynaud', 'brideless', 'zuckerman', 'calson', 'franciscus', 'penry', 'minot', 'colton', 'choule', 'garr', 'necroborgs', 'teletubbies', 'bixby', 'jethro', 'solino', 'daneliuc', 'legolas', 'greys', 'alisan', 'quantrill', 'frwl', 'larocca', 'barbarella', '4.99', \"d'etat\", 'ruge', 'utilised', 'toshi', '3.00', 'josef', 'keifer', 'novello', 'rochefort', 'sousa', 'hepton', 'koen', 'audrie', 'neenan', 'klux', 'simira', '160', 'rca', 'fenech', 'marthe', 'gubra', 'nilsson', 'bucharest', 'jariwala', 'mervyn', 'moranis', 'zomcon', 'charnier', 'spano', '5.2', 'part2', 'atlantians', 'friels', 'organisations', 'ufos', 'ghulam', 'dornhelm', 'donnison', 'jayhawkers', 'mamoru', 'zappa', 'alonzo', 'proog', 'zucco', 'czechs', 'chabon', 'reems', 'ohad', 'knoller', 'yelli', 'recognising', 'honours', 'arcati', 'haggerty', 'lv2', 'lv1', \"d'arcy\", 'valeria', 'medusan', '900', 'englebert', 'zinta', 'griswold', 'baraka', 'cile', 'ardelean', 'cheeta', 'fdr', 'fifi', 'bakhtiari', 'marner', 'kieron', 'andretti', \"d'or\", 'thiessen', 'bucktown', 'wilfully', 'chupke', 'laughlin', 'rainman', 'hiltz', 'maclachlan', 'pelletier', 'elektra', 'nazgul', 'letty', 'belaney', 'stormhold', 'nathalie', 'hebrews', 'faulkner', \"dell'orco\", 'jarada', 'baldrick', 'cheang', 'gilson', 'towelhead', 'holcomb', 'horstachio', 'haig', 'cocteau', 'bleeth', 'lebowski', 'janie', 'serb', 'cimarron', 'denison', 'coalwood', 'staunton', 'emanuelle', 'adeline', 'soweto', 'caracas', 'camazotz', 'bukowski', 'tasuiev', 'styne', 'johnsons', 'scorpione', 'shenar', 'kafka', 'superchick', 'zaroff', 'havilland', 'smithee', 'kurupt', 'rks', 'cuoco', 'rald', 'lungren', 'mi5', 'akhras', 'urbaniak', 'frownland', 'fffc', 'joslyn', 'spagnolo', 'narasimha', 'mimieux', 'chirila', 'healey', 'grieg', 'jacksons', 'fontana', 'kimiko', 'livingstone', 'cragg', 'ghosthouse', 'stockler', 'sentai', 'seachd', 'monson', 'hortense', 'zefferelli', 'aymeric', 'dwivedi', 'fardeen', 'harrer', 'kazihiro', 'halloway', 'mcnicol', 'slovik', 'weitz', 'oshin', 'bregana', 'asagoro', 'cybersix', 'klaang', 'cervera', '.all', 'succo', 'stefano', 'bonhoeffer', 'excalibur', 'unsavoury', 'starck', 'chandni', 'humphries', 'crocker', 'almeida', 'dsm', 'oyl', 'brecht', 'coote', 'gregson', 'beaute', 'frenchmen', 'welker', 'transylvanian', 'residenthazard.com', 'hobart', 'hildegard', 'darnell', 'linfield', 'remarque', 'francesco', 'frightworld', '4.4', 'zealander', 'hooten', 'weigang', 'cimino', 'kajol', 'sayori', 'acquart', 'bergdorf', 'galadriel', 'dostoyevsky', 'ratner', 'monteith', 'bateman', 'shae', 'milosevic', 'labourer', 'seaton', 'angkor', 'sahan', 'togan', 'hiroyuki', 'precode', 'hamptons', 'zellweger', 'mendel', 'saldana', 'spillane', 'paedophile', 'lowry', 'yoshinaga', 'oedipus', '117', 'andersen', 'heimlich', 'gottfried', 'diehl', 'ladykillers', 'brannagh', '8.1', 'conchata', 'adventists', 'epstein', 'stephan', 'meiji', 'takeshi', 'valli', '1408', 'enslin', '1910', 'pace!.', 'brideshead', 'yasujiro', 'darian', 'pirovitch', 'rosenberg', 'warbeck', 'fantine', 'cccc', 'nestor', 'considine', 'radiofreccia', 'dusenberry', 'hauer', 'judgemental', 'vigour', 'fett', 'czerny', 'bregovic', 'freleng', \"o'keeffe\", 'i.q', 'ramallo', 'spiralling', 'baltar', 'mallepa', '34th', 'pistilli', 'jackies', 'bianchi', 'diwani', 'myer', 'bassenger', 'brendon', 'mcmanus', 'stefania', 'anniston', 'pasadena', 'gcse', 'walerian', 'babyyeah', 'remick', 'lumley', 'antonella', 'aristotelian', 'sandrich', 'aida', 'peebles', 'linder', 'kerrigan', 'pocus', 'frieda', 'lenin', 'tippi', 'athena', 'ptsd', 'andress', 'luciana', 'thunderball', 'hennessey', 'mohandas', 'wilkes', 'glenrowan', 'gnatpole', 'f.p.1', 'maratonci', 'trce', 'pocasni', 'krug', 'teegra', 'francoise', '1873', 'dibley', 'wonderfalls', 'timm', 'margarete', 'gunther', 'alida', 'duelling', 'goodtimes', 'traudl', 'vorhees', 'kelada', 'alfie', 'tarrentino', 'sylvie', 'armistead', 'collete', 'mckellen', 'perla', 'lilia', 'plainsman', 'kandice', 'wickes', 'nra', 'dansu', 'olson', 'marte', 'earle', 'javier', 'bremer', 'santamarina', 'charo', 'rothschild', 'prospero', 'mulan', 'joanie', 'carnosaurs', 'waltons', 'landy', '1692', '3po', 'georgio', 'tanovic', 'genn', '12,000', 'plath', 'aruman', 'vereen', 'shiri', 'relena', 'hugsy', 'institutionalised', 'tisserand', 'ulmer', 'mongolia', 'najimy', 'gehrig', '1880', 'molla', 'albanian', 'hashmi', 'mahesh', 'lillith', 'stasi', 'burrough', \"o'keefe\", 'badalamenti', 'mullholland', 'pastore', 'lebrock', 'rainbeaux', 'napoli', 'fenwick', 'argentinean', 'mulva', 'phyllida', 'oav', 'rivendell', 'arnaz', 'croats', 'y.', 'velankar', 'carn', 'annabella', 'takia', 'coixet', 'cuar', 'castellitto', 'pigalle', 'melchior', 'nicol', 'nuyorican', 'valentinov', 'eastenders', 'corrigan', 'asgard', 'teodoro', 'sheehan', 'britons', 'cini', 'shumlin', 'druten', 'hensley', 'eaglebauer', 'saviour', 'cuaron', 'vcrs', 'kenji', 'bianlian', '6.99', 'ridgemont', 'waugh', 'hassie', 'castel', 'simonson', 'yanos', 'normand', 'ddt', 'angelique', 'zabriski', 'summarise', 'atwood', 'dpp', 'ishibashi', 'zomcom', 'lucian', 's.i.c.k.', '2.0', 'randle', 'ziegfeld', 'highsmith', 'gifford', 'dramatisation', 'selznick', 'kudisch', 'secombe', 'animatrix', 'norse', 'kennicut', 'howie', 'ralli', 'soso', 'achilleas', 'judgements', '1830', 'borge', 'liebman', 'rotterdam', 'lucinda', 'karns', 'elise', 'julianne', 'isaiah', 'michener', 'pinochet', 'mercurio', 'usines', 'headey', 'gh1215', 'boen', 'naish', 'moritz', 'boleyn', 'poole', 'gottschalk', 'haarman', 'burlinson', 'eadie', 'duchenne', 'veeru', 'coozeman', '350', 'kazakh', 'sarafian', 'sunways', 'diller', 'hyman', 'furie', '5.0', 'karzis', '4000', 'braugher', 'linney', '4.3', 'hoffmann', 'yoshida', 'roebuck', 'nevsky', 'alaskan', '7.3', 'giordano', '305', 'oklar', 'ewing', 'scarman', 'montenegro', 'deedee', 'emran', 'cristo', 'tgif', 'koltai', 'metcalfe', 'raimy', 'weinberg', 'hodges', 'yvan', 'attal', '713', 'macabra', 'lettieri', 'shecky', 'fitzpatrick', 'gustav', 's.w.a.t.', 'balrog', 'ubasti', 'bochco', 'natascha', 'paulsen', 'rushton', 'fedja', 'amati', 'rolf', 'naughton', 'cravens', 'bening', 'mangeshkar', 'conklin', 'gojira', 'lovejoy', 'birney', 'steinberg', 'rinaldi', 'jbl', 'jehovah', 'paraguay', 'etienne', 'starbase', 'talosians', 'houellebecq', 'dumroo', 'sharman', 'judah', 'xander', 'dkd', 'halicki', 'newell', 'popwell', 'gaffikin', 'haddonfield', 'kincaid', 'leiji', 'paulin', 'burwell', 'edwige', 'gastaldi', \"l'anglaise\", 'bayliss', 'kaplan', 'm.a.s.h.', 'bigalow', 'aisling', 'scrooged', 'chungking', '106', 'saskatchewan', 'kiel', 'munchausen', '1894', 'blanchett', 'gavras', 'kunis', 'fillmore', 'matondkar', 'faat', 'oskar', 'scacchi', 'mclaughlin', 'deth', 'nosey', 'alyson', 'machesney', 'watership', 'chewie', \"l'amour\", 'cujo', 'witney', 'cahulawassee', 'sweeny', 'rheostatics', 'trotti', 'moyer', 'avco', 'mauricio', 'shuddery', 'germanic', 'shugoro', 'quaien', \"d'onofrio\", 'kollos', 'thuy', 'cundieff', 'renard', 'roald', 'irak', 'glickenhaus', 'alyn', 'capone', 'verdon', 'nagurski', 'audie', 'butante', 'launius', 'malthe', 'jakub', 'konchalovsky', 'windman', 'compton', 'carpathian', 'aragami', 'ryuhei', 'lamia', 'taye', 'engrish', 'ashwar', 'lacanian', 'travellers', 'thumbtanic', 'zenda', 'olmos', 'zooey', 'foulkrod', 'mckidd', 'shaloub', 'hyser', 'aztecs', 'devlin', 'milford', 'trina', 'corregidor', 'divorc', 'ojibway', 'darkheart', 'cassini', 'charel', 'autry', 'm.r.', 'gadar', 'kunal', 'quintana', 'heinrich', 'korolev', 'j.p.', 'kruschen', 'meysels', 'falken', 'moonchild', 'eppes', 'puertorican', 'brophy', 'rayford', 'christmases', 'isobel', 'vigo', 'tetsuro', 'practise', 'pritam', 'therese', '1890s', 'bislane', \"'cos\", 'dcom', 'jule', \"o'herlihy\", 'sidaris', 'glenne', 'avigdor', 'hadass', 'anschel', 'uribe', 'mordor', 'bartlett', 'grossman', 'jacquet', 'khakee', 'rudi', 'gordan', 'ebsen', 'winstone', 'verneuil', 'eliot', \".don't\", 'jabez', 'kurasowa', 'neweyes', 'micawber', 'zola', 'muffat', 'yolande', 'alecia', 'onassis', 'zoey', 'haddad', 'kochak', 'drablow', 'goro', '116', 'z.i.t.', '1859', '5.5', 'ferrara', 'vern', 'armitage', 'schaffner', 'linderby', 'sergius', 'bauraki', 'mccall', 'jasbir', 'zaz', 'burgundians', 'radford', 'geisel', 'kyd', 'kimmy', 'daniell', 'vito', 'albeniz', 'murdstone', 'burgi', 'klute', 'turhan', 'elyse', 'hadleyville', 'dornwinkle', 'cardos', 'mazovia', 'bullwinkle', 'arliss', 'imelda', 'scapinelli', '109', 'hobbs', 'heorot', 'sarpeidon', 'roxbury', 'yakitate', 'baretta', 'yoshitsune', 'slesinger', 'shigeru', 'ge999', 'masako', 'hyrum', 'guthrie', 'spanjers', 'antonius', 'elli', 'brentwood', 'lagosi', 'fortier', 'cothk', 'parn', 'mensonges', 'pendelton', 'commender', 'assan', 'gainsbourgh', 'ryoko', 'tesis', 'mouton', 'gouald', 'ironsides', 'aito', 'shushui', 'alois', 'vampiros', 'fiorentino', 't.k.', 'maloni', 'terkovsky', 'childress', 'mulcahy', '5.3', 'adela', 'leire', 'octavia', '300,000', 'akins', 'wolske', 'organise', 'extase', 'riefenstahl', '1901', 'unrecognisable', 'terrorise', 'fermat', 'demian', 'joaquim', 'geraldo', 'ticotin', 'leeves', 'honoured', 'haun', '23rd', 'counsellor', 'escher', 'brasco', 'heywood', 'corby', 'conran', 'farris', 'rodentz', '33.1', 'bulgakov', 'mcavoy', 'guatemala', 'morteval', 'julissa', 'fothergill', 'emphasise', 'criticising', 'zombiez', 'hedley', 'nietzche', 'abrams', 'brigitta', 'loonatics', 'davinci', 'witchblade', 'etebari', '29th', 'enoch', 'tomlin', \"j'taime\", 'lagaan', '3.2', 'chazen', 'yugoslavian', 'belmore', 'tillman', '40,000', 'lombardi', 'gitai', 'manojlovic', 'stribor', 'nietzschean', 'l.q.', 'thalmus', 'rasulala', 'luva', 'callar', 'caddyshack', 'weide', 'smouldering', 'tiomkin', 'schramm', '1907', 'delany', 'marlow', '40th', 'mongol', 'bruckner', 'yeardley', 'columbian', 'hinglish', '1700', 'ziab', 'britains', 'dragonlord', 'bryson', \"make'em\", 'sebastien', 'jeremie', 'genghis', 'aslan', 'londoners', 'shintar', 'mt.', 'sasaki', 'mistry', 'showerman', 'kitano', '1910s', 'smmf', 'vladimir', 'nastasya', 'valcos', 'zimbalist', 'casomai', 'jorgen', 'bedi', 'dd5.1', 'brannigan', 'analyses', 'womanising', 'babaloo', 'borga', 'jannetty', 'zod', 'mustan', 'ashby', 'ganzel', 'j.j', 'bartleby', '1200', 'blackbriar', 'vosen', 'bobba', 'tallinn', 'mojave', 'klenhard', 'tatsuya', 'pressly', 'bacharach', 'lwr', 'mcclane', '.you', 'seaquest', 'friz', 'bhoomika', 'joachim', 'fuchsberger', 'seti', '7.6', 'lafont', 'beno', 'poelvoorde', 'powerpuff', 'brandauer', 'clancy', 'hedwig', 'algiers', 'h.r.', \"ya'ara\", 'baumer', 'micmac', 'humoured', 'kaufmann', 'arcand', 'georg', 'rivalled', 'ddlj', 'sonali', 'mcpherson', 'ewok', 'luft', 'boondock', 'davitz', 'immortel', 'margaretta', 'gustave', 'hulchul', 'filmfour', 'jaques', 'fulfilment', 'baftas', 'yasbeck', 'idris', 'varney', 'suliban', 'jolene', 'renying', 'wildside', 'samaire', 'vaugier', 'jole', 'birnley', 'macdougall', '1.4', 'karamchand', 'steenburgen', 'pretence', 'julianna', 'racheal', 'blackwell', 'northanger', 'stephenson', 'stephane', 'metzger', 'goldfinger', 'naudets', 'hindenburg', 'cheeni', 'wickerman', 'oslo', 'kruis', 'carrington', 'emeric', \"dodes'ka\", 'ikiru', 'tolbukhin', 'dereks', 'ruthie', 'pensacola', 'schieder', 'doughnut', 'pendragon', 'wilke', 'vilmos', 'zsigmond', 'tatiana', 'papamoschou', 'loeb', 'renyolds', '70ies', 'americanism', 'willoughby', 'whitlock', 'rickles', 'senegal', 'verducci', 'valenti', 'worshipped', 'decoteau', 'bernal', 'premutos', 'lecarr', 'hopcraft', 'm.o.', 'morell', 'pierrot', 'viy', 'dammes', 'charly', 'papua', '9.0', '8.7', 'blais', 'lumbly', 'frith', 'dobkin', 'moulded', 'logand', 'crichton', 'mathew', 'derri', 'denton', 'fabrizio', 'gulager', 'jobeth', 'vitti', 'emphasises', '59', 'akroyd', '5.9', 'dolan', 'klaws', 'lollo', 'riva', 'enrique', 'jarre', \"goin'\", 'katelin', 'j.d', 'romola', 'cloverfield', 'whitmore', 'bodrov', 'tanny', 'svendsen', 'mathau', 'nightwing', 'hamish', 'montmirail', \"70's\", 'groucho', 'cosmatos', 'cusacks', 'turandot', 'fillion', 'davison', 'mcinnes', 'himesh', 'danzig', 'parton', 'b.c.', 'delilah', 'gulliver', '.in', 'demongeot', 'jeffersons', 'blankman', '168', 'keene', 'bartley', 'donnacha', 'jorja', 'rajnikant', 'mmpr', '2.99', 'taryn', '50th', 'ogilvy', 'usmc', 'timbo', 'shannyn', 'parisien', 'renaldo', 'harling', 'zealanders', 'emmanuel', 'dailey', 'dewitt', 'bukater', 'sumatra', 'skinemax', 'summarises', 'ilene', 'ghajini', 'bhatt', 'jaitley', 'womaniser', 'mccort', 'mitali', 'johar', 'aatish', '10.00', 'nuremburg', 'spurlock', 'fearnet', 'glengarry', 'lavelle', '31st', 'halliburton', 'kellogg', 'kirin', 'desiree', '80,000', 'johnathon', '.he', 'counselling', 'tiffani', 'theissen', 'altamont', 'dresden', 'soliti', 'ignoti', '0080', 'one!.', 'kassovitz', 'dorian', 'sheeba', 'saire', 'luftwaffe', 'malika', 'giurgiu', '00pm', 'juhee', 'sirpa', 'oirish', 'moovies', 'suwa', 'ulliel', 'ludivine', 'sagnier', 'ardant', 'beslon', 'kramp', 'macneille', 'anoes', 'kumble', 'claudine', 'guyana', 'soninha', 'hubert', 'aronofsky', 'segel', 'stewarts', 'p.t.', 'futurama', 'materialise', 'trammell', 'gwar', 'englishmen', 'fransisco', 'capitalise', 'franky', 'ramsay', 'quine', 'sabine', 'wexler', 'arkush', 'hospitalised', 'fleetwood', 'khleo', 'ioan', 'gruffudd', '1880s', 'ballentine', 'bertie', 'dirks', 'faggot', 'stormriders', 'russels', 'eichmann', 'margolin', 'keefe', 'splendini', 'spence', 'hossein', 'winkelman', 'duchaussoy', 'deana', '2017', 'finnerty', 'carmella', 'kapture', 'squarepants', 'ancona', 'beverley', 'mopsy', 'quadrophenia', 'ephron', 'pepto', 'hyland', 'paredes', 'l.a', 'ryo', 'manville', 'herschell', 'schreiber', 'feldshuh', 'yojimbo', 'dickenson', 'maloney', 'schrage', 'samir', 'haynes', 'estevez', '1906', 'pepoire', 'glyn', 'totoro', 'nicholls', 'maxine', 'rosza', 'bnl', 'balki', 'dunham', 'alecky', 'jimenez', 'gayniggers', 'kleinfeld', 'langdon', 'coates', 'murvyn', 'semra', 'turan', 'gustad', 'verona', 'jurado', 'polay', 'categorised', 'feifel', 'shaye', 'manfredini', 'utilises', '1905', '74th', 'nakamura', 'salvador', 'hollander', 'ceausescu', 'cahiers', 'cartland', 'elina', '.45', 'duchovony', 'sensationalised', '146', 'dobb', 'vanhook', 'abydos', 'sgc', 'backula', 'deighton', 'sigrid', 'lucius', 'ishmael', 'mastrosimone', 'leisin', 'braselle', 'klever', 'superbabies', \"je'taime\", 'bartha', 'yelchin', 'felton', 'titus', 'alton', 'kaminska', 'swoozie', 'swinson', 'koechner', '7.2', '1861', 'missie', 'schmitz', 'lestrade', 'blanchard', 'macguffin', 'romulus', 'acapulco', 'kenner', 'winslow', 'topkapi', 'slingblade', 'mesmerised', 'blacksploitation', 'teffe', 'tripp', 'speer', 'belleville', 'mcchesney', '1,500', 'ironhead', '5.99', 'knott', 'lazarus', 'lonnrot', 'shortland', 'equalled', 'animaniacs', 'frankenhimer', 'falwell', 'rwanda', 'shanley', 'gozu', '30mins', 'federico', 'spiegel', 'acosta', 'archaeology', 'weighill', 'britian', 'hessler', 'drusse', 'kotex', 'alessandra', 'majkowski', 'murrow', 'marseilles', 'fishbourne', 'gregor', 'edgerton', '7.00', 'l.d.p.', '115', 'lovecraftian', 'medved', 'ringwraiths', 'fleisher', 'hefner', 'coronel', \"l'avventura\", 'huet', 'marivaux', 'c.s.', 'kadee', 'luxembourg', 'joby', 'umney', 'washburn', 'camus', 'clio', '9.50', 'paymer', 'redmon', 'wladyslaw', 'maddie', 'marci', 'kimmell', 'dollman', '5.6', '1896', 'filmaking', 'parinda', 'platt', 'galico', 'gabor', 'kinkade', 'j.c.', 'rateyourmusic.com', 'fedor8', 'schiff', 'c.i.a.', 'alaric', 'marnac', 'heidelberg', 'mayans', 'bilson', 'kolker', 'cavett', 'mpk', 'anjaane', 'boheme', 'adler', 'bennet', 'louisa', 'kagemusha', 'dalloway', 'verheyen', 'aeroplane', 'vres', 'stickney', 'sokurov', 'imrie', 'beccket', 'irvin', 'westley', 'rhames', 'sharifah', 'nykvist', 'pembleton', 'vicente', 'marta', 'yowsa', 'gorbunov', 'gerolmo', 'j.p', 'hollywoodland', 'carerra', 'killearn', 'keir', 'argyll', 'virgina', 'jeyaraj', 'corbucci', 'nyaako', 'semetary', 'couturie', 'remar', 'delbert', '1100', 'moroni', 'elwes', 'rennt', 'janel', 'henny', 'mandylor', 'timo', 'utilise', 'meiks', 'ulee', 'crewson', 'barbi', 'inoue', 'part1', 'zarchi', 'clouse', 'sarducci', 'kashakim', 'mclean', 'barrat', 'glimcher', 'voyna', 'duccio', 'carrol', 'higuchi', 'nargis', 'mikhail', 'moffat', 'galen', 'kovacks', 'florey', 'munson', 'austrians', 'jeeves', 'dussolier', '14a', 'michalka', 'hollywoods', 'tojo', 'raffy', 'satyricon', 'virtzer', 'blindpassasjer', 'frazee', 'brancovis', 'cammareri', 'tombes', 'hebetude', 'fraidy', 'u.n.c.l.e.', 'maury', 'vovochka', 'lybbert', 'wust', 'jiri', 'mcginley', 'masanori', '4.50', 'golino', 'reprised', 'strasberg', 'amagula', 'sridevi', 'ruka', 'janeiro', 'ayres', 'movie!.', 'incas', 'marienbad', 'cianelli', 'calitri', 'delroy', 'olyphant', 'rutledge', 'freya', 'liceman', 'walentin', 'bissonnette', 'mcelwee', 'dempster', 'wopat', 'fishburn', 'virginya', 'keehne', 'willaim', 'municipalians', \"l'age\", 'bogosian', 'petr', 'claremont', 'splendour', 'wittenborn', 'buaku', 'stroup', 'hoyo', 'savoured', 'margotta', 'rubik', 'splittingly', 'dieterle', 'lezlie', 'cellach', 'loder', 'c.r.a.z.y.', 'toole', 'machacek', 'neilsen', 'rosencrantz', 'wynorski', 'xtro', 'renfield', 'benefices', 'waggoner', 'kinka', 'samways', 'malcomson', 'dehner', 'j.b.', 'lenoir', 'buckley', 'ranvijay', 'anika', 'emmerich', 'hansel', 'rousseau', 'fdny', 'zerelda', 'kazumi', 'suba', 'hercule', 'argonne', 'yeaworth', 'setton', 'tristain', 'viktor', 'baranski', 'tusshar', 'bandini', 'obcession', '8.50', 'jordanian', 'mib', 'guillaume', 'yoakum', 'keisha', 'neighbouring', 'gallactica', 'wlaschiha', 't.j.', 'bekmambetov', 'pykes', 'howes', 'phillipines', 'serbedzija', 'soid', 'butthorn', 'monkees', 'blom', 'summerisle', 'srebrenica', 'stiffler', 'kabuto', 'eszterhas', 'mohicans', 'puertoricans', 'trintignant', 'giuliani', 'tulkinghorn', 'smallweed', 'wayland', 'grainger', 'lottie', 'q.e.d.', \"o'dell\", 'dumann', 'backus', 'longenecker', 'overman', 'whitfield', 'r2d2', 'dethman', 'dmd', 'riegert', 'tomanovich', 'carruthers', 'salka', 'followable', 'shusuke', 'kaneko', 'enamoured', 'potemkin', 'schofield', 'grunberg', 'smight', 'kafkaesque', 'naseeruddin', 'matographe', 'hotd', 'johannes', 'lemoine', 'spiventa', 'lyu', 'medeiros', 'jamestown', 'montagu', 'daggett', 'imanol', 'ashleigh', 'jayston', '750,000', 'bertille', 'bruneau', 'benji', 'aryeman', 'szwarc', 'amphibulos', 'boulting', 'siberling', 'burnstyn', 'lind', 'strickler', 'napton', 'suicune', 'partanna', 'indochine', 'carrillo', 'agonising', 'koteas', 'mannu', 'massude', 'keko', 'sichuan', 'ludwig', 'parkersburg', '7.8', 'reverand', 'adelle', 'knieval', 'hickland', 'hessling', 'goldoni', 'schmeeze', 'gwenneth', 'ardala', '206', 'bronstein', 'muldaur', 'borje', 'anka', 'gemser', 'bhamra', 'osric', 'bertin', 'timecop', 'rasputin', 'terrorised', 'perinal', 'mias', 'cort', 'franke', 'fozzie', 'vholes', 'landry', 'huac', 'pettyjohn', 'peppoire', 'ioana', 'pierpont', 'martinaud', 'gallien', 'trevethyn', 'shabana', 'azmi', 'kolchack', 'teddi', 'devane', 'boland', \"'nuff\", 'wippleman', 'mumtaz', 'nakadei', 'deerhunter', 'nosbusch', 'lovett', 'miikes', 'vogel', 'mstie', 'scepticism', 'shangai', 'l.l.', 'krisana', 'matiss', 'johnathan', 'supermarionation', 'getz', 'torme', 'mekum', 'marischka', 'ebts', 'rennes', 'raveena', 'algie', 'ziv', 'dbd', 'yoji', 'tomiche', 'yolanda', 'deathline', 'nieztsche', 'rosenman', 'jiggs', 'f.b.i.', 'artie', 'bugsy', 'ballesta', 'vampira', '6.6', 'ramala', 'gibney', 'watch!.', 'bleibtreu', 'metschurat', 'cardinale', 'nauvoo', 'o.j', 'freiberger', 'trueba', 'dufy', 'lautrec', 'bickford', 'landa', 'deerfield', 'ewell', 'offon', 'marti', 'swayzee', 'kellaway', 'harlock', 'destry', 'standa', 'crocky', 'amato', 'osment', 'lohde', 'dumont', 'inuit', 'bernarda', 'ohtar', 'deidre', 'tingwell', 'mariscal', 'nidia', 'heyman', 'wagnard', 's2rd', 'zeman', 'marylin', 'ekspres', 'nelkin', 'riah', 'hildebrand', 'u.s.s.', 'mtf', 'pacios', 'gordy', 'ormond', 'ranko', 'bozic', 'takeko', 'deedlit', 'filmirage', '4kids', 'hanfstaengl', 'cebuano', 'chans', 'sanguisuga', 'buzaglo', \"go'ould\", 'appollo', 'simonetta', 'broome', 'zapruder', 'm.o', 'cundey', 'laraine', 'moriarity', 'najwa', 'nimri', 'maricarmen', 'cinderellas', 'wadd', 'dehavilland', 'fortunetly', 'manfredi', 'quixote', '1863', 'baldwins', 'riped', 'karvan', 'stonehenge', 'beresford', 'pg13', 'hollyweird', 'kyrano', 'bobbi', 'hardgore', 'tamakwa', 'sitka', 'elga', 'megadeth', 'muco', 'cathie', 'd.v.d.', '.a', '.for', 'kinear', 'deknight', 'lusitania', 'koun', 'soraj', 'vishk', 'tait', '1847', 'ignatius', '12,000,000', 'garrigan', \"l'eclisse\", 'orkly', 'treebeard', '2200', 'enid', 'brutus', 'sawney', \"o'grady\", 'darrin', 'lockwood', 'clenteen', 'beart', 'addams', 'shikoku', 'hassett', '270', 'staten', 'barbour', '2.00', 'varela', 'garp', '2600', 'tomita', 'blaisdell', 'y.o', 'sharikov', 'rier', 'serbians', 'bosnians', 'quayle', 'dobie', 'horvitz', 'drexler', 'teesri', 'pergado', 'wisbar', 'rutkay', 'darlanne', 'tagawa', 'jiminy', 'deklerk', 's.a.', 'davalos', 'giancaspro', 'kimmel', 'macrae', 'swanberg', 'bosch', 'jayma', '38th', 'tanger', 'abm', 'guillame', 'hogbottom', 'tavernier', 'clouzot', 'silverlake', 'rockwood', 'smilodon', 'celebei', 'roderick', '1839', 'fictionalised', 'schroder', 'azkaban', 'magorian', 'revelled', 'irby', 'neul', 'dobermann', '138', 'mirrormask', 'poseidon', 'sardinia', 'lavigne', 'cousteau', 'around!.', 'amazing!.', 'it!.', 'naunton', 'navokov', 'tenuta', \"z'dar\", 'carribbean', 'robi', 'h.e.a.l.t.h.', 'indra', 'pyare', 'kyra', 'silvestro', 'sheiner', '.after', 'toulouse', 'cassanova', 'garafolo', '1h40', 'cecile', 'katona', 'ione', 'ludvig', 'rosanne', 'b.o.', 'kubricks', 'mcnealy', 'toulon', 'enjolras', 'thenardier', 'practising', 'carridine', 'deere', 'racquel', 'bombadier', 'shafeek', 'bhatti', 'americanised', 'daisuke', 'lymon', 'libbing', 'scofield', 'pressley', 'fibre', 'tessie', 'treadstone', 'movie.there', 'mathurin', 'jonker', 'kristina', 'eurohorror', 'nightfire', 'heep', 'astrid', 'shashonna', 'gatiss', 'shearsmith', 'mykelti', 'artimisia', 'kookoo', 'raposo', 'mingozzi', 'casares', 'klebold', 'epitomises', 'raphaelson', 'agusti', 'casamajor', 'r.i.p', 'pollan', 'hollister', 'tricia', 'convoyeurs', 'mortenson', 'mohabbatein', 'preiti', 'picturised', 'bertinelli', 'petronius', '1903', 'tunnelvision', 'hornophobia', 'unfavourable', 'durga', 'dharmendra', 'winsor', 'roque', 'vlissingen', 'tami', 'rowell', 'disneynature', 'japrisot', \"l'ami\", 'pufnstuff', 'stavros', 'wiest', 'greenquist', 'incredibles', 'gershwins', '0.1', 'bertram', 'kegan', 'gettaway', '163', 'blandick', 'carri', 'famke', 'kronos', 'alanis', 'morrisette', 'megalon', 'jorg', 'pinkerton', '1865', 'quillan', 'merkel', 'cinemaphotography', 'rajini', 'wehrmacht', 'merquise', 'niklas', 'olsson', 'mikael', 'lennart', 'elba', 'langford', 'tenko', 'dominica', 'jillian', 'ryunosuke', 'kamiki', 'lashelle', \"o'flaherty\", 'armoury', '24th', 'brannon', 'mcgreevey', 'mumy', 'hedren', 'johnstone', 'stoddard', 'a.e.', 'f.murray', 'consuelo', 'fedele', 'paluzzi', '.then', 'geli', 'margulies', 'esmond', 'rubens', 'analysing', 'watch?v', 'natividad', 'ackerman', 'castelnuovo', 'dumas', 'lustre', 'upn', 'nekhron', 'dragonheart', \"60's\", 'jost', 'flatley', 'norsk', 'norwegians', 'keats', 'dagon', 'ichikawa', 'willian', 'nirupa', 'octavian', 'sondre', 'finnegan', 'nitti', 'mehmet', 'whoppi', 'ctu', 'kohner', 'sodomizes', 'paley', 'redlitch', 'srbljanovic', 'hamil', 'clayface', 'rantzen', 'theodor', 'film.the', 'd.j', 'doggett', 'fiza', 'bremner', 'danube', 'daltrey', 'entwistle', 'r.c.', 'wilfrid', 'aylmer', 'gogol', 'eamonn', 'waxman', 'aimants', '.at', 'kreuger', 'tromaville', 'bayonne', 'reidelsheimer', 'trelkovski', 'karyo', 'ha!ha!ha', 'bbfc', 'colonised', 'samoans', 'heldar', 'chinnery', 'jarrell', 'sardo', 'numspa', 'iamaseal2', 'nyman', 'lakhan', 'publicised', 'toomey', 'skala', 'selden', 'meighan', 'voltron', 'fantastic!.', 'altagracia', 'brion', 'arnett', 'schoen', 'roquevert', 'pilar', 'daraar', 'arbaaz', 'bankol', 'giulia', 'hinkley', 'estela', 'sellars', 'arthurian', 'hippler', 'sisley', 'garai', 'dinosuars', 'aerobicide', 'bogdonovich', 'schiller', 'manhunter', 'blenheim', 'shriver', 'niels', 'matilda', 'keye', 'gravedancers', 'walther', 'duquesne', 'elmann', 'sergent', 'brull', 'tessa', 'putman', 'loreen', 'witchfinder', 'chagos', 'parsifals', 'bayreuth', 'kutter', 'benita', 'leadenly', 'danis', 'p.o.w.', 'uppance', '1892', 'willett', 'brickman', 'noin', 'khmer', 'cornwell', 'youngberry', 'colouring', 'bonesetter', 'yulin', 'umbopa', 'memama', 'arses', 'reif', 'regehr', 'larrazabal', 'rouen', 'purcell', 'aristide', 'southpark', 'piana', 'tlps', 'wnsd', 'winslett', 'hockley', 'tayback', 'arvanitis', 'homeric', 'telemachus', 'andalou', 'razdan', 'elka', 'steptoe', 'fari', 'malishu', 'kleist', 'snoodle', 'aetheist', 'wrestlemanias', 'hotz', 'frenais', 'stratham', 'asuka', 'himmler', 'armando', 'menotti', 'lineker', 'shilton', '1798', 'dasilva', \"1930's\", 'septimus', 'charlene', 'katakuris', 'roswell', 'rtl', 'valarie', 'donaldson', 'montesi', 'girard', 'brookmyre', 'nesbitt', 'gloster', 'cavegirl', 'mccomb', 'miyagi', 'goire', 'tlk', 'good!.', 'viciente', 'cristian', 'minimise', 'alahani', 'capulet', 'mercutio', 'obrow', 'krajina', 'izetbegovic', 'phipps', 'williamsburg', 'keeyes', 'napoleonic', 'farquhar', 'intenseness', 'cameroonian', 'jeanson', 'aumont', 'atmosph', 'talkiest', 'homerian', 'mazurki', '134', 'nobuhiro', 'gaspard', 'crosscoe', 'brandner', 'marybeth', 'cogan', 'lenore', 'sebastain', 'ilya', 'tandy', 'wildfell', 'heffer', 'lideo', 'kinsella', 'prancer', 'stanze', 'sebasti', 'mettler', 'sceptic', 'execrably', 'udia', 'alsanjak', '9.00', 'maronna', 'lintz', 'damascus', 'ferroukhi', 'lieh', 'chaliya', 'chandrasekhar', 'akshey', 'dupia', 'powaqqatsi', 'rajkumar', 'unrecognised', 'thugees', 'latifah', 'i.r.s.', 'broadhurst', 'qissi', 'citroen', 'lilli', 'coolne', 'theby', 'tewksbury', 'thuggees', 'cecily', 'bloodsurfing', 'aryans', 'weired', 'styx', 'vlady', 'mccoys', 'ripa', 'ugo', 'formulae', 'a.j.', 'kops', 'liebmann', 'm.d.', '4,5', 'hulkamaniacs', 'haku', 'volkoff', 'kushrenada', 'mcintosh', 'odessa', 'scrye', 'damita', 'oiran', 'hutchison', 'munroe', 'inagaki', 'clarksberg', 'kieth', 'haldane', 'hooverville', 'swerling', 'lindum', 'qe2', 'giacomo', 'pearlman', 'impaler', 'schubert', 'www.invocus.net', 'rhind', 'tutt', 'farceurs', 'umrao', 'mohnish', 'perrault', 'lilian', '0.02', 'monette', 'hendry', 'grandin', '30min', 'gomer', 'adoree', 'pringle', '1911', 'tunisia', 'bastedo', 'sharron', '30pm', '5.7', '15s', 'salkow', 'hotch', '1780s', 'baichwal', 'gaspar', 'rinna', 'engle', 'tantalising', 'brunhilda', 'penquin', 'marmont', 'botticelli', 'farentino', 'lerman', 'alvarez', 'eglimata', 'cohan', 'vitaphone', 'staller', 'macliammoir', 'tacones', 'lejanos', 'whig', 'ripstein', 'llosa', 'crowhaven', 'soze', 'rohinton', '7.50', 'cooley', 'hitlers', '183', 'nessun', 'nukem', 'doddsville', 'dugdale', 'tashlin', 'faustian', 'zapata', 'greenberg', 'lancelot', 'bronston', 'guzm', 'gruver', 'katsumi', 'miiko', 'baryshnikov', 'herzegovina', 'romanians', 'alisha', 'lumieres', 'maitland', 'sheri', 'carpathia', '25.00', 'locken', 'grauer', 'paoli', 'silberman', 'rodrigues', 'boerner', 'frazer', 'vala', 'sharyn', 'moffett', 'campell', 'accorsi', 'troi', 'chakotay', 'neelix', \"b'elanna\", 'mulgrew', 'pangborn', 'beurk', '131', 'britishness', 'blackbuster', 'dhiraj', 'reshammiya', 'yamaguchi', 'deran', 'corp.', 'audley', 'verna', 'heisenberg', 'fremantle', 'hymer', 'moreland', 'batali', 'kadar', 'materialises', 'emmerson', 'hickham', \"cgi'd\", 'scottie', 'rolfe', 'humma', 'shivam', 'dinotopia', 'vollins', 'cornelius', 'pruneface', 'remus', '571', 'silverado', 'mcfly', 'axton', 'chopin', 'hhe2', '12a', 'greyson', 'thomsett', 'i.t.v.', 'cosy', 'film.i', 'sartana', 'jeri', 'keneth', 'schwarzeneggar', 'elsie', 'pickwick', 'trouby', 'yuki', 'osiris', 'halliday', 'marshmorton', 'pasternak', 'doreen', 'sequiters', 'zelinas', 'conlin', 'goryuy', 'goonie', 'ashkenazi', 'kingsford', 'higgin', 'emilie', 'glynn', 'mccarthyism', \"o'callaghan\", 'snart', 'trekovsky', 'riviere', 'fulgencio', 'picchu', 'moskowitz', 'lindberg', 'svu', '607', 'kiesler', 'voigt', 'ratzo', 'laydu', 'geroge', 'parisians', 'arwen', 'avenet', 'crusoe', 'lefler', 'koolhoven', 'zaara', 'deewaar', 'quimby', 'madolyn', 'cassell', 'merton', 'ekland', 'mccloud', 'chrissie', 'einstien', 'iwo', 'dawsons', 'manawaka', 'broughton', 'modernised', 'mohd', \"d'oh\", 'aleisa', 'sotos', '.see', 'hayenga', 'rodman', 'flender', 'blog.myspace.com', 'locoformovies', 'theopolis', 'lightfoot', 'yuy', 'trowa', 'sheba', 'johannesburg', 'macleans', 'pierson', 'akosua', 'busia', 'roberson', 'fanu', 'fortinbras', 'paradorian', 'evita', 'don?t', 'elster', 'mabille', 'lancr', 'ingred', 'mormonism', 'sipus', 'marriott', 'santorini', 'christmastime', 'roslin', 'ajnabi', 'hssh', '1.99', 'weinbauer', 'cloney', 'wishman', 'dionna', 'zorie', 'masterpeice', '125', 'yawk', 'cherbourg', 'faison', 'carstone', 'albertson', 'lestat', 'mochcinno', 'velva', 'venezuelans', 'inskip', 'brackett', 'sheena', 'desplat', 'giullia', 'ziva', 'rodann', 'rajnikanth', 'vestron', 'iliopulos', 'ap3', 'picardo', 'rawanda', 'majidi', 'kael', 'saito', '26th', 'heggie', 'avonlea', 'sepet', 'aryana', 'naswip', 'quitte', 'secor', 'hebert', 'blasco', 'bukhanovsky', 'zantara', 'it?who', 'breslin', 'dingman', 'moira', 'steffania', 'tomasso', 'hlots', 'pumpkinhead', 'tallin', 'pimeduses', 'monika', 'thanatos', 'auggie', 'ciano', 'wusa', 'scandanavian', 'specialised', 'practised', '.44', 'hiram', 'nyatta', 'mignard', 'blankfield', 'tenberken', 'aguirre', 'hernando', 'sollace', 'lemuria', 'berardinelli', 'klaveno', 'souler', 'bffs', 'blitzstein', 'tropi', 'farrellys', 'daines', 'losch', 'persbrandt', 'chirin', 'rosenstein', 'fitzsimmons', 'goode', 'ferdy', 'yoshio', 'instalments', 'exploitational', 'horrorvision', 'marblehead', 'deltoro', 'isoyg', 'blakely', 'dreamquest', 'flintstones', 'griswalds', 'raskin', 'genderbender', 'ciar', 'thigpen', 'forsyte', 'hollywoodian', 'hurrah', 'vapoorize', 'aquarius', 'mickie', 'kawai', 'schaeffer', 'movie.the', 'urmilla', 'merkle', \"80's\", 'brommell', 'klemper', 'denys', 'cassevetes', 'redlich', 'moonraker', 'councellor', 'dedee', 'muncie', 'clarice', 'cgis', 'hagerthy', \"i'l\", 'suvari', 'bechstein', 'marcie', 'utilising', 'alix', 'velde', 'nastie', 'galindo', 'rnrhs', 'everly', 'blacula', 'hamlisch', 'zmed', 'catalunya', 'mesurier', 'farsi', 'luckett', 'diabo', 'zohar', 'lior', 'flds', 'bringsv', 'gimli', 'sintown', 'manticore', 'hodiak', 'orloff', 'pianiste', 'd.b.', 'p.o.s.', '232', 'ilse', 'tressa', 'meeks', 'noelle', 'estella', '47s', 'afrika', 'kasey', 'alejandra', 'xtian', 'aranoa', 'sarro', 'huffman', 'otami', 'belgians', 'd.v.d', 'religulous', 'thaddeus', 'cajuns', 'darro', 'berton', 'daisenso', 'songling', 'aicha', 'mongols', 'rublev', '1853', 'foabh', 'osmond', 'mclaglan', 'tremblay', 'phedon', 'papamichael', 'lamborghini', 'kanwar', 'centrepiece', 'jir', 'tremell', 'mcraney', 'longstreet', 'eastland', 'baise', 'schoedsack', 'kaajal', 'thorsen', 'heusen', 'poston', 'jafa', 'g.w.', 'soderberg', 'prunella', 'stadvec', 'shamroy', 'michal', 'bluto', 'antheil', 'roemheld', 'fennie', 'gaynor', 'seseme', 'pygmalion', 'bluntschli', 'unferth', 'corsaire', 'falcone', '4.00', 'stackhouse', 'lugacy', 'klum', 'lemay', 'paton', 'chapelle', 'powerglove', '90,000', 'jaque', 'valhalla', 'mintz', 'plasse', 'willona', 'corcoran', 'haara', 'bonaparte', 'rouveroy', 'parmistan', 'weixler', 'tenshu', 'heino', 'zimmermann', 'boswell', 'jessup', 'larner', 'theodorakis', 'odette', 'esoterics', 'synthesiser', '99p', 'maffia', 'maroney', 'deane', '15,000.00', 'ebeneezer', 'shrewsbury', 'corbetts', 'lebeau', 'levenstein', 'macedonian', 'klemperer', 'guildenstern', '1.5hrs', 'maughan', 'beane', 'heronimo', 'koppikar', 'ranjit', 'cfto', 'ctv', 'carolingians', 'beesley', 'zorba', 'tenney', 'kolya', 'jarryd', 'anubis', 'fenn', 'duchovney', 'gagnon', 'bataan', 'lainie', 'usaf', 'gretel', 'jgar', 'particolare', 'grinnage', 'sofaer', 'e.r.', 'hideaki', 'headley', 'monicelli', 'bombadil', 'miniver', 'cancelling', 'cathrine', 'randi', '1888', 'coscarelli', 'tachigui', 'yamadera', 'lakewood', 'smitrovich', 'aribert', 'zinn', 'prussia', 'oct.', 'grenier', 'schnitzler', 'augusten', 'macliamm', 'mcgoohan', 'gershuni', 'linaker', 'necroborg', 'crapness', 'demond', 'gwyne', 'synchronised', 'nickleby', 'giaconda', 'ishai', 'mimzy', 'gandhiji', 'flemyng', 'henrietta', 'templeton', 'yugi', 'yami', 'khemu', 'hollywoodish', 'brennen', 'jerilderie', 'levens', 'leatherfaces', 'shenzi', 'poulain', 'remi', 'gagarin', 'munnabhai', 'nibelungenlied', 'canfield', 'poolman', 'nimitz', 'kotero', 'pitzalis', 'schlatter', 'bowm', 'arby', 'c.a.', 'sympathising', 'dhavan', 'yasmine', 'wopr', 'shiraki', 'legros', 'outkast', 'endeavours', 'creasey', 'unassured', 'dobbs', 'lydon', 'speakman', '1820', 'wellesian', 'patrica', '28th', 'milhalovitch', 'swann', 'lenzi', 'naura', 'riead', 'knb', 'gurinder', 'choisy', 'seydou', 'mizer', \"l'arc\", 'zira', 'supermans', 'puroo', \"o'daniel\", 'wolfen', 'baudelaire', 'f.u.', 'chiklis', 'hoyts', 'natica', 'kiyoshi', 'jaglom', 'ardour', 'f16', 'viertel', 'ragland', 'oblowitz', 'roundtree', 'leclerc', 'coombs', '9.8', '70th', 'persepolis', 'komomo', '1824', 'perrine', 'jumanji', 'ophuls', 'lisbeth', 'hummel', 'jillson', 'geordies', 'carrigan', 'bhave', 'nazareth', 'frisco', 'teagan', 'vipco', 'gawi', 'freccia', 'wtc1', 'irit', 'thalman', 'alyce', \"o'hurley\", '27th', 'roseaux', 'auscrit', 'monahan', 'duning', 'carfax', 'it.i', 'halley', 'delmer', 'zano', '1,5', 'tonti', 'toler', 'bhumika', 'gurns', 'jeannot', 'cheapjack', 'charecters', 'pecos', 'helin', 'macauley', 'algerian', 'tawnee', 'deadeningly', 'loman', 'rumiko', 'saotome', 'paxson', 'petzold', 'mclagen', 'neikov', 'mesopotamia', 'panamanian', '10x', 'princesse', 'alwina', 'bisset', 'sandoval', 'trant', 'karla', 'anjos', 'zsa', 'diahann', 'rachels', 'ayats', 'speredakos', 'everingham', 'haldeman', 'odile', '1881', 'genji', 'gojo', 'lelia', 'lampidorra', 'lampidorrans', 'tristram', 'bii', 'lucianna', 'aldolpho', 'cardella', 'kacey', 'dullea', 'hoyos', '1846', 'gonzalo', 'jonesy', 'elke', 'croat', 'kipps', 'crythin', 'vilgot', 'nyu', 'rivero', 'shepis', 'whitelaw', 'weems', 'marv', 'kove', 'smap', 'rutina', 'rivi', 'ryosuke', 'rouncewell', 'salvatore', 'budd', 'irr', 'versible', 'doran', 'searcy', 'megyn', '128', 'cannell', '147', 'popistasu', 'youngblood', 'jerzy', 'premchand', 'minerva', 'urecal', 'antonin', 'imzadi', 'plagiarised', 'tosha', 'erikkson', 'haje', 'nomolos', 'temuco', 'urf', 'uschi', 'matewan', 'assante', 'mysterio', 'ciro', 's.i.c.k', 'pileggi', '5.4', 'rydell', '49th', 'tuskan', 'huiti', 'guilgud', 'ramotswe', 'makutsi', 'cornette', 'tatanka', \"goaul'd\", 'kensington', 'japenese', 'farr', 'bellucci', '90mins', 'gogh', 'hendrick', 'haese', 'paull', 'steckler', 'caprio', 'whitehall', 'rimi', 'mccann', 'gibbler', 'reguera', 'scotts', 'barnum', 'hollis', '2.6', 'kraakman', 'johanna', 'diabolique', '2012', 'daisey', 'yoshimura', 'nancherrow', 'toola', 'stanislavsky', 'mitb', '4.0', 'guinn', 'ventresca', 'bochner', 'supranatural', 'oldboy', 'berle', 'fresson', 'greenman', 'kaminsky', 'liszt', 'wkrp', '8.75', '275', 'tenenbaums', 'englishwoman', 'anhalt', 'britcoms', 'bi1', 'sandell', 'berlinale', 'winstons', 'calloway', 'bojangles', 'rifkin', 'tarquin', 'sheilah', 'pascoe', 'whelan', 'oppenheimer', 'tsiang', 'zhuangzhuang', 'lanter', 'ortolani', 'einon', 'niz', 'bayldon', 'bresslaw', 'hawtrey', 'enya', 'walbrook', 'geena', 'schwarzenberg', 'rner', 'gottowt', 'stellan', 'seeber', 'seidelman', 'chimayo', 'mymovies', 'list?l', 'signorelli', '6000', 'olaf', 'jims', 'anarene', 'bhodi', 'esmeralda', 'phoebus', 'waterford', 'cassi', 'hawes', 'boomslang', 'aquafresh', 'steinmann', 'bridgers', 'nogales', 'samwise', 'xico', 'silvestre', 'parolini', 'earley', 'fatih', 'genevieve', 'clytemnestra', 'rowlf', '451', 'pepin', 'cazal', 'decca', 'bilcock', 'gorcey', 'stuttgart', 'cambpell', 'anjelica', 'ragneks', 'excorcist', 'phoenixville', 'horts', 'machu', 'polanksi', 'clarks', 'erbe', '1836', '1850s', 'sen.', 'pardu', 'dogtown', 'condieff', 'lansford', \"o'byrne\", 'kady', 'ondrej', 'zdenek', 'packard', 'enix', 'lemorande', 'thuggie', 'muckerji', 'guevarra', 'algy', 'fatone', 'calrissian', 'andreeff', 'gaira', 'zeb', 'pinnochio', 'quartermain', 'omirus', 'hamdi', 'macallum', 'jutta', 'lampe', 'schade', 'svea', 'hallan', \"d'orleans\", 'bernson', 'ferula', '00am', 'ludlow', 'moliere', 'aramaic', 'inslee', 'tulkinhorn', 'hagerty', 'broklynese', 'ghidrah', 'zb3', 'salgueiro', 'yamasato', 'atenborough', 'linz', 'kazzam', 'taos', 'forbrydelsens', 'barris', 'internalised', 'goodwin', 'sandrine', 'kiberlain', 'mehra', 'shashi', 'devgun', 'northfield', 'platte', 'isoyc', 'ipoyg', 'aod', 'eidos', 'hilbrand', 'buckner', 'undertext', 'newgrounds', '136', 'nibelungs', 'hauptmann', 'sat1', 'capomezza', 'funney', 'tamiyo', 'kusakari', 'desilva', '6.8', 'viren', 'sahay', 'c.g.i.', 'bellerophon', 'voerhoven', 'sothern', 'diamantino', '100.000', 'iritf', 'albans', 'mindf', 'rodolfo', 'zemen', 'onegin', 'great!.', 'kels', 'zacharias', 'anaesthetic', 'francen', 'carthage', 'yonekura', 'leto', 'ocron', 'eeeb', 'boultings', 'pekinpah', 'hardcastle', 'pochath', 'deville', 'katsopolis', 'gladstone', 'beamont', 'sarlacc', 'callarn', 'harbou', 'seville', 'holywell', '10.7', 'lakehurst', 'takenaka', 'frain', 'dardano', 'sacchetti', 'annamarie', 'digisoft', 'oberoi', 'superegos', 'krisak', 'griswolds', 'beringer', 'rfd', 'masiela', 'lusha', 'dehumanising', 'mihic', 'wurlitzer', 'andoheb', 'hessians', 'yali', 'tsh', 'dzundza', 'konchalovksy', 'armourae', 'crisanti', 'sorbo', 'bucke', 'tywker', 'waldermar', 'lucaitis', 'bogdonavich', 'vanne', 'zizola', 'mirai', 'shayne', 'congorilla', 'slitheen', 'wheezer', 'estev', 'whishaw', 'jenni', 'gojitmal', 'lecarre', 'renn', 'itier', 'tendres', 'cousines', 'infierno', 'jaemin', 'sumin', 'mockage', 'sione', 'raghavan', 'slovenians', 'vukovar', 'magalh', 'lmotp', 'msb', '10,000.00', 'hemlich']\n"
     ]
    }
   ],
   "source": [
    "embedding_weights = create_embedding_matrix(wv_model, int2word_hash, verbose=True)"
   ]
  },
  {
   "cell_type": "markdown",
   "metadata": {},
   "source": [
    "### Generate Model Architecture"
   ]
  },
  {
   "cell_type": "code",
   "execution_count": 80,
   "metadata": {
    "collapsed": true
   },
   "outputs": [],
   "source": [
    "from keras.models import Model, load_model\n",
    "from keras.layers import Input, Embedding, GlobalMaxPool1D, GlobalAvgPool1D, Dense, Dropout, Conv1D, concatenate, LSTM, Bidirectional, BatchNormalization, Layer\n",
    "from keras.regularizers import l2\n",
    "from keras import initializers, regularizers, constraints\n",
    "from keras.callbacks import EarlyStopping, ModelCheckpoint\n",
    "from keras.optimizers import SGD, Adam\n",
    "from keras import backend as K"
   ]
  },
  {
   "cell_type": "code",
   "execution_count": 139,
   "metadata": {
    "collapsed": true
   },
   "outputs": [],
   "source": [
    "EMBED_SIZE = wv_model.vector_size\n",
    "N_CLASSES = y_train.shape[1]\n",
    "MAX_FEATURES = embedding_weights.shape[0]\n",
    "HIDDEN_LAYER_SIZE = 128\n",
    "\n",
    "\n",
    "def create_model(MAX_LEN, MAX_FEATURES, EMBED_SIZE, HIDDEN_LAYER_SIZE, N_CLASSES, embedding_weights=None,\n",
    "                 embedding_trainable=False, global_max_avg = 'max', learning_rate=0.0001):\n",
    "    input_sequence = Input(shape=(MAX_LEN, ))\n",
    "    \n",
    "    x = Embedding(input_dim=MAX_FEATURES, output_dim=EMBED_SIZE, mask_zero=False, weights=[embedding_weights],\n",
    "                  trainable=embedding_trainable)(input_sequence)\n",
    "    if global_max_avg == 'max':\n",
    "        x = GlobalMaxPool1D()(x)\n",
    "    else:\n",
    "        x = GlobalAvgPool1D()(x)\n",
    "    x = Dense(HIDDEN_LAYER_SIZE, activation='relu')(x)\n",
    "    prediction = Dense(N_CLASSES, activation=\"softmax\")(x)\n",
    "    \n",
    "    opt = Adam(lr=learning_rate)\n",
    "    \n",
    "    model = Model(inputs=input_sequence, outputs=prediction)\n",
    "    model.compile(loss='categorical_crossentropy',\n",
    "                  optimizer=opt,\n",
    "                  metrics=['accuracy'])\n",
    "\n",
    "    return model"
   ]
  },
  {
   "cell_type": "code",
   "execution_count": 140,
   "metadata": {
    "collapsed": true
   },
   "outputs": [],
   "source": [
    "model = create_model(MAX_LEN, MAX_FEATURES, EMBED_SIZE, HIDDEN_LAYER_SIZE, N_CLASSES,\n",
    "                     embedding_weights=embedding_weights, embedding_trainable=False, global_max_avg = 'avg', \n",
    "                     learning_rate=0.001)"
   ]
  },
  {
   "cell_type": "code",
   "execution_count": 141,
   "metadata": {},
   "outputs": [
    {
     "name": "stdout",
     "output_type": "stream",
     "text": [
      "_________________________________________________________________\n",
      "Layer (type)                 Output Shape              Param #   \n",
      "=================================================================\n",
      "input_21 (InputLayer)        (None, 200)               0         \n",
      "_________________________________________________________________\n",
      "embedding_21 (Embedding)     (None, 200, 300)          11463900  \n",
      "_________________________________________________________________\n",
      "global_average_pooling1d_10  (None, 300)               0         \n",
      "_________________________________________________________________\n",
      "dense_37 (Dense)             (None, 128)               38528     \n",
      "_________________________________________________________________\n",
      "dense_38 (Dense)             (None, 2)                 258       \n",
      "=================================================================\n",
      "Total params: 11,502,686\n",
      "Trainable params: 38,786\n",
      "Non-trainable params: 11,463,900\n",
      "_________________________________________________________________\n"
     ]
    }
   ],
   "source": [
    "model.summary()"
   ]
  },
  {
   "cell_type": "markdown",
   "metadata": {},
   "source": [
    "### Train Model"
   ]
  },
  {
   "cell_type": "code",
   "execution_count": 142,
   "metadata": {
    "collapsed": true
   },
   "outputs": [],
   "source": [
    "from sklearn.metrics import classification_report, precision_recall_fscore_support, roc_auc_score"
   ]
  },
  {
   "cell_type": "code",
   "execution_count": 149,
   "metadata": {
    "collapsed": true
   },
   "outputs": [],
   "source": [
    "BATCH_SIZE = 1024\n",
    "EPOCHS = 300\n",
    "FILE_PATH = \"models/keras_model_weights.hdf5\"\n",
    "checkpoint = ModelCheckpoint(FILE_PATH, monitor='val_loss', verbose=1, save_best_only=True, mode='min')\n",
    "early = EarlyStopping(monitor=\"val_loss\", mode=\"min\", patience=10)\n",
    "callbacks_list = [checkpoint, early]"
   ]
  },
  {
   "cell_type": "code",
   "execution_count": 150,
   "metadata": {
    "scrolled": false
   },
   "outputs": [
    {
     "name": "stdout",
     "output_type": "stream",
     "text": [
      "Train on 23750 samples, validate on 1250 samples\n",
      "Epoch 1/300\n",
      "22528/23750 [===========================>..] - ETA: 0s - loss: 0.3159 - acc: 0.8635\n",
      "Epoch 00001: val_loss improved from inf to 0.34256, saving model to models/keras_model_weights.hdf5\n",
      "23750/23750 [==============================] - 1s 49us/step - loss: 0.3165 - acc: 0.8626 - val_loss: 0.3426 - val_acc: 0.8512\n",
      "Epoch 2/300\n",
      "22528/23750 [===========================>..] - ETA: 0s - loss: 0.3164 - acc: 0.8642\n",
      "Epoch 00002: val_loss did not improve\n",
      "23750/23750 [==============================] - 0s 8us/step - loss: 0.3158 - acc: 0.8648 - val_loss: 0.3431 - val_acc: 0.8504\n",
      "Epoch 3/300\n",
      "22528/23750 [===========================>..] - ETA: 0s - loss: 0.3168 - acc: 0.8631\n",
      "Epoch 00003: val_loss improved from 0.34256 to 0.34144, saving model to models/keras_model_weights.hdf5\n",
      "23750/23750 [==============================] - 0s 11us/step - loss: 0.3155 - acc: 0.8637 - val_loss: 0.3414 - val_acc: 0.8528\n",
      "Epoch 4/300\n",
      "22528/23750 [===========================>..] - ETA: 0s - loss: 0.3150 - acc: 0.8643\n",
      "Epoch 00004: val_loss did not improve\n",
      "23750/23750 [==============================] - 0s 8us/step - loss: 0.3147 - acc: 0.8638 - val_loss: 0.3415 - val_acc: 0.8496\n",
      "Epoch 5/300\n",
      "22528/23750 [===========================>..] - ETA: 0s - loss: 0.3152 - acc: 0.8630\n",
      "Epoch 00005: val_loss did not improve\n",
      "23750/23750 [==============================] - 0s 9us/step - loss: 0.3146 - acc: 0.8630 - val_loss: 0.3421 - val_acc: 0.8488\n",
      "Epoch 6/300\n",
      "22528/23750 [===========================>..] - ETA: 0s - loss: 0.3147 - acc: 0.8634\n",
      "Epoch 00006: val_loss did not improve\n",
      "23750/23750 [==============================] - 0s 8us/step - loss: 0.3147 - acc: 0.8633 - val_loss: 0.3415 - val_acc: 0.8536\n",
      "Epoch 7/300\n",
      "22528/23750 [===========================>..] - ETA: 0s - loss: 0.3149 - acc: 0.8640\n",
      "Epoch 00007: val_loss did not improve\n",
      "23750/23750 [==============================] - 0s 8us/step - loss: 0.3139 - acc: 0.8645 - val_loss: 0.3425 - val_acc: 0.8528\n",
      "Epoch 8/300\n",
      "21504/23750 [==========================>...] - ETA: 0s - loss: 0.3138 - acc: 0.8648\n",
      "Epoch 00008: val_loss did not improve\n",
      "23750/23750 [==============================] - 0s 9us/step - loss: 0.3137 - acc: 0.8645 - val_loss: 0.3420 - val_acc: 0.8488\n",
      "Epoch 9/300\n",
      "22528/23750 [===========================>..] - ETA: 0s - loss: 0.3132 - acc: 0.8632\n",
      "Epoch 00009: val_loss did not improve\n",
      "23750/23750 [==============================] - 0s 8us/step - loss: 0.3138 - acc: 0.8633 - val_loss: 0.3416 - val_acc: 0.8512\n",
      "Epoch 10/300\n",
      "22528/23750 [===========================>..] - ETA: 0s - loss: 0.3128 - acc: 0.8656\n",
      "Epoch 00010: val_loss did not improve\n",
      "23750/23750 [==============================] - 0s 8us/step - loss: 0.3132 - acc: 0.8651 - val_loss: 0.3416 - val_acc: 0.8488\n",
      "Epoch 11/300\n",
      "22528/23750 [===========================>..] - ETA: 0s - loss: 0.3132 - acc: 0.8649\n",
      "Epoch 00011: val_loss improved from 0.34144 to 0.34118, saving model to models/keras_model_weights.hdf5\n",
      "23750/23750 [==============================] - 0s 12us/step - loss: 0.3126 - acc: 0.8653 - val_loss: 0.3412 - val_acc: 0.8488\n",
      "Epoch 12/300\n",
      "22528/23750 [===========================>..] - ETA: 0s - loss: 0.3132 - acc: 0.8646\n",
      "Epoch 00012: val_loss did not improve\n",
      "23750/23750 [==============================] - 0s 8us/step - loss: 0.3126 - acc: 0.8651 - val_loss: 0.3429 - val_acc: 0.8528\n",
      "Epoch 13/300\n",
      "21504/23750 [==========================>...] - ETA: 0s - loss: 0.3116 - acc: 0.8652\n",
      "Epoch 00013: val_loss did not improve\n",
      "23750/23750 [==============================] - 0s 8us/step - loss: 0.3130 - acc: 0.8644 - val_loss: 0.3415 - val_acc: 0.8520\n",
      "Epoch 14/300\n",
      "21504/23750 [==========================>...] - ETA: 0s - loss: 0.3119 - acc: 0.8647\n",
      "Epoch 00014: val_loss improved from 0.34118 to 0.34088, saving model to models/keras_model_weights.hdf5\n",
      "23750/23750 [==============================] - 0s 11us/step - loss: 0.3125 - acc: 0.8649 - val_loss: 0.3409 - val_acc: 0.8488\n",
      "Epoch 15/300\n",
      "22528/23750 [===========================>..] - ETA: 0s - loss: 0.3110 - acc: 0.8667\n",
      "Epoch 00015: val_loss did not improve\n",
      "23750/23750 [==============================] - 0s 8us/step - loss: 0.3121 - acc: 0.8663 - val_loss: 0.3409 - val_acc: 0.8496\n",
      "Epoch 16/300\n",
      "22528/23750 [===========================>..] - ETA: 0s - loss: 0.3130 - acc: 0.8639\n",
      "Epoch 00016: val_loss did not improve\n",
      "23750/23750 [==============================] - 0s 8us/step - loss: 0.3124 - acc: 0.8645 - val_loss: 0.3427 - val_acc: 0.8496\n",
      "Epoch 17/300\n",
      "22528/23750 [===========================>..] - ETA: 0s - loss: 0.3124 - acc: 0.8642\n",
      "Epoch 00017: val_loss did not improve\n",
      "23750/23750 [==============================] - 0s 8us/step - loss: 0.3119 - acc: 0.8644 - val_loss: 0.3417 - val_acc: 0.8536\n",
      "Epoch 18/300\n",
      "22528/23750 [===========================>..] - ETA: 0s - loss: 0.3118 - acc: 0.8648\n",
      "Epoch 00018: val_loss did not improve\n",
      "23750/23750 [==============================] - 0s 8us/step - loss: 0.3115 - acc: 0.8653 - val_loss: 0.3416 - val_acc: 0.8512\n",
      "Epoch 19/300\n",
      "22528/23750 [===========================>..] - ETA: 0s - loss: 0.3112 - acc: 0.8653\n",
      "Epoch 00019: val_loss improved from 0.34088 to 0.34077, saving model to models/keras_model_weights.hdf5\n",
      "23750/23750 [==============================] - 0s 11us/step - loss: 0.3109 - acc: 0.8656 - val_loss: 0.3408 - val_acc: 0.8488\n",
      "Epoch 20/300\n",
      "22528/23750 [===========================>..] - ETA: 0s - loss: 0.3107 - acc: 0.8646\n",
      "Epoch 00020: val_loss did not improve\n",
      "23750/23750 [==============================] - 0s 8us/step - loss: 0.3110 - acc: 0.8653 - val_loss: 0.3415 - val_acc: 0.8512\n",
      "Epoch 21/300\n",
      "22528/23750 [===========================>..] - ETA: 0s - loss: 0.3103 - acc: 0.8656\n",
      "Epoch 00021: val_loss did not improve\n",
      "23750/23750 [==============================] - 0s 8us/step - loss: 0.3102 - acc: 0.8654 - val_loss: 0.3429 - val_acc: 0.8520\n",
      "Epoch 22/300\n",
      "21504/23750 [==========================>...] - ETA: 0s - loss: 0.3103 - acc: 0.8661\n",
      "Epoch 00022: val_loss did not improve\n",
      "23750/23750 [==============================] - 0s 8us/step - loss: 0.3107 - acc: 0.8661 - val_loss: 0.3417 - val_acc: 0.8504\n",
      "Epoch 23/300\n",
      "22528/23750 [===========================>..] - ETA: 0s - loss: 0.3127 - acc: 0.8652\n",
      "Epoch 00023: val_loss did not improve\n",
      "23750/23750 [==============================] - 0s 8us/step - loss: 0.3120 - acc: 0.8655 - val_loss: 0.3425 - val_acc: 0.8552\n",
      "Epoch 24/300\n",
      "23552/23750 [============================>.] - ETA: 0s - loss: 0.3105 - acc: 0.8657\n",
      "Epoch 00024: val_loss did not improve\n",
      "23750/23750 [==============================] - 0s 8us/step - loss: 0.3102 - acc: 0.8659 - val_loss: 0.3426 - val_acc: 0.8512\n",
      "Epoch 25/300\n",
      "22528/23750 [===========================>..] - ETA: 0s - loss: 0.3098 - acc: 0.8665\n",
      "Epoch 00025: val_loss did not improve\n",
      "23750/23750 [==============================] - 0s 8us/step - loss: 0.3107 - acc: 0.8660 - val_loss: 0.3418 - val_acc: 0.8512\n",
      "Epoch 26/300\n",
      "22528/23750 [===========================>..] - ETA: 0s - loss: 0.3076 - acc: 0.8671\n",
      "Epoch 00026: val_loss did not improve\n",
      "23750/23750 [==============================] - 0s 8us/step - loss: 0.3092 - acc: 0.8661 - val_loss: 0.3417 - val_acc: 0.8520\n",
      "Epoch 27/300\n",
      "22528/23750 [===========================>..] - ETA: 0s - loss: 0.3081 - acc: 0.8659\n",
      "Epoch 00027: val_loss did not improve\n",
      "23750/23750 [==============================] - 0s 8us/step - loss: 0.3092 - acc: 0.8658 - val_loss: 0.3418 - val_acc: 0.8512\n",
      "Epoch 28/300\n",
      "21504/23750 [==========================>...] - ETA: 0s - loss: 0.3087 - acc: 0.8662\n",
      "Epoch 00028: val_loss did not improve\n",
      "23750/23750 [==============================] - 0s 8us/step - loss: 0.3088 - acc: 0.8660 - val_loss: 0.3413 - val_acc: 0.8520\n",
      "Epoch 29/300\n",
      "22528/23750 [===========================>..] - ETA: 0s - loss: 0.3088 - acc: 0.8663\n",
      "Epoch 00029: val_loss did not improve\n",
      "23750/23750 [==============================] - 0s 8us/step - loss: 0.3085 - acc: 0.8666 - val_loss: 0.3420 - val_acc: 0.8520\n"
     ]
    },
    {
     "data": {
      "text/plain": [
       "<keras.callbacks.History at 0x7f3cac7fdb70>"
      ]
     },
     "execution_count": 150,
     "metadata": {},
     "output_type": "execute_result"
    }
   ],
   "source": [
    "model.fit(X_train, y_train,\n",
    "          batch_size=BATCH_SIZE,\n",
    "          epochs=EPOCHS,\n",
    "          validation_data=[X_val, y_val],\n",
    "          callbacks=callbacks_list)"
   ]
  },
  {
   "cell_type": "code",
   "execution_count": 151,
   "metadata": {
    "collapsed": true
   },
   "outputs": [],
   "source": [
    "model = load_model(FILE_PATH)\n",
    "y_hat = model.predict(X_test)\n",
    "y_hat = y_hat[:,1] "
   ]
  },
  {
   "cell_type": "code",
   "execution_count": 153,
   "metadata": {},
   "outputs": [
    {
     "name": "stdout",
     "output_type": "stream",
     "text": [
      "             precision    recall  f1-score   support\n",
      "\n",
      "          0       0.85      0.85      0.85     12500\n",
      "          1       0.85      0.85      0.85     12500\n",
      "\n",
      "avg / total       0.85      0.85      0.85     25000\n",
      "\n"
     ]
    }
   ],
   "source": [
    "print(classification_report(y_test[:,1], y_hat > 0.5))"
   ]
  },
  {
   "cell_type": "code",
   "execution_count": null,
   "metadata": {
    "collapsed": true
   },
   "outputs": [],
   "source": [
    "scores = precision_recall_fscore_support(y_test[:,1], y_hat > 0.5)\n",
    "roc = roc_auc_score(y_test[:,1], y_hat)\n",
    "print(scores, roc)"
   ]
  },
  {
   "cell_type": "markdown",
   "metadata": {},
   "source": [
    "### Create Benchmarks"
   ]
  },
  {
   "cell_type": "code",
   "execution_count": 46,
   "metadata": {
    "collapsed": true
   },
   "outputs": [],
   "source": [
    "from sklearn.metrics import classification_report, precision_recall_fscore_support, roc_auc_score"
   ]
  },
  {
   "cell_type": "code",
   "execution_count": 105,
   "metadata": {
    "collapsed": true
   },
   "outputs": [],
   "source": [
    "EMBED_SIZE = wv_model.vector_size\n",
    "N_CLASSES = y_train.shape[1]\n",
    "MAX_FEATURES = embedding_weights.shape[0]\n",
    "HIDDEN_LAYER_SIZE = 128\n",
    "\n",
    "def create_model(MAX_LEN, MAX_FEATURES, EMBED_SIZE, HIDDEN_LAYER_SIZE, N_CLASSES, embedding_weights=None, embedding_trainable=False, global_max_avg = 'max', learning_rate=0.0001):\n",
    "    input_sequence = Input(shape=(MAX_LEN, ))\n",
    "    if embedding_weights is not None:\n",
    "        x = Embedding(input_dim=MAX_FEATURES, output_dim=EMBED_SIZE, mask_zero=False, weights=[embedding_weights], trainable=embedding_trainable)(input_sequence)\n",
    "    else:\n",
    "        x = Embedding(input_dim=MAX_FEATURES, output_dim=EMBED_SIZE, mask_zero=False, trainable=embedding_trainable)(input_sequence)\n",
    "    if global_max_avg == 'max':\n",
    "        x = GlobalMaxPool1D()(x)\n",
    "    else:\n",
    "        x = GlobalAvgPool1D()(x)\n",
    "    x = Dense(HIDDEN_LAYER_SIZE, activation='relu')(x)\n",
    "    prediction = Dense(N_CLASSES, activation=\"softmax\")(x)\n",
    "    \n",
    "    opt = Adam(lr=learning_rate)\n",
    "    \n",
    "    model = Model(inputs=input_sequence, outputs=prediction)\n",
    "    model.compile(loss='categorical_crossentropy',\n",
    "                  optimizer=opt,\n",
    "                  metrics=['accuracy'])\n",
    "\n",
    "    return model"
   ]
  },
  {
   "cell_type": "code",
   "execution_count": 106,
   "metadata": {
    "collapsed": true
   },
   "outputs": [],
   "source": [
    "wv_conf_list = [['./wordvectors/glove.6B.50d.w2v', False,'max'],\n",
    "                ['./wordvectors/glove.6B.50d.w2v', False,'avg'],\n",
    "                ['./wordvectors/glove.6B.100d.w2v', False,'max'],\n",
    "                ['./wordvectors/glove.6B.100d.w2v', False,'avg'],\n",
    "                ['./wordvectors/glove.6B.200d.w2v', False,'max'],\n",
    "                ['./wordvectors/glove.6B.200d.w2v', False,'avg'],\n",
    "                ['./wordvectors/glove.6B.300d.w2v', False,'max'],\n",
    "                ['./wordvectors/glove.6B.300d.w2v', False,'avg'],\n",
    "                ['./wordvectors/GoogleNews-vectors-negative300.bin', True,'max'],\n",
    "                ['./wordvectors/GoogleNews-vectors-negative300.bin', True,'avg']]"
   ]
  },
  {
   "cell_type": "code",
   "execution_count": 107,
   "metadata": {
    "collapsed": true
   },
   "outputs": [],
   "source": [
    "score_data = list()"
   ]
  },
  {
   "cell_type": "code",
   "execution_count": 109,
   "metadata": {},
   "outputs": [
    {
     "name": "stdout",
     "output_type": "stream",
     "text": [
      "Working on: ['./wordvectors/glove.6B.50d.w2v', False, 'max']\n",
      "(array([ 0.66845821,  0.66754428]), array([ 0.66664,  0.66936]), array([ 0.66754787,  0.66845091]), array([12500, 12500])) 0.7317583072\n",
      "Working on: ['./wordvectors/glove.6B.50d.w2v', False, 'avg']\n",
      "(array([ 0.76472012,  0.76043485]), array([ 0.75848,  0.76664]), array([ 0.76158728,  0.76352482]), array([12500, 12500])) 0.840850896\n",
      "Working on: ['./wordvectors/glove.6B.100d.w2v', False, 'max']\n",
      "(array([ 0.66478448,  0.66674714]), array([ 0.66872,  0.6628 ]), array([ 0.66674643,  0.66476771]), array([12500, 12500])) 0.729790272\n",
      "Working on: ['./wordvectors/glove.6B.100d.w2v', False, 'avg']\n",
      "(array([ 0.79032131,  0.79818373]), array([ 0.80088,  0.78752]), array([ 0.79556562,  0.79281601]), array([12500, 12500])) 0.875089632\n",
      "Working on: ['./wordvectors/glove.6B.200d.w2v', False, 'max']\n",
      "(array([ 0.70281029,  0.70479942]), array([ 0.70624,  0.70136]), array([ 0.70452097,  0.7030755 ]), array([12500, 12500])) 0.7744384672\n",
      "Working on: ['./wordvectors/glove.6B.200d.w2v', False, 'avg']\n",
      "(array([ 0.82659194,  0.81691362]), array([ 0.81416,  0.8292 ]), array([ 0.82032887,  0.82301096]), array([12500, 12500])) 0.9039852928\n",
      "Working on: ['./wordvectors/glove.6B.300d.w2v', False, 'max']\n",
      "(array([ 0.74119398,  0.72601891]), array([ 0.71712,  0.7496 ]), array([ 0.72895828,  0.73762103]), array([12500, 12500])) 0.810728336\n",
      "Working on: ['./wordvectors/glove.6B.300d.w2v', False, 'avg']\n",
      "(array([ 0.83168475,  0.83360077]), array([ 0.83408,  0.8312 ]), array([ 0.83288065,  0.83239865]), array([12500, 12500])) 0.9128685888\n",
      "Working on: ['./wordvectors/GoogleNews-vectors-negative300.bin', True, 'max']\n",
      "(array([ 0.75180005,  0.73554231]), array([ 0.72672,  0.76008]), array([ 0.73904731,  0.74760987]), array([12500, 12500])) 0.8257775744\n",
      "Working on: ['./wordvectors/GoogleNews-vectors-negative300.bin', True, 'avg']\n",
      "(array([ 0.85151149,  0.84620881]), array([ 0.84504,  0.85264]), array([ 0.8482634 ,  0.84941223]), array([12500, 12500])) 0.92669992\n"
     ]
    }
   ],
   "source": [
    "for item in wv_conf_list:\n",
    "    print('Working on: '+str(item))\n",
    "    wv_model = gensim.models.KeyedVectors.load_word2vec_format(item[0], binary=item[1])\n",
    "    embedding_weights = create_embedding_matrix(wv_model, int2word_hash, verbose=False)\n",
    "    EMBED_SIZE = wv_model.vector_size\n",
    "    N_CLASSES = y_train.shape[1]\n",
    "    MAX_FEATURES = embedding_weights.shape[0]\n",
    "    HIDDEN_LAYER_SIZE = 128\n",
    "    \n",
    "    model = create_model(MAX_LEN, MAX_FEATURES, EMBED_SIZE, HIDDEN_LAYER_SIZE, N_CLASSES,\n",
    "                     embedding_weights=embedding_weights, embedding_trainable=False, global_max_avg=item[2], \n",
    "                     learning_rate=0.001)\n",
    "    \n",
    "    BATCH_SIZE = 1024\n",
    "    EPOCHS = 500\n",
    "    FILE_PATH = \"models/keras_model_weights.hdf5\"\n",
    "    checkpoint = ModelCheckpoint(FILE_PATH, monitor='val_loss', verbose=0, save_best_only=True, mode='min')\n",
    "    early = EarlyStopping(monitor=\"val_loss\", mode=\"min\", patience=15)\n",
    "    callbacks_list = [checkpoint, early]\n",
    "    \n",
    "    model.fit(X_train, y_train,\n",
    "          batch_size=BATCH_SIZE,\n",
    "          epochs=EPOCHS,\n",
    "          validation_data=[X_val, y_val],\n",
    "          callbacks=callbacks_list, verbose=0)\n",
    "    \n",
    "    model = load_model(FILE_PATH)\n",
    "    y_hat = model.predict(X_test)\n",
    "    y_hat = y_hat[:,1] \n",
    "    scores = precision_recall_fscore_support(y_test[:,1], y_hat > 0.5)\n",
    "    roc = roc_auc_score(y_test[:,1], y_hat)\n",
    "    print(scores, roc)\n",
    "    score_data.append([item, scores, roc])"
   ]
  },
  {
   "cell_type": "code",
   "execution_count": 111,
   "metadata": {},
   "outputs": [
    {
     "name": "stdout",
     "output_type": "stream",
     "text": [
      "_________________________________________________________________\n",
      "Layer (type)                 Output Shape              Param #   \n",
      "=================================================================\n",
      "input_16 (InputLayer)        (None, 200)               0         \n",
      "_________________________________________________________________\n",
      "embedding_16 (Embedding)     (None, 200, 300)          11463900  \n",
      "_________________________________________________________________\n",
      "global_average_pooling1d_6 ( (None, 300)               0         \n",
      "_________________________________________________________________\n",
      "dense_27 (Dense)             (None, 128)               38528     \n",
      "_________________________________________________________________\n",
      "dense_28 (Dense)             (None, 2)                 258       \n",
      "=================================================================\n",
      "Total params: 11,502,686\n",
      "Trainable params: 38,786\n",
      "Non-trainable params: 11,463,900\n",
      "_________________________________________________________________\n"
     ]
    }
   ],
   "source": [
    "model.summary()"
   ]
  },
  {
   "cell_type": "code",
   "execution_count": 110,
   "metadata": {},
   "outputs": [
    {
     "data": {
      "text/plain": [
       "[[['./wordvectors/glove.6B.50d.w2v', False, 'max'],\n",
       "  (array([ 0.66845821,  0.66754428]),\n",
       "   array([ 0.66664,  0.66936]),\n",
       "   array([ 0.66754787,  0.66845091]),\n",
       "   array([12500, 12500])),\n",
       "  0.73175830720000001],\n",
       " [['./wordvectors/glove.6B.50d.w2v', False, 'avg'],\n",
       "  (array([ 0.76472012,  0.76043485]),\n",
       "   array([ 0.75848,  0.76664]),\n",
       "   array([ 0.76158728,  0.76352482]),\n",
       "   array([12500, 12500])),\n",
       "  0.84085089599999996],\n",
       " [['./wordvectors/glove.6B.100d.w2v', False, 'max'],\n",
       "  (array([ 0.66478448,  0.66674714]),\n",
       "   array([ 0.66872,  0.6628 ]),\n",
       "   array([ 0.66674643,  0.66476771]),\n",
       "   array([12500, 12500])),\n",
       "  0.72979027200000002],\n",
       " [['./wordvectors/glove.6B.100d.w2v', False, 'avg'],\n",
       "  (array([ 0.79032131,  0.79818373]),\n",
       "   array([ 0.80088,  0.78752]),\n",
       "   array([ 0.79556562,  0.79281601]),\n",
       "   array([12500, 12500])),\n",
       "  0.8750896319999999],\n",
       " [['./wordvectors/glove.6B.200d.w2v', False, 'max'],\n",
       "  (array([ 0.70281029,  0.70479942]),\n",
       "   array([ 0.70624,  0.70136]),\n",
       "   array([ 0.70452097,  0.7030755 ]),\n",
       "   array([12500, 12500])),\n",
       "  0.77443846720000009],\n",
       " [['./wordvectors/glove.6B.200d.w2v', False, 'avg'],\n",
       "  (array([ 0.82659194,  0.81691362]),\n",
       "   array([ 0.81416,  0.8292 ]),\n",
       "   array([ 0.82032887,  0.82301096]),\n",
       "   array([12500, 12500])),\n",
       "  0.90398529279999995],\n",
       " [['./wordvectors/glove.6B.300d.w2v', False, 'max'],\n",
       "  (array([ 0.74119398,  0.72601891]),\n",
       "   array([ 0.71712,  0.7496 ]),\n",
       "   array([ 0.72895828,  0.73762103]),\n",
       "   array([12500, 12500])),\n",
       "  0.81072833600000005],\n",
       " [['./wordvectors/glove.6B.300d.w2v', False, 'avg'],\n",
       "  (array([ 0.83168475,  0.83360077]),\n",
       "   array([ 0.83408,  0.8312 ]),\n",
       "   array([ 0.83288065,  0.83239865]),\n",
       "   array([12500, 12500])),\n",
       "  0.91286858879999988],\n",
       " [['./wordvectors/GoogleNews-vectors-negative300.bin', True, 'max'],\n",
       "  (array([ 0.75180005,  0.73554231]),\n",
       "   array([ 0.72672,  0.76008]),\n",
       "   array([ 0.73904731,  0.74760987]),\n",
       "   array([12500, 12500])),\n",
       "  0.82577757439999999],\n",
       " [['./wordvectors/GoogleNews-vectors-negative300.bin', True, 'avg'],\n",
       "  (array([ 0.85151149,  0.84620881]),\n",
       "   array([ 0.84504,  0.85264]),\n",
       "   array([ 0.8482634 ,  0.84941223]),\n",
       "   array([12500, 12500])),\n",
       "  0.92669992000000001]]"
      ]
     },
     "execution_count": 110,
     "metadata": {},
     "output_type": "execute_result"
    }
   ],
   "source": [
    "score_data"
   ]
  },
  {
   "cell_type": "markdown",
   "metadata": {},
   "source": [
    "### Shrink Word Vector Size"
   ]
  },
  {
   "cell_type": "code",
   "execution_count": null,
   "metadata": {
    "collapsed": true
   },
   "outputs": [],
   "source": [
    "N_CLASSES = y_train.shape[1]\n",
    "MAX_FEATURES = embedding_weights.shape[0]\n",
    "HIDDEN_LAYER_SIZE = 128\n",
    "\n",
    "def create_model(MAX_LEN, MAX_FEATURES, EMBED_SIZE, HIDDEN_LAYER_SIZE, N_CLASSES, global_max_avg='max', learning_rate=0.0001):\n",
    "    input_sequence = Input(shape=(MAX_LEN, ))\n",
    "    x = Embedding(input_dim=MAX_FEATURES, output_dim=EMBED_SIZE, mask_zero=False, trainable=True)(input_sequence)\n",
    "    if global_max_avg == 'max':\n",
    "        x = GlobalMaxPool1D()(x)\n",
    "    else:\n",
    "        x = GlobalAvgPool1D()(x)\n",
    "    x = Dense(HIDDEN_LAYER_SIZE, activation='relu')(x)\n",
    "    prediction = Dense(N_CLASSES, activation=\"softmax\")(x)\n",
    "    \n",
    "    opt = Adam(lr=learning_rate)\n",
    "    \n",
    "    model = Model(inputs=input_sequence, outputs=prediction)\n",
    "    model.compile(loss='categorical_crossentropy',\n",
    "                  optimizer=opt,\n",
    "                  metrics=['accuracy'])\n",
    "\n",
    "    return model"
   ]
  },
  {
   "cell_type": "code",
   "execution_count": 211,
   "metadata": {},
   "outputs": [
    {
     "name": "stdout",
     "output_type": "stream",
     "text": [
      "Working on: [5, 'max']\n",
      "(array([ 0.75630645,  0.77081277]), array([ 0.77712,  0.7496 ]), array([ 0.76657197,  0.7600584 ]), array([12500, 12500])) 0.8465041632\n",
      "Working on: [5, 'avg']\n",
      "(array([ 0.87494007,  0.87578087]), array([ 0.87592,  0.8748 ]), array([ 0.87542976,  0.87529016]), array([12500, 12500])) 0.9448842464\n",
      "Working on: [10, 'max']\n",
      "(array([ 0.81835025,  0.81399968]), array([ 0.81272,  0.8196 ]), array([ 0.81552541,  0.81679024]), array([12500, 12500])) 0.8963028224\n",
      "Working on: [10, 'avg']\n",
      "(array([ 0.87657593,  0.87375468]), array([ 0.87328,  0.87704]), array([ 0.87492486,  0.87539426]), array([12500, 12500])) 0.945201792\n",
      "Working on: [25, 'max']\n",
      "(array([ 0.85376223,  0.85184299]), array([ 0.85144,  0.85416]), array([ 0.85259954,  0.85299992]), array([12500, 12500])) 0.9296914368\n",
      "Working on: [25, 'avg']\n",
      "(array([ 0.88260232,  0.86854091]), array([ 0.86608,  0.8848 ]), array([ 0.8742631 ,  0.87659507]), array([12500, 12500])) 0.9453415104\n",
      "Working on: [50, 'max']\n",
      "(array([ 0.86272142,  0.85810811]), array([ 0.8572,  0.8636]), array([ 0.85995185,  0.8608453 ]), array([12500, 12500])) 0.9372655808\n",
      "Working on: [50, 'avg']\n",
      "(array([ 0.87711694,  0.87465114]), array([ 0.87424,  0.87752]), array([ 0.87567611,  0.87608322]), array([12500, 12500])) 0.9455643776\n",
      "Working on: [100, 'max']\n",
      "(array([ 0.86952728,  0.87596837]), array([ 0.87704,  0.8684 ]), array([ 0.87326748,  0.87216776]), array([12500, 12500])) 0.94567792\n",
      "Working on: [100, 'avg']\n",
      "(array([ 0.87818811,  0.87391616]), array([ 0.8732 ,  0.87888]), array([ 0.87568695,  0.87639105]), array([12500, 12500])) 0.9458808448\n"
     ]
    }
   ],
   "source": [
    "embedding_options = [[5,'max'],[5,'avg'],[10,'max'],[10,'avg'],[25,'max'],[25,'avg'],[50,'max'],[50,'avg'],[100,'max'],[100,'avg']]\n",
    "\n",
    "embedding_score_data = list()\n",
    "\n",
    "for item in embedding_options:\n",
    "    print('Working on: '+str(item))\n",
    "    EMBED_SIZE = item[0]\n",
    "    \n",
    "    model = create_model(MAX_LEN, MAX_FEATURES, EMBED_SIZE, HIDDEN_LAYER_SIZE, N_CLASSES,\n",
    "                         global_max_avg=item[1], learning_rate=0.001)\n",
    "    \n",
    "    BATCH_SIZE = 1024\n",
    "    EPOCHS = 500\n",
    "    FILE_PATH = \"models/keras_model_weights.hdf5\"\n",
    "    checkpoint = ModelCheckpoint(FILE_PATH, monitor='val_loss', verbose=0, save_best_only=True, mode='min')\n",
    "    early = EarlyStopping(monitor=\"val_loss\", mode=\"min\", patience=15)\n",
    "    callbacks_list = [checkpoint, early]\n",
    "    \n",
    "    model.fit(X_train, y_train,\n",
    "          batch_size=BATCH_SIZE,\n",
    "          epochs=EPOCHS,\n",
    "          validation_data=[X_test, y_test],\n",
    "          callbacks=callbacks_list, verbose=0)\n",
    "    \n",
    "    model = load_model(FILE_PATH)\n",
    "    y_hat = model.predict(X_test)\n",
    "    y_hat = y_hat[:,1] \n",
    "    scores = precision_recall_fscore_support(y_test[:,1], y_hat > 0.5)\n",
    "    roc = roc_auc_score(y_test[:,1], y_hat)\n",
    "    print(scores, roc)\n",
    "    embedding_score_data.append([item, scores, roc])"
   ]
  },
  {
   "cell_type": "code",
   "execution_count": 213,
   "metadata": {},
   "outputs": [
    {
     "data": {
      "text/plain": [
       "[[[5, 'max'],\n",
       "  (array([ 0.75630645,  0.77081277]),\n",
       "   array([ 0.77712,  0.7496 ]),\n",
       "   array([ 0.76657197,  0.7600584 ]),\n",
       "   array([12500, 12500])),\n",
       "  0.84650416319999988],\n",
       " [[5, 'avg'],\n",
       "  (array([ 0.87494007,  0.87578087]),\n",
       "   array([ 0.87592,  0.8748 ]),\n",
       "   array([ 0.87542976,  0.87529016]),\n",
       "   array([12500, 12500])),\n",
       "  0.94488424640000002],\n",
       " [[10, 'max'],\n",
       "  (array([ 0.81835025,  0.81399968]),\n",
       "   array([ 0.81272,  0.8196 ]),\n",
       "   array([ 0.81552541,  0.81679024]),\n",
       "   array([12500, 12500])),\n",
       "  0.89630282240000003],\n",
       " [[10, 'avg'],\n",
       "  (array([ 0.87657593,  0.87375468]),\n",
       "   array([ 0.87328,  0.87704]),\n",
       "   array([ 0.87492486,  0.87539426]),\n",
       "   array([12500, 12500])),\n",
       "  0.94520179199999999],\n",
       " [[25, 'max'],\n",
       "  (array([ 0.85376223,  0.85184299]),\n",
       "   array([ 0.85144,  0.85416]),\n",
       "   array([ 0.85259954,  0.85299992]),\n",
       "   array([12500, 12500])),\n",
       "  0.92969143679999999],\n",
       " [[25, 'avg'],\n",
       "  (array([ 0.88260232,  0.86854091]),\n",
       "   array([ 0.86608,  0.8848 ]),\n",
       "   array([ 0.8742631 ,  0.87659507]),\n",
       "   array([12500, 12500])),\n",
       "  0.94534151040000003],\n",
       " [[50, 'max'],\n",
       "  (array([ 0.86272142,  0.85810811]),\n",
       "   array([ 0.8572,  0.8636]),\n",
       "   array([ 0.85995185,  0.8608453 ]),\n",
       "   array([12500, 12500])),\n",
       "  0.93726558079999989],\n",
       " [[50, 'avg'],\n",
       "  (array([ 0.87711694,  0.87465114]),\n",
       "   array([ 0.87424,  0.87752]),\n",
       "   array([ 0.87567611,  0.87608322]),\n",
       "   array([12500, 12500])),\n",
       "  0.94556437760000001],\n",
       " [[100, 'max'],\n",
       "  (array([ 0.86952728,  0.87596837]),\n",
       "   array([ 0.87704,  0.8684 ]),\n",
       "   array([ 0.87326748,  0.87216776]),\n",
       "   array([12500, 12500])),\n",
       "  0.94567791999999995],\n",
       " [[100, 'avg'],\n",
       "  (array([ 0.87818811,  0.87391616]),\n",
       "   array([ 0.8732 ,  0.87888]),\n",
       "   array([ 0.87568695,  0.87639105]),\n",
       "   array([12500, 12500])),\n",
       "  0.9458808447999999]]"
      ]
     },
     "execution_count": 213,
     "metadata": {},
     "output_type": "execute_result"
    }
   ],
   "source": [
    "embedding_score_data"
   ]
  },
  {
   "cell_type": "code",
   "execution_count": null,
   "metadata": {
    "collapsed": true
   },
   "outputs": [],
   "source": []
  }
 ],
 "metadata": {
  "kernelspec": {
   "display_name": "Python 3",
   "language": "python",
   "name": "python3"
  },
  "language_info": {
   "codemirror_mode": {
    "name": "ipython",
    "version": 3
   },
   "file_extension": ".py",
   "mimetype": "text/x-python",
   "name": "python",
   "nbconvert_exporter": "python",
   "pygments_lexer": "ipython3",
   "version": "3.6.3"
  }
 },
 "nbformat": 4,
 "nbformat_minor": 2
}
